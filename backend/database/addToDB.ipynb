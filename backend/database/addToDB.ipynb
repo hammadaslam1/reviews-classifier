{
 "cells": [
  {
   "cell_type": "code",
   "execution_count": 9,
   "metadata": {},
   "outputs": [],
   "source": [
    "import os\n",
    "from pymongo.mongo_client import MongoClient\n",
    "from pymongo.server_api import ServerApi\n",
    "import json\n",
    "from dotenv import load_dotenv"
   ]
  },
  {
   "cell_type": "code",
   "execution_count": 10,
   "metadata": {},
   "outputs": [],
   "source": [
    "load_dotenv()\n",
    "MY_API = os.environ[\"MONGO_CONN\"]"
   ]
  },
  {
   "cell_type": "code",
   "execution_count": 11,
   "metadata": {},
   "outputs": [],
   "source": [
    "uri = MY_API\n",
    "# Create a new client and connect to the server\n",
    "myclient = MongoClient(uri, server_api=ServerApi('1'))\n",
    "db = myclient['OpinioMine']"
   ]
  },
  {
   "cell_type": "code",
   "execution_count": 12,
   "metadata": {},
   "outputs": [],
   "source": [
    "uniPath = \"F:/react projects/reviews-classifier/backend/datasets/categories/allFiles\"\n",
    "homePath = \"C:/Hammad Aslam/BS IT (post ADP)/3rd Semester/Capstone Project/Project/backend/datasets/categories/allFiles\"\n",
    "json_dir = homePath"
   ]
  },
  {
   "cell_type": "code",
   "execution_count": 14,
   "metadata": {},
   "outputs": [
    {
     "name": "stdout",
     "output_type": "stream",
     "text": [
      "sent successfully\n",
      "sent successfully\n",
      "sent successfully\n",
      "sent successfully\n",
      "sent successfully\n",
      "sent successfully\n",
      "sent successfully\n",
      "sent successfully\n",
      "sent successfully\n",
      "sent successfully\n",
      "sent successfully\n",
      "sent successfully\n"
     ]
    }
   ],
   "source": [
    "count = 0\n",
    "for filename in os.listdir(json_dir):\n",
    "    if filename.endswith(\".json\"):\n",
    "        collection_name = os.path.splitext(filename)[0]  # Use filename as collection name\n",
    "        # collection_name = 'all_products'  # use single collection for all products\n",
    "        collection = db[collection_name]\n",
    "        with open(os.path.join(json_dir, filename), 'r') as file:\n",
    "            data = json.load(file)\n",
    "            if data != []:\n",
    "                collection.insert_many(data)\n",
    "            \n",
    "        print(\"sent successfully\")"
   ]
  }
 ],
 "metadata": {
  "kernelspec": {
   "display_name": "base",
   "language": "python",
   "name": "python3"
  },
  "language_info": {
   "codemirror_mode": {
    "name": "ipython",
    "version": 3
   },
   "file_extension": ".py",
   "mimetype": "text/x-python",
   "name": "python",
   "nbconvert_exporter": "python",
   "pygments_lexer": "ipython3",
   "version": "3.11.5"
  }
 },
 "nbformat": 4,
 "nbformat_minor": 2
}
