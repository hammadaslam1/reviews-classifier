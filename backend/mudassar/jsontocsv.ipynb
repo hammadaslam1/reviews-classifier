{
 "cells": [
  {
   "cell_type": "code",
   "execution_count": 13,
   "metadata": {},
   "outputs": [
    {
     "ename": "UnicodeEncodeError",
     "evalue": "'charmap' codec can't encode characters in position 102-103: character maps to <undefined>",
     "output_type": "error",
     "traceback": [
      "\u001b[1;31m---------------------------------------------------------------------------\u001b[0m",
      "\u001b[1;31mUnicodeEncodeError\u001b[0m                        Traceback (most recent call last)",
      "Cell \u001b[1;32mIn[13], line 45\u001b[0m\n\u001b[0;32m     31\u001b[0m writer \u001b[38;5;241m=\u001b[39m csv\u001b[38;5;241m.\u001b[39mwriter(csv_file)\n\u001b[0;32m     32\u001b[0m writer\u001b[38;5;241m.\u001b[39mwriterow(\n\u001b[0;32m     33\u001b[0m     [\n\u001b[0;32m     34\u001b[0m         \u001b[38;5;124m\"\u001b[39m\u001b[38;5;124mreview_id\u001b[39m\u001b[38;5;124m\"\u001b[39m,\n\u001b[1;32m   (...)\u001b[0m\n\u001b[0;32m     43\u001b[0m     ]\n\u001b[0;32m     44\u001b[0m )  \u001b[38;5;66;03m# Replace with actual header names\u001b[39;00m\n\u001b[1;32m---> 45\u001b[0m writer\u001b[38;5;241m.\u001b[39mwriterows(extracted_data)\n",
      "File \u001b[1;32mc:\\ProgramData\\anaconda3\\Lib\\encodings\\cp1252.py:19\u001b[0m, in \u001b[0;36mIncrementalEncoder.encode\u001b[1;34m(self, input, final)\u001b[0m\n\u001b[0;32m     18\u001b[0m \u001b[38;5;28;01mdef\u001b[39;00m \u001b[38;5;21mencode\u001b[39m(\u001b[38;5;28mself\u001b[39m, \u001b[38;5;28minput\u001b[39m, final\u001b[38;5;241m=\u001b[39m\u001b[38;5;28;01mFalse\u001b[39;00m):\n\u001b[1;32m---> 19\u001b[0m     \u001b[38;5;28;01mreturn\u001b[39;00m codecs\u001b[38;5;241m.\u001b[39mcharmap_encode(\u001b[38;5;28minput\u001b[39m,\u001b[38;5;28mself\u001b[39m\u001b[38;5;241m.\u001b[39merrors,encoding_table)[\u001b[38;5;241m0\u001b[39m]\n",
      "\u001b[1;31mUnicodeEncodeError\u001b[0m: 'charmap' codec can't encode characters in position 102-103: character maps to <undefined>"
     ]
    }
   ],
   "source": [
    "import json\n",
    "import csv\n",
    "\n",
    "# Read the JSON file\n",
    "with open(\n",
    "    \"F:/react projects/reviews-classifier/backend/mudassar/pocoC55.json\", \"r\"\n",
    ") as json_file:\n",
    "    data = json.load(json_file)\n",
    "\n",
    "# Extract relevant data (assuming data is in a list of dictionaries)\n",
    "extracted_data = []\n",
    "for item in data:\n",
    "    extracted_data.append(\n",
    "        [\n",
    "            item[\"review_id\"],\n",
    "            item[\"rating\"],\n",
    "            item[\"title\"],\n",
    "            item[\"user_name\"],\n",
    "            item[\"review_date\"],\n",
    "            item[\"review_text\"],\n",
    "            item[\"location\"],\n",
    "            item[\"product_id\"],\n",
    "            item[\"review_topics\"],\n",
    "        ]\n",
    "    )  # Replace 'key1', 'key2', 'key3' with actual keys\n",
    "\n",
    "# Write to CSV\n",
    "with open(\n",
    "    \"F:/react projects/reviews-classifier/backend/mudassar/pocoC55.csv\", \"w\", newline=\"\"\n",
    ") as csv_file:\n",
    "    writer = csv.writer(csv_file)\n",
    "    writer.writerow(\n",
    "        [\n",
    "            \"review_id\",\n",
    "            \"rating\",\n",
    "            \"title\",\n",
    "            \"user_name\",\n",
    "            \"review_date\",\n",
    "            \"review_text\",\n",
    "            \"location\",\n",
    "            \"product_id\",\n",
    "            \"review_topics\",\n",
    "        ]\n",
    "    )  # Replace with actual header names\n",
    "    writer.writerows(extracted_data)"
   ]
  }
 ],
 "metadata": {
  "kernelspec": {
   "display_name": "base",
   "language": "python",
   "name": "python3"
  },
  "language_info": {
   "codemirror_mode": {
    "name": "ipython",
    "version": 3
   },
   "file_extension": ".py",
   "mimetype": "text/x-python",
   "name": "python",
   "nbconvert_exporter": "python",
   "pygments_lexer": "ipython3",
   "version": "3.11.7"
  }
 },
 "nbformat": 4,
 "nbformat_minor": 2
}
