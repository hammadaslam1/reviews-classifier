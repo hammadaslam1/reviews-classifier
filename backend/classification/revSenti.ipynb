{
 "cells": [
  {
   "cell_type": "code",
   "execution_count": 18,
   "metadata": {},
   "outputs": [],
   "source": [
    "import numpy as np\n",
    "import json\n",
    "import glob\n",
    "import re\n",
    "# from textblob import TextBlob\n",
    "\n",
    "# gensim\n",
    "import gensim\n",
    "import gensim.corpora as corpora\n",
    "from gensim.utils import simple_preprocess\n",
    "from gensim.models import CoherenceModel\n",
    "\n",
    "# spacy\n",
    "import spacy\n",
    "from nltk.corpus import stopwords\n",
    "\n",
    "# sentiments\n",
    "import nltk\n",
    "from nltk.sentiment import SentimentAnalyzer, SentimentIntensityAnalyzer\n",
    "from nltk.tokenize import word_tokenize\n",
    "\n",
    "# vis\n",
    "import pyLDAvis\n",
    "import pyLDAvis.gensim\n",
    "\n",
    "import matplotlib.pyplot as plt\n",
    "\n",
    "import spacy\n",
    "from nltk.sentiment import SentimentIntensityAnalyzer\n",
    "from gensim.corpora import Dictionary\n",
    "from gensim.models import LdaModel\n",
    "import pyLDAvis\n",
    "import pyLDAvis.gensim_models as gensimvis"
   ]
  },
  {
   "cell_type": "code",
   "execution_count": 14,
   "metadata": {},
   "outputs": [
    {
     "name": "stdout",
     "output_type": "stream",
     "text": [
      "I bought this Compaq A1500 this week and am more than satisfied with it. Simple installation without any problems, excellent photo quality resolution even on plain paper, very good managing software and the best part is, I didn't need any customer support to make it run :).\n",
      "Very good product with excellent features, quality and resolution. Believe me it's better than the best available in this price range.\n"
     ]
    }
   ],
   "source": [
    "def load_data(file):\n",
    "    with open(file, 'r', encoding='utf-8') as f:\n",
    "        data = json.load(f)\n",
    "    return data\n",
    "\n",
    "data_array = []\n",
    "for i in range(0, 1):\n",
    "    data = load_data(\n",
    "        'C:/Hammad Aslam/BS IT (post ADP)/3rd Semester/Capstone Project/Project/backend/datasets/categories/allFiles/computers_Laptops.json')[i][\"reviews\"]\n",
    "    print(data[0][\"review_body\"])\n",
    "    # print(data[i][\"review_body\"])\n",
    "    data_array.append(data[0][\"review_body\"])\n",
    "    # print(data)"
   ]
  },
  {
   "cell_type": "code",
   "execution_count": 21,
   "metadata": {},
   "outputs": [
    {
     "name": "stderr",
     "output_type": "stream",
     "text": [
      "c:\\Users\\GS\\AppData\\Local\\Programs\\Python\\Python312\\Lib\\site-packages\\joblib\\_utils.py:38: DeprecationWarning: ast.Num is deprecated and will be removed in Python 3.14; use ast.Constant instead\n",
      "  if isinstance(node, ast.Num):  # <number>\n",
      "c:\\Users\\GS\\AppData\\Local\\Programs\\Python\\Python312\\Lib\\site-packages\\joblib\\_utils.py:38: DeprecationWarning: ast.Num is deprecated and will be removed in Python 3.14; use ast.Constant instead\n",
      "  if isinstance(node, ast.Num):  # <number>\n",
      "c:\\Users\\GS\\AppData\\Local\\Programs\\Python\\Python312\\Lib\\site-packages\\joblib\\_utils.py:39: DeprecationWarning: Attribute n is deprecated and will be removed in Python 3.14; use value instead\n",
      "  return node.n\n",
      "c:\\Users\\GS\\AppData\\Local\\Programs\\Python\\Python312\\Lib\\site-packages\\joblib\\_utils.py:38: DeprecationWarning: ast.Num is deprecated and will be removed in Python 3.14; use ast.Constant instead\n",
      "  if isinstance(node, ast.Num):  # <number>\n",
      "c:\\Users\\GS\\AppData\\Local\\Programs\\Python\\Python312\\Lib\\site-packages\\joblib\\_utils.py:39: DeprecationWarning: Attribute n is deprecated and will be removed in Python 3.14; use value instead\n",
      "  return node.n\n"
     ]
    },
    {
     "data": {
      "text/html": [
       "\n",
       "<link rel=\"stylesheet\" type=\"text/css\" href=\"https://cdn.jsdelivr.net/gh/bmabey/pyLDAvis@3.4.0/pyLDAvis/js/ldavis.v1.0.0.css\">\n",
       "\n",
       "\n",
       "<div id=\"ldavis_el598021486003103526958196941\" style=\"background-color:white;\"></div>\n",
       "<script type=\"text/javascript\">\n",
       "\n",
       "var ldavis_el598021486003103526958196941_data = {\"mdsDat\": {\"x\": [0.00333481554953352, 0.0019215987672630858, -0.002631079435520387, -0.002625334881276219], \"y\": [0.0007380922767091774, -0.000967349758452477, 0.00011590705967950277, 0.00011335042206379612], \"topics\": [1, 2, 3, 4], \"cluster\": [1, 1, 1, 1], \"Freq\": [98.0286988767683, 0.6802156900238406, 0.645543252114358, 0.6455421810934915]}, \"tinfo\": {\"Term\": [\"11\", \"3\", \"25\", \"23\", \"9\", \"19\", \"14\", \"17\", \"16\", \"28\", \"22\", \"1\", \"27\", \"4\", \"21\", \"29\", \"13\", \"20\", \"30\", \"32\", \"18\", \"2\", \"8\", \"10\", \"26\", \"5\", \"31\", \"6\", \"24\", \"15\", \"11\", \"3\", \"25\", \"23\", \"9\", \"19\", \"14\", \"17\", \"16\", \"28\", \"22\", \"1\", \"27\", \"4\", \"21\", \"29\", \"13\", \"20\", \"30\", \"32\", \"18\", \"2\", \"8\", \"10\", \"26\", \"5\", \"31\", \"6\", \"24\", \"15\", \"0\", \"12\", \"7\", \"15\", \"24\", \"6\", \"31\", \"5\", \"26\", \"9\", \"10\", \"8\", \"2\", \"18\", \"32\", \"23\", \"30\", \"20\", \"13\", \"29\", \"25\", \"21\", \"4\", \"27\", \"1\", \"22\", \"28\", \"3\", \"16\", \"17\", \"11\", \"0\", \"12\", \"7\", \"15\", \"6\", \"24\", \"31\", \"5\", \"26\", \"10\", \"8\", \"2\", \"18\", \"32\", \"30\", \"20\", \"13\", \"29\", \"21\", \"4\", \"27\", \"1\", \"22\", \"28\", \"16\", \"17\", \"14\", \"19\", \"9\", \"23\", \"25\", \"11\", \"3\", \"0\", \"12\", \"7\", \"15\", \"24\", \"6\", \"31\", \"5\", \"26\", \"10\", \"8\", \"2\", \"18\", \"32\", \"30\", \"13\", \"20\", \"29\", \"21\", \"4\", \"27\", \"22\", \"1\", \"28\", \"16\", \"17\", \"14\", \"19\", \"9\", \"23\", \"25\", \"3\", \"11\"], \"Freq\": [1.0, 1.0, 1.0, 1.0, 1.0, 1.0, 1.0, 1.0, 1.0, 1.0, 1.0, 1.0, 1.0, 1.0, 1.0, 1.0, 1.0, 1.0, 1.0, 1.0, 1.0, 1.0, 1.0, 1.0, 1.0, 1.0, 0.0, 0.0, 0.0, 0.0, 1.8956494385695244, 1.7929119853244515, 1.7204152496321186, 1.6934260624781885, 1.6641019237434307, 1.1717216110823045, 1.0986263584419085, 1.0941904222578636, 1.0805139006217956, 1.066121323467062, 1.0634479107602601, 1.0633201031764052, 1.0562872168031525, 1.0386655900624042, 1.037524827583491, 1.0293418811112183, 1.0212900033283603, 1.0208887485740537, 1.0144480650934184, 1.011743220879838, 1.0093249376441733, 1.0082478014162888, 1.0067440154418659, 1.0063193084816184, 0.9866297938898239, 0.9858791151440442, 0.9743550619479038, 0.9576362757506516, 0.9573623428836271, 0.948702928073498, 0.008298606192372854, 0.008030417927102917, 0.007848904537118593, 0.007835862261342384, 0.007758940325641055, 0.007753996692148858, 0.007594324744838229, 0.0074882484672508, 0.0074799615740225485, 0.012272251417715208, 0.0072939759000969495, 0.007289966780882933, 0.007275903327989764, 0.007263991039339206, 0.007240587739726606, 0.012002379486071857, 0.007215261488013516, 0.007157756842801111, 0.007153263374610357, 0.007077230695926955, 0.011742599923464679, 0.0069989226362653575, 0.006988012747783358, 0.006820345190674822, 0.006756185802364527, 0.0067552975082670295, 0.006729694416930058, 0.011061066026729217, 0.006594225474649884, 0.006464193181122523, 0.010089581381525457, 0.007435608214358989, 0.007433389873182325, 0.007432354494993588, 0.007435541961120963, 0.007431401819122663, 0.0074273073690126565, 0.007433074142234215, 0.007428457890759894, 0.007432939351163749, 0.007432240265272854, 0.007429492355110865, 0.007432853450413756, 0.007430370096284989, 0.007431546662408554, 0.007430343594989779, 0.007429548099214584, 0.007425619053740201, 0.007431626166294185, 0.007431511479654568, 0.007431487719872655, 0.007431867419464376, 0.007430615461725127, 0.007427855214753299, 0.007428269640180124, 0.0074307196392304365, 0.007429786610871477, 0.0074337494683431975, 0.007434260760573205, 0.007456284707649693, 0.007446958079411165, 0.007448122765643774, 0.007442341827936844, 0.007438914479395927, 0.0074346861539541405, 0.007438057295879385, 0.007435769506828192, 0.007433250517205819, 0.00742841815111726, 0.007430502611602888, 0.007433032110342134, 0.00742999543248429, 0.007428660317723438, 0.007428889233703995, 0.007431610638055683, 0.007427832382081185, 0.007434832367754097, 0.0074350850434771465, 0.007435673554021971, 0.007433256914059567, 0.00742748055512504, 0.0074269724621701914, 0.007429563187938169, 0.007429918670239313, 0.007432269513991736, 0.007429285838636376, 0.007427356730313202, 0.007429711686328749, 0.007425622269111219, 0.0074284304879066315, 0.0074285278114672275, 0.007428508163987858, 0.007451292843202312, 0.007441180788180953, 0.0074520983898564465, 0.007450840494258697, 0.007447457015544081], \"Total\": [1.0, 1.0, 1.0, 1.0, 1.0, 1.0, 1.0, 1.0, 1.0, 1.0, 1.0, 1.0, 1.0, 1.0, 1.0, 1.0, 1.0, 1.0, 1.0, 1.0, 1.0, 1.0, 1.0, 1.0, 1.0, 1.0, 0.0, 0.0, 0.0, 0.0, 1.9206288187945306, 1.818862806324835, 1.7470580707110834, 1.7203165808318523, 1.6912817527119977, 1.1923137368308008, 1.1199093414903414, 1.1155128325377641, 1.101964468004787, 1.087708999210501, 1.0850603493219169, 1.0849342611708082, 1.0779716989272834, 1.0605150092002995, 1.0593848248873492, 1.0512777104356097, 1.0433021426707705, 1.0429035340711945, 1.0365293437304437, 1.0338504403254505, 1.0314541311475516, 1.0303843905767733, 1.0288950852159153, 1.0284744138806923, 1.0089713551327335, 1.0082258169345393, 0.9968154929453185, 0.9802521768735261, 0.9799770087293981, 0.9714075828131671, 0.9228714972707696, 0.9509219597013933, 0.9700670835016878, 0.9714075828131671, 0.9799770087293981, 0.9802521768735261, 0.9968154929453185, 1.0082258169345393, 1.0089713551327335, 1.6912817527119977, 1.0284744138806923, 1.0288950852159153, 1.0303843905767733, 1.0314541311475516, 1.0338504403254505, 1.7203165808318523, 1.0365293437304437, 1.0429035340711945, 1.0433021426707705, 1.0512777104356097, 1.7470580707110834, 1.0593848248873492, 1.0605150092002995, 1.0779716989272834, 1.0849342611708082, 1.0850603493219169, 1.087708999210501, 1.818862806324835, 1.101964468004787, 1.1155128325377641, 1.9206288187945306, 0.9228714972707696, 0.9509219597013933, 0.9700670835016878, 0.9714075828131671, 0.9802521768735261, 0.9799770087293981, 0.9968154929453185, 1.0082258169345393, 1.0089713551327335, 1.0284744138806923, 1.0288950852159153, 1.0303843905767733, 1.0314541311475516, 1.0338504403254505, 1.0365293437304437, 1.0429035340711945, 1.0433021426707705, 1.0512777104356097, 1.0593848248873492, 1.0605150092002995, 1.0779716989272834, 1.0849342611708082, 1.0850603493219169, 1.087708999210501, 1.101964468004787, 1.1155128325377641, 1.1199093414903414, 1.1923137368308008, 1.6912817527119977, 1.7203165808318523, 1.7470580707110834, 1.9206288187945306, 1.818862806324835, 0.9228714972707696, 0.9509219597013933, 0.9700670835016878, 0.9714075828131671, 0.9799770087293981, 0.9802521768735261, 0.9968154929453185, 1.0082258169345393, 1.0089713551327335, 1.0284744138806923, 1.0288950852159153, 1.0303843905767733, 1.0314541311475516, 1.0338504403254505, 1.0365293437304437, 1.0433021426707705, 1.0429035340711945, 1.0512777104356097, 1.0593848248873492, 1.0605150092002995, 1.0779716989272834, 1.0850603493219169, 1.0849342611708082, 1.087708999210501, 1.101964468004787, 1.1155128325377641, 1.1199093414903414, 1.1923137368308008, 1.6912817527119977, 1.7203165808318523, 1.7470580707110834, 1.818862806324835, 1.9206288187945306], \"Category\": [\"Default\", \"Default\", \"Default\", \"Default\", \"Default\", \"Default\", \"Default\", \"Default\", \"Default\", \"Default\", \"Default\", \"Default\", \"Default\", \"Default\", \"Default\", \"Default\", \"Default\", \"Default\", \"Default\", \"Default\", \"Default\", \"Default\", \"Default\", \"Default\", \"Default\", \"Default\", \"Default\", \"Default\", \"Default\", \"Default\", \"Topic1\", \"Topic1\", \"Topic1\", \"Topic1\", \"Topic1\", \"Topic1\", \"Topic1\", \"Topic1\", \"Topic1\", \"Topic1\", \"Topic1\", \"Topic1\", \"Topic1\", \"Topic1\", \"Topic1\", \"Topic1\", \"Topic1\", \"Topic1\", \"Topic1\", \"Topic1\", \"Topic1\", \"Topic1\", \"Topic1\", \"Topic1\", \"Topic1\", \"Topic1\", \"Topic1\", \"Topic1\", \"Topic1\", \"Topic1\", \"Topic2\", \"Topic2\", \"Topic2\", \"Topic2\", \"Topic2\", \"Topic2\", \"Topic2\", \"Topic2\", \"Topic2\", \"Topic2\", \"Topic2\", \"Topic2\", \"Topic2\", \"Topic2\", \"Topic2\", \"Topic2\", \"Topic2\", \"Topic2\", \"Topic2\", \"Topic2\", \"Topic2\", \"Topic2\", \"Topic2\", \"Topic2\", \"Topic2\", \"Topic2\", \"Topic2\", \"Topic2\", \"Topic2\", \"Topic2\", \"Topic2\", \"Topic3\", \"Topic3\", \"Topic3\", \"Topic3\", \"Topic3\", \"Topic3\", \"Topic3\", \"Topic3\", \"Topic3\", \"Topic3\", \"Topic3\", \"Topic3\", \"Topic3\", \"Topic3\", \"Topic3\", \"Topic3\", \"Topic3\", \"Topic3\", \"Topic3\", \"Topic3\", \"Topic3\", \"Topic3\", \"Topic3\", \"Topic3\", \"Topic3\", \"Topic3\", \"Topic3\", \"Topic3\", \"Topic3\", \"Topic3\", \"Topic3\", \"Topic3\", \"Topic3\", \"Topic4\", \"Topic4\", \"Topic4\", \"Topic4\", \"Topic4\", \"Topic4\", \"Topic4\", \"Topic4\", \"Topic4\", \"Topic4\", \"Topic4\", \"Topic4\", \"Topic4\", \"Topic4\", \"Topic4\", \"Topic4\", \"Topic4\", \"Topic4\", \"Topic4\", \"Topic4\", \"Topic4\", \"Topic4\", \"Topic4\", \"Topic4\", \"Topic4\", \"Topic4\", \"Topic4\", \"Topic4\", \"Topic4\", \"Topic4\", \"Topic4\", \"Topic4\", \"Topic4\"], \"logprob\": [30.0, 29.0, 28.0, 27.0, 26.0, 25.0, 24.0, 23.0, 22.0, 21.0, 20.0, 19.0, 18.0, 17.0, 16.0, 15.0, 14.0, 13.0, 12.0, 11.0, 10.0, 9.0, 8.0, 7.0, 6.0, 5.0, 4.0, 3.0, 2.0, 1.0, -2.9781, -3.0338, -3.0751, -3.0909, -3.1084, -3.4592, -3.5236, -3.5277, -3.5402, -3.5536, -3.5562, -3.5563, -3.5629, -3.5797, -3.5808, -3.5888, -3.5966, -3.597, -3.6033, -3.606, -3.6084, -3.6095, -3.611, -3.6114, -3.6311, -3.6319, -3.6437, -3.661, -3.6612, -3.6703, -3.4387, -3.4716, -3.4945, -3.4961, -3.506, -3.5066, -3.5274, -3.5415, -3.5426, -3.0475, -3.5678, -3.5683, -3.5703, -3.5719, -3.5751, -3.0697, -3.5786, -3.5866, -3.5873, -3.5979, -3.0916, -3.6091, -3.6106, -3.6349, -3.6444, -3.6445, -3.6483, -3.1514, -3.6686, -3.6885, -3.2433, -3.4962, -3.4965, -3.4967, -3.4962, -3.4968, -3.4973, -3.4966, -3.4972, -3.4966, -3.4967, -3.4971, -3.4966, -3.4969, -3.4968, -3.4969, -3.497, -3.4976, -3.4968, -3.4968, -3.4968, -3.4967, -3.4969, -3.4973, -3.4972, -3.4969, -3.497, -3.4965, -3.4964, -3.4935, -3.4947, -3.4945, -3.4953, -3.4958, -3.4964, -3.4959, -3.4962, -3.4965, -3.4972, -3.4969, -3.4966, -3.497, -3.4972, -3.4971, -3.4968, -3.4973, -3.4963, -3.4963, -3.4962, -3.4965, -3.4973, -3.4974, -3.497, -3.497, -3.4967, -3.4971, -3.4973, -3.497, -3.4976, -3.4972, -3.4972, -3.4972, -3.4941, -3.4955, -3.494, -3.4942, -3.4946], \"loglift\": [30.0, 29.0, 28.0, 27.0, 26.0, 25.0, 24.0, 23.0, 22.0, 21.0, 20.0, 19.0, 18.0, 17.0, 16.0, 15.0, 14.0, 13.0, 12.0, 11.0, 10.0, 9.0, 8.0, 7.0, 6.0, 5.0, 4.0, 3.0, 2.0, 1.0, 0.0068, 0.0055, 0.0045, 0.0042, 0.0037, 0.0025, 0.0007, 0.0006, 0.0003, -0.0001, -0.0002, -0.0002, -0.0004, -0.0009, -0.0009, -0.0012, -0.0014, -0.0014, -0.0016, -0.0017, -0.0018, -0.0018, -0.0019, -0.0019, -0.0025, -0.0025, -0.0029, -0.0034, -0.0034, -0.0037, 0.2791, 0.2163, 0.1735, 0.1705, 0.1518, 0.1509, 0.1134, 0.0879, 0.0861, 0.0646, 0.0417, 0.0408, 0.0374, 0.0347, 0.0292, 0.0254, 0.0231, 0.0089, 0.0079, -0.0104, -0.0119, -0.0292, -0.0318, -0.0724, -0.0883, -0.0885, -0.0948, -0.112, -0.1281, -0.1603, -0.2584, 0.2216, 0.1914, 0.1713, 0.1704, 0.1607, 0.1605, 0.1442, 0.1322, 0.1321, 0.1128, 0.1121, 0.1111, 0.1097, 0.1075, 0.1048, 0.0985, 0.0976, 0.0908, 0.0831, 0.082, 0.0658, 0.0592, 0.0587, 0.0563, 0.0436, 0.0313, 0.0279, -0.0347, -0.3814, -0.3996, -0.4149, -0.5104, -0.4564, 0.2215, 0.192, 0.1718, 0.1701, 0.1606, 0.1606, 0.1442, 0.1324, 0.1315, 0.1124, 0.1123, 0.1104, 0.1103, 0.108, 0.1055, 0.0987, 0.0983, 0.0902, 0.0829, 0.0818, 0.0658, 0.0589, 0.0587, 0.0565, 0.0429, 0.0311, 0.0272, -0.0355, -0.382, -0.4004, -0.4144, -0.4548, -0.5097], \"sentiment_score\": [0.9624, 0.9624, 0.9624, 0.9624, 0.9624, 0.9624, 0.9624, 0.9624, 0.9624, 0.9624, 0.9624, 0.9624, 0.9624, 0.9624, 0.9624, 0.9624, 0.9624, 0.9624, 0.9624, 0.9624, 0.9624, 0.9624, 0.9624, 0.9624, 0.9624, 0.9624, 0.9624, 0.9624, 0.9624, 0.9624, 0.9624, 0.9624, 0.9624, 0.9624, 0.9624, 0.9624, 0.9624, 0.9624, 0.9624, 0.9624, 0.9624, 0.9624, 0.9624, 0.9624, 0.9624, 0.9624, 0.9624, 0.9624, 0.9624, 0.9624, 0.9624, 0.9624, 0.9624, 0.9624, 0.9624, 0.9624, 0.9624, 0.9624, 0.9624, 0.9624, 0.9624, 0.9624, 0.9624, 0.9624, 0.9624, 0.9624, 0.9624, 0.9624, 0.9624, 0.9624, 0.9624, 0.9624, 0.9624, 0.9624, 0.9624, 0.9624, 0.9624, 0.9624, 0.9624, 0.9624, 0.9624, 0.9624, 0.9624, 0.9624, 0.9624, 0.9624, 0.9624, 0.9624, 0.9624, 0.9624, 0.9624, 0.9624, 0.9624, 0.9624, 0.9624, 0.9624, 0.9624, 0.9624, 0.9624, 0.9624, 0.9624, 0.9624, 0.9624, 0.9624, 0.9624, 0.9624, 0.9624, 0.9624, 0.9624, 0.9624, 0.9624, 0.9624, 0.9624, 0.9624, 0.9624, 0.9624, 0.9624, 0.9624, 0.9624, 0.9624, 0.9624, 0.9624, 0.9624, 0.9624, 0.9624, 0.9624, 0.9624, 0.9624, 0.9624, 0.9624, 0.9624, 0.9624, 0.9624, 0.9624, 0.9624, 0.9624, 0.9624, 0.9624, 0.9624, 0.9624, 0.9624, 0.9624, 0.9624, 0.9624, 0.9624, 0.9624, 0.9624, 0.9624, 0.9624, 0.9624, 0.9624, 0.9624, 0.9624, 0.9624, 0.9624, 0.9624, 0.9624]}, \"token.table\": {\"Topic\": [1, 1, 1, 1, 1, 1, 1, 1, 1, 1, 1, 1, 1, 1, 1, 1, 1, 1, 1, 1, 1, 1, 1, 1, 1, 1, 1, 1, 1, 1, 1, 1, 1], \"Freq\": [1.083574477007172, 0.9217148317547358, 0.9723139307148623, 1.041325622332006, 1.0516110073996168, 0.9584951080806559, 0.8929294211165614, 1.0294340065825203, 0.9074702760703314, 0.8964486743958155, 0.9695050606733651, 0.8387054255183074, 0.9705115965899239, 0.9588614549001369, 0.9439440480057245, 0.9216077249757828, 1.1625767154048516, 1.0204321030924624, 1.1447816380745517, 0.9911084144390271, 0.9276681391497801, 0.9193635436737553, 0.9512234398897679, 1.0995881564267993, 0.9647580225765964, 1.0031946805373904, 0.9672578943673956, 0.942938092648088, 0.9918412950785673, 1.0201456559774842, 1.0308565428179073, 0.9719163930014773, 1.1825350783764843], \"Term\": [\"0\", \"1\", \"10\", \"11\", \"12\", \"13\", \"14\", \"15\", \"16\", \"17\", \"18\", \"19\", \"2\", \"20\", \"21\", \"22\", \"23\", \"24\", \"25\", \"26\", \"27\", \"28\", \"29\", \"3\", \"30\", \"31\", \"32\", \"4\", \"5\", \"6\", \"7\", \"8\", \"9\"]}, \"R\": 30, \"lambda.step\": 0.01, \"plot.opts\": {\"xlab\": \"PC1\", \"ylab\": \"PC2\"}, \"topic.order\": [2, 3, 4, 1]};\n",
       "\n",
       "function LDAvis_load_lib(url, callback){\n",
       "  var s = document.createElement('script');\n",
       "  s.src = url;\n",
       "  s.async = true;\n",
       "  s.onreadystatechange = s.onload = callback;\n",
       "  s.onerror = function(){console.warn(\"failed to load library \" + url);};\n",
       "  document.getElementsByTagName(\"head\")[0].appendChild(s);\n",
       "}\n",
       "\n",
       "if(typeof(LDAvis) !== \"undefined\"){\n",
       "   // already loaded: just create the visualization\n",
       "   !function(LDAvis){\n",
       "       new LDAvis(\"#\" + \"ldavis_el598021486003103526958196941\", ldavis_el598021486003103526958196941_data);\n",
       "   }(LDAvis);\n",
       "}else if(typeof define === \"function\" && define.amd){\n",
       "   // require.js is available: use it to load d3/LDAvis\n",
       "   require.config({paths: {d3: \"https://d3js.org/d3.v5\"}});\n",
       "   require([\"d3\"], function(d3){\n",
       "      window.d3 = d3;\n",
       "      LDAvis_load_lib(\"https://cdn.jsdelivr.net/gh/bmabey/pyLDAvis@3.4.0/pyLDAvis/js/ldavis.v3.0.0.js\", function(){\n",
       "        new LDAvis(\"#\" + \"ldavis_el598021486003103526958196941\", ldavis_el598021486003103526958196941_data);\n",
       "      });\n",
       "    });\n",
       "}else{\n",
       "    // require.js not available: dynamically load d3 & LDAvis\n",
       "    LDAvis_load_lib(\"https://d3js.org/d3.v5.js\", function(){\n",
       "         LDAvis_load_lib(\"https://cdn.jsdelivr.net/gh/bmabey/pyLDAvis@3.4.0/pyLDAvis/js/ldavis.v3.0.0.js\", function(){\n",
       "                 new LDAvis(\"#\" + \"ldavis_el598021486003103526958196941\", ldavis_el598021486003103526958196941_data);\n",
       "            })\n",
       "         });\n",
       "}\n",
       "</script>"
      ],
      "text/plain": [
       "<IPython.core.display.HTML object>"
      ]
     },
     "execution_count": 21,
     "metadata": {},
     "output_type": "execute_result"
    }
   ],
   "source": [
    "\n",
    "\n",
    "# Example review text\n",
    "# review_text = \"\"\"I bought this Compaq A1500 this week and am more than satisfied with it. Simple installation without any problems, excellent photo quality resolution even on plain paper, very good managing software and the best part is, I didn't need any customer support to make it run :). Very good product with excellent features, quality and resolution. Believe me it's better than the best available in this price range.\"\"\"\n",
    "tokens = word_tokenize(data_array[0].lower())  # Convert text to lowercase\n",
    "\n",
    "# Remove punctuation and stopwords\n",
    "stopwords = set(nltk.corpus.stopwords.words('english'))\n",
    "tokens = [token for token in tokens if token.isalnum() and token not in stopwords]\n",
    "\n",
    "# Create a Gensim dictionary\n",
    "dictionary = Dictionary([tokens])\n",
    "\n",
    "# Create a corpus\n",
    "corpus = [dictionary.doc2bow(tokens)]\n",
    "# Perform sentiment analysis on the review text\n",
    "sid = SentimentIntensityAnalyzer()\n",
    "scores = sid.polarity_scores(data_array[0])\n",
    "\n",
    "# Example corpus and dictionary (you would typically have multiple documents in a corpus)\n",
    "# corpus = [[(0, 1), (1, 1), (2, 1)],\n",
    "#           [(1, 1), (3, 1), (4, 1), (5, 1), (6, 1), (7, 1)],\n",
    "#           [(0, 1), (3, 1), (4, 1), (8, 1)],\n",
    "#           [(2, 1), (6, 1), (8, 1), (9, 1)],\n",
    "#           [(0, 1), (10, 1), (11, 1), (12, 1)]]\n",
    "\n",
    "dictionary = Dictionary.from_corpus(corpus)\n",
    "\n",
    "# Example LDA model\n",
    "lda_model = LdaModel(corpus=corpus, id2word=dictionary, num_topics=4)\n",
    "\n",
    "# Visualize the LDA model\n",
    "lda_display = gensimvis.prepare(lda_model, corpus, dictionary)\n",
    "\n",
    "# Add sentiment information to the visualization\n",
    "lda_display.topic_info['sentiment_score'] = scores['compound']\n",
    "\n",
    "# Display the visualization\n",
    "pyLDAvis.display(lda_display)\n"
   ]
  },
  {
   "cell_type": "code",
   "execution_count": 12,
   "metadata": {},
   "outputs": [
    {
     "data": {
      "image/png": "[encoded data removed]",
      "text/plain": [
       "<Figure size 800x600 with 1 Axes>"
      ]
     },
     "metadata": {},
     "output_type": "display_data"
    }
   ],
   "source": [
    "plt.figure(figsize=(8, 6))\n",
    "plt.plot(scores, marker='o', linestyle='-')\n",
    "plt.title('Sentiment Scores')\n",
    "plt.xlabel('Text Index')\n",
    "plt.ylabel('Sentiment Score')\n",
    "plt.grid(True)\n",
    "plt.show()"
   ]
  }
 ],
 "metadata": {
  "kernelspec": {
   "display_name": "Python 3",
   "language": "python",
   "name": "python3"
  },
  "language_info": {
   "codemirror_mode": {
    "name": "ipython",
    "version": 3
   },
   "file_extension": ".py",
   "mimetype": "text/x-python",
   "name": "python",
   "nbconvert_exporter": "python",
   "pygments_lexer": "ipython3",
   "version": "3.12.0"
  }
 },
 "nbformat": 4,
 "nbformat_minor": 2
}
