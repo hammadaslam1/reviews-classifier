{
 "cells": [
  {
   "cell_type": "code",
   "execution_count": 18,
   "metadata": {},
   "outputs": [],
   "source": [
    "import numpy as np\n",
    "import json\n",
    "import glob\n",
    "import re\n",
    "# from textblob import TextBlob\n",
    "\n",
    "# gensim\n",
    "import gensim\n",
    "import gensim.corpora as corpora\n",
    "from gensim.utils import simple_preprocess\n",
    "from gensim.models import CoherenceModel\n",
    "\n",
    "# spacy\n",
    "import spacy\n",
    "from nltk.corpus import stopwords\n",
    "\n",
    "# sentiments\n",
    "import nltk\n",
    "from nltk.sentiment import SentimentAnalyzer, SentimentIntensityAnalyzer\n",
    "from nltk.tokenize import word_tokenize\n",
    "\n",
    "# vis\n",
    "import pyLDAvis\n",
    "import pyLDAvis.gensim\n",
    "\n",
    "import matplotlib.pyplot as plt\n",
    "\n",
    "import spacy\n",
    "from nltk.sentiment import SentimentIntensityAnalyzer\n",
    "from gensim.corpora import Dictionary\n",
    "from gensim.models import LdaModel\n",
    "import pyLDAvis\n",
    "import pyLDAvis.gensim_models as gensimvis"
   ]
  },
  {
   "cell_type": "code",
   "execution_count": 14,
   "metadata": {},
   "outputs": [
    {
     "name": "stdout",
     "output_type": "stream",
     "text": [
      "I bought this Compaq A1500 this week and am more than satisfied with it. Simple installation without any problems, excellent photo quality resolution even on plain paper, very good managing software and the best part is, I didn't need any customer support to make it run :).\n",
      "Very good product with excellent features, quality and resolution. Believe me it's better than the best available in this price range.\n"
     ]
    }
   ],
   "source": [
    "def load_data(file):\n",
    "    with open(file, 'r', encoding='utf-8') as f:\n",
    "        data = json.load(f)\n",
    "    return data\n",
    "\n",
    "data_array = []\n",
    "for i in range(0, 1):\n",
    "    data = load_data(\n",
    "        'C:/Hammad Aslam/BS IT (post ADP)/3rd Semester/Capstone Project/Project/backend/datasets/categories/allFiles/computers_Laptops.json')[i][\"reviews\"]\n",
    "    print(data[0][\"review_body\"])\n",
    "    # print(data[i][\"review_body\"])\n",
    "    data_array.append(data[0][\"review_body\"])\n",
    "    # print(data)"
   ]
  },
  {
   "cell_type": "code",
   "execution_count": 20,
   "metadata": {},
   "outputs": [
    {
     "name": "stderr",
     "output_type": "stream",
     "text": [
      "c:\\Users\\GS\\AppData\\Local\\Programs\\Python\\Python312\\Lib\\site-packages\\joblib\\_utils.py:38: DeprecationWarning: ast.Num is deprecated and will be removed in Python 3.14; use ast.Constant instead\n",
      "  if isinstance(node, ast.Num):  # <number>\n",
      "c:\\Users\\GS\\AppData\\Local\\Programs\\Python\\Python312\\Lib\\site-packages\\joblib\\_utils.py:38: DeprecationWarning: ast.Num is deprecated and will be removed in Python 3.14; use ast.Constant instead\n",
      "  if isinstance(node, ast.Num):  # <number>\n",
      "c:\\Users\\GS\\AppData\\Local\\Programs\\Python\\Python312\\Lib\\site-packages\\joblib\\_utils.py:39: DeprecationWarning: Attribute n is deprecated and will be removed in Python 3.14; use value instead\n",
      "  return node.n\n",
      "c:\\Users\\GS\\AppData\\Local\\Programs\\Python\\Python312\\Lib\\site-packages\\joblib\\_utils.py:38: DeprecationWarning: ast.Num is deprecated and will be removed in Python 3.14; use ast.Constant instead\n",
      "  if isinstance(node, ast.Num):  # <number>\n",
      "c:\\Users\\GS\\AppData\\Local\\Programs\\Python\\Python312\\Lib\\site-packages\\joblib\\_utils.py:39: DeprecationWarning: Attribute n is deprecated and will be removed in Python 3.14; use value instead\n",
      "  return node.n\n"
     ]
    },
    {
     "data": {
      "text/html": [
       "\n",
       "<link rel=\"stylesheet\" type=\"text/css\" href=\"https://cdn.jsdelivr.net/gh/bmabey/pyLDAvis@3.4.0/pyLDAvis/js/ldavis.v1.0.0.css\">\n",
       "\n",
       "\n",
       "<div id=\"ldavis_el598021486009966884250527036\" style=\"background-color:white;\"></div>\n",
       "<script type=\"text/javascript\">\n",
       "\n",
       "var ldavis_el598021486009966884250527036_data = {\"mdsDat\": {\"x\": [-0.0011338563791037063, 0.0004625370076837109, 0.0006713193714199951], \"y\": [0.00011298332001993377, -0.0009768772891720905, 0.000863893969152157], \"topics\": [1, 2, 3], \"cluster\": [1, 1, 1], \"Freq\": [92.31679743270286, 6.631656526144295, 1.0515460411528448]}, \"tinfo\": {\"Term\": [\"25\", \"23\", \"11\", \"3\", \"9\", \"0\", \"15\", \"5\", \"22\", \"31\", \"26\", \"10\", \"17\", \"24\", \"18\", \"29\", \"7\", \"2\", \"28\", \"12\", \"8\", \"16\", \"30\", \"27\", \"4\", \"20\", \"21\", \"1\", \"19\", \"6\", \"11\", \"0\", \"18\", \"26\", \"27\", \"7\", \"5\", \"9\", \"22\", \"14\", \"25\", \"29\", \"8\", \"4\", \"31\", \"10\", \"23\", \"3\", \"21\", \"12\", \"2\", \"17\", \"16\", \"1\", \"32\", \"20\", \"15\", \"24\", \"19\", \"28\", \"6\", \"13\", \"6\", \"30\", \"28\", \"19\", \"32\", \"20\", \"1\", \"24\", \"15\", \"16\", \"2\", \"12\", \"17\", \"21\", \"3\", \"14\", \"4\", \"10\", \"23\", \"31\", \"8\", \"29\", \"9\", \"25\", \"22\", \"27\", \"7\", \"5\", \"26\", \"11\", \"15\", \"30\", \"28\", \"24\", \"17\", \"22\", \"23\", \"13\", \"25\", \"31\", \"10\", \"6\", \"20\", \"16\", \"5\", \"2\", \"12\", \"29\", \"19\", \"0\", \"1\", \"8\", \"26\", \"21\", \"4\", \"7\", \"32\", \"3\", \"18\", \"27\", \"11\", \"9\"], \"Freq\": [1.0, 1.0, 1.0, 1.0, 1.0, 1.0, 0.0, 1.0, 1.0, 1.0, 1.0, 1.0, 1.0, 0.0, 1.0, 1.0, 1.0, 1.0, 0.0, 1.0, 1.0, 1.0, 0.0, 1.0, 1.0, 1.0, 1.0, 1.0, 1.0, 0.0, 1.708394750904902, 1.0707938598050284, 1.0778192686635908, 1.0497352756523237, 1.063524201401619, 1.0480869506072974, 1.0204682601666175, 1.6492255927061188, 0.9825237862658041, 1.064950689313217, 1.4786542040341941, 0.9975567642045966, 1.0100843873952563, 1.0118682977280187, 0.9761774146651467, 0.9772230222672442, 1.4560726867242537, 1.509425464777236, 1.001238737881049, 0.9734613309758338, 0.96736371753923, 0.949837473179163, 0.9552070426273547, 0.9597335002839038, 0.967076930152303, 0.9352203336842992, 0.8787786287363066, 0.9053462228210722, 0.9361924965329436, 0.880362330239371, 0.8937859924906209, 0.0828366250907997, 0.08019958036549868, 0.07616237191245787, 0.0743817048800419, 0.07789967181027602, 0.0777220162944996, 0.07489940679681459, 0.07645742708224729, 0.0713645417515732, 0.06784306846247506, 0.07290511942718172, 0.07157583859797659, 0.0720049943921112, 0.07009380350302657, 0.07279114633537853, 0.1092963788816233, 0.0756126621495089, 0.07150163709741134, 0.06898338612061142, 0.10276632764526433, 0.06861777193282498, 0.07052343338316555, 0.069069979572182, 0.1132730404498089, 0.10021386737341637, 0.06603334136616743, 0.06859721725348697, 0.0669936847116347, 0.06445645151897661, 0.06548524631198582, 0.09407312054329986, 0.013189847160835072, 0.01205743191493882, 0.01206729524249394, 0.01225529315353871, 0.011898565504083261, 0.012163572096747267, 0.017846171371354164, 0.010820467778685436, 0.017986645638592563, 0.011809356425144107, 0.011734322344189203, 0.010914320481275087, 0.011276043803425222, 0.011355744581012378, 0.01194245254824925, 0.011423817320085072, 0.011273225922492254, 0.011458785540368402, 0.0107578365418581, 0.011896286488917718, 0.010698839671801942, 0.01105299728880585, 0.011393464440442348, 0.010784246918779765, 0.010865219687522347, 0.011160338754244992, 0.010391415262906885, 0.016060654536788274, 0.011199911150822917, 0.010691947548864995, 0.01607358731520646, 0.013596378213552168], \"Total\": [1.0, 1.0, 1.0, 1.0, 1.0, 1.0, 0.0, 1.0, 1.0, 1.0, 1.0, 1.0, 1.0, 0.0, 1.0, 1.0, 1.0, 1.0, 0.0, 1.0, 1.0, 1.0, 0.0, 1.0, 1.0, 1.0, 1.0, 1.0, 1.0, 0.0, 1.8185414587634083, 1.143589389704505, 1.1535147504696321, 1.1266139864047517, 1.142813366203971, 1.126240974073177, 1.0968671642338432, 1.7760950113694798, 1.0607206997287186, 1.150054374128548, 1.596854717046203, 1.0780855293171472, 1.0916608180672276, 1.0942351545129523, 1.0566045430231157, 1.057940730732045, 1.5766851857408724, 1.6347824981956476, 1.0848141311352073, 1.0567395512904374, 1.0503633734572917, 1.0318298421862728, 1.0394679066355488, 1.0468897670379531, 1.0551903617097096, 1.021395784284539, 0.9598115443596168, 0.9889660577261841, 1.0248500048850777, 0.9668113303619069, 0.9848998933373946, 0.96011346928711, 0.9848998933373946, 0.9459594511032015, 0.9668113303619069, 1.0248500048850777, 1.0551903617097096, 1.021395784284539, 1.0468897670379531, 0.9889660577261841, 0.9598115443596168, 1.0394679066355488, 1.0503633734572917, 1.0567395512904374, 1.0318298421862728, 1.0848141311352073, 1.6347824981956476, 1.150054374128548, 1.0942351545129523, 1.057940730732045, 1.5766851857408724, 1.0566045430231157, 1.0916608180672276, 1.0780855293171472, 1.7760950113694798, 1.596854717046203, 1.0607206997287186, 1.142813366203971, 1.126240974073177, 1.0968671642338432, 1.1266139864047517, 1.8185414587634083, 0.9598115443596168, 0.9459594511032015, 0.9668113303619069, 0.9889660577261841, 1.0318298421862728, 1.0607206997287186, 1.5766851857408724, 0.96011346928711, 1.596854717046203, 1.0566045430231157, 1.057940730732045, 0.9848998933373946, 1.021395784284539, 1.0394679066355488, 1.0968671642338432, 1.0503633734572917, 1.0567395512904374, 1.0780855293171472, 1.0248500048850777, 1.143589389704505, 1.0468897670379531, 1.0916608180672276, 1.1266139864047517, 1.0848141311352073, 1.0942351545129523, 1.126240974073177, 1.0551903617097096, 1.6347824981956476, 1.1535147504696321, 1.142813366203971, 1.8185414587634083, 1.7760950113694798], \"Category\": [\"Default\", \"Default\", \"Default\", \"Default\", \"Default\", \"Default\", \"Default\", \"Default\", \"Default\", \"Default\", \"Default\", \"Default\", \"Default\", \"Default\", \"Default\", \"Default\", \"Default\", \"Default\", \"Default\", \"Default\", \"Default\", \"Default\", \"Default\", \"Default\", \"Default\", \"Default\", \"Default\", \"Default\", \"Default\", \"Default\", \"Topic1\", \"Topic1\", \"Topic1\", \"Topic1\", \"Topic1\", \"Topic1\", \"Topic1\", \"Topic1\", \"Topic1\", \"Topic1\", \"Topic1\", \"Topic1\", \"Topic1\", \"Topic1\", \"Topic1\", \"Topic1\", \"Topic1\", \"Topic1\", \"Topic1\", \"Topic1\", \"Topic1\", \"Topic1\", \"Topic1\", \"Topic1\", \"Topic1\", \"Topic1\", \"Topic1\", \"Topic1\", \"Topic1\", \"Topic1\", \"Topic1\", \"Topic2\", \"Topic2\", \"Topic2\", \"Topic2\", \"Topic2\", \"Topic2\", \"Topic2\", \"Topic2\", \"Topic2\", \"Topic2\", \"Topic2\", \"Topic2\", \"Topic2\", \"Topic2\", \"Topic2\", \"Topic2\", \"Topic2\", \"Topic2\", \"Topic2\", \"Topic2\", \"Topic2\", \"Topic2\", \"Topic2\", \"Topic2\", \"Topic2\", \"Topic2\", \"Topic2\", \"Topic2\", \"Topic2\", \"Topic2\", \"Topic2\", \"Topic3\", \"Topic3\", \"Topic3\", \"Topic3\", \"Topic3\", \"Topic3\", \"Topic3\", \"Topic3\", \"Topic3\", \"Topic3\", \"Topic3\", \"Topic3\", \"Topic3\", \"Topic3\", \"Topic3\", \"Topic3\", \"Topic3\", \"Topic3\", \"Topic3\", \"Topic3\", \"Topic3\", \"Topic3\", \"Topic3\", \"Topic3\", \"Topic3\", \"Topic3\", \"Topic3\", \"Topic3\", \"Topic3\", \"Topic3\", \"Topic3\", \"Topic3\"], \"logprob\": [30.0, 29.0, 28.0, 27.0, 26.0, 25.0, 24.0, 23.0, 22.0, 21.0, 20.0, 19.0, 18.0, 17.0, 16.0, 15.0, 14.0, 13.0, 12.0, 11.0, 10.0, 9.0, 8.0, 7.0, 6.0, 5.0, 4.0, 3.0, 2.0, 1.0, -3.0221, -3.4892, -3.4827, -3.5091, -3.4961, -3.5107, -3.5374, -3.0573, -3.5753, -3.4947, -3.1665, -3.5601, -3.5476, -3.5458, -3.5818, -3.5807, -3.1819, -3.1459, -3.5564, -3.5845, -3.5908, -3.6091, -3.6035, -3.5987, -3.5911, -3.6246, -3.6869, -3.6571, -3.6236, -3.6851, -3.6699, -3.4152, -3.4475, -3.4992, -3.5228, -3.4766, -3.4789, -3.5159, -3.4953, -3.5642, -3.6148, -3.5429, -3.5613, -3.5553, -3.5822, -3.5444, -3.138, -3.5064, -3.5623, -3.5982, -3.1996, -3.6035, -3.5761, -3.5969, -3.1022, -3.2247, -3.6419, -3.6038, -3.6274, -3.666, -3.6502, -3.288, -3.411, -3.5008, -3.4999, -3.4845, -3.514, -3.492, -3.1086, -3.609, -3.1008, -3.5215, -3.5279, -3.6004, -3.5678, -3.5607, -3.5103, -3.5547, -3.568, -3.5517, -3.6148, -3.5142, -3.6203, -3.5877, -3.5574, -3.6123, -3.6049, -3.5781, -3.6495, -3.2141, -3.5745, -3.6209, -3.2133, -3.3806], \"loglift\": [30.0, 29.0, 28.0, 27.0, 26.0, 25.0, 24.0, 23.0, 22.0, 21.0, 20.0, 19.0, 18.0, 17.0, 16.0, 15.0, 14.0, 13.0, 12.0, 11.0, 10.0, 9.0, 8.0, 7.0, 6.0, 5.0, 4.0, 3.0, 2.0, 1.0, 0.0175, 0.0142, 0.0121, 0.0093, 0.008, 0.008, 0.0077, 0.0058, 0.0034, 0.0031, 0.003, 0.0023, 0.0023, 0.0017, 0.0008, 0.0006, 0.0004, 0.0002, -0.0002, -0.0021, -0.0024, -0.0029, -0.0046, -0.007, -0.0073, -0.0082, -0.0083, -0.0084, -0.0105, -0.0137, -0.0171, 0.2631, 0.2053, 0.194, 0.1485, 0.1364, 0.105, 0.1005, 0.0965, 0.0845, 0.0638, 0.056, 0.0272, 0.0271, 0.0241, 0.0117, 0.0081, -0.0086, -0.0148, -0.0169, -0.0173, -0.0209, -0.0262, -0.0345, -0.0391, -0.0552, -0.0632, -0.0997, -0.1087, -0.1209, -0.1318, -0.2484, 0.2676, 0.1924, 0.1714, 0.1642, 0.0922, 0.0867, 0.0736, 0.0693, 0.0687, 0.061, 0.0533, 0.0524, 0.0487, 0.0382, 0.0348, 0.0337, 0.0144, 0.0107, -0.0018, -0.0108, -0.0285, -0.0378, -0.039, -0.0562, -0.0573, -0.0594, -0.0656, -0.068, -0.0798, -0.1168, -0.1737, -0.3175], \"sentiment_score\": [0.9624, 0.9624, 0.9624, 0.9624, 0.9624, 0.9624, 0.9624, 0.9624, 0.9624, 0.9624, 0.9624, 0.9624, 0.9624, 0.9624, 0.9624, 0.9624, 0.9624, 0.9624, 0.9624, 0.9624, 0.9624, 0.9624, 0.9624, 0.9624, 0.9624, 0.9624, 0.9624, 0.9624, 0.9624, 0.9624, 0.9624, 0.9624, 0.9624, 0.9624, 0.9624, 0.9624, 0.9624, 0.9624, 0.9624, 0.9624, 0.9624, 0.9624, 0.9624, 0.9624, 0.9624, 0.9624, 0.9624, 0.9624, 0.9624, 0.9624, 0.9624, 0.9624, 0.9624, 0.9624, 0.9624, 0.9624, 0.9624, 0.9624, 0.9624, 0.9624, 0.9624, 0.9624, 0.9624, 0.9624, 0.9624, 0.9624, 0.9624, 0.9624, 0.9624, 0.9624, 0.9624, 0.9624, 0.9624, 0.9624, 0.9624, 0.9624, 0.9624, 0.9624, 0.9624, 0.9624, 0.9624, 0.9624, 0.9624, 0.9624, 0.9624, 0.9624, 0.9624, 0.9624, 0.9624, 0.9624, 0.9624, 0.9624, 0.9624, 0.9624, 0.9624, 0.9624, 0.9624, 0.9624, 0.9624, 0.9624, 0.9624, 0.9624, 0.9624, 0.9624, 0.9624, 0.9624, 0.9624, 0.9624, 0.9624, 0.9624, 0.9624, 0.9624, 0.9624, 0.9624, 0.9624, 0.9624, 0.9624, 0.9624, 0.9624, 0.9624, 0.9624, 0.9624, 0.9624, 0.9624]}, \"token.table\": {\"Topic\": [1, 1, 1, 1, 1, 1, 1, 1, 1, 1, 1, 1, 1, 1, 1, 1, 1, 1, 1, 1, 1, 1, 1, 1, 1, 1, 1, 1, 1, 1, 1, 1, 1], \"Freq\": [0.874439732479848, 0.9552104065639863, 0.9452325361441064, 1.09978246047796, 0.9463069672927924, 1.0415435591612998, 0.869524104682223, 1.0418711942740768, 0.9620306635889369, 0.9691520434039484, 0.8669156589396612, 0.9757525445024862, 0.9520514759653893, 0.9790524059196836, 0.9218169005169086, 0.9427552420309625, 0.6342420218339957, 1.0111570485029435, 0.6262310461466146, 0.8876154672916834, 0.8750335177839691, 1.034327969269526, 0.9275701906818041, 1.2234043380128259, 1.057127764656059, 0.9464278822224623, 0.9476962984951024, 0.9138803445271353, 0.9116874245191718, 1.0153316156949086, 0.8879094465755297, 0.9160354420070586, 1.1260658845372666], \"Term\": [\"0\", \"1\", \"10\", \"11\", \"12\", \"13\", \"14\", \"15\", \"16\", \"17\", \"18\", \"19\", \"2\", \"20\", \"21\", \"22\", \"23\", \"24\", \"25\", \"26\", \"27\", \"28\", \"29\", \"3\", \"30\", \"31\", \"32\", \"4\", \"5\", \"6\", \"7\", \"8\", \"9\"]}, \"R\": 30, \"lambda.step\": 0.01, \"plot.opts\": {\"xlab\": \"PC1\", \"ylab\": \"PC2\"}, \"topic.order\": [3, 2, 1]};\n",
       "\n",
       "function LDAvis_load_lib(url, callback){\n",
       "  var s = document.createElement('script');\n",
       "  s.src = url;\n",
       "  s.async = true;\n",
       "  s.onreadystatechange = s.onload = callback;\n",
       "  s.onerror = function(){console.warn(\"failed to load library \" + url);};\n",
       "  document.getElementsByTagName(\"head\")[0].appendChild(s);\n",
       "}\n",
       "\n",
       "if(typeof(LDAvis) !== \"undefined\"){\n",
       "   // already loaded: just create the visualization\n",
       "   !function(LDAvis){\n",
       "       new LDAvis(\"#\" + \"ldavis_el598021486009966884250527036\", ldavis_el598021486009966884250527036_data);\n",
       "   }(LDAvis);\n",
       "}else if(typeof define === \"function\" && define.amd){\n",
       "   // require.js is available: use it to load d3/LDAvis\n",
       "   require.config({paths: {d3: \"https://d3js.org/d3.v5\"}});\n",
       "   require([\"d3\"], function(d3){\n",
       "      window.d3 = d3;\n",
       "      LDAvis_load_lib(\"https://cdn.jsdelivr.net/gh/bmabey/pyLDAvis@3.4.0/pyLDAvis/js/ldavis.v3.0.0.js\", function(){\n",
       "        new LDAvis(\"#\" + \"ldavis_el598021486009966884250527036\", ldavis_el598021486009966884250527036_data);\n",
       "      });\n",
       "    });\n",
       "}else{\n",
       "    // require.js not available: dynamically load d3 & LDAvis\n",
       "    LDAvis_load_lib(\"https://d3js.org/d3.v5.js\", function(){\n",
       "         LDAvis_load_lib(\"https://cdn.jsdelivr.net/gh/bmabey/pyLDAvis@3.4.0/pyLDAvis/js/ldavis.v3.0.0.js\", function(){\n",
       "                 new LDAvis(\"#\" + \"ldavis_el598021486009966884250527036\", ldavis_el598021486009966884250527036_data);\n",
       "            })\n",
       "         });\n",
       "}\n",
       "</script>"
      ],
      "text/plain": [
       "<IPython.core.display.HTML object>"
      ]
     },
     "execution_count": 20,
     "metadata": {},
     "output_type": "execute_result"
    }
   ],
   "source": [
    "\n",
    "\n",
    "# Example review text\n",
    "# review_text = \"\"\"I bought this Compaq A1500 this week and am more than satisfied with it. Simple installation without any problems, excellent photo quality resolution even on plain paper, very good managing software and the best part is, I didn't need any customer support to make it run :). Very good product with excellent features, quality and resolution. Believe me it's better than the best available in this price range.\"\"\"\n",
    "tokens = word_tokenize(data_array[0].lower())  # Convert text to lowercase\n",
    "\n",
    "# Remove punctuation and stopwords\n",
    "stopwords = set(nltk.corpus.stopwords.words('english'))\n",
    "tokens = [token for token in tokens if token.isalnum() and token not in stopwords]\n",
    "\n",
    "# Create a Gensim dictionary\n",
    "dictionary = Dictionary([tokens])\n",
    "\n",
    "# Create a corpus\n",
    "corpus = [dictionary.doc2bow(tokens)]\n",
    "# Perform sentiment analysis on the review text\n",
    "sid = SentimentIntensityAnalyzer()\n",
    "scores = sid.polarity_scores(data_array[0])\n",
    "\n",
    "# Example corpus and dictionary (you would typically have multiple documents in a corpus)\n",
    "# corpus = [[(0, 1), (1, 1), (2, 1)],\n",
    "#           [(1, 1), (3, 1), (4, 1), (5, 1), (6, 1), (7, 1)],\n",
    "#           [(0, 1), (3, 1), (4, 1), (8, 1)],\n",
    "#           [(2, 1), (6, 1), (8, 1), (9, 1)],\n",
    "#           [(0, 1), (10, 1), (11, 1), (12, 1)]]\n",
    "\n",
    "dictionary = Dictionary.from_corpus(corpus)\n",
    "\n",
    "# Example LDA model\n",
    "lda_model = LdaModel(corpus=corpus, id2word=dictionary, num_topics=4)\n",
    "\n",
    "# Visualize the LDA model\n",
    "lda_display = gensimvis.prepare(lda_model, corpus, dictionary)\n",
    "\n",
    "# Add sentiment information to the visualization\n",
    "lda_display.topic_info['sentiment_score'] = scores['compound']\n",
    "\n",
    "# Display the visualization\n",
    "pyLDAvis.display(lda_display)\n"
   ]
  },
  {
   "cell_type": "code",
   "execution_count": 12,
   "metadata": {},
   "outputs": [
    {
     "data": {
      "image/png": "[encoded data removed]",
      "text/plain": [
       "<Figure size 800x600 with 1 Axes>"
      ]
     },
     "metadata": {},
     "output_type": "display_data"
    }
   ],
   "source": [
    "plt.figure(figsize=(8, 6))\n",
    "plt.plot(scores, marker='o', linestyle='-')\n",
    "plt.title('Sentiment Scores')\n",
    "plt.xlabel('Text Index')\n",
    "plt.ylabel('Sentiment Score')\n",
    "plt.grid(True)\n",
    "plt.show()"
   ]
  }
 ],
 "metadata": {
  "kernelspec": {
   "display_name": "Python 3",
   "language": "python",
   "name": "python3"
  },
  "language_info": {
   "codemirror_mode": {
    "name": "ipython",
    "version": 3
   },
   "file_extension": ".py",
   "mimetype": "text/x-python",
   "name": "python",
   "nbconvert_exporter": "python",
   "pygments_lexer": "ipython3",
   "version": "3.12.0"
  }
 },
 "nbformat": 4,
 "nbformat_minor": 2
}
