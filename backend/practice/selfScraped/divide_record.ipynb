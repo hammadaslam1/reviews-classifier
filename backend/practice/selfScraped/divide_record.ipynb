{
 "cells": [
  {
   "cell_type": "code",
   "execution_count": 17,
   "metadata": {},
   "outputs": [],
   "source": [
    "import json\n",
    "import csv\n",
    "import pandas as pd\n"
   ]
  },
  {
   "cell_type": "code",
   "execution_count": 18,
   "metadata": {},
   "outputs": [],
   "source": [
    "data = []\n",
    "\n",
    "with open('D:/Laptop Data/BS IT (post ADP)/3rd Semester/Capstone Project/reviews-classifier/backend/trainedData/clothingShoesAndJewelry.csv', 'r', newline='', encoding=\"utf-8\") as file:\n",
    "    csv_reader = csv.DictReader(file)\n",
    "    \n",
    "    for row in csv_reader:\n",
    "        data.append(row)\n",
    "with open(\"to_divide.json\", \"w\", encoding=\"utf-8\") as f:\n",
    "        json.dump(data, f, indent=4)\n",
    "    "
   ]
  },
  {
   "cell_type": "code",
   "execution_count": 19,
   "metadata": {},
   "outputs": [],
   "source": [
    "with open('to_divide.json', 'r') as f:\n",
    "    mainFile = json.load(f)"
   ]
  },
  {
   "cell_type": "code",
   "execution_count": 41,
   "metadata": {},
   "outputs": [
    {
     "data": {
      "text/plain": [
       "(20000, 20000)"
      ]
     },
     "execution_count": 41,
     "metadata": {},
     "output_type": "execute_result"
    }
   ],
   "source": [
    "helpful = []\n",
    "unhelpful = []\n",
    "\n",
    "for review in mainFile:\n",
    "    if int(review[\"helpful_vote\"]) > 10:\n",
    "        helpful.append(review)\n",
    "    else:\n",
    "        unhelpful.append(review)\n",
    "\n",
    "len(helpful), len(unhelpful)"
   ]
  },
  {
   "cell_type": "code",
   "execution_count": 42,
   "metadata": {},
   "outputs": [
    {
     "data": {
      "text/plain": [
       "(19805, 19015)"
      ]
     },
     "execution_count": 42,
     "metadata": {},
     "output_type": "execute_result"
    }
   ],
   "source": [
    "helpful = sorted(helpful, key=lambda x: x['helpful_vote'], reverse=False)\n",
    "helpful = helpful[195:]\n",
    "unhelpful = sorted(unhelpful, key=lambda x: x['helpful_vote'], reverse=False)\n",
    "unhelpful = unhelpful[985:]\n",
    "len(helpful), len(unhelpful)"
   ]
  },
  {
   "cell_type": "code",
   "execution_count": 36,
   "metadata": {},
   "outputs": [],
   "source": [
    "helpful_clothes = []\n",
    "unhelpful_clothes = []\n",
    "\n",
    "with open('men_clothes.json', 'r') as f:\n",
    "    clothes = json.load(f)\n",
    "    \n",
    "for row in clothes:\n",
    "    if row['helpful_votes'] > 9:\n",
    "        helpful_clothes.append(row)\n",
    "    else:\n",
    "        unhelpful_clothes.append(row)\n",
    "        \n",
    "helpful_clothes = sorted(helpful_clothes, key=lambda x: x['helpful_votes'], reverse=True)\n",
    "unhelpful_clothes = sorted(unhelpful_clothes, key=lambda x: x['helpful_votes'], reverse=True)\n",
    "# unhelpful_clothes = unhelpful_clothes[:1977]"
   ]
  },
  {
   "cell_type": "code",
   "execution_count": 43,
   "metadata": {},
   "outputs": [
    {
     "data": {
      "text/plain": [
       "20000"
      ]
     },
     "execution_count": 43,
     "metadata": {},
     "output_type": "execute_result"
    }
   ],
   "source": [
    "merged = unhelpful_clothes + unhelpful\n",
    "len(merged)"
   ]
  }
 ],
 "metadata": {
  "kernelspec": {
   "display_name": "Python 3",
   "language": "python",
   "name": "python3"
  },
  "language_info": {
   "codemirror_mode": {
    "name": "ipython",
    "version": 3
   },
   "file_extension": ".py",
   "mimetype": "text/x-python",
   "name": "python",
   "nbconvert_exporter": "python",
   "pygments_lexer": "ipython3",
   "version": "3.12.4"
  }
 },
 "nbformat": 4,
 "nbformat_minor": 2
}
