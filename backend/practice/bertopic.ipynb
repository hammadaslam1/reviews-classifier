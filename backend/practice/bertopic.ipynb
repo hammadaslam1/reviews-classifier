{
 "cells": [
  {
   "cell_type": "code",
   "execution_count": 27,
   "metadata": {},
   "outputs": [
    {
     "name": "stdout",
     "output_type": "stream",
     "text": [
      "<function fetch_20newsgroups at 0x0000028B48584680>\n"
     ]
    }
   ],
   "source": [
    "from bertopic import BERTopic\n",
    "from sklearn.datasets import fetch_20newsgroups\n",
    "print(fetch_20newsgroups)"
   ]
  },
  {
   "cell_type": "code",
   "execution_count": 28,
   "metadata": {},
   "outputs": [],
   "source": [
    "docs = fetch_20newsgroups(subset='all',  remove=('headers', 'footers', 'quotes'))['data']"
   ]
  },
  {
   "cell_type": "code",
   "execution_count": 45,
   "metadata": {},
   "outputs": [
    {
     "data": {
      "text/plain": [
       "18846"
      ]
     },
     "execution_count": 45,
     "metadata": {},
     "output_type": "execute_result"
    }
   ],
   "source": [
    "len(docs)\n",
    "# docs"
   ]
  },
  {
   "cell_type": "code",
   "execution_count": 30,
   "metadata": {},
   "outputs": [
    {
     "data": {
      "text/plain": [
       "3748"
      ]
     },
     "execution_count": 30,
     "metadata": {},
     "output_type": "execute_result"
    }
   ],
   "source": [
    "import json\n",
    "\n",
    "with open('C:/Hammad Aslam/BS IT (post ADP)/3rd Semester/Capstone Project/Project/backend/datasets/categories/computers/computers.json', 'r') as f:\n",
    "    data = json.load(f)\n",
    "desc=[]\n",
    "for i in data:\n",
    "    for item in i[\"reviews\"]:\n",
    "        desc.append(item[\"review_body\"])\n",
    "# for item in data[1][\"reviews\"]:\n",
    "#     desc.append(item[\"review_body\"])\n",
    "# for item in data[len(data)-1][\"reviews\"]:\n",
    "#     desc.append(item[\"review_body\"])\n",
    "len(desc)\n",
    "# data[0]['reviews'][0]\n",
    "# desc"
   ]
  },
  {
   "cell_type": "code",
   "execution_count": 31,
   "metadata": {},
   "outputs": [
    {
     "name": "stderr",
     "output_type": "stream",
     "text": [
      "2024-03-12 19:13:54,270 - BERTopic - Embedding - Transforming documents to embeddings.\n"
     ]
    },
    {
     "data": {
      "application/vnd.jupyter.widget-view+json": {
       "model_id": "42150b0047c64d3984afd7466987563f",
       "version_major": 2,
       "version_minor": 0
      },
      "text/plain": [
       "Batches:   0%|          | 0/118 [00:00<?, ?it/s]"
      ]
     },
     "metadata": {},
     "output_type": "display_data"
    },
    {
     "name": "stderr",
     "output_type": "stream",
     "text": [
      "2024-03-12 19:18:08,483 - BERTopic - Embedding - Completed ✓\n",
      "2024-03-12 19:18:08,483 - BERTopic - Dimensionality - Fitting the dimensionality reduction algorithm\n",
      "2024-03-12 19:18:32,148 - BERTopic - Dimensionality - Completed ✓\n",
      "2024-03-12 19:18:32,151 - BERTopic - Cluster - Start clustering the reduced embeddings\n",
      "2024-03-12 19:18:33,087 - BERTopic - Cluster - Completed ✓\n",
      "2024-03-12 19:18:33,094 - BERTopic - Representation - Extracting topics from clusters using representation models.\n",
      "2024-03-12 19:18:33,825 - BERTopic - Representation - Completed ✓\n"
     ]
    }
   ],
   "source": [
    "topic_model = BERTopic(language=\"english\", calculate_probabilities=True, verbose=True)\n",
    "topics, probs = topic_model.fit_transform(desc)\n",
    "# topics"
   ]
  },
  {
   "cell_type": "code",
   "execution_count": 32,
   "metadata": {},
   "outputs": [
    {
     "data": {
      "text/html": [
       "<div>\n",
       "<style scoped>\n",
       "    .dataframe tbody tr th:only-of-type {\n",
       "        vertical-align: middle;\n",
       "    }\n",
       "\n",
       "    .dataframe tbody tr th {\n",
       "        vertical-align: top;\n",
       "    }\n",
       "\n",
       "    .dataframe thead th {\n",
       "        text-align: right;\n",
       "    }\n",
       "</style>\n",
       "<table border=\"1\" class=\"dataframe\">\n",
       "  <thead>\n",
       "    <tr style=\"text-align: right;\">\n",
       "      <th></th>\n",
       "      <th>Topic</th>\n",
       "      <th>Count</th>\n",
       "      <th>Name</th>\n",
       "      <th>Representation</th>\n",
       "      <th>Representative_Docs</th>\n",
       "    </tr>\n",
       "  </thead>\n",
       "  <tbody>\n",
       "    <tr>\n",
       "      <th>0</th>\n",
       "      <td>-1</td>\n",
       "      <td>1203</td>\n",
       "      <td>-1_the_and_it_to</td>\n",
       "      <td>[the, and, it, to, is, this, for, of, laptop, ...</td>\n",
       "      <td>[Overall, this is a solid laptop for the price...</td>\n",
       "    </tr>\n",
       "    <tr>\n",
       "      <th>1</th>\n",
       "      <td>0</td>\n",
       "      <td>663</td>\n",
       "      <td>0_tablet_the_and_it</td>\n",
       "      <td>[tablet, the, and, it, to, is, samsung, my, ta...</td>\n",
       "      <td>[Every new Samsung tablet (and there have been...</td>\n",
       "    </tr>\n",
       "    <tr>\n",
       "      <th>2</th>\n",
       "      <td>1</td>\n",
       "      <td>154</td>\n",
       "      <td>1_gaming_games_the_and</td>\n",
       "      <td>[gaming, games, the, and, laptop, it, for, thi...</td>\n",
       "      <td>[I've been in the market for a portable comput...</td>\n",
       "    </tr>\n",
       "    <tr>\n",
       "      <th>3</th>\n",
       "      <td>2</td>\n",
       "      <td>135</td>\n",
       "      <td>2_chromebook_chrome_to_the</td>\n",
       "      <td>[chromebook, chrome, to, the, for, is, and, it...</td>\n",
       "      <td>[Since there's no way to award stars in half-p...</td>\n",
       "    </tr>\n",
       "    <tr>\n",
       "      <th>4</th>\n",
       "      <td>3</td>\n",
       "      <td>109</td>\n",
       "      <td>3_laptop_is_and_for</td>\n",
       "      <td>[laptop, is, and, for, it, the, this, its, to,...</td>\n",
       "      <td>[This is a very good laptop at this price. The...</td>\n",
       "    </tr>\n",
       "  </tbody>\n",
       "</table>\n",
       "</div>"
      ],
      "text/plain": [
       "   Topic  Count                        Name  \\\n",
       "0     -1   1203            -1_the_and_it_to   \n",
       "1      0    663         0_tablet_the_and_it   \n",
       "2      1    154      1_gaming_games_the_and   \n",
       "3      2    135  2_chromebook_chrome_to_the   \n",
       "4      3    109         3_laptop_is_and_for   \n",
       "\n",
       "                                      Representation  \\\n",
       "0  [the, and, it, to, is, this, for, of, laptop, ...   \n",
       "1  [tablet, the, and, it, to, is, samsung, my, ta...   \n",
       "2  [gaming, games, the, and, laptop, it, for, thi...   \n",
       "3  [chromebook, chrome, to, the, for, is, and, it...   \n",
       "4  [laptop, is, and, for, it, the, this, its, to,...   \n",
       "\n",
       "                                 Representative_Docs  \n",
       "0  [Overall, this is a solid laptop for the price...  \n",
       "1  [Every new Samsung tablet (and there have been...  \n",
       "2  [I've been in the market for a portable comput...  \n",
       "3  [Since there's no way to award stars in half-p...  \n",
       "4  [This is a very good laptop at this price. The...  "
      ]
     },
     "execution_count": 32,
     "metadata": {},
     "output_type": "execute_result"
    }
   ],
   "source": [
    "freq = topic_model.get_topic_info(); freq.head(5)\n",
    "# freq\n"
   ]
  },
  {
   "cell_type": "code",
   "execution_count": 33,
   "metadata": {},
   "outputs": [
    {
     "data": {
      "text/plain": [
       "[('tablet', 0.027604436680971553),\n",
       " ('the', 0.0176940279538386),\n",
       " ('and', 0.016123172314583708),\n",
       " ('it', 0.016014135437260022),\n",
       " ('to', 0.01577307620584752),\n",
       " ('is', 0.014747737573500824),\n",
       " ('samsung', 0.014379948103592263),\n",
       " ('my', 0.014171970031702723),\n",
       " ('tab', 0.013727439212891095),\n",
       " ('this', 0.013417999747265553)]"
      ]
     },
     "execution_count": 33,
     "metadata": {},
     "output_type": "execute_result"
    }
   ],
   "source": [
    "topic_model.get_topic(0)"
   ]
  },
  {
   "cell_type": "code",
   "execution_count": 34,
   "metadata": {},
   "outputs": [
    {
     "data": {
      "text/plain": [
       "[45, 45, 45, 45, 45, -1, 3, 3, 5, 6]"
      ]
     },
     "execution_count": 34,
     "metadata": {},
     "output_type": "execute_result"
    }
   ],
   "source": [
    "topic_model.topics_[:10]"
   ]
  },
  {
   "cell_type": "code",
   "execution_count": 35,
   "metadata": {},
   "outputs": [
    {
     "data": {
      "application/vnd.plotly.v1+json": {
       "config": {
        "plotlyServerURL": "https://plot.ly"
       },
       "data": [
        {
         "customdata": [
          [
           0,
           "tablet | the | and | it | to",
           663
          ],
          [
           1,
           "gaming | games | the | and | laptop",
           154
          ],
          [
           2,
           "chromebook | chrome | to | the | for",
           135
          ],
          [
           3,
           "laptop | is | and | for | it",
           109
          ],
          [
           4,
           "loves | she | for | gift | my",
           100
          ],
          [
           5,
           "netbook | the | is | and | to",
           96
          ],
          [
           6,
           "asus | the | to | they | and",
           96
          ],
          [
           7,
           "de | la | que | es | el",
           95
          ],
          [
           8,
           "computer | pc | great | is | good",
           84
          ],
          [
           9,
           "laptop | great | price | good | this",
           77
          ],
          [
           10,
           "wifi | to | the | and | was",
           73
          ],
          [
           11,
           "surface | the | is | book | and",
           63
          ],
          [
           12,
           "charger | it | laptop | not | charge",
           57
          ],
          [
           13,
           "screen | good | it | quality | great",
           57
          ],
          [
           14,
           "laptop | fan | it | the | this",
           52
          ],
          [
           15,
           "space | drive | to | windows | storage",
           51
          ],
          [
           16,
           "working | item | it | not | work",
           37
          ],
          [
           17,
           "nice | excellent | great | mmmm | awesome",
           31
          ],
          [
           18,
           "windows | 10 | my | laptop | to",
           27
          ],
          [
           19,
           "slow | super | waste | money | glitches",
           27
          ],
          [
           20,
           "works | far | issues | great | so",
           24
          ],
          [
           21,
           "battery | hours | life | good | laptop",
           24
          ],
          [
           22,
           "slow | laptop | not | fast | it",
           23
          ],
          [
           23,
           "love | far | so | it | itno",
           21
          ],
          [
           24,
           "new | refurbished | was | computer | came",
           21
          ],
          [
           25,
           "mouse | touchpad | pad | the | laptop",
           21
          ],
          [
           26,
           "pc | mini | hdmi | the | ports",
           20
          ],
          [
           27,
           "delivery | product | seller | quick | delivered",
           19
          ],
          [
           28,
           "touchscreen | touch | screen | is | not",
           19
          ],
          [
           29,
           "product | good | great | prize | fort",
           18
          ],
          [
           30,
           "price | value | good | great | quality",
           18
          ],
          [
           31,
           "keys | keyboard | uy | key | the",
           18
          ],
          [
           32,
           "united | reviewed | states | 2010 | march",
           18
          ],
          [
           33,
           "its | touch | small | to | the",
           18
          ],
          [
           34,
           "good | goog | bd | none | like",
           17
          ],
          [
           35,
           "works | working | great | shap | good",
           16
          ],
          [
           36,
           "weight | size | lightweight | designed | fast",
           16
          ],
          [
           37,
           "hd | 1005pr | broadcom | netbook | asus",
           16
          ],
          [
           38,
           "loading | player | video | is | adding",
           14
          ],
          [
           39,
           "ssd | drive | computer | ssds | good",
           14
          ],
          [
           40,
           "backlit | keyboard | backlight | missing | does",
           14
          ],
          [
           41,
           "premier | hp | warranty | lenovo | service",
           13
          ],
          [
           42,
           "hp | stallion | drive | memory | setup",
           13
          ],
          [
           43,
           "laptop | within | arrived | was | speedy",
           13
          ],
          [
           44,
           "return | screen | product | was | sent",
           12
          ],
          [
           45,
           "compaq | a1500 | printer | print | was",
           11
          ],
          [
           46,
           "perfect | increible | perfecto | 100 | everything",
           10
          ]
         ],
         "hovertemplate": "<b>Topic %{customdata[0]}</b><br>%{customdata[1]}<br>Size: %{customdata[2]}",
         "legendgroup": "",
         "marker": {
          "color": "#B0BEC5",
          "line": {
           "color": "DarkSlateGrey",
           "width": 2
          },
          "size": [
           663,
           154,
           135,
           109,
           100,
           96,
           96,
           95,
           84,
           77,
           73,
           63,
           57,
           57,
           52,
           51,
           37,
           31,
           27,
           27,
           24,
           24,
           23,
           21,
           21,
           21,
           20,
           19,
           19,
           18,
           18,
           18,
           18,
           18,
           17,
           16,
           16,
           16,
           14,
           14,
           14,
           13,
           13,
           13,
           12,
           11,
           10
          ],
          "sizemode": "area",
          "sizeref": 0.414375,
          "symbol": "circle"
         },
         "mode": "markers",
         "name": "",
         "orientation": "v",
         "showlegend": false,
         "type": "scatter",
         "x": [
          1.2831008434295654,
          -5.19412899017334,
          -4.71241569519043,
          -4.775469779968262,
          1.5910451412200928,
          -5.21586799621582,
          -5.7762370109558105,
          -7.410373687744141,
          -8.247387886047363,
          -7.510435581207275,
          -4.037961959838867,
          -4.943812370300293,
          -5.830857753753662,
          1.4462260007858276,
          -5.551080226898193,
          -6.983719825744629,
          9.043179512023926,
          15.187389373779297,
          -6.993234157562256,
          20.29431915283203,
          8.841485977172852,
          -7.652738571166992,
          20.28802490234375,
          15.415295600891113,
          -7.248227119445801,
          7.862419128417969,
          -8.599187850952148,
          -7.74527645111084,
          7.8818583488464355,
          21.833187103271484,
          21.859203338623047,
          8.083410263061523,
          8.672296524047852,
          -5.021628379821777,
          15.200812339782715,
          8.454726219177246,
          1.7024222612380981,
          -4.117537021636963,
          -3.9946706295013428,
          -8.583051681518555,
          8.296406745910645,
          -5.963501930236816,
          -8.141226768493652,
          -7.427059173583984,
          9.150636672973633,
          -7.191066265106201,
          15.271075248718262
         ],
         "xaxis": "x",
         "y": [
          0.4915994703769684,
          0.6252949833869934,
          0.33958882093429565,
          0.39682984352111816,
          0.699213445186615,
          0.27945464849472046,
          1.1732776165008545,
          3.694847345352173,
          3.167929172515869,
          3.787813663482666,
          16.999683380126953,
          0.5620709657669067,
          1.5632266998291016,
          0.5751270651817322,
          0.9499831795692444,
          5.784631729125977,
          -1.8258202075958252,
          2.185554027557373,
          5.74591064453125,
          11.786260604858398,
          -1.8618464469909668,
          3.8733949661254883,
          11.767121315002441,
          1.9572023153305054,
          5.126964092254639,
          -4.515027046203613,
          2.8840432167053223,
          4.919816017150879,
          -4.462246894836426,
          16.10715675354004,
          16.13408088684082,
          -4.710747241973877,
          -2.170275926589966,
          -0.03319770470261574,
          2.171708345413208,
          -1.8768692016601562,
          0.8185433149337769,
          17.079221725463867,
          16.956104278564453,
          2.898719549179077,
          -4.915481090545654,
          1.4344091415405273,
          3.2617335319519043,
          4.768065452575684,
          -1.875059723854065,
          5.570962429046631,
          2.1017260551452637
         ],
         "yaxis": "y"
        }
       ],
       "layout": {
        "annotations": [
         {
          "showarrow": false,
          "text": "D1",
          "x": -9.889066028594971,
          "y": 6.994150865077973,
          "yshift": 10
         },
         {
          "showarrow": false,
          "text": "D2",
          "x": 7.6245089054107655,
          "xshift": 10,
          "y": 19.641104984283448
         }
        ],
        "height": 650,
        "hoverlabel": {
         "bgcolor": "white",
         "font": {
          "family": "Rockwell",
          "size": 16
         }
        },
        "legend": {
         "itemsizing": "constant",
         "tracegroupgap": 0
        },
        "margin": {
         "t": 60
        },
        "shapes": [
         {
          "line": {
           "color": "#CFD8DC",
           "width": 2
          },
          "type": "line",
          "x0": 7.6245089054107655,
          "x1": 7.6245089054107655,
          "y0": -5.652803254127503,
          "y1": 19.641104984283448
         },
         {
          "line": {
           "color": "#9E9E9E",
           "width": 2
          },
          "type": "line",
          "x0": -9.889066028594971,
          "x1": 25.138083839416502,
          "y0": 6.994150865077973,
          "y1": 6.994150865077973
         }
        ],
        "sliders": [
         {
          "active": 0,
          "pad": {
           "t": 50
          },
          "steps": [
           {
            "args": [
             {
              "marker.color": [
               [
                "red",
                "#B0BEC5",
                "#B0BEC5",
                "#B0BEC5",
                "#B0BEC5",
                "#B0BEC5",
                "#B0BEC5",
                "#B0BEC5",
                "#B0BEC5",
                "#B0BEC5",
                "#B0BEC5",
                "#B0BEC5",
                "#B0BEC5",
                "#B0BEC5",
                "#B0BEC5",
                "#B0BEC5",
                "#B0BEC5",
                "#B0BEC5",
                "#B0BEC5",
                "#B0BEC5",
                "#B0BEC5",
                "#B0BEC5",
                "#B0BEC5",
                "#B0BEC5",
                "#B0BEC5",
                "#B0BEC5",
                "#B0BEC5",
                "#B0BEC5",
                "#B0BEC5",
                "#B0BEC5",
                "#B0BEC5",
                "#B0BEC5",
                "#B0BEC5",
                "#B0BEC5",
                "#B0BEC5",
                "#B0BEC5",
                "#B0BEC5",
                "#B0BEC5",
                "#B0BEC5",
                "#B0BEC5",
                "#B0BEC5",
                "#B0BEC5",
                "#B0BEC5",
                "#B0BEC5",
                "#B0BEC5",
                "#B0BEC5",
                "#B0BEC5"
               ]
              ]
             }
            ],
            "label": "Topic 0",
            "method": "update"
           },
           {
            "args": [
             {
              "marker.color": [
               [
                "#B0BEC5",
                "red",
                "#B0BEC5",
                "#B0BEC5",
                "#B0BEC5",
                "#B0BEC5",
                "#B0BEC5",
                "#B0BEC5",
                "#B0BEC5",
                "#B0BEC5",
                "#B0BEC5",
                "#B0BEC5",
                "#B0BEC5",
                "#B0BEC5",
                "#B0BEC5",
                "#B0BEC5",
                "#B0BEC5",
                "#B0BEC5",
                "#B0BEC5",
                "#B0BEC5",
                "#B0BEC5",
                "#B0BEC5",
                "#B0BEC5",
                "#B0BEC5",
                "#B0BEC5",
                "#B0BEC5",
                "#B0BEC5",
                "#B0BEC5",
                "#B0BEC5",
                "#B0BEC5",
                "#B0BEC5",
                "#B0BEC5",
                "#B0BEC5",
                "#B0BEC5",
                "#B0BEC5",
                "#B0BEC5",
                "#B0BEC5",
                "#B0BEC5",
                "#B0BEC5",
                "#B0BEC5",
                "#B0BEC5",
                "#B0BEC5",
                "#B0BEC5",
                "#B0BEC5",
                "#B0BEC5",
                "#B0BEC5",
                "#B0BEC5"
               ]
              ]
             }
            ],
            "label": "Topic 1",
            "method": "update"
           },
           {
            "args": [
             {
              "marker.color": [
               [
                "#B0BEC5",
                "#B0BEC5",
                "red",
                "#B0BEC5",
                "#B0BEC5",
                "#B0BEC5",
                "#B0BEC5",
                "#B0BEC5",
                "#B0BEC5",
                "#B0BEC5",
                "#B0BEC5",
                "#B0BEC5",
                "#B0BEC5",
                "#B0BEC5",
                "#B0BEC5",
                "#B0BEC5",
                "#B0BEC5",
                "#B0BEC5",
                "#B0BEC5",
                "#B0BEC5",
                "#B0BEC5",
                "#B0BEC5",
                "#B0BEC5",
                "#B0BEC5",
                "#B0BEC5",
                "#B0BEC5",
                "#B0BEC5",
                "#B0BEC5",
                "#B0BEC5",
                "#B0BEC5",
                "#B0BEC5",
                "#B0BEC5",
                "#B0BEC5",
                "#B0BEC5",
                "#B0BEC5",
                "#B0BEC5",
                "#B0BEC5",
                "#B0BEC5",
                "#B0BEC5",
                "#B0BEC5",
                "#B0BEC5",
                "#B0BEC5",
                "#B0BEC5",
                "#B0BEC5",
                "#B0BEC5",
                "#B0BEC5",
                "#B0BEC5"
               ]
              ]
             }
            ],
            "label": "Topic 2",
            "method": "update"
           },
           {
            "args": [
             {
              "marker.color": [
               [
                "#B0BEC5",
                "#B0BEC5",
                "#B0BEC5",
                "red",
                "#B0BEC5",
                "#B0BEC5",
                "#B0BEC5",
                "#B0BEC5",
                "#B0BEC5",
                "#B0BEC5",
                "#B0BEC5",
                "#B0BEC5",
                "#B0BEC5",
                "#B0BEC5",
                "#B0BEC5",
                "#B0BEC5",
                "#B0BEC5",
                "#B0BEC5",
                "#B0BEC5",
                "#B0BEC5",
                "#B0BEC5",
                "#B0BEC5",
                "#B0BEC5",
                "#B0BEC5",
                "#B0BEC5",
                "#B0BEC5",
                "#B0BEC5",
                "#B0BEC5",
                "#B0BEC5",
                "#B0BEC5",
                "#B0BEC5",
                "#B0BEC5",
                "#B0BEC5",
                "#B0BEC5",
                "#B0BEC5",
                "#B0BEC5",
                "#B0BEC5",
                "#B0BEC5",
                "#B0BEC5",
                "#B0BEC5",
                "#B0BEC5",
                "#B0BEC5",
                "#B0BEC5",
                "#B0BEC5",
                "#B0BEC5",
                "#B0BEC5",
                "#B0BEC5"
               ]
              ]
             }
            ],
            "label": "Topic 3",
            "method": "update"
           },
           {
            "args": [
             {
              "marker.color": [
               [
                "#B0BEC5",
                "#B0BEC5",
                "#B0BEC5",
                "#B0BEC5",
                "red",
                "#B0BEC5",
                "#B0BEC5",
                "#B0BEC5",
                "#B0BEC5",
                "#B0BEC5",
                "#B0BEC5",
                "#B0BEC5",
                "#B0BEC5",
                "#B0BEC5",
                "#B0BEC5",
                "#B0BEC5",
                "#B0BEC5",
                "#B0BEC5",
                "#B0BEC5",
                "#B0BEC5",
                "#B0BEC5",
                "#B0BEC5",
                "#B0BEC5",
                "#B0BEC5",
                "#B0BEC5",
                "#B0BEC5",
                "#B0BEC5",
                "#B0BEC5",
                "#B0BEC5",
                "#B0BEC5",
                "#B0BEC5",
                "#B0BEC5",
                "#B0BEC5",
                "#B0BEC5",
                "#B0BEC5",
                "#B0BEC5",
                "#B0BEC5",
                "#B0BEC5",
                "#B0BEC5",
                "#B0BEC5",
                "#B0BEC5",
                "#B0BEC5",
                "#B0BEC5",
                "#B0BEC5",
                "#B0BEC5",
                "#B0BEC5",
                "#B0BEC5"
               ]
              ]
             }
            ],
            "label": "Topic 4",
            "method": "update"
           },
           {
            "args": [
             {
              "marker.color": [
               [
                "#B0BEC5",
                "#B0BEC5",
                "#B0BEC5",
                "#B0BEC5",
                "#B0BEC5",
                "red",
                "#B0BEC5",
                "#B0BEC5",
                "#B0BEC5",
                "#B0BEC5",
                "#B0BEC5",
                "#B0BEC5",
                "#B0BEC5",
                "#B0BEC5",
                "#B0BEC5",
                "#B0BEC5",
                "#B0BEC5",
                "#B0BEC5",
                "#B0BEC5",
                "#B0BEC5",
                "#B0BEC5",
                "#B0BEC5",
                "#B0BEC5",
                "#B0BEC5",
                "#B0BEC5",
                "#B0BEC5",
                "#B0BEC5",
                "#B0BEC5",
                "#B0BEC5",
                "#B0BEC5",
                "#B0BEC5",
                "#B0BEC5",
                "#B0BEC5",
                "#B0BEC5",
                "#B0BEC5",
                "#B0BEC5",
                "#B0BEC5",
                "#B0BEC5",
                "#B0BEC5",
                "#B0BEC5",
                "#B0BEC5",
                "#B0BEC5",
                "#B0BEC5",
                "#B0BEC5",
                "#B0BEC5",
                "#B0BEC5",
                "#B0BEC5"
               ]
              ]
             }
            ],
            "label": "Topic 5",
            "method": "update"
           },
           {
            "args": [
             {
              "marker.color": [
               [
                "#B0BEC5",
                "#B0BEC5",
                "#B0BEC5",
                "#B0BEC5",
                "#B0BEC5",
                "#B0BEC5",
                "red",
                "#B0BEC5",
                "#B0BEC5",
                "#B0BEC5",
                "#B0BEC5",
                "#B0BEC5",
                "#B0BEC5",
                "#B0BEC5",
                "#B0BEC5",
                "#B0BEC5",
                "#B0BEC5",
                "#B0BEC5",
                "#B0BEC5",
                "#B0BEC5",
                "#B0BEC5",
                "#B0BEC5",
                "#B0BEC5",
                "#B0BEC5",
                "#B0BEC5",
                "#B0BEC5",
                "#B0BEC5",
                "#B0BEC5",
                "#B0BEC5",
                "#B0BEC5",
                "#B0BEC5",
                "#B0BEC5",
                "#B0BEC5",
                "#B0BEC5",
                "#B0BEC5",
                "#B0BEC5",
                "#B0BEC5",
                "#B0BEC5",
                "#B0BEC5",
                "#B0BEC5",
                "#B0BEC5",
                "#B0BEC5",
                "#B0BEC5",
                "#B0BEC5",
                "#B0BEC5",
                "#B0BEC5",
                "#B0BEC5"
               ]
              ]
             }
            ],
            "label": "Topic 6",
            "method": "update"
           },
           {
            "args": [
             {
              "marker.color": [
               [
                "#B0BEC5",
                "#B0BEC5",
                "#B0BEC5",
                "#B0BEC5",
                "#B0BEC5",
                "#B0BEC5",
                "#B0BEC5",
                "red",
                "#B0BEC5",
                "#B0BEC5",
                "#B0BEC5",
                "#B0BEC5",
                "#B0BEC5",
                "#B0BEC5",
                "#B0BEC5",
                "#B0BEC5",
                "#B0BEC5",
                "#B0BEC5",
                "#B0BEC5",
                "#B0BEC5",
                "#B0BEC5",
                "#B0BEC5",
                "#B0BEC5",
                "#B0BEC5",
                "#B0BEC5",
                "#B0BEC5",
                "#B0BEC5",
                "#B0BEC5",
                "#B0BEC5",
                "#B0BEC5",
                "#B0BEC5",
                "#B0BEC5",
                "#B0BEC5",
                "#B0BEC5",
                "#B0BEC5",
                "#B0BEC5",
                "#B0BEC5",
                "#B0BEC5",
                "#B0BEC5",
                "#B0BEC5",
                "#B0BEC5",
                "#B0BEC5",
                "#B0BEC5",
                "#B0BEC5",
                "#B0BEC5",
                "#B0BEC5",
                "#B0BEC5"
               ]
              ]
             }
            ],
            "label": "Topic 7",
            "method": "update"
           },
           {
            "args": [
             {
              "marker.color": [
               [
                "#B0BEC5",
                "#B0BEC5",
                "#B0BEC5",
                "#B0BEC5",
                "#B0BEC5",
                "#B0BEC5",
                "#B0BEC5",
                "#B0BEC5",
                "red",
                "#B0BEC5",
                "#B0BEC5",
                "#B0BEC5",
                "#B0BEC5",
                "#B0BEC5",
                "#B0BEC5",
                "#B0BEC5",
                "#B0BEC5",
                "#B0BEC5",
                "#B0BEC5",
                "#B0BEC5",
                "#B0BEC5",
                "#B0BEC5",
                "#B0BEC5",
                "#B0BEC5",
                "#B0BEC5",
                "#B0BEC5",
                "#B0BEC5",
                "#B0BEC5",
                "#B0BEC5",
                "#B0BEC5",
                "#B0BEC5",
                "#B0BEC5",
                "#B0BEC5",
                "#B0BEC5",
                "#B0BEC5",
                "#B0BEC5",
                "#B0BEC5",
                "#B0BEC5",
                "#B0BEC5",
                "#B0BEC5",
                "#B0BEC5",
                "#B0BEC5",
                "#B0BEC5",
                "#B0BEC5",
                "#B0BEC5",
                "#B0BEC5",
                "#B0BEC5"
               ]
              ]
             }
            ],
            "label": "Topic 8",
            "method": "update"
           },
           {
            "args": [
             {
              "marker.color": [
               [
                "#B0BEC5",
                "#B0BEC5",
                "#B0BEC5",
                "#B0BEC5",
                "#B0BEC5",
                "#B0BEC5",
                "#B0BEC5",
                "#B0BEC5",
                "#B0BEC5",
                "red",
                "#B0BEC5",
                "#B0BEC5",
                "#B0BEC5",
                "#B0BEC5",
                "#B0BEC5",
                "#B0BEC5",
                "#B0BEC5",
                "#B0BEC5",
                "#B0BEC5",
                "#B0BEC5",
                "#B0BEC5",
                "#B0BEC5",
                "#B0BEC5",
                "#B0BEC5",
                "#B0BEC5",
                "#B0BEC5",
                "#B0BEC5",
                "#B0BEC5",
                "#B0BEC5",
                "#B0BEC5",
                "#B0BEC5",
                "#B0BEC5",
                "#B0BEC5",
                "#B0BEC5",
                "#B0BEC5",
                "#B0BEC5",
                "#B0BEC5",
                "#B0BEC5",
                "#B0BEC5",
                "#B0BEC5",
                "#B0BEC5",
                "#B0BEC5",
                "#B0BEC5",
                "#B0BEC5",
                "#B0BEC5",
                "#B0BEC5",
                "#B0BEC5"
               ]
              ]
             }
            ],
            "label": "Topic 9",
            "method": "update"
           },
           {
            "args": [
             {
              "marker.color": [
               [
                "#B0BEC5",
                "#B0BEC5",
                "#B0BEC5",
                "#B0BEC5",
                "#B0BEC5",
                "#B0BEC5",
                "#B0BEC5",
                "#B0BEC5",
                "#B0BEC5",
                "#B0BEC5",
                "red",
                "#B0BEC5",
                "#B0BEC5",
                "#B0BEC5",
                "#B0BEC5",
                "#B0BEC5",
                "#B0BEC5",
                "#B0BEC5",
                "#B0BEC5",
                "#B0BEC5",
                "#B0BEC5",
                "#B0BEC5",
                "#B0BEC5",
                "#B0BEC5",
                "#B0BEC5",
                "#B0BEC5",
                "#B0BEC5",
                "#B0BEC5",
                "#B0BEC5",
                "#B0BEC5",
                "#B0BEC5",
                "#B0BEC5",
                "#B0BEC5",
                "#B0BEC5",
                "#B0BEC5",
                "#B0BEC5",
                "#B0BEC5",
                "#B0BEC5",
                "#B0BEC5",
                "#B0BEC5",
                "#B0BEC5",
                "#B0BEC5",
                "#B0BEC5",
                "#B0BEC5",
                "#B0BEC5",
                "#B0BEC5",
                "#B0BEC5"
               ]
              ]
             }
            ],
            "label": "Topic 10",
            "method": "update"
           },
           {
            "args": [
             {
              "marker.color": [
               [
                "#B0BEC5",
                "#B0BEC5",
                "#B0BEC5",
                "#B0BEC5",
                "#B0BEC5",
                "#B0BEC5",
                "#B0BEC5",
                "#B0BEC5",
                "#B0BEC5",
                "#B0BEC5",
                "#B0BEC5",
                "red",
                "#B0BEC5",
                "#B0BEC5",
                "#B0BEC5",
                "#B0BEC5",
                "#B0BEC5",
                "#B0BEC5",
                "#B0BEC5",
                "#B0BEC5",
                "#B0BEC5",
                "#B0BEC5",
                "#B0BEC5",
                "#B0BEC5",
                "#B0BEC5",
                "#B0BEC5",
                "#B0BEC5",
                "#B0BEC5",
                "#B0BEC5",
                "#B0BEC5",
                "#B0BEC5",
                "#B0BEC5",
                "#B0BEC5",
                "#B0BEC5",
                "#B0BEC5",
                "#B0BEC5",
                "#B0BEC5",
                "#B0BEC5",
                "#B0BEC5",
                "#B0BEC5",
                "#B0BEC5",
                "#B0BEC5",
                "#B0BEC5",
                "#B0BEC5",
                "#B0BEC5",
                "#B0BEC5",
                "#B0BEC5"
               ]
              ]
             }
            ],
            "label": "Topic 11",
            "method": "update"
           },
           {
            "args": [
             {
              "marker.color": [
               [
                "#B0BEC5",
                "#B0BEC5",
                "#B0BEC5",
                "#B0BEC5",
                "#B0BEC5",
                "#B0BEC5",
                "#B0BEC5",
                "#B0BEC5",
                "#B0BEC5",
                "#B0BEC5",
                "#B0BEC5",
                "#B0BEC5",
                "red",
                "#B0BEC5",
                "#B0BEC5",
                "#B0BEC5",
                "#B0BEC5",
                "#B0BEC5",
                "#B0BEC5",
                "#B0BEC5",
                "#B0BEC5",
                "#B0BEC5",
                "#B0BEC5",
                "#B0BEC5",
                "#B0BEC5",
                "#B0BEC5",
                "#B0BEC5",
                "#B0BEC5",
                "#B0BEC5",
                "#B0BEC5",
                "#B0BEC5",
                "#B0BEC5",
                "#B0BEC5",
                "#B0BEC5",
                "#B0BEC5",
                "#B0BEC5",
                "#B0BEC5",
                "#B0BEC5",
                "#B0BEC5",
                "#B0BEC5",
                "#B0BEC5",
                "#B0BEC5",
                "#B0BEC5",
                "#B0BEC5",
                "#B0BEC5",
                "#B0BEC5",
                "#B0BEC5"
               ]
              ]
             }
            ],
            "label": "Topic 12",
            "method": "update"
           },
           {
            "args": [
             {
              "marker.color": [
               [
                "#B0BEC5",
                "#B0BEC5",
                "#B0BEC5",
                "#B0BEC5",
                "#B0BEC5",
                "#B0BEC5",
                "#B0BEC5",
                "#B0BEC5",
                "#B0BEC5",
                "#B0BEC5",
                "#B0BEC5",
                "#B0BEC5",
                "#B0BEC5",
                "red",
                "#B0BEC5",
                "#B0BEC5",
                "#B0BEC5",
                "#B0BEC5",
                "#B0BEC5",
                "#B0BEC5",
                "#B0BEC5",
                "#B0BEC5",
                "#B0BEC5",
                "#B0BEC5",
                "#B0BEC5",
                "#B0BEC5",
                "#B0BEC5",
                "#B0BEC5",
                "#B0BEC5",
                "#B0BEC5",
                "#B0BEC5",
                "#B0BEC5",
                "#B0BEC5",
                "#B0BEC5",
                "#B0BEC5",
                "#B0BEC5",
                "#B0BEC5",
                "#B0BEC5",
                "#B0BEC5",
                "#B0BEC5",
                "#B0BEC5",
                "#B0BEC5",
                "#B0BEC5",
                "#B0BEC5",
                "#B0BEC5",
                "#B0BEC5",
                "#B0BEC5"
               ]
              ]
             }
            ],
            "label": "Topic 13",
            "method": "update"
           },
           {
            "args": [
             {
              "marker.color": [
               [
                "#B0BEC5",
                "#B0BEC5",
                "#B0BEC5",
                "#B0BEC5",
                "#B0BEC5",
                "#B0BEC5",
                "#B0BEC5",
                "#B0BEC5",
                "#B0BEC5",
                "#B0BEC5",
                "#B0BEC5",
                "#B0BEC5",
                "#B0BEC5",
                "#B0BEC5",
                "red",
                "#B0BEC5",
                "#B0BEC5",
                "#B0BEC5",
                "#B0BEC5",
                "#B0BEC5",
                "#B0BEC5",
                "#B0BEC5",
                "#B0BEC5",
                "#B0BEC5",
                "#B0BEC5",
                "#B0BEC5",
                "#B0BEC5",
                "#B0BEC5",
                "#B0BEC5",
                "#B0BEC5",
                "#B0BEC5",
                "#B0BEC5",
                "#B0BEC5",
                "#B0BEC5",
                "#B0BEC5",
                "#B0BEC5",
                "#B0BEC5",
                "#B0BEC5",
                "#B0BEC5",
                "#B0BEC5",
                "#B0BEC5",
                "#B0BEC5",
                "#B0BEC5",
                "#B0BEC5",
                "#B0BEC5",
                "#B0BEC5",
                "#B0BEC5"
               ]
              ]
             }
            ],
            "label": "Topic 14",
            "method": "update"
           },
           {
            "args": [
             {
              "marker.color": [
               [
                "#B0BEC5",
                "#B0BEC5",
                "#B0BEC5",
                "#B0BEC5",
                "#B0BEC5",
                "#B0BEC5",
                "#B0BEC5",
                "#B0BEC5",
                "#B0BEC5",
                "#B0BEC5",
                "#B0BEC5",
                "#B0BEC5",
                "#B0BEC5",
                "#B0BEC5",
                "#B0BEC5",
                "red",
                "#B0BEC5",
                "#B0BEC5",
                "#B0BEC5",
                "#B0BEC5",
                "#B0BEC5",
                "#B0BEC5",
                "#B0BEC5",
                "#B0BEC5",
                "#B0BEC5",
                "#B0BEC5",
                "#B0BEC5",
                "#B0BEC5",
                "#B0BEC5",
                "#B0BEC5",
                "#B0BEC5",
                "#B0BEC5",
                "#B0BEC5",
                "#B0BEC5",
                "#B0BEC5",
                "#B0BEC5",
                "#B0BEC5",
                "#B0BEC5",
                "#B0BEC5",
                "#B0BEC5",
                "#B0BEC5",
                "#B0BEC5",
                "#B0BEC5",
                "#B0BEC5",
                "#B0BEC5",
                "#B0BEC5",
                "#B0BEC5"
               ]
              ]
             }
            ],
            "label": "Topic 15",
            "method": "update"
           },
           {
            "args": [
             {
              "marker.color": [
               [
                "#B0BEC5",
                "#B0BEC5",
                "#B0BEC5",
                "#B0BEC5",
                "#B0BEC5",
                "#B0BEC5",
                "#B0BEC5",
                "#B0BEC5",
                "#B0BEC5",
                "#B0BEC5",
                "#B0BEC5",
                "#B0BEC5",
                "#B0BEC5",
                "#B0BEC5",
                "#B0BEC5",
                "#B0BEC5",
                "red",
                "#B0BEC5",
                "#B0BEC5",
                "#B0BEC5",
                "#B0BEC5",
                "#B0BEC5",
                "#B0BEC5",
                "#B0BEC5",
                "#B0BEC5",
                "#B0BEC5",
                "#B0BEC5",
                "#B0BEC5",
                "#B0BEC5",
                "#B0BEC5",
                "#B0BEC5",
                "#B0BEC5",
                "#B0BEC5",
                "#B0BEC5",
                "#B0BEC5",
                "#B0BEC5",
                "#B0BEC5",
                "#B0BEC5",
                "#B0BEC5",
                "#B0BEC5",
                "#B0BEC5",
                "#B0BEC5",
                "#B0BEC5",
                "#B0BEC5",
                "#B0BEC5",
                "#B0BEC5",
                "#B0BEC5"
               ]
              ]
             }
            ],
            "label": "Topic 16",
            "method": "update"
           },
           {
            "args": [
             {
              "marker.color": [
               [
                "#B0BEC5",
                "#B0BEC5",
                "#B0BEC5",
                "#B0BEC5",
                "#B0BEC5",
                "#B0BEC5",
                "#B0BEC5",
                "#B0BEC5",
                "#B0BEC5",
                "#B0BEC5",
                "#B0BEC5",
                "#B0BEC5",
                "#B0BEC5",
                "#B0BEC5",
                "#B0BEC5",
                "#B0BEC5",
                "#B0BEC5",
                "red",
                "#B0BEC5",
                "#B0BEC5",
                "#B0BEC5",
                "#B0BEC5",
                "#B0BEC5",
                "#B0BEC5",
                "#B0BEC5",
                "#B0BEC5",
                "#B0BEC5",
                "#B0BEC5",
                "#B0BEC5",
                "#B0BEC5",
                "#B0BEC5",
                "#B0BEC5",
                "#B0BEC5",
                "#B0BEC5",
                "#B0BEC5",
                "#B0BEC5",
                "#B0BEC5",
                "#B0BEC5",
                "#B0BEC5",
                "#B0BEC5",
                "#B0BEC5",
                "#B0BEC5",
                "#B0BEC5",
                "#B0BEC5",
                "#B0BEC5",
                "#B0BEC5",
                "#B0BEC5"
               ]
              ]
             }
            ],
            "label": "Topic 17",
            "method": "update"
           },
           {
            "args": [
             {
              "marker.color": [
               [
                "#B0BEC5",
                "#B0BEC5",
                "#B0BEC5",
                "#B0BEC5",
                "#B0BEC5",
                "#B0BEC5",
                "#B0BEC5",
                "#B0BEC5",
                "#B0BEC5",
                "#B0BEC5",
                "#B0BEC5",
                "#B0BEC5",
                "#B0BEC5",
                "#B0BEC5",
                "#B0BEC5",
                "#B0BEC5",
                "#B0BEC5",
                "#B0BEC5",
                "red",
                "#B0BEC5",
                "#B0BEC5",
                "#B0BEC5",
                "#B0BEC5",
                "#B0BEC5",
                "#B0BEC5",
                "#B0BEC5",
                "#B0BEC5",
                "#B0BEC5",
                "#B0BEC5",
                "#B0BEC5",
                "#B0BEC5",
                "#B0BEC5",
                "#B0BEC5",
                "#B0BEC5",
                "#B0BEC5",
                "#B0BEC5",
                "#B0BEC5",
                "#B0BEC5",
                "#B0BEC5",
                "#B0BEC5",
                "#B0BEC5",
                "#B0BEC5",
                "#B0BEC5",
                "#B0BEC5",
                "#B0BEC5",
                "#B0BEC5",
                "#B0BEC5"
               ]
              ]
             }
            ],
            "label": "Topic 18",
            "method": "update"
           },
           {
            "args": [
             {
              "marker.color": [
               [
                "#B0BEC5",
                "#B0BEC5",
                "#B0BEC5",
                "#B0BEC5",
                "#B0BEC5",
                "#B0BEC5",
                "#B0BEC5",
                "#B0BEC5",
                "#B0BEC5",
                "#B0BEC5",
                "#B0BEC5",
                "#B0BEC5",
                "#B0BEC5",
                "#B0BEC5",
                "#B0BEC5",
                "#B0BEC5",
                "#B0BEC5",
                "#B0BEC5",
                "#B0BEC5",
                "red",
                "#B0BEC5",
                "#B0BEC5",
                "#B0BEC5",
                "#B0BEC5",
                "#B0BEC5",
                "#B0BEC5",
                "#B0BEC5",
                "#B0BEC5",
                "#B0BEC5",
                "#B0BEC5",
                "#B0BEC5",
                "#B0BEC5",
                "#B0BEC5",
                "#B0BEC5",
                "#B0BEC5",
                "#B0BEC5",
                "#B0BEC5",
                "#B0BEC5",
                "#B0BEC5",
                "#B0BEC5",
                "#B0BEC5",
                "#B0BEC5",
                "#B0BEC5",
                "#B0BEC5",
                "#B0BEC5",
                "#B0BEC5",
                "#B0BEC5"
               ]
              ]
             }
            ],
            "label": "Topic 19",
            "method": "update"
           },
           {
            "args": [
             {
              "marker.color": [
               [
                "#B0BEC5",
                "#B0BEC5",
                "#B0BEC5",
                "#B0BEC5",
                "#B0BEC5",
                "#B0BEC5",
                "#B0BEC5",
                "#B0BEC5",
                "#B0BEC5",
                "#B0BEC5",
                "#B0BEC5",
                "#B0BEC5",
                "#B0BEC5",
                "#B0BEC5",
                "#B0BEC5",
                "#B0BEC5",
                "#B0BEC5",
                "#B0BEC5",
                "#B0BEC5",
                "#B0BEC5",
                "red",
                "#B0BEC5",
                "#B0BEC5",
                "#B0BEC5",
                "#B0BEC5",
                "#B0BEC5",
                "#B0BEC5",
                "#B0BEC5",
                "#B0BEC5",
                "#B0BEC5",
                "#B0BEC5",
                "#B0BEC5",
                "#B0BEC5",
                "#B0BEC5",
                "#B0BEC5",
                "#B0BEC5",
                "#B0BEC5",
                "#B0BEC5",
                "#B0BEC5",
                "#B0BEC5",
                "#B0BEC5",
                "#B0BEC5",
                "#B0BEC5",
                "#B0BEC5",
                "#B0BEC5",
                "#B0BEC5",
                "#B0BEC5"
               ]
              ]
             }
            ],
            "label": "Topic 20",
            "method": "update"
           },
           {
            "args": [
             {
              "marker.color": [
               [
                "#B0BEC5",
                "#B0BEC5",
                "#B0BEC5",
                "#B0BEC5",
                "#B0BEC5",
                "#B0BEC5",
                "#B0BEC5",
                "#B0BEC5",
                "#B0BEC5",
                "#B0BEC5",
                "#B0BEC5",
                "#B0BEC5",
                "#B0BEC5",
                "#B0BEC5",
                "#B0BEC5",
                "#B0BEC5",
                "#B0BEC5",
                "#B0BEC5",
                "#B0BEC5",
                "#B0BEC5",
                "#B0BEC5",
                "red",
                "#B0BEC5",
                "#B0BEC5",
                "#B0BEC5",
                "#B0BEC5",
                "#B0BEC5",
                "#B0BEC5",
                "#B0BEC5",
                "#B0BEC5",
                "#B0BEC5",
                "#B0BEC5",
                "#B0BEC5",
                "#B0BEC5",
                "#B0BEC5",
                "#B0BEC5",
                "#B0BEC5",
                "#B0BEC5",
                "#B0BEC5",
                "#B0BEC5",
                "#B0BEC5",
                "#B0BEC5",
                "#B0BEC5",
                "#B0BEC5",
                "#B0BEC5",
                "#B0BEC5",
                "#B0BEC5"
               ]
              ]
             }
            ],
            "label": "Topic 21",
            "method": "update"
           },
           {
            "args": [
             {
              "marker.color": [
               [
                "#B0BEC5",
                "#B0BEC5",
                "#B0BEC5",
                "#B0BEC5",
                "#B0BEC5",
                "#B0BEC5",
                "#B0BEC5",
                "#B0BEC5",
                "#B0BEC5",
                "#B0BEC5",
                "#B0BEC5",
                "#B0BEC5",
                "#B0BEC5",
                "#B0BEC5",
                "#B0BEC5",
                "#B0BEC5",
                "#B0BEC5",
                "#B0BEC5",
                "#B0BEC5",
                "#B0BEC5",
                "#B0BEC5",
                "#B0BEC5",
                "red",
                "#B0BEC5",
                "#B0BEC5",
                "#B0BEC5",
                "#B0BEC5",
                "#B0BEC5",
                "#B0BEC5",
                "#B0BEC5",
                "#B0BEC5",
                "#B0BEC5",
                "#B0BEC5",
                "#B0BEC5",
                "#B0BEC5",
                "#B0BEC5",
                "#B0BEC5",
                "#B0BEC5",
                "#B0BEC5",
                "#B0BEC5",
                "#B0BEC5",
                "#B0BEC5",
                "#B0BEC5",
                "#B0BEC5",
                "#B0BEC5",
                "#B0BEC5",
                "#B0BEC5"
               ]
              ]
             }
            ],
            "label": "Topic 22",
            "method": "update"
           },
           {
            "args": [
             {
              "marker.color": [
               [
                "#B0BEC5",
                "#B0BEC5",
                "#B0BEC5",
                "#B0BEC5",
                "#B0BEC5",
                "#B0BEC5",
                "#B0BEC5",
                "#B0BEC5",
                "#B0BEC5",
                "#B0BEC5",
                "#B0BEC5",
                "#B0BEC5",
                "#B0BEC5",
                "#B0BEC5",
                "#B0BEC5",
                "#B0BEC5",
                "#B0BEC5",
                "#B0BEC5",
                "#B0BEC5",
                "#B0BEC5",
                "#B0BEC5",
                "#B0BEC5",
                "#B0BEC5",
                "red",
                "#B0BEC5",
                "#B0BEC5",
                "#B0BEC5",
                "#B0BEC5",
                "#B0BEC5",
                "#B0BEC5",
                "#B0BEC5",
                "#B0BEC5",
                "#B0BEC5",
                "#B0BEC5",
                "#B0BEC5",
                "#B0BEC5",
                "#B0BEC5",
                "#B0BEC5",
                "#B0BEC5",
                "#B0BEC5",
                "#B0BEC5",
                "#B0BEC5",
                "#B0BEC5",
                "#B0BEC5",
                "#B0BEC5",
                "#B0BEC5",
                "#B0BEC5"
               ]
              ]
             }
            ],
            "label": "Topic 23",
            "method": "update"
           },
           {
            "args": [
             {
              "marker.color": [
               [
                "#B0BEC5",
                "#B0BEC5",
                "#B0BEC5",
                "#B0BEC5",
                "#B0BEC5",
                "#B0BEC5",
                "#B0BEC5",
                "#B0BEC5",
                "#B0BEC5",
                "#B0BEC5",
                "#B0BEC5",
                "#B0BEC5",
                "#B0BEC5",
                "#B0BEC5",
                "#B0BEC5",
                "#B0BEC5",
                "#B0BEC5",
                "#B0BEC5",
                "#B0BEC5",
                "#B0BEC5",
                "#B0BEC5",
                "#B0BEC5",
                "#B0BEC5",
                "#B0BEC5",
                "red",
                "#B0BEC5",
                "#B0BEC5",
                "#B0BEC5",
                "#B0BEC5",
                "#B0BEC5",
                "#B0BEC5",
                "#B0BEC5",
                "#B0BEC5",
                "#B0BEC5",
                "#B0BEC5",
                "#B0BEC5",
                "#B0BEC5",
                "#B0BEC5",
                "#B0BEC5",
                "#B0BEC5",
                "#B0BEC5",
                "#B0BEC5",
                "#B0BEC5",
                "#B0BEC5",
                "#B0BEC5",
                "#B0BEC5",
                "#B0BEC5"
               ]
              ]
             }
            ],
            "label": "Topic 24",
            "method": "update"
           },
           {
            "args": [
             {
              "marker.color": [
               [
                "#B0BEC5",
                "#B0BEC5",
                "#B0BEC5",
                "#B0BEC5",
                "#B0BEC5",
                "#B0BEC5",
                "#B0BEC5",
                "#B0BEC5",
                "#B0BEC5",
                "#B0BEC5",
                "#B0BEC5",
                "#B0BEC5",
                "#B0BEC5",
                "#B0BEC5",
                "#B0BEC5",
                "#B0BEC5",
                "#B0BEC5",
                "#B0BEC5",
                "#B0BEC5",
                "#B0BEC5",
                "#B0BEC5",
                "#B0BEC5",
                "#B0BEC5",
                "#B0BEC5",
                "#B0BEC5",
                "red",
                "#B0BEC5",
                "#B0BEC5",
                "#B0BEC5",
                "#B0BEC5",
                "#B0BEC5",
                "#B0BEC5",
                "#B0BEC5",
                "#B0BEC5",
                "#B0BEC5",
                "#B0BEC5",
                "#B0BEC5",
                "#B0BEC5",
                "#B0BEC5",
                "#B0BEC5",
                "#B0BEC5",
                "#B0BEC5",
                "#B0BEC5",
                "#B0BEC5",
                "#B0BEC5",
                "#B0BEC5",
                "#B0BEC5"
               ]
              ]
             }
            ],
            "label": "Topic 25",
            "method": "update"
           },
           {
            "args": [
             {
              "marker.color": [
               [
                "#B0BEC5",
                "#B0BEC5",
                "#B0BEC5",
                "#B0BEC5",
                "#B0BEC5",
                "#B0BEC5",
                "#B0BEC5",
                "#B0BEC5",
                "#B0BEC5",
                "#B0BEC5",
                "#B0BEC5",
                "#B0BEC5",
                "#B0BEC5",
                "#B0BEC5",
                "#B0BEC5",
                "#B0BEC5",
                "#B0BEC5",
                "#B0BEC5",
                "#B0BEC5",
                "#B0BEC5",
                "#B0BEC5",
                "#B0BEC5",
                "#B0BEC5",
                "#B0BEC5",
                "#B0BEC5",
                "#B0BEC5",
                "red",
                "#B0BEC5",
                "#B0BEC5",
                "#B0BEC5",
                "#B0BEC5",
                "#B0BEC5",
                "#B0BEC5",
                "#B0BEC5",
                "#B0BEC5",
                "#B0BEC5",
                "#B0BEC5",
                "#B0BEC5",
                "#B0BEC5",
                "#B0BEC5",
                "#B0BEC5",
                "#B0BEC5",
                "#B0BEC5",
                "#B0BEC5",
                "#B0BEC5",
                "#B0BEC5",
                "#B0BEC5"
               ]
              ]
             }
            ],
            "label": "Topic 26",
            "method": "update"
           },
           {
            "args": [
             {
              "marker.color": [
               [
                "#B0BEC5",
                "#B0BEC5",
                "#B0BEC5",
                "#B0BEC5",
                "#B0BEC5",
                "#B0BEC5",
                "#B0BEC5",
                "#B0BEC5",
                "#B0BEC5",
                "#B0BEC5",
                "#B0BEC5",
                "#B0BEC5",
                "#B0BEC5",
                "#B0BEC5",
                "#B0BEC5",
                "#B0BEC5",
                "#B0BEC5",
                "#B0BEC5",
                "#B0BEC5",
                "#B0BEC5",
                "#B0BEC5",
                "#B0BEC5",
                "#B0BEC5",
                "#B0BEC5",
                "#B0BEC5",
                "#B0BEC5",
                "#B0BEC5",
                "red",
                "#B0BEC5",
                "#B0BEC5",
                "#B0BEC5",
                "#B0BEC5",
                "#B0BEC5",
                "#B0BEC5",
                "#B0BEC5",
                "#B0BEC5",
                "#B0BEC5",
                "#B0BEC5",
                "#B0BEC5",
                "#B0BEC5",
                "#B0BEC5",
                "#B0BEC5",
                "#B0BEC5",
                "#B0BEC5",
                "#B0BEC5",
                "#B0BEC5",
                "#B0BEC5"
               ]
              ]
             }
            ],
            "label": "Topic 27",
            "method": "update"
           },
           {
            "args": [
             {
              "marker.color": [
               [
                "#B0BEC5",
                "#B0BEC5",
                "#B0BEC5",
                "#B0BEC5",
                "#B0BEC5",
                "#B0BEC5",
                "#B0BEC5",
                "#B0BEC5",
                "#B0BEC5",
                "#B0BEC5",
                "#B0BEC5",
                "#B0BEC5",
                "#B0BEC5",
                "#B0BEC5",
                "#B0BEC5",
                "#B0BEC5",
                "#B0BEC5",
                "#B0BEC5",
                "#B0BEC5",
                "#B0BEC5",
                "#B0BEC5",
                "#B0BEC5",
                "#B0BEC5",
                "#B0BEC5",
                "#B0BEC5",
                "#B0BEC5",
                "#B0BEC5",
                "#B0BEC5",
                "red",
                "#B0BEC5",
                "#B0BEC5",
                "#B0BEC5",
                "#B0BEC5",
                "#B0BEC5",
                "#B0BEC5",
                "#B0BEC5",
                "#B0BEC5",
                "#B0BEC5",
                "#B0BEC5",
                "#B0BEC5",
                "#B0BEC5",
                "#B0BEC5",
                "#B0BEC5",
                "#B0BEC5",
                "#B0BEC5",
                "#B0BEC5",
                "#B0BEC5"
               ]
              ]
             }
            ],
            "label": "Topic 28",
            "method": "update"
           },
           {
            "args": [
             {
              "marker.color": [
               [
                "#B0BEC5",
                "#B0BEC5",
                "#B0BEC5",
                "#B0BEC5",
                "#B0BEC5",
                "#B0BEC5",
                "#B0BEC5",
                "#B0BEC5",
                "#B0BEC5",
                "#B0BEC5",
                "#B0BEC5",
                "#B0BEC5",
                "#B0BEC5",
                "#B0BEC5",
                "#B0BEC5",
                "#B0BEC5",
                "#B0BEC5",
                "#B0BEC5",
                "#B0BEC5",
                "#B0BEC5",
                "#B0BEC5",
                "#B0BEC5",
                "#B0BEC5",
                "#B0BEC5",
                "#B0BEC5",
                "#B0BEC5",
                "#B0BEC5",
                "#B0BEC5",
                "#B0BEC5",
                "red",
                "#B0BEC5",
                "#B0BEC5",
                "#B0BEC5",
                "#B0BEC5",
                "#B0BEC5",
                "#B0BEC5",
                "#B0BEC5",
                "#B0BEC5",
                "#B0BEC5",
                "#B0BEC5",
                "#B0BEC5",
                "#B0BEC5",
                "#B0BEC5",
                "#B0BEC5",
                "#B0BEC5",
                "#B0BEC5",
                "#B0BEC5"
               ]
              ]
             }
            ],
            "label": "Topic 29",
            "method": "update"
           },
           {
            "args": [
             {
              "marker.color": [
               [
                "#B0BEC5",
                "#B0BEC5",
                "#B0BEC5",
                "#B0BEC5",
                "#B0BEC5",
                "#B0BEC5",
                "#B0BEC5",
                "#B0BEC5",
                "#B0BEC5",
                "#B0BEC5",
                "#B0BEC5",
                "#B0BEC5",
                "#B0BEC5",
                "#B0BEC5",
                "#B0BEC5",
                "#B0BEC5",
                "#B0BEC5",
                "#B0BEC5",
                "#B0BEC5",
                "#B0BEC5",
                "#B0BEC5",
                "#B0BEC5",
                "#B0BEC5",
                "#B0BEC5",
                "#B0BEC5",
                "#B0BEC5",
                "#B0BEC5",
                "#B0BEC5",
                "#B0BEC5",
                "#B0BEC5",
                "red",
                "#B0BEC5",
                "#B0BEC5",
                "#B0BEC5",
                "#B0BEC5",
                "#B0BEC5",
                "#B0BEC5",
                "#B0BEC5",
                "#B0BEC5",
                "#B0BEC5",
                "#B0BEC5",
                "#B0BEC5",
                "#B0BEC5",
                "#B0BEC5",
                "#B0BEC5",
                "#B0BEC5",
                "#B0BEC5"
               ]
              ]
             }
            ],
            "label": "Topic 30",
            "method": "update"
           },
           {
            "args": [
             {
              "marker.color": [
               [
                "#B0BEC5",
                "#B0BEC5",
                "#B0BEC5",
                "#B0BEC5",
                "#B0BEC5",
                "#B0BEC5",
                "#B0BEC5",
                "#B0BEC5",
                "#B0BEC5",
                "#B0BEC5",
                "#B0BEC5",
                "#B0BEC5",
                "#B0BEC5",
                "#B0BEC5",
                "#B0BEC5",
                "#B0BEC5",
                "#B0BEC5",
                "#B0BEC5",
                "#B0BEC5",
                "#B0BEC5",
                "#B0BEC5",
                "#B0BEC5",
                "#B0BEC5",
                "#B0BEC5",
                "#B0BEC5",
                "#B0BEC5",
                "#B0BEC5",
                "#B0BEC5",
                "#B0BEC5",
                "#B0BEC5",
                "#B0BEC5",
                "red",
                "#B0BEC5",
                "#B0BEC5",
                "#B0BEC5",
                "#B0BEC5",
                "#B0BEC5",
                "#B0BEC5",
                "#B0BEC5",
                "#B0BEC5",
                "#B0BEC5",
                "#B0BEC5",
                "#B0BEC5",
                "#B0BEC5",
                "#B0BEC5",
                "#B0BEC5",
                "#B0BEC5"
               ]
              ]
             }
            ],
            "label": "Topic 31",
            "method": "update"
           },
           {
            "args": [
             {
              "marker.color": [
               [
                "#B0BEC5",
                "#B0BEC5",
                "#B0BEC5",
                "#B0BEC5",
                "#B0BEC5",
                "#B0BEC5",
                "#B0BEC5",
                "#B0BEC5",
                "#B0BEC5",
                "#B0BEC5",
                "#B0BEC5",
                "#B0BEC5",
                "#B0BEC5",
                "#B0BEC5",
                "#B0BEC5",
                "#B0BEC5",
                "#B0BEC5",
                "#B0BEC5",
                "#B0BEC5",
                "#B0BEC5",
                "#B0BEC5",
                "#B0BEC5",
                "#B0BEC5",
                "#B0BEC5",
                "#B0BEC5",
                "#B0BEC5",
                "#B0BEC5",
                "#B0BEC5",
                "#B0BEC5",
                "#B0BEC5",
                "#B0BEC5",
                "#B0BEC5",
                "red",
                "#B0BEC5",
                "#B0BEC5",
                "#B0BEC5",
                "#B0BEC5",
                "#B0BEC5",
                "#B0BEC5",
                "#B0BEC5",
                "#B0BEC5",
                "#B0BEC5",
                "#B0BEC5",
                "#B0BEC5",
                "#B0BEC5",
                "#B0BEC5",
                "#B0BEC5"
               ]
              ]
             }
            ],
            "label": "Topic 32",
            "method": "update"
           },
           {
            "args": [
             {
              "marker.color": [
               [
                "#B0BEC5",
                "#B0BEC5",
                "#B0BEC5",
                "#B0BEC5",
                "#B0BEC5",
                "#B0BEC5",
                "#B0BEC5",
                "#B0BEC5",
                "#B0BEC5",
                "#B0BEC5",
                "#B0BEC5",
                "#B0BEC5",
                "#B0BEC5",
                "#B0BEC5",
                "#B0BEC5",
                "#B0BEC5",
                "#B0BEC5",
                "#B0BEC5",
                "#B0BEC5",
                "#B0BEC5",
                "#B0BEC5",
                "#B0BEC5",
                "#B0BEC5",
                "#B0BEC5",
                "#B0BEC5",
                "#B0BEC5",
                "#B0BEC5",
                "#B0BEC5",
                "#B0BEC5",
                "#B0BEC5",
                "#B0BEC5",
                "#B0BEC5",
                "#B0BEC5",
                "red",
                "#B0BEC5",
                "#B0BEC5",
                "#B0BEC5",
                "#B0BEC5",
                "#B0BEC5",
                "#B0BEC5",
                "#B0BEC5",
                "#B0BEC5",
                "#B0BEC5",
                "#B0BEC5",
                "#B0BEC5",
                "#B0BEC5",
                "#B0BEC5"
               ]
              ]
             }
            ],
            "label": "Topic 33",
            "method": "update"
           },
           {
            "args": [
             {
              "marker.color": [
               [
                "#B0BEC5",
                "#B0BEC5",
                "#B0BEC5",
                "#B0BEC5",
                "#B0BEC5",
                "#B0BEC5",
                "#B0BEC5",
                "#B0BEC5",
                "#B0BEC5",
                "#B0BEC5",
                "#B0BEC5",
                "#B0BEC5",
                "#B0BEC5",
                "#B0BEC5",
                "#B0BEC5",
                "#B0BEC5",
                "#B0BEC5",
                "#B0BEC5",
                "#B0BEC5",
                "#B0BEC5",
                "#B0BEC5",
                "#B0BEC5",
                "#B0BEC5",
                "#B0BEC5",
                "#B0BEC5",
                "#B0BEC5",
                "#B0BEC5",
                "#B0BEC5",
                "#B0BEC5",
                "#B0BEC5",
                "#B0BEC5",
                "#B0BEC5",
                "#B0BEC5",
                "#B0BEC5",
                "red",
                "#B0BEC5",
                "#B0BEC5",
                "#B0BEC5",
                "#B0BEC5",
                "#B0BEC5",
                "#B0BEC5",
                "#B0BEC5",
                "#B0BEC5",
                "#B0BEC5",
                "#B0BEC5",
                "#B0BEC5",
                "#B0BEC5"
               ]
              ]
             }
            ],
            "label": "Topic 34",
            "method": "update"
           },
           {
            "args": [
             {
              "marker.color": [
               [
                "#B0BEC5",
                "#B0BEC5",
                "#B0BEC5",
                "#B0BEC5",
                "#B0BEC5",
                "#B0BEC5",
                "#B0BEC5",
                "#B0BEC5",
                "#B0BEC5",
                "#B0BEC5",
                "#B0BEC5",
                "#B0BEC5",
                "#B0BEC5",
                "#B0BEC5",
                "#B0BEC5",
                "#B0BEC5",
                "#B0BEC5",
                "#B0BEC5",
                "#B0BEC5",
                "#B0BEC5",
                "#B0BEC5",
                "#B0BEC5",
                "#B0BEC5",
                "#B0BEC5",
                "#B0BEC5",
                "#B0BEC5",
                "#B0BEC5",
                "#B0BEC5",
                "#B0BEC5",
                "#B0BEC5",
                "#B0BEC5",
                "#B0BEC5",
                "#B0BEC5",
                "#B0BEC5",
                "#B0BEC5",
                "red",
                "#B0BEC5",
                "#B0BEC5",
                "#B0BEC5",
                "#B0BEC5",
                "#B0BEC5",
                "#B0BEC5",
                "#B0BEC5",
                "#B0BEC5",
                "#B0BEC5",
                "#B0BEC5",
                "#B0BEC5"
               ]
              ]
             }
            ],
            "label": "Topic 35",
            "method": "update"
           },
           {
            "args": [
             {
              "marker.color": [
               [
                "#B0BEC5",
                "#B0BEC5",
                "#B0BEC5",
                "#B0BEC5",
                "#B0BEC5",
                "#B0BEC5",
                "#B0BEC5",
                "#B0BEC5",
                "#B0BEC5",
                "#B0BEC5",
                "#B0BEC5",
                "#B0BEC5",
                "#B0BEC5",
                "#B0BEC5",
                "#B0BEC5",
                "#B0BEC5",
                "#B0BEC5",
                "#B0BEC5",
                "#B0BEC5",
                "#B0BEC5",
                "#B0BEC5",
                "#B0BEC5",
                "#B0BEC5",
                "#B0BEC5",
                "#B0BEC5",
                "#B0BEC5",
                "#B0BEC5",
                "#B0BEC5",
                "#B0BEC5",
                "#B0BEC5",
                "#B0BEC5",
                "#B0BEC5",
                "#B0BEC5",
                "#B0BEC5",
                "#B0BEC5",
                "#B0BEC5",
                "red",
                "#B0BEC5",
                "#B0BEC5",
                "#B0BEC5",
                "#B0BEC5",
                "#B0BEC5",
                "#B0BEC5",
                "#B0BEC5",
                "#B0BEC5",
                "#B0BEC5",
                "#B0BEC5"
               ]
              ]
             }
            ],
            "label": "Topic 36",
            "method": "update"
           },
           {
            "args": [
             {
              "marker.color": [
               [
                "#B0BEC5",
                "#B0BEC5",
                "#B0BEC5",
                "#B0BEC5",
                "#B0BEC5",
                "#B0BEC5",
                "#B0BEC5",
                "#B0BEC5",
                "#B0BEC5",
                "#B0BEC5",
                "#B0BEC5",
                "#B0BEC5",
                "#B0BEC5",
                "#B0BEC5",
                "#B0BEC5",
                "#B0BEC5",
                "#B0BEC5",
                "#B0BEC5",
                "#B0BEC5",
                "#B0BEC5",
                "#B0BEC5",
                "#B0BEC5",
                "#B0BEC5",
                "#B0BEC5",
                "#B0BEC5",
                "#B0BEC5",
                "#B0BEC5",
                "#B0BEC5",
                "#B0BEC5",
                "#B0BEC5",
                "#B0BEC5",
                "#B0BEC5",
                "#B0BEC5",
                "#B0BEC5",
                "#B0BEC5",
                "#B0BEC5",
                "#B0BEC5",
                "red",
                "#B0BEC5",
                "#B0BEC5",
                "#B0BEC5",
                "#B0BEC5",
                "#B0BEC5",
                "#B0BEC5",
                "#B0BEC5",
                "#B0BEC5",
                "#B0BEC5"
               ]
              ]
             }
            ],
            "label": "Topic 37",
            "method": "update"
           },
           {
            "args": [
             {
              "marker.color": [
               [
                "#B0BEC5",
                "#B0BEC5",
                "#B0BEC5",
                "#B0BEC5",
                "#B0BEC5",
                "#B0BEC5",
                "#B0BEC5",
                "#B0BEC5",
                "#B0BEC5",
                "#B0BEC5",
                "#B0BEC5",
                "#B0BEC5",
                "#B0BEC5",
                "#B0BEC5",
                "#B0BEC5",
                "#B0BEC5",
                "#B0BEC5",
                "#B0BEC5",
                "#B0BEC5",
                "#B0BEC5",
                "#B0BEC5",
                "#B0BEC5",
                "#B0BEC5",
                "#B0BEC5",
                "#B0BEC5",
                "#B0BEC5",
                "#B0BEC5",
                "#B0BEC5",
                "#B0BEC5",
                "#B0BEC5",
                "#B0BEC5",
                "#B0BEC5",
                "#B0BEC5",
                "#B0BEC5",
                "#B0BEC5",
                "#B0BEC5",
                "#B0BEC5",
                "#B0BEC5",
                "red",
                "#B0BEC5",
                "#B0BEC5",
                "#B0BEC5",
                "#B0BEC5",
                "#B0BEC5",
                "#B0BEC5",
                "#B0BEC5",
                "#B0BEC5"
               ]
              ]
             }
            ],
            "label": "Topic 38",
            "method": "update"
           },
           {
            "args": [
             {
              "marker.color": [
               [
                "#B0BEC5",
                "#B0BEC5",
                "#B0BEC5",
                "#B0BEC5",
                "#B0BEC5",
                "#B0BEC5",
                "#B0BEC5",
                "#B0BEC5",
                "#B0BEC5",
                "#B0BEC5",
                "#B0BEC5",
                "#B0BEC5",
                "#B0BEC5",
                "#B0BEC5",
                "#B0BEC5",
                "#B0BEC5",
                "#B0BEC5",
                "#B0BEC5",
                "#B0BEC5",
                "#B0BEC5",
                "#B0BEC5",
                "#B0BEC5",
                "#B0BEC5",
                "#B0BEC5",
                "#B0BEC5",
                "#B0BEC5",
                "#B0BEC5",
                "#B0BEC5",
                "#B0BEC5",
                "#B0BEC5",
                "#B0BEC5",
                "#B0BEC5",
                "#B0BEC5",
                "#B0BEC5",
                "#B0BEC5",
                "#B0BEC5",
                "#B0BEC5",
                "#B0BEC5",
                "#B0BEC5",
                "red",
                "#B0BEC5",
                "#B0BEC5",
                "#B0BEC5",
                "#B0BEC5",
                "#B0BEC5",
                "#B0BEC5",
                "#B0BEC5"
               ]
              ]
             }
            ],
            "label": "Topic 39",
            "method": "update"
           },
           {
            "args": [
             {
              "marker.color": [
               [
                "#B0BEC5",
                "#B0BEC5",
                "#B0BEC5",
                "#B0BEC5",
                "#B0BEC5",
                "#B0BEC5",
                "#B0BEC5",
                "#B0BEC5",
                "#B0BEC5",
                "#B0BEC5",
                "#B0BEC5",
                "#B0BEC5",
                "#B0BEC5",
                "#B0BEC5",
                "#B0BEC5",
                "#B0BEC5",
                "#B0BEC5",
                "#B0BEC5",
                "#B0BEC5",
                "#B0BEC5",
                "#B0BEC5",
                "#B0BEC5",
                "#B0BEC5",
                "#B0BEC5",
                "#B0BEC5",
                "#B0BEC5",
                "#B0BEC5",
                "#B0BEC5",
                "#B0BEC5",
                "#B0BEC5",
                "#B0BEC5",
                "#B0BEC5",
                "#B0BEC5",
                "#B0BEC5",
                "#B0BEC5",
                "#B0BEC5",
                "#B0BEC5",
                "#B0BEC5",
                "#B0BEC5",
                "#B0BEC5",
                "red",
                "#B0BEC5",
                "#B0BEC5",
                "#B0BEC5",
                "#B0BEC5",
                "#B0BEC5",
                "#B0BEC5"
               ]
              ]
             }
            ],
            "label": "Topic 40",
            "method": "update"
           },
           {
            "args": [
             {
              "marker.color": [
               [
                "#B0BEC5",
                "#B0BEC5",
                "#B0BEC5",
                "#B0BEC5",
                "#B0BEC5",
                "#B0BEC5",
                "#B0BEC5",
                "#B0BEC5",
                "#B0BEC5",
                "#B0BEC5",
                "#B0BEC5",
                "#B0BEC5",
                "#B0BEC5",
                "#B0BEC5",
                "#B0BEC5",
                "#B0BEC5",
                "#B0BEC5",
                "#B0BEC5",
                "#B0BEC5",
                "#B0BEC5",
                "#B0BEC5",
                "#B0BEC5",
                "#B0BEC5",
                "#B0BEC5",
                "#B0BEC5",
                "#B0BEC5",
                "#B0BEC5",
                "#B0BEC5",
                "#B0BEC5",
                "#B0BEC5",
                "#B0BEC5",
                "#B0BEC5",
                "#B0BEC5",
                "#B0BEC5",
                "#B0BEC5",
                "#B0BEC5",
                "#B0BEC5",
                "#B0BEC5",
                "#B0BEC5",
                "#B0BEC5",
                "#B0BEC5",
                "red",
                "#B0BEC5",
                "#B0BEC5",
                "#B0BEC5",
                "#B0BEC5",
                "#B0BEC5"
               ]
              ]
             }
            ],
            "label": "Topic 41",
            "method": "update"
           },
           {
            "args": [
             {
              "marker.color": [
               [
                "#B0BEC5",
                "#B0BEC5",
                "#B0BEC5",
                "#B0BEC5",
                "#B0BEC5",
                "#B0BEC5",
                "#B0BEC5",
                "#B0BEC5",
                "#B0BEC5",
                "#B0BEC5",
                "#B0BEC5",
                "#B0BEC5",
                "#B0BEC5",
                "#B0BEC5",
                "#B0BEC5",
                "#B0BEC5",
                "#B0BEC5",
                "#B0BEC5",
                "#B0BEC5",
                "#B0BEC5",
                "#B0BEC5",
                "#B0BEC5",
                "#B0BEC5",
                "#B0BEC5",
                "#B0BEC5",
                "#B0BEC5",
                "#B0BEC5",
                "#B0BEC5",
                "#B0BEC5",
                "#B0BEC5",
                "#B0BEC5",
                "#B0BEC5",
                "#B0BEC5",
                "#B0BEC5",
                "#B0BEC5",
                "#B0BEC5",
                "#B0BEC5",
                "#B0BEC5",
                "#B0BEC5",
                "#B0BEC5",
                "#B0BEC5",
                "#B0BEC5",
                "red",
                "#B0BEC5",
                "#B0BEC5",
                "#B0BEC5",
                "#B0BEC5"
               ]
              ]
             }
            ],
            "label": "Topic 42",
            "method": "update"
           },
           {
            "args": [
             {
              "marker.color": [
               [
                "#B0BEC5",
                "#B0BEC5",
                "#B0BEC5",
                "#B0BEC5",
                "#B0BEC5",
                "#B0BEC5",
                "#B0BEC5",
                "#B0BEC5",
                "#B0BEC5",
                "#B0BEC5",
                "#B0BEC5",
                "#B0BEC5",
                "#B0BEC5",
                "#B0BEC5",
                "#B0BEC5",
                "#B0BEC5",
                "#B0BEC5",
                "#B0BEC5",
                "#B0BEC5",
                "#B0BEC5",
                "#B0BEC5",
                "#B0BEC5",
                "#B0BEC5",
                "#B0BEC5",
                "#B0BEC5",
                "#B0BEC5",
                "#B0BEC5",
                "#B0BEC5",
                "#B0BEC5",
                "#B0BEC5",
                "#B0BEC5",
                "#B0BEC5",
                "#B0BEC5",
                "#B0BEC5",
                "#B0BEC5",
                "#B0BEC5",
                "#B0BEC5",
                "#B0BEC5",
                "#B0BEC5",
                "#B0BEC5",
                "#B0BEC5",
                "#B0BEC5",
                "#B0BEC5",
                "red",
                "#B0BEC5",
                "#B0BEC5",
                "#B0BEC5"
               ]
              ]
             }
            ],
            "label": "Topic 43",
            "method": "update"
           },
           {
            "args": [
             {
              "marker.color": [
               [
                "#B0BEC5",
                "#B0BEC5",
                "#B0BEC5",
                "#B0BEC5",
                "#B0BEC5",
                "#B0BEC5",
                "#B0BEC5",
                "#B0BEC5",
                "#B0BEC5",
                "#B0BEC5",
                "#B0BEC5",
                "#B0BEC5",
                "#B0BEC5",
                "#B0BEC5",
                "#B0BEC5",
                "#B0BEC5",
                "#B0BEC5",
                "#B0BEC5",
                "#B0BEC5",
                "#B0BEC5",
                "#B0BEC5",
                "#B0BEC5",
                "#B0BEC5",
                "#B0BEC5",
                "#B0BEC5",
                "#B0BEC5",
                "#B0BEC5",
                "#B0BEC5",
                "#B0BEC5",
                "#B0BEC5",
                "#B0BEC5",
                "#B0BEC5",
                "#B0BEC5",
                "#B0BEC5",
                "#B0BEC5",
                "#B0BEC5",
                "#B0BEC5",
                "#B0BEC5",
                "#B0BEC5",
                "#B0BEC5",
                "#B0BEC5",
                "#B0BEC5",
                "#B0BEC5",
                "#B0BEC5",
                "red",
                "#B0BEC5",
                "#B0BEC5"
               ]
              ]
             }
            ],
            "label": "Topic 44",
            "method": "update"
           },
           {
            "args": [
             {
              "marker.color": [
               [
                "#B0BEC5",
                "#B0BEC5",
                "#B0BEC5",
                "#B0BEC5",
                "#B0BEC5",
                "#B0BEC5",
                "#B0BEC5",
                "#B0BEC5",
                "#B0BEC5",
                "#B0BEC5",
                "#B0BEC5",
                "#B0BEC5",
                "#B0BEC5",
                "#B0BEC5",
                "#B0BEC5",
                "#B0BEC5",
                "#B0BEC5",
                "#B0BEC5",
                "#B0BEC5",
                "#B0BEC5",
                "#B0BEC5",
                "#B0BEC5",
                "#B0BEC5",
                "#B0BEC5",
                "#B0BEC5",
                "#B0BEC5",
                "#B0BEC5",
                "#B0BEC5",
                "#B0BEC5",
                "#B0BEC5",
                "#B0BEC5",
                "#B0BEC5",
                "#B0BEC5",
                "#B0BEC5",
                "#B0BEC5",
                "#B0BEC5",
                "#B0BEC5",
                "#B0BEC5",
                "#B0BEC5",
                "#B0BEC5",
                "#B0BEC5",
                "#B0BEC5",
                "#B0BEC5",
                "#B0BEC5",
                "#B0BEC5",
                "red",
                "#B0BEC5"
               ]
              ]
             }
            ],
            "label": "Topic 45",
            "method": "update"
           },
           {
            "args": [
             {
              "marker.color": [
               [
                "#B0BEC5",
                "#B0BEC5",
                "#B0BEC5",
                "#B0BEC5",
                "#B0BEC5",
                "#B0BEC5",
                "#B0BEC5",
                "#B0BEC5",
                "#B0BEC5",
                "#B0BEC5",
                "#B0BEC5",
                "#B0BEC5",
                "#B0BEC5",
                "#B0BEC5",
                "#B0BEC5",
                "#B0BEC5",
                "#B0BEC5",
                "#B0BEC5",
                "#B0BEC5",
                "#B0BEC5",
                "#B0BEC5",
                "#B0BEC5",
                "#B0BEC5",
                "#B0BEC5",
                "#B0BEC5",
                "#B0BEC5",
                "#B0BEC5",
                "#B0BEC5",
                "#B0BEC5",
                "#B0BEC5",
                "#B0BEC5",
                "#B0BEC5",
                "#B0BEC5",
                "#B0BEC5",
                "#B0BEC5",
                "#B0BEC5",
                "#B0BEC5",
                "#B0BEC5",
                "#B0BEC5",
                "#B0BEC5",
                "#B0BEC5",
                "#B0BEC5",
                "#B0BEC5",
                "#B0BEC5",
                "#B0BEC5",
                "#B0BEC5",
                "red"
               ]
              ]
             }
            ],
            "label": "Topic 46",
            "method": "update"
           }
          ]
         }
        ],
        "template": {
         "data": {
          "bar": [
           {
            "error_x": {
             "color": "rgb(36,36,36)"
            },
            "error_y": {
             "color": "rgb(36,36,36)"
            },
            "marker": {
             "line": {
              "color": "white",
              "width": 0.5
             },
             "pattern": {
              "fillmode": "overlay",
              "size": 10,
              "solidity": 0.2
             }
            },
            "type": "bar"
           }
          ],
          "barpolar": [
           {
            "marker": {
             "line": {
              "color": "white",
              "width": 0.5
             },
             "pattern": {
              "fillmode": "overlay",
              "size": 10,
              "solidity": 0.2
             }
            },
            "type": "barpolar"
           }
          ],
          "carpet": [
           {
            "aaxis": {
             "endlinecolor": "rgb(36,36,36)",
             "gridcolor": "white",
             "linecolor": "white",
             "minorgridcolor": "white",
             "startlinecolor": "rgb(36,36,36)"
            },
            "baxis": {
             "endlinecolor": "rgb(36,36,36)",
             "gridcolor": "white",
             "linecolor": "white",
             "minorgridcolor": "white",
             "startlinecolor": "rgb(36,36,36)"
            },
            "type": "carpet"
           }
          ],
          "choropleth": [
           {
            "colorbar": {
             "outlinewidth": 1,
             "tickcolor": "rgb(36,36,36)",
             "ticks": "outside"
            },
            "type": "choropleth"
           }
          ],
          "contour": [
           {
            "colorbar": {
             "outlinewidth": 1,
             "tickcolor": "rgb(36,36,36)",
             "ticks": "outside"
            },
            "colorscale": [
             [
              0,
              "#440154"
             ],
             [
              0.1111111111111111,
              "#482878"
             ],
             [
              0.2222222222222222,
              "#3e4989"
             ],
             [
              0.3333333333333333,
              "#31688e"
             ],
             [
              0.4444444444444444,
              "#26828e"
             ],
             [
              0.5555555555555556,
              "#1f9e89"
             ],
             [
              0.6666666666666666,
              "#35b779"
             ],
             [
              0.7777777777777778,
              "#6ece58"
             ],
             [
              0.8888888888888888,
              "#b5de2b"
             ],
             [
              1,
              "#fde725"
             ]
            ],
            "type": "contour"
           }
          ],
          "contourcarpet": [
           {
            "colorbar": {
             "outlinewidth": 1,
             "tickcolor": "rgb(36,36,36)",
             "ticks": "outside"
            },
            "type": "contourcarpet"
           }
          ],
          "heatmap": [
           {
            "colorbar": {
             "outlinewidth": 1,
             "tickcolor": "rgb(36,36,36)",
             "ticks": "outside"
            },
            "colorscale": [
             [
              0,
              "#440154"
             ],
             [
              0.1111111111111111,
              "#482878"
             ],
             [
              0.2222222222222222,
              "#3e4989"
             ],
             [
              0.3333333333333333,
              "#31688e"
             ],
             [
              0.4444444444444444,
              "#26828e"
             ],
             [
              0.5555555555555556,
              "#1f9e89"
             ],
             [
              0.6666666666666666,
              "#35b779"
             ],
             [
              0.7777777777777778,
              "#6ece58"
             ],
             [
              0.8888888888888888,
              "#b5de2b"
             ],
             [
              1,
              "#fde725"
             ]
            ],
            "type": "heatmap"
           }
          ],
          "heatmapgl": [
           {
            "colorbar": {
             "outlinewidth": 1,
             "tickcolor": "rgb(36,36,36)",
             "ticks": "outside"
            },
            "colorscale": [
             [
              0,
              "#440154"
             ],
             [
              0.1111111111111111,
              "#482878"
             ],
             [
              0.2222222222222222,
              "#3e4989"
             ],
             [
              0.3333333333333333,
              "#31688e"
             ],
             [
              0.4444444444444444,
              "#26828e"
             ],
             [
              0.5555555555555556,
              "#1f9e89"
             ],
             [
              0.6666666666666666,
              "#35b779"
             ],
             [
              0.7777777777777778,
              "#6ece58"
             ],
             [
              0.8888888888888888,
              "#b5de2b"
             ],
             [
              1,
              "#fde725"
             ]
            ],
            "type": "heatmapgl"
           }
          ],
          "histogram": [
           {
            "marker": {
             "line": {
              "color": "white",
              "width": 0.6
             }
            },
            "type": "histogram"
           }
          ],
          "histogram2d": [
           {
            "colorbar": {
             "outlinewidth": 1,
             "tickcolor": "rgb(36,36,36)",
             "ticks": "outside"
            },
            "colorscale": [
             [
              0,
              "#440154"
             ],
             [
              0.1111111111111111,
              "#482878"
             ],
             [
              0.2222222222222222,
              "#3e4989"
             ],
             [
              0.3333333333333333,
              "#31688e"
             ],
             [
              0.4444444444444444,
              "#26828e"
             ],
             [
              0.5555555555555556,
              "#1f9e89"
             ],
             [
              0.6666666666666666,
              "#35b779"
             ],
             [
              0.7777777777777778,
              "#6ece58"
             ],
             [
              0.8888888888888888,
              "#b5de2b"
             ],
             [
              1,
              "#fde725"
             ]
            ],
            "type": "histogram2d"
           }
          ],
          "histogram2dcontour": [
           {
            "colorbar": {
             "outlinewidth": 1,
             "tickcolor": "rgb(36,36,36)",
             "ticks": "outside"
            },
            "colorscale": [
             [
              0,
              "#440154"
             ],
             [
              0.1111111111111111,
              "#482878"
             ],
             [
              0.2222222222222222,
              "#3e4989"
             ],
             [
              0.3333333333333333,
              "#31688e"
             ],
             [
              0.4444444444444444,
              "#26828e"
             ],
             [
              0.5555555555555556,
              "#1f9e89"
             ],
             [
              0.6666666666666666,
              "#35b779"
             ],
             [
              0.7777777777777778,
              "#6ece58"
             ],
             [
              0.8888888888888888,
              "#b5de2b"
             ],
             [
              1,
              "#fde725"
             ]
            ],
            "type": "histogram2dcontour"
           }
          ],
          "mesh3d": [
           {
            "colorbar": {
             "outlinewidth": 1,
             "tickcolor": "rgb(36,36,36)",
             "ticks": "outside"
            },
            "type": "mesh3d"
           }
          ],
          "parcoords": [
           {
            "line": {
             "colorbar": {
              "outlinewidth": 1,
              "tickcolor": "rgb(36,36,36)",
              "ticks": "outside"
             }
            },
            "type": "parcoords"
           }
          ],
          "pie": [
           {
            "automargin": true,
            "type": "pie"
           }
          ],
          "scatter": [
           {
            "fillpattern": {
             "fillmode": "overlay",
             "size": 10,
             "solidity": 0.2
            },
            "type": "scatter"
           }
          ],
          "scatter3d": [
           {
            "line": {
             "colorbar": {
              "outlinewidth": 1,
              "tickcolor": "rgb(36,36,36)",
              "ticks": "outside"
             }
            },
            "marker": {
             "colorbar": {
              "outlinewidth": 1,
              "tickcolor": "rgb(36,36,36)",
              "ticks": "outside"
             }
            },
            "type": "scatter3d"
           }
          ],
          "scattercarpet": [
           {
            "marker": {
             "colorbar": {
              "outlinewidth": 1,
              "tickcolor": "rgb(36,36,36)",
              "ticks": "outside"
             }
            },
            "type": "scattercarpet"
           }
          ],
          "scattergeo": [
           {
            "marker": {
             "colorbar": {
              "outlinewidth": 1,
              "tickcolor": "rgb(36,36,36)",
              "ticks": "outside"
             }
            },
            "type": "scattergeo"
           }
          ],
          "scattergl": [
           {
            "marker": {
             "colorbar": {
              "outlinewidth": 1,
              "tickcolor": "rgb(36,36,36)",
              "ticks": "outside"
             }
            },
            "type": "scattergl"
           }
          ],
          "scattermapbox": [
           {
            "marker": {
             "colorbar": {
              "outlinewidth": 1,
              "tickcolor": "rgb(36,36,36)",
              "ticks": "outside"
             }
            },
            "type": "scattermapbox"
           }
          ],
          "scatterpolar": [
           {
            "marker": {
             "colorbar": {
              "outlinewidth": 1,
              "tickcolor": "rgb(36,36,36)",
              "ticks": "outside"
             }
            },
            "type": "scatterpolar"
           }
          ],
          "scatterpolargl": [
           {
            "marker": {
             "colorbar": {
              "outlinewidth": 1,
              "tickcolor": "rgb(36,36,36)",
              "ticks": "outside"
             }
            },
            "type": "scatterpolargl"
           }
          ],
          "scatterternary": [
           {
            "marker": {
             "colorbar": {
              "outlinewidth": 1,
              "tickcolor": "rgb(36,36,36)",
              "ticks": "outside"
             }
            },
            "type": "scatterternary"
           }
          ],
          "surface": [
           {
            "colorbar": {
             "outlinewidth": 1,
             "tickcolor": "rgb(36,36,36)",
             "ticks": "outside"
            },
            "colorscale": [
             [
              0,
              "#440154"
             ],
             [
              0.1111111111111111,
              "#482878"
             ],
             [
              0.2222222222222222,
              "#3e4989"
             ],
             [
              0.3333333333333333,
              "#31688e"
             ],
             [
              0.4444444444444444,
              "#26828e"
             ],
             [
              0.5555555555555556,
              "#1f9e89"
             ],
             [
              0.6666666666666666,
              "#35b779"
             ],
             [
              0.7777777777777778,
              "#6ece58"
             ],
             [
              0.8888888888888888,
              "#b5de2b"
             ],
             [
              1,
              "#fde725"
             ]
            ],
            "type": "surface"
           }
          ],
          "table": [
           {
            "cells": {
             "fill": {
              "color": "rgb(237,237,237)"
             },
             "line": {
              "color": "white"
             }
            },
            "header": {
             "fill": {
              "color": "rgb(217,217,217)"
             },
             "line": {
              "color": "white"
             }
            },
            "type": "table"
           }
          ]
         },
         "layout": {
          "annotationdefaults": {
           "arrowhead": 0,
           "arrowwidth": 1
          },
          "autotypenumbers": "strict",
          "coloraxis": {
           "colorbar": {
            "outlinewidth": 1,
            "tickcolor": "rgb(36,36,36)",
            "ticks": "outside"
           }
          },
          "colorscale": {
           "diverging": [
            [
             0,
             "rgb(103,0,31)"
            ],
            [
             0.1,
             "rgb(178,24,43)"
            ],
            [
             0.2,
             "rgb(214,96,77)"
            ],
            [
             0.3,
             "rgb(244,165,130)"
            ],
            [
             0.4,
             "rgb(253,219,199)"
            ],
            [
             0.5,
             "rgb(247,247,247)"
            ],
            [
             0.6,
             "rgb(209,229,240)"
            ],
            [
             0.7,
             "rgb(146,197,222)"
            ],
            [
             0.8,
             "rgb(67,147,195)"
            ],
            [
             0.9,
             "rgb(33,102,172)"
            ],
            [
             1,
             "rgb(5,48,97)"
            ]
           ],
           "sequential": [
            [
             0,
             "#440154"
            ],
            [
             0.1111111111111111,
             "#482878"
            ],
            [
             0.2222222222222222,
             "#3e4989"
            ],
            [
             0.3333333333333333,
             "#31688e"
            ],
            [
             0.4444444444444444,
             "#26828e"
            ],
            [
             0.5555555555555556,
             "#1f9e89"
            ],
            [
             0.6666666666666666,
             "#35b779"
            ],
            [
             0.7777777777777778,
             "#6ece58"
            ],
            [
             0.8888888888888888,
             "#b5de2b"
            ],
            [
             1,
             "#fde725"
            ]
           ],
           "sequentialminus": [
            [
             0,
             "#440154"
            ],
            [
             0.1111111111111111,
             "#482878"
            ],
            [
             0.2222222222222222,
             "#3e4989"
            ],
            [
             0.3333333333333333,
             "#31688e"
            ],
            [
             0.4444444444444444,
             "#26828e"
            ],
            [
             0.5555555555555556,
             "#1f9e89"
            ],
            [
             0.6666666666666666,
             "#35b779"
            ],
            [
             0.7777777777777778,
             "#6ece58"
            ],
            [
             0.8888888888888888,
             "#b5de2b"
            ],
            [
             1,
             "#fde725"
            ]
           ]
          },
          "colorway": [
           "#1F77B4",
           "#FF7F0E",
           "#2CA02C",
           "#D62728",
           "#9467BD",
           "#8C564B",
           "#E377C2",
           "#7F7F7F",
           "#BCBD22",
           "#17BECF"
          ],
          "font": {
           "color": "rgb(36,36,36)"
          },
          "geo": {
           "bgcolor": "white",
           "lakecolor": "white",
           "landcolor": "white",
           "showlakes": true,
           "showland": true,
           "subunitcolor": "white"
          },
          "hoverlabel": {
           "align": "left"
          },
          "hovermode": "closest",
          "mapbox": {
           "style": "light"
          },
          "paper_bgcolor": "white",
          "plot_bgcolor": "white",
          "polar": {
           "angularaxis": {
            "gridcolor": "rgb(232,232,232)",
            "linecolor": "rgb(36,36,36)",
            "showgrid": false,
            "showline": true,
            "ticks": "outside"
           },
           "bgcolor": "white",
           "radialaxis": {
            "gridcolor": "rgb(232,232,232)",
            "linecolor": "rgb(36,36,36)",
            "showgrid": false,
            "showline": true,
            "ticks": "outside"
           }
          },
          "scene": {
           "xaxis": {
            "backgroundcolor": "white",
            "gridcolor": "rgb(232,232,232)",
            "gridwidth": 2,
            "linecolor": "rgb(36,36,36)",
            "showbackground": true,
            "showgrid": false,
            "showline": true,
            "ticks": "outside",
            "zeroline": false,
            "zerolinecolor": "rgb(36,36,36)"
           },
           "yaxis": {
            "backgroundcolor": "white",
            "gridcolor": "rgb(232,232,232)",
            "gridwidth": 2,
            "linecolor": "rgb(36,36,36)",
            "showbackground": true,
            "showgrid": false,
            "showline": true,
            "ticks": "outside",
            "zeroline": false,
            "zerolinecolor": "rgb(36,36,36)"
           },
           "zaxis": {
            "backgroundcolor": "white",
            "gridcolor": "rgb(232,232,232)",
            "gridwidth": 2,
            "linecolor": "rgb(36,36,36)",
            "showbackground": true,
            "showgrid": false,
            "showline": true,
            "ticks": "outside",
            "zeroline": false,
            "zerolinecolor": "rgb(36,36,36)"
           }
          },
          "shapedefaults": {
           "fillcolor": "black",
           "line": {
            "width": 0
           },
           "opacity": 0.3
          },
          "ternary": {
           "aaxis": {
            "gridcolor": "rgb(232,232,232)",
            "linecolor": "rgb(36,36,36)",
            "showgrid": false,
            "showline": true,
            "ticks": "outside"
           },
           "baxis": {
            "gridcolor": "rgb(232,232,232)",
            "linecolor": "rgb(36,36,36)",
            "showgrid": false,
            "showline": true,
            "ticks": "outside"
           },
           "bgcolor": "white",
           "caxis": {
            "gridcolor": "rgb(232,232,232)",
            "linecolor": "rgb(36,36,36)",
            "showgrid": false,
            "showline": true,
            "ticks": "outside"
           }
          },
          "title": {
           "x": 0.05
          },
          "xaxis": {
           "automargin": true,
           "gridcolor": "rgb(232,232,232)",
           "linecolor": "rgb(36,36,36)",
           "showgrid": false,
           "showline": true,
           "ticks": "outside",
           "title": {
            "standoff": 15
           },
           "zeroline": false,
           "zerolinecolor": "rgb(36,36,36)"
          },
          "yaxis": {
           "automargin": true,
           "gridcolor": "rgb(232,232,232)",
           "linecolor": "rgb(36,36,36)",
           "showgrid": false,
           "showline": true,
           "ticks": "outside",
           "title": {
            "standoff": 15
           },
           "zeroline": false,
           "zerolinecolor": "rgb(36,36,36)"
          }
         }
        },
        "title": {
         "font": {
          "color": "Black",
          "size": 22
         },
         "text": "<b>Intertopic Distance Map</b>",
         "x": 0.5,
         "xanchor": "center",
         "y": 0.95,
         "yanchor": "top"
        },
        "width": 650,
        "xaxis": {
         "anchor": "y",
         "domain": [
          0,
          1
         ],
         "range": [
          -9.889066028594971,
          25.138083839416502
         ],
         "title": {
          "text": ""
         },
         "visible": false
        },
        "yaxis": {
         "anchor": "x",
         "domain": [
          0,
          1
         ],
         "range": [
          -5.652803254127503,
          19.641104984283448
         ],
         "title": {
          "text": ""
         },
         "visible": false
        }
       }
      }
     },
     "metadata": {},
     "output_type": "display_data"
    }
   ],
   "source": [
    "topic_model.visualize_topics()"
   ]
  },
  {
   "cell_type": "code",
   "execution_count": 36,
   "metadata": {},
   "outputs": [
    {
     "data": {
      "application/vnd.plotly.v1+json": {
       "config": {
        "plotlyServerURL": "https://plot.ly"
       },
       "data": [
        {
         "marker": {
          "color": "#C8D2D7",
          "line": {
           "color": "#6E8484",
           "width": 1
          }
         },
         "orientation": "h",
         "type": "bar",
         "x": [
          0.01649977156487596,
          0.018877359916485457,
          0.0462155871368115,
          0.027673539859680463,
          0.018434072365781522,
          0.02143727337450387,
          0.01854347538132921,
          0.015638545847070258,
          0.021655025426742306,
          0.0175292384406189,
          0.036169261506463525,
          0.016071409798932585,
          0.030442259079382517,
          0.01631297742656321,
          0.0257774160242633,
          0.017149162041434723
         ],
         "y": [
          "<b>Topic 3</b>: laptop_is_and_for_it",
          "<b>Topic 5</b>: netbook_the_is_and_to",
          "<b>Topic 6</b>: asus_the_to_they_and",
          "<b>Topic 10</b>: wifi_to_the_and_was",
          "<b>Topic 12</b>: charger_it_laptop_not_c...",
          "<b>Topic 14</b>: laptop_fan_it_the_this",
          "<b>Topic 18</b>: windows_10_my_laptop_to",
          "<b>Topic 24</b>: new_refurbished_was_com...",
          "<b>Topic 25</b>: mouse_touchpad_pad_the_...",
          "<b>Topic 26</b>: pc_mini_hdmi_the_ports",
          "<b>Topic 31</b>: keys_keyboard_uy_key_th...",
          "<b>Topic 33</b>: its_touch_small_to_the",
          "<b>Topic 37</b>: hd_1005pr_broadcom_netb...",
          "<b>Topic 40</b>: backlit_keyboard_backli...",
          "<b>Topic 41</b>: premier_hp_warranty_len...",
          "<b>Topic 45</b>: compaq_a1500_printer_pr..."
         ]
        }
       ],
       "layout": {
        "height": 600,
        "hoverlabel": {
         "bgcolor": "white",
         "font": {
          "family": "Rockwell",
          "size": 16
         }
        },
        "template": {
         "data": {
          "bar": [
           {
            "error_x": {
             "color": "rgb(36,36,36)"
            },
            "error_y": {
             "color": "rgb(36,36,36)"
            },
            "marker": {
             "line": {
              "color": "white",
              "width": 0.5
             },
             "pattern": {
              "fillmode": "overlay",
              "size": 10,
              "solidity": 0.2
             }
            },
            "type": "bar"
           }
          ],
          "barpolar": [
           {
            "marker": {
             "line": {
              "color": "white",
              "width": 0.5
             },
             "pattern": {
              "fillmode": "overlay",
              "size": 10,
              "solidity": 0.2
             }
            },
            "type": "barpolar"
           }
          ],
          "carpet": [
           {
            "aaxis": {
             "endlinecolor": "rgb(36,36,36)",
             "gridcolor": "white",
             "linecolor": "white",
             "minorgridcolor": "white",
             "startlinecolor": "rgb(36,36,36)"
            },
            "baxis": {
             "endlinecolor": "rgb(36,36,36)",
             "gridcolor": "white",
             "linecolor": "white",
             "minorgridcolor": "white",
             "startlinecolor": "rgb(36,36,36)"
            },
            "type": "carpet"
           }
          ],
          "choropleth": [
           {
            "colorbar": {
             "outlinewidth": 1,
             "tickcolor": "rgb(36,36,36)",
             "ticks": "outside"
            },
            "type": "choropleth"
           }
          ],
          "contour": [
           {
            "colorbar": {
             "outlinewidth": 1,
             "tickcolor": "rgb(36,36,36)",
             "ticks": "outside"
            },
            "colorscale": [
             [
              0,
              "#440154"
             ],
             [
              0.1111111111111111,
              "#482878"
             ],
             [
              0.2222222222222222,
              "#3e4989"
             ],
             [
              0.3333333333333333,
              "#31688e"
             ],
             [
              0.4444444444444444,
              "#26828e"
             ],
             [
              0.5555555555555556,
              "#1f9e89"
             ],
             [
              0.6666666666666666,
              "#35b779"
             ],
             [
              0.7777777777777778,
              "#6ece58"
             ],
             [
              0.8888888888888888,
              "#b5de2b"
             ],
             [
              1,
              "#fde725"
             ]
            ],
            "type": "contour"
           }
          ],
          "contourcarpet": [
           {
            "colorbar": {
             "outlinewidth": 1,
             "tickcolor": "rgb(36,36,36)",
             "ticks": "outside"
            },
            "type": "contourcarpet"
           }
          ],
          "heatmap": [
           {
            "colorbar": {
             "outlinewidth": 1,
             "tickcolor": "rgb(36,36,36)",
             "ticks": "outside"
            },
            "colorscale": [
             [
              0,
              "#440154"
             ],
             [
              0.1111111111111111,
              "#482878"
             ],
             [
              0.2222222222222222,
              "#3e4989"
             ],
             [
              0.3333333333333333,
              "#31688e"
             ],
             [
              0.4444444444444444,
              "#26828e"
             ],
             [
              0.5555555555555556,
              "#1f9e89"
             ],
             [
              0.6666666666666666,
              "#35b779"
             ],
             [
              0.7777777777777778,
              "#6ece58"
             ],
             [
              0.8888888888888888,
              "#b5de2b"
             ],
             [
              1,
              "#fde725"
             ]
            ],
            "type": "heatmap"
           }
          ],
          "heatmapgl": [
           {
            "colorbar": {
             "outlinewidth": 1,
             "tickcolor": "rgb(36,36,36)",
             "ticks": "outside"
            },
            "colorscale": [
             [
              0,
              "#440154"
             ],
             [
              0.1111111111111111,
              "#482878"
             ],
             [
              0.2222222222222222,
              "#3e4989"
             ],
             [
              0.3333333333333333,
              "#31688e"
             ],
             [
              0.4444444444444444,
              "#26828e"
             ],
             [
              0.5555555555555556,
              "#1f9e89"
             ],
             [
              0.6666666666666666,
              "#35b779"
             ],
             [
              0.7777777777777778,
              "#6ece58"
             ],
             [
              0.8888888888888888,
              "#b5de2b"
             ],
             [
              1,
              "#fde725"
             ]
            ],
            "type": "heatmapgl"
           }
          ],
          "histogram": [
           {
            "marker": {
             "line": {
              "color": "white",
              "width": 0.6
             }
            },
            "type": "histogram"
           }
          ],
          "histogram2d": [
           {
            "colorbar": {
             "outlinewidth": 1,
             "tickcolor": "rgb(36,36,36)",
             "ticks": "outside"
            },
            "colorscale": [
             [
              0,
              "#440154"
             ],
             [
              0.1111111111111111,
              "#482878"
             ],
             [
              0.2222222222222222,
              "#3e4989"
             ],
             [
              0.3333333333333333,
              "#31688e"
             ],
             [
              0.4444444444444444,
              "#26828e"
             ],
             [
              0.5555555555555556,
              "#1f9e89"
             ],
             [
              0.6666666666666666,
              "#35b779"
             ],
             [
              0.7777777777777778,
              "#6ece58"
             ],
             [
              0.8888888888888888,
              "#b5de2b"
             ],
             [
              1,
              "#fde725"
             ]
            ],
            "type": "histogram2d"
           }
          ],
          "histogram2dcontour": [
           {
            "colorbar": {
             "outlinewidth": 1,
             "tickcolor": "rgb(36,36,36)",
             "ticks": "outside"
            },
            "colorscale": [
             [
              0,
              "#440154"
             ],
             [
              0.1111111111111111,
              "#482878"
             ],
             [
              0.2222222222222222,
              "#3e4989"
             ],
             [
              0.3333333333333333,
              "#31688e"
             ],
             [
              0.4444444444444444,
              "#26828e"
             ],
             [
              0.5555555555555556,
              "#1f9e89"
             ],
             [
              0.6666666666666666,
              "#35b779"
             ],
             [
              0.7777777777777778,
              "#6ece58"
             ],
             [
              0.8888888888888888,
              "#b5de2b"
             ],
             [
              1,
              "#fde725"
             ]
            ],
            "type": "histogram2dcontour"
           }
          ],
          "mesh3d": [
           {
            "colorbar": {
             "outlinewidth": 1,
             "tickcolor": "rgb(36,36,36)",
             "ticks": "outside"
            },
            "type": "mesh3d"
           }
          ],
          "parcoords": [
           {
            "line": {
             "colorbar": {
              "outlinewidth": 1,
              "tickcolor": "rgb(36,36,36)",
              "ticks": "outside"
             }
            },
            "type": "parcoords"
           }
          ],
          "pie": [
           {
            "automargin": true,
            "type": "pie"
           }
          ],
          "scatter": [
           {
            "fillpattern": {
             "fillmode": "overlay",
             "size": 10,
             "solidity": 0.2
            },
            "type": "scatter"
           }
          ],
          "scatter3d": [
           {
            "line": {
             "colorbar": {
              "outlinewidth": 1,
              "tickcolor": "rgb(36,36,36)",
              "ticks": "outside"
             }
            },
            "marker": {
             "colorbar": {
              "outlinewidth": 1,
              "tickcolor": "rgb(36,36,36)",
              "ticks": "outside"
             }
            },
            "type": "scatter3d"
           }
          ],
          "scattercarpet": [
           {
            "marker": {
             "colorbar": {
              "outlinewidth": 1,
              "tickcolor": "rgb(36,36,36)",
              "ticks": "outside"
             }
            },
            "type": "scattercarpet"
           }
          ],
          "scattergeo": [
           {
            "marker": {
             "colorbar": {
              "outlinewidth": 1,
              "tickcolor": "rgb(36,36,36)",
              "ticks": "outside"
             }
            },
            "type": "scattergeo"
           }
          ],
          "scattergl": [
           {
            "marker": {
             "colorbar": {
              "outlinewidth": 1,
              "tickcolor": "rgb(36,36,36)",
              "ticks": "outside"
             }
            },
            "type": "scattergl"
           }
          ],
          "scattermapbox": [
           {
            "marker": {
             "colorbar": {
              "outlinewidth": 1,
              "tickcolor": "rgb(36,36,36)",
              "ticks": "outside"
             }
            },
            "type": "scattermapbox"
           }
          ],
          "scatterpolar": [
           {
            "marker": {
             "colorbar": {
              "outlinewidth": 1,
              "tickcolor": "rgb(36,36,36)",
              "ticks": "outside"
             }
            },
            "type": "scatterpolar"
           }
          ],
          "scatterpolargl": [
           {
            "marker": {
             "colorbar": {
              "outlinewidth": 1,
              "tickcolor": "rgb(36,36,36)",
              "ticks": "outside"
             }
            },
            "type": "scatterpolargl"
           }
          ],
          "scatterternary": [
           {
            "marker": {
             "colorbar": {
              "outlinewidth": 1,
              "tickcolor": "rgb(36,36,36)",
              "ticks": "outside"
             }
            },
            "type": "scatterternary"
           }
          ],
          "surface": [
           {
            "colorbar": {
             "outlinewidth": 1,
             "tickcolor": "rgb(36,36,36)",
             "ticks": "outside"
            },
            "colorscale": [
             [
              0,
              "#440154"
             ],
             [
              0.1111111111111111,
              "#482878"
             ],
             [
              0.2222222222222222,
              "#3e4989"
             ],
             [
              0.3333333333333333,
              "#31688e"
             ],
             [
              0.4444444444444444,
              "#26828e"
             ],
             [
              0.5555555555555556,
              "#1f9e89"
             ],
             [
              0.6666666666666666,
              "#35b779"
             ],
             [
              0.7777777777777778,
              "#6ece58"
             ],
             [
              0.8888888888888888,
              "#b5de2b"
             ],
             [
              1,
              "#fde725"
             ]
            ],
            "type": "surface"
           }
          ],
          "table": [
           {
            "cells": {
             "fill": {
              "color": "rgb(237,237,237)"
             },
             "line": {
              "color": "white"
             }
            },
            "header": {
             "fill": {
              "color": "rgb(217,217,217)"
             },
             "line": {
              "color": "white"
             }
            },
            "type": "table"
           }
          ]
         },
         "layout": {
          "annotationdefaults": {
           "arrowhead": 0,
           "arrowwidth": 1
          },
          "autotypenumbers": "strict",
          "coloraxis": {
           "colorbar": {
            "outlinewidth": 1,
            "tickcolor": "rgb(36,36,36)",
            "ticks": "outside"
           }
          },
          "colorscale": {
           "diverging": [
            [
             0,
             "rgb(103,0,31)"
            ],
            [
             0.1,
             "rgb(178,24,43)"
            ],
            [
             0.2,
             "rgb(214,96,77)"
            ],
            [
             0.3,
             "rgb(244,165,130)"
            ],
            [
             0.4,
             "rgb(253,219,199)"
            ],
            [
             0.5,
             "rgb(247,247,247)"
            ],
            [
             0.6,
             "rgb(209,229,240)"
            ],
            [
             0.7,
             "rgb(146,197,222)"
            ],
            [
             0.8,
             "rgb(67,147,195)"
            ],
            [
             0.9,
             "rgb(33,102,172)"
            ],
            [
             1,
             "rgb(5,48,97)"
            ]
           ],
           "sequential": [
            [
             0,
             "#440154"
            ],
            [
             0.1111111111111111,
             "#482878"
            ],
            [
             0.2222222222222222,
             "#3e4989"
            ],
            [
             0.3333333333333333,
             "#31688e"
            ],
            [
             0.4444444444444444,
             "#26828e"
            ],
            [
             0.5555555555555556,
             "#1f9e89"
            ],
            [
             0.6666666666666666,
             "#35b779"
            ],
            [
             0.7777777777777778,
             "#6ece58"
            ],
            [
             0.8888888888888888,
             "#b5de2b"
            ],
            [
             1,
             "#fde725"
            ]
           ],
           "sequentialminus": [
            [
             0,
             "#440154"
            ],
            [
             0.1111111111111111,
             "#482878"
            ],
            [
             0.2222222222222222,
             "#3e4989"
            ],
            [
             0.3333333333333333,
             "#31688e"
            ],
            [
             0.4444444444444444,
             "#26828e"
            ],
            [
             0.5555555555555556,
             "#1f9e89"
            ],
            [
             0.6666666666666666,
             "#35b779"
            ],
            [
             0.7777777777777778,
             "#6ece58"
            ],
            [
             0.8888888888888888,
             "#b5de2b"
            ],
            [
             1,
             "#fde725"
            ]
           ]
          },
          "colorway": [
           "#1F77B4",
           "#FF7F0E",
           "#2CA02C",
           "#D62728",
           "#9467BD",
           "#8C564B",
           "#E377C2",
           "#7F7F7F",
           "#BCBD22",
           "#17BECF"
          ],
          "font": {
           "color": "rgb(36,36,36)"
          },
          "geo": {
           "bgcolor": "white",
           "lakecolor": "white",
           "landcolor": "white",
           "showlakes": true,
           "showland": true,
           "subunitcolor": "white"
          },
          "hoverlabel": {
           "align": "left"
          },
          "hovermode": "closest",
          "mapbox": {
           "style": "light"
          },
          "paper_bgcolor": "white",
          "plot_bgcolor": "white",
          "polar": {
           "angularaxis": {
            "gridcolor": "rgb(232,232,232)",
            "linecolor": "rgb(36,36,36)",
            "showgrid": false,
            "showline": true,
            "ticks": "outside"
           },
           "bgcolor": "white",
           "radialaxis": {
            "gridcolor": "rgb(232,232,232)",
            "linecolor": "rgb(36,36,36)",
            "showgrid": false,
            "showline": true,
            "ticks": "outside"
           }
          },
          "scene": {
           "xaxis": {
            "backgroundcolor": "white",
            "gridcolor": "rgb(232,232,232)",
            "gridwidth": 2,
            "linecolor": "rgb(36,36,36)",
            "showbackground": true,
            "showgrid": false,
            "showline": true,
            "ticks": "outside",
            "zeroline": false,
            "zerolinecolor": "rgb(36,36,36)"
           },
           "yaxis": {
            "backgroundcolor": "white",
            "gridcolor": "rgb(232,232,232)",
            "gridwidth": 2,
            "linecolor": "rgb(36,36,36)",
            "showbackground": true,
            "showgrid": false,
            "showline": true,
            "ticks": "outside",
            "zeroline": false,
            "zerolinecolor": "rgb(36,36,36)"
           },
           "zaxis": {
            "backgroundcolor": "white",
            "gridcolor": "rgb(232,232,232)",
            "gridwidth": 2,
            "linecolor": "rgb(36,36,36)",
            "showbackground": true,
            "showgrid": false,
            "showline": true,
            "ticks": "outside",
            "zeroline": false,
            "zerolinecolor": "rgb(36,36,36)"
           }
          },
          "shapedefaults": {
           "fillcolor": "black",
           "line": {
            "width": 0
           },
           "opacity": 0.3
          },
          "ternary": {
           "aaxis": {
            "gridcolor": "rgb(232,232,232)",
            "linecolor": "rgb(36,36,36)",
            "showgrid": false,
            "showline": true,
            "ticks": "outside"
           },
           "baxis": {
            "gridcolor": "rgb(232,232,232)",
            "linecolor": "rgb(36,36,36)",
            "showgrid": false,
            "showline": true,
            "ticks": "outside"
           },
           "bgcolor": "white",
           "caxis": {
            "gridcolor": "rgb(232,232,232)",
            "linecolor": "rgb(36,36,36)",
            "showgrid": false,
            "showline": true,
            "ticks": "outside"
           }
          },
          "title": {
           "x": 0.05
          },
          "xaxis": {
           "automargin": true,
           "gridcolor": "rgb(232,232,232)",
           "linecolor": "rgb(36,36,36)",
           "showgrid": false,
           "showline": true,
           "ticks": "outside",
           "title": {
            "standoff": 15
           },
           "zeroline": false,
           "zerolinecolor": "rgb(36,36,36)"
          },
          "yaxis": {
           "automargin": true,
           "gridcolor": "rgb(232,232,232)",
           "linecolor": "rgb(36,36,36)",
           "showgrid": false,
           "showline": true,
           "ticks": "outside",
           "title": {
            "standoff": 15
           },
           "zeroline": false,
           "zerolinecolor": "rgb(36,36,36)"
          }
         }
        },
        "title": {
         "font": {
          "color": "Black",
          "size": 22
         },
         "text": "<b>Topic Probability Distribution</b>",
         "x": 0.5,
         "xanchor": "center",
         "y": 0.95,
         "yanchor": "top"
        },
        "width": 800,
        "xaxis": {
         "title": {
          "text": "Probability"
         }
        }
       }
      }
     },
     "metadata": {},
     "output_type": "display_data"
    }
   ],
   "source": [
    "topic_model.visualize_distribution(probs[200], min_probability=0.015)"
   ]
  },
  {
   "cell_type": "code",
   "execution_count": 37,
   "metadata": {},
   "outputs": [
    {
     "data": {
      "application/vnd.plotly.v1+json": {
       "config": {
        "plotlyServerURL": "https://plot.ly"
       },
       "data": [
        {
         "hoverinfo": "text",
         "marker": {
          "color": "rgb(61,153,112)"
         },
         "mode": "lines",
         "type": "scatter",
         "x": [
          0,
          0.8204043918098912,
          0.8204043918098912,
          0
         ],
         "xaxis": "x",
         "y": [
          -5,
          -5,
          -15,
          -15
         ],
         "yaxis": "y"
        },
        {
         "hoverinfo": "text",
         "marker": {
          "color": "rgb(255,65,54)"
         },
         "mode": "lines",
         "type": "scatter",
         "x": [
          0,
          0.4755140309995547,
          0.4755140309995547,
          0
         ],
         "xaxis": "x",
         "y": [
          -45,
          -45,
          -55,
          -55
         ],
         "yaxis": "y"
        },
        {
         "hoverinfo": "text",
         "marker": {
          "color": "rgb(255,65,54)"
         },
         "mode": "lines",
         "type": "scatter",
         "x": [
          0,
          0.21184961069831987,
          0.21184961069831987,
          0
         ],
         "xaxis": "x",
         "y": [
          -95,
          -95,
          -105,
          -105
         ],
         "yaxis": "y"
        },
        {
         "hoverinfo": "text",
         "marker": {
          "color": "rgb(255,65,54)"
         },
         "mode": "lines",
         "type": "scatter",
         "x": [
          0,
          0.2585022161231977,
          0.2585022161231977,
          0.21184961069831987
         ],
         "xaxis": "x",
         "y": [
          -85,
          -85,
          -100,
          -100
         ],
         "yaxis": "y"
        },
        {
         "hoverinfo": "text",
         "marker": {
          "color": "rgb(255,65,54)"
         },
         "mode": "lines",
         "type": "scatter",
         "x": [
          0.2585022161231977,
          0.28757190503191155,
          0.28757190503191155,
          0
         ],
         "xaxis": "x",
         "y": [
          -92.5,
          -92.5,
          -115,
          -115
         ],
         "yaxis": "y"
        },
        {
         "hoverinfo": "text",
         "marker": {
          "color": "rgb(255,65,54)"
         },
         "mode": "lines",
         "type": "scatter",
         "x": [
          0,
          0.3248600733164329,
          0.3248600733164329,
          0.28757190503191155
         ],
         "xaxis": "x",
         "y": [
          -75,
          -75,
          -103.75,
          -103.75
         ],
         "yaxis": "y"
        },
        {
         "hoverinfo": "text",
         "marker": {
          "color": "rgb(255,65,54)"
         },
         "mode": "lines",
         "type": "scatter",
         "x": [
          0.3248600733164329,
          0.3402697939636933,
          0.3402697939636933,
          0
         ],
         "xaxis": "x",
         "y": [
          -89.375,
          -89.375,
          -125,
          -125
         ],
         "yaxis": "y"
        },
        {
         "hoverinfo": "text",
         "marker": {
          "color": "rgb(255,65,54)"
         },
         "mode": "lines",
         "type": "scatter",
         "x": [
          0.3402697939636933,
          0.3519653487371006,
          0.3519653487371006,
          0
         ],
         "xaxis": "x",
         "y": [
          -107.1875,
          -107.1875,
          -135,
          -135
         ],
         "yaxis": "y"
        },
        {
         "hoverinfo": "text",
         "marker": {
          "color": "rgb(255,65,54)"
         },
         "mode": "lines",
         "type": "scatter",
         "x": [
          0,
          0.3784049718786047,
          0.3784049718786047,
          0.3519653487371006
         ],
         "xaxis": "x",
         "y": [
          -65,
          -65,
          -121.09375,
          -121.09375
         ],
         "yaxis": "y"
        },
        {
         "hoverinfo": "text",
         "marker": {
          "color": "rgb(255,65,54)"
         },
         "mode": "lines",
         "type": "scatter",
         "x": [
          0,
          0.28495297352622984,
          0.28495297352622984,
          0
         ],
         "xaxis": "x",
         "y": [
          -155,
          -155,
          -165,
          -165
         ],
         "yaxis": "y"
        },
        {
         "hoverinfo": "text",
         "marker": {
          "color": "rgb(255,65,54)"
         },
         "mode": "lines",
         "type": "scatter",
         "x": [
          0,
          0.3630876255750248,
          0.3630876255750248,
          0.28495297352622984
         ],
         "xaxis": "x",
         "y": [
          -145,
          -145,
          -160,
          -160
         ],
         "yaxis": "y"
        },
        {
         "hoverinfo": "text",
         "marker": {
          "color": "rgb(255,65,54)"
         },
         "mode": "lines",
         "type": "scatter",
         "x": [
          0.3630876255750248,
          0.48713059895378047,
          0.48713059895378047,
          0
         ],
         "xaxis": "x",
         "y": [
          -152.5,
          -152.5,
          -175,
          -175
         ],
         "yaxis": "y"
        },
        {
         "hoverinfo": "text",
         "marker": {
          "color": "rgb(255,65,54)"
         },
         "mode": "lines",
         "type": "scatter",
         "x": [
          0.3784049718786047,
          0.5179260218957329,
          0.5179260218957329,
          0.48713059895378047
         ],
         "xaxis": "x",
         "y": [
          -93.046875,
          -93.046875,
          -163.75,
          -163.75
         ],
         "yaxis": "y"
        },
        {
         "hoverinfo": "text",
         "marker": {
          "color": "rgb(255,65,54)"
         },
         "mode": "lines",
         "type": "scatter",
         "x": [
          0.4755140309995547,
          0.546654846102293,
          0.546654846102293,
          0.5179260218957329
         ],
         "xaxis": "x",
         "y": [
          -50,
          -50,
          -128.3984375,
          -128.3984375
         ],
         "yaxis": "y"
        },
        {
         "hoverinfo": "text",
         "marker": {
          "color": "rgb(255,65,54)"
         },
         "mode": "lines",
         "type": "scatter",
         "x": [
          0,
          0.4869027176021472,
          0.4869027176021472,
          0
         ],
         "xaxis": "x",
         "y": [
          -185,
          -185,
          -195,
          -195
         ],
         "yaxis": "y"
        },
        {
         "hoverinfo": "text",
         "marker": {
          "color": "rgb(255,65,54)"
         },
         "mode": "lines",
         "type": "scatter",
         "x": [
          0.546654846102293,
          0.5932134644010555,
          0.5932134644010555,
          0.4869027176021472
         ],
         "xaxis": "x",
         "y": [
          -89.19921875,
          -89.19921875,
          -190,
          -190
         ],
         "yaxis": "y"
        },
        {
         "hoverinfo": "text",
         "marker": {
          "color": "rgb(255,65,54)"
         },
         "mode": "lines",
         "type": "scatter",
         "x": [
          0,
          0.6288537281900966,
          0.6288537281900966,
          0.5932134644010555
         ],
         "xaxis": "x",
         "y": [
          -35,
          -35,
          -139.599609375,
          -139.599609375
         ],
         "yaxis": "y"
        },
        {
         "hoverinfo": "text",
         "marker": {
          "color": "rgb(255,65,54)"
         },
         "mode": "lines",
         "type": "scatter",
         "x": [
          0,
          0.5760059587952917,
          0.5760059587952917,
          0
         ],
         "xaxis": "x",
         "y": [
          -205,
          -205,
          -215,
          -215
         ],
         "yaxis": "y"
        },
        {
         "hoverinfo": "text",
         "marker": {
          "color": "rgb(255,65,54)"
         },
         "mode": "lines",
         "type": "scatter",
         "x": [
          0.5760059587952917,
          0.6107287685336917,
          0.6107287685336917,
          0
         ],
         "xaxis": "x",
         "y": [
          -210,
          -210,
          -225,
          -225
         ],
         "yaxis": "y"
        },
        {
         "hoverinfo": "text",
         "marker": {
          "color": "rgb(255,65,54)"
         },
         "mode": "lines",
         "type": "scatter",
         "x": [
          0.6288537281900966,
          0.6903469109023087,
          0.6903469109023087,
          0.6107287685336917
         ],
         "xaxis": "x",
         "y": [
          -87.2998046875,
          -87.2998046875,
          -217.5,
          -217.5
         ],
         "yaxis": "y"
        },
        {
         "hoverinfo": "text",
         "marker": {
          "color": "rgb(255,65,54)"
         },
         "mode": "lines",
         "type": "scatter",
         "x": [
          0.6903469109023087,
          0.7162022701869152,
          0.7162022701869152,
          0
         ],
         "xaxis": "x",
         "y": [
          -152.39990234375,
          -152.39990234375,
          -235,
          -235
         ],
         "yaxis": "y"
        },
        {
         "hoverinfo": "text",
         "marker": {
          "color": "rgb(255,65,54)"
         },
         "mode": "lines",
         "type": "scatter",
         "x": [
          0,
          0.7350101375830111,
          0.7350101375830111,
          0.7162022701869152
         ],
         "xaxis": "x",
         "y": [
          -25,
          -25,
          -193.699951171875,
          -193.699951171875
         ],
         "yaxis": "y"
        },
        {
         "hoverinfo": "text",
         "marker": {
          "color": "rgb(255,65,54)"
         },
         "mode": "lines",
         "type": "scatter",
         "x": [
          0,
          0.6578820170122683,
          0.6578820170122683,
          0
         ],
         "xaxis": "x",
         "y": [
          -245,
          -245,
          -255,
          -255
         ],
         "yaxis": "y"
        },
        {
         "hoverinfo": "text",
         "marker": {
          "color": "rgb(255,65,54)"
         },
         "mode": "lines",
         "type": "scatter",
         "x": [
          0,
          0.5741436191164013,
          0.5741436191164013,
          0
         ],
         "xaxis": "x",
         "y": [
          -285,
          -285,
          -295,
          -295
         ],
         "yaxis": "y"
        },
        {
         "hoverinfo": "text",
         "marker": {
          "color": "rgb(255,65,54)"
         },
         "mode": "lines",
         "type": "scatter",
         "x": [
          0,
          0.6413919121899924,
          0.6413919121899924,
          0.5741436191164013
         ],
         "xaxis": "x",
         "y": [
          -275,
          -275,
          -290,
          -290
         ],
         "yaxis": "y"
        },
        {
         "hoverinfo": "text",
         "marker": {
          "color": "rgb(255,65,54)"
         },
         "mode": "lines",
         "type": "scatter",
         "x": [
          0.6413919121899924,
          0.7011218921617772,
          0.7011218921617772,
          0
         ],
         "xaxis": "x",
         "y": [
          -282.5,
          -282.5,
          -305,
          -305
         ],
         "yaxis": "y"
        },
        {
         "hoverinfo": "text",
         "marker": {
          "color": "rgb(255,65,54)"
         },
         "mode": "lines",
         "type": "scatter",
         "x": [
          0,
          0.734579886724972,
          0.734579886724972,
          0.7011218921617772
         ],
         "xaxis": "x",
         "y": [
          -265,
          -265,
          -293.75,
          -293.75
         ],
         "yaxis": "y"
        },
        {
         "hoverinfo": "text",
         "marker": {
          "color": "rgb(255,65,54)"
         },
         "mode": "lines",
         "type": "scatter",
         "x": [
          0.6578820170122683,
          0.7685434347518001,
          0.7685434347518001,
          0.734579886724972
         ],
         "xaxis": "x",
         "y": [
          -250,
          -250,
          -279.375,
          -279.375
         ],
         "yaxis": "y"
        },
        {
         "hoverinfo": "text",
         "marker": {
          "color": "rgb(255,65,54)"
         },
         "mode": "lines",
         "type": "scatter",
         "x": [
          0.7685434347518001,
          0.8330841224771892,
          0.8330841224771892,
          0
         ],
         "xaxis": "x",
         "y": [
          -264.6875,
          -264.6875,
          -315,
          -315
         ],
         "yaxis": "y"
        },
        {
         "hoverinfo": "text",
         "marker": {
          "color": "rgb(255,65,54)"
         },
         "mode": "lines",
         "type": "scatter",
         "x": [
          0.7350101375830111,
          0.9453323632218108,
          0.9453323632218108,
          0.8330841224771892
         ],
         "xaxis": "x",
         "y": [
          -109.3499755859375,
          -109.3499755859375,
          -289.84375,
          -289.84375
         ],
         "yaxis": "y"
        },
        {
         "hoverinfo": "text",
         "marker": {
          "color": "rgb(0,116,217)"
         },
         "mode": "lines",
         "type": "scatter",
         "x": [
          0.8204043918098912,
          1.0097538629971272,
          1.0097538629971272,
          0.9453323632218108
         ],
         "xaxis": "x",
         "y": [
          -10,
          -10,
          -199.59686279296875,
          -199.59686279296875
         ],
         "yaxis": "y"
        },
        {
         "hoverinfo": "text",
         "marker": {
          "color": "rgb(35,205,205)"
         },
         "mode": "lines",
         "type": "scatter",
         "x": [
          0,
          0.713967847058379,
          0.713967847058379,
          0
         ],
         "xaxis": "x",
         "y": [
          -335,
          -335,
          -345,
          -345
         ],
         "yaxis": "y"
        },
        {
         "hoverinfo": "text",
         "marker": {
          "color": "rgb(35,205,205)"
         },
         "mode": "lines",
         "type": "scatter",
         "x": [
          0,
          0.9327503063834093,
          0.9327503063834093,
          0.713967847058379
         ],
         "xaxis": "x",
         "y": [
          -325,
          -325,
          -340,
          -340
         ],
         "yaxis": "y"
        },
        {
         "hoverinfo": "text",
         "marker": {
          "color": "rgb(133,20,75)"
         },
         "mode": "lines",
         "type": "scatter",
         "x": [
          0,
          0.6757707668081117,
          0.6757707668081117,
          0
         ],
         "xaxis": "x",
         "y": [
          -365,
          -365,
          -375,
          -375
         ],
         "yaxis": "y"
        },
        {
         "hoverinfo": "text",
         "marker": {
          "color": "rgb(133,20,75)"
         },
         "mode": "lines",
         "type": "scatter",
         "x": [
          0,
          0.7818554281246817,
          0.7818554281246817,
          0.6757707668081117
         ],
         "xaxis": "x",
         "y": [
          -355,
          -355,
          -370,
          -370
         ],
         "yaxis": "y"
        },
        {
         "hoverinfo": "text",
         "marker": {
          "color": "rgb(255,220,0)"
         },
         "mode": "lines",
         "type": "scatter",
         "x": [
          0,
          0.5453446853869383,
          0.5453446853869383,
          0
         ],
         "xaxis": "x",
         "y": [
          -385,
          -385,
          -395,
          -395
         ],
         "yaxis": "y"
        },
        {
         "hoverinfo": "text",
         "marker": {
          "color": "rgb(0,116,217)"
         },
         "mode": "lines",
         "type": "scatter",
         "x": [
          0.7818554281246817,
          1.0059945137708628,
          1.0059945137708628,
          0.5453446853869383
         ],
         "xaxis": "x",
         "y": [
          -362.5,
          -362.5,
          -390,
          -390
         ],
         "yaxis": "y"
        },
        {
         "hoverinfo": "text",
         "marker": {
          "color": "rgb(0,116,217)"
         },
         "mode": "lines",
         "type": "scatter",
         "x": [
          0.9327503063834093,
          1.0638019588264778,
          1.0638019588264778,
          1.0059945137708628
         ],
         "xaxis": "x",
         "y": [
          -332.5,
          -332.5,
          -376.25,
          -376.25
         ],
         "yaxis": "y"
        },
        {
         "hoverinfo": "text",
         "marker": {
          "color": "rgb(40,35,35)"
         },
         "mode": "lines",
         "type": "scatter",
         "x": [
          0,
          0.7444081814146247,
          0.7444081814146247,
          0
         ],
         "xaxis": "x",
         "y": [
          -415,
          -415,
          -425,
          -425
         ],
         "yaxis": "y"
        },
        {
         "hoverinfo": "text",
         "marker": {
          "color": "rgb(40,35,35)"
         },
         "mode": "lines",
         "type": "scatter",
         "x": [
          0,
          0.8766213393312264,
          0.8766213393312264,
          0.7444081814146247
         ],
         "xaxis": "x",
         "y": [
          -405,
          -405,
          -420,
          -420
         ],
         "yaxis": "y"
        },
        {
         "hoverinfo": "text",
         "marker": {
          "color": "rgb(40,35,35)"
         },
         "mode": "lines",
         "type": "scatter",
         "x": [
          0.8766213393312264,
          0.979026301971826,
          0.979026301971826,
          0
         ],
         "xaxis": "x",
         "y": [
          -412.5,
          -412.5,
          -435,
          -435
         ],
         "yaxis": "y"
        },
        {
         "hoverinfo": "text",
         "marker": {
          "color": "rgb(61,153,112)"
         },
         "mode": "lines",
         "type": "scatter",
         "x": [
          0,
          0.9916886700910598,
          0.9916886700910598,
          0
         ],
         "xaxis": "x",
         "y": [
          -445,
          -445,
          -455,
          -455
         ],
         "yaxis": "y"
        },
        {
         "hoverinfo": "text",
         "marker": {
          "color": "rgb(0,116,217)"
         },
         "mode": "lines",
         "type": "scatter",
         "x": [
          0.9916886700910598,
          1.0013840821151525,
          1.0013840821151525,
          0
         ],
         "xaxis": "x",
         "y": [
          -450,
          -450,
          -465,
          -465
         ],
         "yaxis": "y"
        },
        {
         "hoverinfo": "text",
         "marker": {
          "color": "rgb(0,116,217)"
         },
         "mode": "lines",
         "type": "scatter",
         "x": [
          0.979026301971826,
          1.129441369817031,
          1.129441369817031,
          1.0013840821151525
         ],
         "xaxis": "x",
         "y": [
          -423.75,
          -423.75,
          -457.5,
          -457.5
         ],
         "yaxis": "y"
        },
        {
         "hoverinfo": "text",
         "marker": {
          "color": "rgb(0,116,217)"
         },
         "mode": "lines",
         "type": "scatter",
         "x": [
          1.0638019588264778,
          1.242242327936153,
          1.242242327936153,
          1.129441369817031
         ],
         "xaxis": "x",
         "y": [
          -354.375,
          -354.375,
          -440.625,
          -440.625
         ],
         "yaxis": "y"
        },
        {
         "hoverinfo": "text",
         "marker": {
          "color": "rgb(0,116,217)"
         },
         "mode": "lines",
         "type": "scatter",
         "x": [
          1.0097538629971272,
          2.0976654364325746,
          2.0976654364325746,
          1.242242327936153
         ],
         "xaxis": "x",
         "y": [
          -104.79843139648438,
          -104.79843139648438,
          -397.5,
          -397.5
         ],
         "yaxis": "y"
        }
       ],
       "layout": {
        "autosize": false,
        "height": 905,
        "hoverlabel": {
         "bgcolor": "white",
         "font": {
          "family": "Rockwell",
          "size": 16
         }
        },
        "hovermode": "closest",
        "plot_bgcolor": "#ECEFF1",
        "showlegend": false,
        "template": {
         "data": {
          "bar": [
           {
            "error_x": {
             "color": "#2a3f5f"
            },
            "error_y": {
             "color": "#2a3f5f"
            },
            "marker": {
             "line": {
              "color": "white",
              "width": 0.5
             },
             "pattern": {
              "fillmode": "overlay",
              "size": 10,
              "solidity": 0.2
             }
            },
            "type": "bar"
           }
          ],
          "barpolar": [
           {
            "marker": {
             "line": {
              "color": "white",
              "width": 0.5
             },
             "pattern": {
              "fillmode": "overlay",
              "size": 10,
              "solidity": 0.2
             }
            },
            "type": "barpolar"
           }
          ],
          "carpet": [
           {
            "aaxis": {
             "endlinecolor": "#2a3f5f",
             "gridcolor": "#C8D4E3",
             "linecolor": "#C8D4E3",
             "minorgridcolor": "#C8D4E3",
             "startlinecolor": "#2a3f5f"
            },
            "baxis": {
             "endlinecolor": "#2a3f5f",
             "gridcolor": "#C8D4E3",
             "linecolor": "#C8D4E3",
             "minorgridcolor": "#C8D4E3",
             "startlinecolor": "#2a3f5f"
            },
            "type": "carpet"
           }
          ],
          "choropleth": [
           {
            "colorbar": {
             "outlinewidth": 0,
             "ticks": ""
            },
            "type": "choropleth"
           }
          ],
          "contour": [
           {
            "colorbar": {
             "outlinewidth": 0,
             "ticks": ""
            },
            "colorscale": [
             [
              0,
              "#0d0887"
             ],
             [
              0.1111111111111111,
              "#46039f"
             ],
             [
              0.2222222222222222,
              "#7201a8"
             ],
             [
              0.3333333333333333,
              "#9c179e"
             ],
             [
              0.4444444444444444,
              "#bd3786"
             ],
             [
              0.5555555555555556,
              "#d8576b"
             ],
             [
              0.6666666666666666,
              "#ed7953"
             ],
             [
              0.7777777777777778,
              "#fb9f3a"
             ],
             [
              0.8888888888888888,
              "#fdca26"
             ],
             [
              1,
              "#f0f921"
             ]
            ],
            "type": "contour"
           }
          ],
          "contourcarpet": [
           {
            "colorbar": {
             "outlinewidth": 0,
             "ticks": ""
            },
            "type": "contourcarpet"
           }
          ],
          "heatmap": [
           {
            "colorbar": {
             "outlinewidth": 0,
             "ticks": ""
            },
            "colorscale": [
             [
              0,
              "#0d0887"
             ],
             [
              0.1111111111111111,
              "#46039f"
             ],
             [
              0.2222222222222222,
              "#7201a8"
             ],
             [
              0.3333333333333333,
              "#9c179e"
             ],
             [
              0.4444444444444444,
              "#bd3786"
             ],
             [
              0.5555555555555556,
              "#d8576b"
             ],
             [
              0.6666666666666666,
              "#ed7953"
             ],
             [
              0.7777777777777778,
              "#fb9f3a"
             ],
             [
              0.8888888888888888,
              "#fdca26"
             ],
             [
              1,
              "#f0f921"
             ]
            ],
            "type": "heatmap"
           }
          ],
          "heatmapgl": [
           {
            "colorbar": {
             "outlinewidth": 0,
             "ticks": ""
            },
            "colorscale": [
             [
              0,
              "#0d0887"
             ],
             [
              0.1111111111111111,
              "#46039f"
             ],
             [
              0.2222222222222222,
              "#7201a8"
             ],
             [
              0.3333333333333333,
              "#9c179e"
             ],
             [
              0.4444444444444444,
              "#bd3786"
             ],
             [
              0.5555555555555556,
              "#d8576b"
             ],
             [
              0.6666666666666666,
              "#ed7953"
             ],
             [
              0.7777777777777778,
              "#fb9f3a"
             ],
             [
              0.8888888888888888,
              "#fdca26"
             ],
             [
              1,
              "#f0f921"
             ]
            ],
            "type": "heatmapgl"
           }
          ],
          "histogram": [
           {
            "marker": {
             "pattern": {
              "fillmode": "overlay",
              "size": 10,
              "solidity": 0.2
             }
            },
            "type": "histogram"
           }
          ],
          "histogram2d": [
           {
            "colorbar": {
             "outlinewidth": 0,
             "ticks": ""
            },
            "colorscale": [
             [
              0,
              "#0d0887"
             ],
             [
              0.1111111111111111,
              "#46039f"
             ],
             [
              0.2222222222222222,
              "#7201a8"
             ],
             [
              0.3333333333333333,
              "#9c179e"
             ],
             [
              0.4444444444444444,
              "#bd3786"
             ],
             [
              0.5555555555555556,
              "#d8576b"
             ],
             [
              0.6666666666666666,
              "#ed7953"
             ],
             [
              0.7777777777777778,
              "#fb9f3a"
             ],
             [
              0.8888888888888888,
              "#fdca26"
             ],
             [
              1,
              "#f0f921"
             ]
            ],
            "type": "histogram2d"
           }
          ],
          "histogram2dcontour": [
           {
            "colorbar": {
             "outlinewidth": 0,
             "ticks": ""
            },
            "colorscale": [
             [
              0,
              "#0d0887"
             ],
             [
              0.1111111111111111,
              "#46039f"
             ],
             [
              0.2222222222222222,
              "#7201a8"
             ],
             [
              0.3333333333333333,
              "#9c179e"
             ],
             [
              0.4444444444444444,
              "#bd3786"
             ],
             [
              0.5555555555555556,
              "#d8576b"
             ],
             [
              0.6666666666666666,
              "#ed7953"
             ],
             [
              0.7777777777777778,
              "#fb9f3a"
             ],
             [
              0.8888888888888888,
              "#fdca26"
             ],
             [
              1,
              "#f0f921"
             ]
            ],
            "type": "histogram2dcontour"
           }
          ],
          "mesh3d": [
           {
            "colorbar": {
             "outlinewidth": 0,
             "ticks": ""
            },
            "type": "mesh3d"
           }
          ],
          "parcoords": [
           {
            "line": {
             "colorbar": {
              "outlinewidth": 0,
              "ticks": ""
             }
            },
            "type": "parcoords"
           }
          ],
          "pie": [
           {
            "automargin": true,
            "type": "pie"
           }
          ],
          "scatter": [
           {
            "fillpattern": {
             "fillmode": "overlay",
             "size": 10,
             "solidity": 0.2
            },
            "type": "scatter"
           }
          ],
          "scatter3d": [
           {
            "line": {
             "colorbar": {
              "outlinewidth": 0,
              "ticks": ""
             }
            },
            "marker": {
             "colorbar": {
              "outlinewidth": 0,
              "ticks": ""
             }
            },
            "type": "scatter3d"
           }
          ],
          "scattercarpet": [
           {
            "marker": {
             "colorbar": {
              "outlinewidth": 0,
              "ticks": ""
             }
            },
            "type": "scattercarpet"
           }
          ],
          "scattergeo": [
           {
            "marker": {
             "colorbar": {
              "outlinewidth": 0,
              "ticks": ""
             }
            },
            "type": "scattergeo"
           }
          ],
          "scattergl": [
           {
            "marker": {
             "colorbar": {
              "outlinewidth": 0,
              "ticks": ""
             }
            },
            "type": "scattergl"
           }
          ],
          "scattermapbox": [
           {
            "marker": {
             "colorbar": {
              "outlinewidth": 0,
              "ticks": ""
             }
            },
            "type": "scattermapbox"
           }
          ],
          "scatterpolar": [
           {
            "marker": {
             "colorbar": {
              "outlinewidth": 0,
              "ticks": ""
             }
            },
            "type": "scatterpolar"
           }
          ],
          "scatterpolargl": [
           {
            "marker": {
             "colorbar": {
              "outlinewidth": 0,
              "ticks": ""
             }
            },
            "type": "scatterpolargl"
           }
          ],
          "scatterternary": [
           {
            "marker": {
             "colorbar": {
              "outlinewidth": 0,
              "ticks": ""
             }
            },
            "type": "scatterternary"
           }
          ],
          "surface": [
           {
            "colorbar": {
             "outlinewidth": 0,
             "ticks": ""
            },
            "colorscale": [
             [
              0,
              "#0d0887"
             ],
             [
              0.1111111111111111,
              "#46039f"
             ],
             [
              0.2222222222222222,
              "#7201a8"
             ],
             [
              0.3333333333333333,
              "#9c179e"
             ],
             [
              0.4444444444444444,
              "#bd3786"
             ],
             [
              0.5555555555555556,
              "#d8576b"
             ],
             [
              0.6666666666666666,
              "#ed7953"
             ],
             [
              0.7777777777777778,
              "#fb9f3a"
             ],
             [
              0.8888888888888888,
              "#fdca26"
             ],
             [
              1,
              "#f0f921"
             ]
            ],
            "type": "surface"
           }
          ],
          "table": [
           {
            "cells": {
             "fill": {
              "color": "#EBF0F8"
             },
             "line": {
              "color": "white"
             }
            },
            "header": {
             "fill": {
              "color": "#C8D4E3"
             },
             "line": {
              "color": "white"
             }
            },
            "type": "table"
           }
          ]
         },
         "layout": {
          "annotationdefaults": {
           "arrowcolor": "#2a3f5f",
           "arrowhead": 0,
           "arrowwidth": 1
          },
          "autotypenumbers": "strict",
          "coloraxis": {
           "colorbar": {
            "outlinewidth": 0,
            "ticks": ""
           }
          },
          "colorscale": {
           "diverging": [
            [
             0,
             "#8e0152"
            ],
            [
             0.1,
             "#c51b7d"
            ],
            [
             0.2,
             "#de77ae"
            ],
            [
             0.3,
             "#f1b6da"
            ],
            [
             0.4,
             "#fde0ef"
            ],
            [
             0.5,
             "#f7f7f7"
            ],
            [
             0.6,
             "#e6f5d0"
            ],
            [
             0.7,
             "#b8e186"
            ],
            [
             0.8,
             "#7fbc41"
            ],
            [
             0.9,
             "#4d9221"
            ],
            [
             1,
             "#276419"
            ]
           ],
           "sequential": [
            [
             0,
             "#0d0887"
            ],
            [
             0.1111111111111111,
             "#46039f"
            ],
            [
             0.2222222222222222,
             "#7201a8"
            ],
            [
             0.3333333333333333,
             "#9c179e"
            ],
            [
             0.4444444444444444,
             "#bd3786"
            ],
            [
             0.5555555555555556,
             "#d8576b"
            ],
            [
             0.6666666666666666,
             "#ed7953"
            ],
            [
             0.7777777777777778,
             "#fb9f3a"
            ],
            [
             0.8888888888888888,
             "#fdca26"
            ],
            [
             1,
             "#f0f921"
            ]
           ],
           "sequentialminus": [
            [
             0,
             "#0d0887"
            ],
            [
             0.1111111111111111,
             "#46039f"
            ],
            [
             0.2222222222222222,
             "#7201a8"
            ],
            [
             0.3333333333333333,
             "#9c179e"
            ],
            [
             0.4444444444444444,
             "#bd3786"
            ],
            [
             0.5555555555555556,
             "#d8576b"
            ],
            [
             0.6666666666666666,
             "#ed7953"
            ],
            [
             0.7777777777777778,
             "#fb9f3a"
            ],
            [
             0.8888888888888888,
             "#fdca26"
            ],
            [
             1,
             "#f0f921"
            ]
           ]
          },
          "colorway": [
           "#636efa",
           "#EF553B",
           "#00cc96",
           "#ab63fa",
           "#FFA15A",
           "#19d3f3",
           "#FF6692",
           "#B6E880",
           "#FF97FF",
           "#FECB52"
          ],
          "font": {
           "color": "#2a3f5f"
          },
          "geo": {
           "bgcolor": "white",
           "lakecolor": "white",
           "landcolor": "white",
           "showlakes": true,
           "showland": true,
           "subunitcolor": "#C8D4E3"
          },
          "hoverlabel": {
           "align": "left"
          },
          "hovermode": "closest",
          "mapbox": {
           "style": "light"
          },
          "paper_bgcolor": "white",
          "plot_bgcolor": "white",
          "polar": {
           "angularaxis": {
            "gridcolor": "#EBF0F8",
            "linecolor": "#EBF0F8",
            "ticks": ""
           },
           "bgcolor": "white",
           "radialaxis": {
            "gridcolor": "#EBF0F8",
            "linecolor": "#EBF0F8",
            "ticks": ""
           }
          },
          "scene": {
           "xaxis": {
            "backgroundcolor": "white",
            "gridcolor": "#DFE8F3",
            "gridwidth": 2,
            "linecolor": "#EBF0F8",
            "showbackground": true,
            "ticks": "",
            "zerolinecolor": "#EBF0F8"
           },
           "yaxis": {
            "backgroundcolor": "white",
            "gridcolor": "#DFE8F3",
            "gridwidth": 2,
            "linecolor": "#EBF0F8",
            "showbackground": true,
            "ticks": "",
            "zerolinecolor": "#EBF0F8"
           },
           "zaxis": {
            "backgroundcolor": "white",
            "gridcolor": "#DFE8F3",
            "gridwidth": 2,
            "linecolor": "#EBF0F8",
            "showbackground": true,
            "ticks": "",
            "zerolinecolor": "#EBF0F8"
           }
          },
          "shapedefaults": {
           "line": {
            "color": "#2a3f5f"
           }
          },
          "ternary": {
           "aaxis": {
            "gridcolor": "#DFE8F3",
            "linecolor": "#A2B1C6",
            "ticks": ""
           },
           "baxis": {
            "gridcolor": "#DFE8F3",
            "linecolor": "#A2B1C6",
            "ticks": ""
           },
           "bgcolor": "white",
           "caxis": {
            "gridcolor": "#DFE8F3",
            "linecolor": "#A2B1C6",
            "ticks": ""
           }
          },
          "title": {
           "x": 0.05
          },
          "xaxis": {
           "automargin": true,
           "gridcolor": "#EBF0F8",
           "linecolor": "#EBF0F8",
           "ticks": "",
           "title": {
            "standoff": 15
           },
           "zerolinecolor": "#EBF0F8",
           "zerolinewidth": 2
          },
          "yaxis": {
           "automargin": true,
           "gridcolor": "#EBF0F8",
           "linecolor": "#EBF0F8",
           "ticks": "",
           "title": {
            "standoff": 15
           },
           "zerolinecolor": "#EBF0F8",
           "zerolinewidth": 2
          }
         }
        },
        "title": {
         "font": {
          "color": "Black",
          "size": 22
         },
         "text": "<b>Hierarchical Clustering</b>",
         "x": 0.5,
         "xanchor": "center",
         "yanchor": "top"
        },
        "width": 1000,
        "xaxis": {
         "mirror": "allticks",
         "rangemode": "tozero",
         "showgrid": false,
         "showline": true,
         "showticklabels": true,
         "ticks": "outside",
         "type": "linear",
         "zeroline": false
        },
        "yaxis": {
         "mirror": "allticks",
         "range": [
          -470,
          0
         ],
         "rangemode": "tozero",
         "showgrid": false,
         "showline": true,
         "showticklabels": true,
         "tickmode": "array",
         "ticks": "outside",
         "ticktext": [
          "19_slow_super_waste",
          "42_hp_stallion_drive",
          "39_ssd_drive_computer",
          "37_hd_1005pr_broadcom",
          "26_pc_mini_hdmi",
          "8_computer_pc_great",
          "15_space_drive_to",
          "5_netbook_the_is",
          "0_tablet_the_and",
          "3_laptop_is_and",
          "1_gaming_games_the",
          "14_laptop_fan_it",
          "11_surface_the_is",
          "2_chromebook_chrome_to",
          "12_charger_it_laptop",
          "6_asus_the_to",
          "10_wifi_to_the",
          "18_windows_10_my",
          "33_its_touch_small",
          "13_screen_good_it",
          "24_new_refurbished_was",
          "9_laptop_great_price",
          "22_slow_laptop_not",
          "21_battery_hours_life",
          "44_return_screen_product",
          "16_working_item_it",
          "45_compaq_a1500_printer",
          "41_premier_hp_warranty",
          "25_mouse_touchpad_pad",
          "31_keys_keyboard_uy",
          "28_touchscreen_touch_screen",
          "40_backlit_keyboard_backlight",
          "17_nice_excellent_great",
          "27_delivery_product_seller",
          "43_laptop_within_arrived",
          "34_good_goog_bd",
          "30_price_value_good",
          "29_product_good_great",
          "20_works_far_issues",
          "35_works_working_great",
          "23_love_far_so",
          "4_loves_she_for",
          "36_weight_size_lightweight",
          "46_perfect_increible_perfecto",
          "38_loading_player_video",
          "7_de_la_que",
          "32_united_reviewed_states"
         ],
         "tickvals": [
          -5,
          -15,
          -25,
          -35,
          -45,
          -55,
          -65,
          -75,
          -85,
          -95,
          -105,
          -115,
          -125,
          -135,
          -145,
          -155,
          -165,
          -175,
          -185,
          -195,
          -205,
          -215,
          -225,
          -235,
          -245,
          -255,
          -265,
          -275,
          -285,
          -295,
          -305,
          -315,
          -325,
          -335,
          -345,
          -355,
          -365,
          -375,
          -385,
          -395,
          -405,
          -415,
          -425,
          -435,
          -445,
          -455,
          -465
         ],
         "type": "linear",
         "zeroline": false
        }
       }
      }
     },
     "metadata": {},
     "output_type": "display_data"
    }
   ],
   "source": [
    "topic_model.visualize_hierarchy(top_n_topics=50)"
   ]
  },
  {
   "cell_type": "code",
   "execution_count": 38,
   "metadata": {},
   "outputs": [
    {
     "data": {
      "application/vnd.plotly.v1+json": {
       "config": {
        "plotlyServerURL": "https://plot.ly"
       },
       "data": [
        {
         "marker": {
          "color": "#D55E00"
         },
         "orientation": "h",
         "type": "bar",
         "x": [
          0.01577307620584752,
          0.016014135437260022,
          0.016123172314583708,
          0.0176940279538386,
          0.027604436680971553
         ],
         "xaxis": "x",
         "y": [
          "to  ",
          "it  ",
          "and  ",
          "the  ",
          "tablet  "
         ],
         "yaxis": "y"
        },
        {
         "marker": {
          "color": "#0072B2"
         },
         "orientation": "h",
         "type": "bar",
         "x": [
          0.015436070886397535,
          0.015667135672849098,
          0.01643295466737133,
          0.017812495532369795,
          0.019079741415831037
         ],
         "xaxis": "x2",
         "y": [
          "laptop  ",
          "and  ",
          "the  ",
          "games  ",
          "gaming  "
         ],
         "yaxis": "y2"
        },
        {
         "marker": {
          "color": "#CC79A7"
         },
         "orientation": "h",
         "type": "bar",
         "x": [
          0.01561348149201668,
          0.016435200603144587,
          0.01644188542305409,
          0.01928528823599409,
          0.04603923721736231
         ],
         "xaxis": "x3",
         "y": [
          "for  ",
          "the  ",
          "to  ",
          "chrome  ",
          "chromebook  "
         ],
         "yaxis": "y3"
        },
        {
         "marker": {
          "color": "#E69F00"
         },
         "orientation": "h",
         "type": "bar",
         "x": [
          0.016360214598332645,
          0.016690972158865287,
          0.01801569013403557,
          0.019454830677996922,
          0.027560113548929316
         ],
         "xaxis": "x4",
         "y": [
          "it  ",
          "for  ",
          "and  ",
          "is  ",
          "laptop  "
         ],
         "yaxis": "y4"
        },
        {
         "marker": {
          "color": "#56B4E9"
         },
         "orientation": "h",
         "type": "bar",
         "x": [
          0.04190582233501476,
          0.057359817178452455,
          0.06032183261287303,
          0.0639460804468188,
          0.07174699308008775
         ],
         "xaxis": "x5",
         "y": [
          "my  ",
          "gift  ",
          "for  ",
          "she  ",
          "loves  "
         ],
         "yaxis": "y5"
        }
       ],
       "layout": {
        "annotations": [
         {
          "font": {
           "size": 16
          },
          "showarrow": false,
          "text": "Topic 0",
          "x": 0.0875,
          "xanchor": "center",
          "xref": "paper",
          "y": 1,
          "yanchor": "bottom",
          "yref": "paper"
         },
         {
          "font": {
           "size": 16
          },
          "showarrow": false,
          "text": "Topic 1",
          "x": 0.36250000000000004,
          "xanchor": "center",
          "xref": "paper",
          "y": 1,
          "yanchor": "bottom",
          "yref": "paper"
         },
         {
          "font": {
           "size": 16
          },
          "showarrow": false,
          "text": "Topic 2",
          "x": 0.6375000000000001,
          "xanchor": "center",
          "xref": "paper",
          "y": 1,
          "yanchor": "bottom",
          "yref": "paper"
         },
         {
          "font": {
           "size": 16
          },
          "showarrow": false,
          "text": "Topic 3",
          "x": 0.9125,
          "xanchor": "center",
          "xref": "paper",
          "y": 1,
          "yanchor": "bottom",
          "yref": "paper"
         },
         {
          "font": {
           "size": 16
          },
          "showarrow": false,
          "text": "Topic 4",
          "x": 0.0875,
          "xanchor": "center",
          "xref": "paper",
          "y": 0.4,
          "yanchor": "bottom",
          "yref": "paper"
         }
        ],
        "height": 500,
        "hoverlabel": {
         "bgcolor": "white",
         "font": {
          "family": "Rockwell",
          "size": 16
         }
        },
        "showlegend": false,
        "template": {
         "data": {
          "bar": [
           {
            "error_x": {
             "color": "#2a3f5f"
            },
            "error_y": {
             "color": "#2a3f5f"
            },
            "marker": {
             "line": {
              "color": "white",
              "width": 0.5
             },
             "pattern": {
              "fillmode": "overlay",
              "size": 10,
              "solidity": 0.2
             }
            },
            "type": "bar"
           }
          ],
          "barpolar": [
           {
            "marker": {
             "line": {
              "color": "white",
              "width": 0.5
             },
             "pattern": {
              "fillmode": "overlay",
              "size": 10,
              "solidity": 0.2
             }
            },
            "type": "barpolar"
           }
          ],
          "carpet": [
           {
            "aaxis": {
             "endlinecolor": "#2a3f5f",
             "gridcolor": "#C8D4E3",
             "linecolor": "#C8D4E3",
             "minorgridcolor": "#C8D4E3",
             "startlinecolor": "#2a3f5f"
            },
            "baxis": {
             "endlinecolor": "#2a3f5f",
             "gridcolor": "#C8D4E3",
             "linecolor": "#C8D4E3",
             "minorgridcolor": "#C8D4E3",
             "startlinecolor": "#2a3f5f"
            },
            "type": "carpet"
           }
          ],
          "choropleth": [
           {
            "colorbar": {
             "outlinewidth": 0,
             "ticks": ""
            },
            "type": "choropleth"
           }
          ],
          "contour": [
           {
            "colorbar": {
             "outlinewidth": 0,
             "ticks": ""
            },
            "colorscale": [
             [
              0,
              "#0d0887"
             ],
             [
              0.1111111111111111,
              "#46039f"
             ],
             [
              0.2222222222222222,
              "#7201a8"
             ],
             [
              0.3333333333333333,
              "#9c179e"
             ],
             [
              0.4444444444444444,
              "#bd3786"
             ],
             [
              0.5555555555555556,
              "#d8576b"
             ],
             [
              0.6666666666666666,
              "#ed7953"
             ],
             [
              0.7777777777777778,
              "#fb9f3a"
             ],
             [
              0.8888888888888888,
              "#fdca26"
             ],
             [
              1,
              "#f0f921"
             ]
            ],
            "type": "contour"
           }
          ],
          "contourcarpet": [
           {
            "colorbar": {
             "outlinewidth": 0,
             "ticks": ""
            },
            "type": "contourcarpet"
           }
          ],
          "heatmap": [
           {
            "colorbar": {
             "outlinewidth": 0,
             "ticks": ""
            },
            "colorscale": [
             [
              0,
              "#0d0887"
             ],
             [
              0.1111111111111111,
              "#46039f"
             ],
             [
              0.2222222222222222,
              "#7201a8"
             ],
             [
              0.3333333333333333,
              "#9c179e"
             ],
             [
              0.4444444444444444,
              "#bd3786"
             ],
             [
              0.5555555555555556,
              "#d8576b"
             ],
             [
              0.6666666666666666,
              "#ed7953"
             ],
             [
              0.7777777777777778,
              "#fb9f3a"
             ],
             [
              0.8888888888888888,
              "#fdca26"
             ],
             [
              1,
              "#f0f921"
             ]
            ],
            "type": "heatmap"
           }
          ],
          "heatmapgl": [
           {
            "colorbar": {
             "outlinewidth": 0,
             "ticks": ""
            },
            "colorscale": [
             [
              0,
              "#0d0887"
             ],
             [
              0.1111111111111111,
              "#46039f"
             ],
             [
              0.2222222222222222,
              "#7201a8"
             ],
             [
              0.3333333333333333,
              "#9c179e"
             ],
             [
              0.4444444444444444,
              "#bd3786"
             ],
             [
              0.5555555555555556,
              "#d8576b"
             ],
             [
              0.6666666666666666,
              "#ed7953"
             ],
             [
              0.7777777777777778,
              "#fb9f3a"
             ],
             [
              0.8888888888888888,
              "#fdca26"
             ],
             [
              1,
              "#f0f921"
             ]
            ],
            "type": "heatmapgl"
           }
          ],
          "histogram": [
           {
            "marker": {
             "pattern": {
              "fillmode": "overlay",
              "size": 10,
              "solidity": 0.2
             }
            },
            "type": "histogram"
           }
          ],
          "histogram2d": [
           {
            "colorbar": {
             "outlinewidth": 0,
             "ticks": ""
            },
            "colorscale": [
             [
              0,
              "#0d0887"
             ],
             [
              0.1111111111111111,
              "#46039f"
             ],
             [
              0.2222222222222222,
              "#7201a8"
             ],
             [
              0.3333333333333333,
              "#9c179e"
             ],
             [
              0.4444444444444444,
              "#bd3786"
             ],
             [
              0.5555555555555556,
              "#d8576b"
             ],
             [
              0.6666666666666666,
              "#ed7953"
             ],
             [
              0.7777777777777778,
              "#fb9f3a"
             ],
             [
              0.8888888888888888,
              "#fdca26"
             ],
             [
              1,
              "#f0f921"
             ]
            ],
            "type": "histogram2d"
           }
          ],
          "histogram2dcontour": [
           {
            "colorbar": {
             "outlinewidth": 0,
             "ticks": ""
            },
            "colorscale": [
             [
              0,
              "#0d0887"
             ],
             [
              0.1111111111111111,
              "#46039f"
             ],
             [
              0.2222222222222222,
              "#7201a8"
             ],
             [
              0.3333333333333333,
              "#9c179e"
             ],
             [
              0.4444444444444444,
              "#bd3786"
             ],
             [
              0.5555555555555556,
              "#d8576b"
             ],
             [
              0.6666666666666666,
              "#ed7953"
             ],
             [
              0.7777777777777778,
              "#fb9f3a"
             ],
             [
              0.8888888888888888,
              "#fdca26"
             ],
             [
              1,
              "#f0f921"
             ]
            ],
            "type": "histogram2dcontour"
           }
          ],
          "mesh3d": [
           {
            "colorbar": {
             "outlinewidth": 0,
             "ticks": ""
            },
            "type": "mesh3d"
           }
          ],
          "parcoords": [
           {
            "line": {
             "colorbar": {
              "outlinewidth": 0,
              "ticks": ""
             }
            },
            "type": "parcoords"
           }
          ],
          "pie": [
           {
            "automargin": true,
            "type": "pie"
           }
          ],
          "scatter": [
           {
            "fillpattern": {
             "fillmode": "overlay",
             "size": 10,
             "solidity": 0.2
            },
            "type": "scatter"
           }
          ],
          "scatter3d": [
           {
            "line": {
             "colorbar": {
              "outlinewidth": 0,
              "ticks": ""
             }
            },
            "marker": {
             "colorbar": {
              "outlinewidth": 0,
              "ticks": ""
             }
            },
            "type": "scatter3d"
           }
          ],
          "scattercarpet": [
           {
            "marker": {
             "colorbar": {
              "outlinewidth": 0,
              "ticks": ""
             }
            },
            "type": "scattercarpet"
           }
          ],
          "scattergeo": [
           {
            "marker": {
             "colorbar": {
              "outlinewidth": 0,
              "ticks": ""
             }
            },
            "type": "scattergeo"
           }
          ],
          "scattergl": [
           {
            "marker": {
             "colorbar": {
              "outlinewidth": 0,
              "ticks": ""
             }
            },
            "type": "scattergl"
           }
          ],
          "scattermapbox": [
           {
            "marker": {
             "colorbar": {
              "outlinewidth": 0,
              "ticks": ""
             }
            },
            "type": "scattermapbox"
           }
          ],
          "scatterpolar": [
           {
            "marker": {
             "colorbar": {
              "outlinewidth": 0,
              "ticks": ""
             }
            },
            "type": "scatterpolar"
           }
          ],
          "scatterpolargl": [
           {
            "marker": {
             "colorbar": {
              "outlinewidth": 0,
              "ticks": ""
             }
            },
            "type": "scatterpolargl"
           }
          ],
          "scatterternary": [
           {
            "marker": {
             "colorbar": {
              "outlinewidth": 0,
              "ticks": ""
             }
            },
            "type": "scatterternary"
           }
          ],
          "surface": [
           {
            "colorbar": {
             "outlinewidth": 0,
             "ticks": ""
            },
            "colorscale": [
             [
              0,
              "#0d0887"
             ],
             [
              0.1111111111111111,
              "#46039f"
             ],
             [
              0.2222222222222222,
              "#7201a8"
             ],
             [
              0.3333333333333333,
              "#9c179e"
             ],
             [
              0.4444444444444444,
              "#bd3786"
             ],
             [
              0.5555555555555556,
              "#d8576b"
             ],
             [
              0.6666666666666666,
              "#ed7953"
             ],
             [
              0.7777777777777778,
              "#fb9f3a"
             ],
             [
              0.8888888888888888,
              "#fdca26"
             ],
             [
              1,
              "#f0f921"
             ]
            ],
            "type": "surface"
           }
          ],
          "table": [
           {
            "cells": {
             "fill": {
              "color": "#EBF0F8"
             },
             "line": {
              "color": "white"
             }
            },
            "header": {
             "fill": {
              "color": "#C8D4E3"
             },
             "line": {
              "color": "white"
             }
            },
            "type": "table"
           }
          ]
         },
         "layout": {
          "annotationdefaults": {
           "arrowcolor": "#2a3f5f",
           "arrowhead": 0,
           "arrowwidth": 1
          },
          "autotypenumbers": "strict",
          "coloraxis": {
           "colorbar": {
            "outlinewidth": 0,
            "ticks": ""
           }
          },
          "colorscale": {
           "diverging": [
            [
             0,
             "#8e0152"
            ],
            [
             0.1,
             "#c51b7d"
            ],
            [
             0.2,
             "#de77ae"
            ],
            [
             0.3,
             "#f1b6da"
            ],
            [
             0.4,
             "#fde0ef"
            ],
            [
             0.5,
             "#f7f7f7"
            ],
            [
             0.6,
             "#e6f5d0"
            ],
            [
             0.7,
             "#b8e186"
            ],
            [
             0.8,
             "#7fbc41"
            ],
            [
             0.9,
             "#4d9221"
            ],
            [
             1,
             "#276419"
            ]
           ],
           "sequential": [
            [
             0,
             "#0d0887"
            ],
            [
             0.1111111111111111,
             "#46039f"
            ],
            [
             0.2222222222222222,
             "#7201a8"
            ],
            [
             0.3333333333333333,
             "#9c179e"
            ],
            [
             0.4444444444444444,
             "#bd3786"
            ],
            [
             0.5555555555555556,
             "#d8576b"
            ],
            [
             0.6666666666666666,
             "#ed7953"
            ],
            [
             0.7777777777777778,
             "#fb9f3a"
            ],
            [
             0.8888888888888888,
             "#fdca26"
            ],
            [
             1,
             "#f0f921"
            ]
           ],
           "sequentialminus": [
            [
             0,
             "#0d0887"
            ],
            [
             0.1111111111111111,
             "#46039f"
            ],
            [
             0.2222222222222222,
             "#7201a8"
            ],
            [
             0.3333333333333333,
             "#9c179e"
            ],
            [
             0.4444444444444444,
             "#bd3786"
            ],
            [
             0.5555555555555556,
             "#d8576b"
            ],
            [
             0.6666666666666666,
             "#ed7953"
            ],
            [
             0.7777777777777778,
             "#fb9f3a"
            ],
            [
             0.8888888888888888,
             "#fdca26"
            ],
            [
             1,
             "#f0f921"
            ]
           ]
          },
          "colorway": [
           "#636efa",
           "#EF553B",
           "#00cc96",
           "#ab63fa",
           "#FFA15A",
           "#19d3f3",
           "#FF6692",
           "#B6E880",
           "#FF97FF",
           "#FECB52"
          ],
          "font": {
           "color": "#2a3f5f"
          },
          "geo": {
           "bgcolor": "white",
           "lakecolor": "white",
           "landcolor": "white",
           "showlakes": true,
           "showland": true,
           "subunitcolor": "#C8D4E3"
          },
          "hoverlabel": {
           "align": "left"
          },
          "hovermode": "closest",
          "mapbox": {
           "style": "light"
          },
          "paper_bgcolor": "white",
          "plot_bgcolor": "white",
          "polar": {
           "angularaxis": {
            "gridcolor": "#EBF0F8",
            "linecolor": "#EBF0F8",
            "ticks": ""
           },
           "bgcolor": "white",
           "radialaxis": {
            "gridcolor": "#EBF0F8",
            "linecolor": "#EBF0F8",
            "ticks": ""
           }
          },
          "scene": {
           "xaxis": {
            "backgroundcolor": "white",
            "gridcolor": "#DFE8F3",
            "gridwidth": 2,
            "linecolor": "#EBF0F8",
            "showbackground": true,
            "ticks": "",
            "zerolinecolor": "#EBF0F8"
           },
           "yaxis": {
            "backgroundcolor": "white",
            "gridcolor": "#DFE8F3",
            "gridwidth": 2,
            "linecolor": "#EBF0F8",
            "showbackground": true,
            "ticks": "",
            "zerolinecolor": "#EBF0F8"
           },
           "zaxis": {
            "backgroundcolor": "white",
            "gridcolor": "#DFE8F3",
            "gridwidth": 2,
            "linecolor": "#EBF0F8",
            "showbackground": true,
            "ticks": "",
            "zerolinecolor": "#EBF0F8"
           }
          },
          "shapedefaults": {
           "line": {
            "color": "#2a3f5f"
           }
          },
          "ternary": {
           "aaxis": {
            "gridcolor": "#DFE8F3",
            "linecolor": "#A2B1C6",
            "ticks": ""
           },
           "baxis": {
            "gridcolor": "#DFE8F3",
            "linecolor": "#A2B1C6",
            "ticks": ""
           },
           "bgcolor": "white",
           "caxis": {
            "gridcolor": "#DFE8F3",
            "linecolor": "#A2B1C6",
            "ticks": ""
           }
          },
          "title": {
           "x": 0.05
          },
          "xaxis": {
           "automargin": true,
           "gridcolor": "#EBF0F8",
           "linecolor": "#EBF0F8",
           "ticks": "",
           "title": {
            "standoff": 15
           },
           "zerolinecolor": "#EBF0F8",
           "zerolinewidth": 2
          },
          "yaxis": {
           "automargin": true,
           "gridcolor": "#EBF0F8",
           "linecolor": "#EBF0F8",
           "ticks": "",
           "title": {
            "standoff": 15
           },
           "zerolinecolor": "#EBF0F8",
           "zerolinewidth": 2
          }
         }
        },
        "title": {
         "font": {
          "color": "Black",
          "size": 22
         },
         "text": "Topic Word Scores",
         "x": 0.5,
         "xanchor": "center",
         "yanchor": "top"
        },
        "width": 1000,
        "xaxis": {
         "anchor": "y",
         "domain": [
          0,
          0.175
         ],
         "showgrid": true
        },
        "xaxis2": {
         "anchor": "y2",
         "domain": [
          0.275,
          0.45
         ],
         "showgrid": true
        },
        "xaxis3": {
         "anchor": "y3",
         "domain": [
          0.55,
          0.7250000000000001
         ],
         "showgrid": true
        },
        "xaxis4": {
         "anchor": "y4",
         "domain": [
          0.825,
          1
         ],
         "showgrid": true
        },
        "xaxis5": {
         "anchor": "y5",
         "domain": [
          0,
          0.175
         ],
         "showgrid": true
        },
        "xaxis6": {
         "anchor": "y6",
         "domain": [
          0.275,
          0.45
         ],
         "showgrid": true
        },
        "xaxis7": {
         "anchor": "y7",
         "domain": [
          0.55,
          0.7250000000000001
         ],
         "showgrid": true
        },
        "xaxis8": {
         "anchor": "y8",
         "domain": [
          0.825,
          1
         ],
         "showgrid": true
        },
        "yaxis": {
         "anchor": "x",
         "domain": [
          0.6000000000000001,
          1
         ],
         "showgrid": true
        },
        "yaxis2": {
         "anchor": "x2",
         "domain": [
          0.6000000000000001,
          1
         ],
         "showgrid": true
        },
        "yaxis3": {
         "anchor": "x3",
         "domain": [
          0.6000000000000001,
          1
         ],
         "showgrid": true
        },
        "yaxis4": {
         "anchor": "x4",
         "domain": [
          0.6000000000000001,
          1
         ],
         "showgrid": true
        },
        "yaxis5": {
         "anchor": "x5",
         "domain": [
          0,
          0.4
         ],
         "showgrid": true
        },
        "yaxis6": {
         "anchor": "x6",
         "domain": [
          0,
          0.4
         ],
         "showgrid": true
        },
        "yaxis7": {
         "anchor": "x7",
         "domain": [
          0,
          0.4
         ],
         "showgrid": true
        },
        "yaxis8": {
         "anchor": "x8",
         "domain": [
          0,
          0.4
         ],
         "showgrid": true
        }
       }
      }
     },
     "metadata": {},
     "output_type": "display_data"
    }
   ],
   "source": [
    "topic_model.visualize_barchart(top_n_topics=5)"
   ]
  },
  {
   "cell_type": "code",
   "execution_count": 39,
   "metadata": {},
   "outputs": [
    {
     "data": {
      "application/vnd.plotly.v1+json": {
       "config": {
        "plotlyServerURL": "https://plot.ly"
       },
       "data": [
        {
         "coloraxis": "coloraxis",
         "hovertemplate": "x: %{x}<br>y: %{y}<br>Similarity Score: %{z}<extra></extra>",
         "name": "0",
         "type": "heatmap",
         "x": [
          "0_tablet_the_and",
          "2_chromebook_chrome_to",
          "11_surface_the_is",
          "33_its_touch_small",
          "1_gaming_games_the",
          "22_slow_laptop_not",
          "42_hp_stallion_drive",
          "43_laptop_within_arrived",
          "3_laptop_is_and",
          "5_netbook_the_is",
          "8_computer_pc_great",
          "9_laptop_great_price",
          "4_loves_she_for",
          "29_product_good_great",
          "30_price_value_good",
          "6_asus_the_to",
          "14_laptop_fan_it",
          "18_windows_10_my",
          "24_new_refurbished_was",
          "45_compaq_a1500_printer",
          "7_de_la_que",
          "10_wifi_to_the",
          "37_hd_1005pr_broadcom",
          "12_charger_it_laptop",
          "25_mouse_touchpad_pad",
          "31_keys_keyboard_uy",
          "41_premier_hp_warranty",
          "13_screen_good_it",
          "15_space_drive_to",
          "26_pc_mini_hdmi",
          "39_ssd_drive_computer",
          "16_working_item_it",
          "20_works_far_issues",
          "44_return_screen_product",
          "17_nice_excellent_great",
          "34_good_goog_bd",
          "46_perfect_increible_perfecto",
          "19_slow_super_waste",
          "21_battery_hours_life",
          "23_love_far_so",
          "35_works_working_great",
          "27_delivery_product_seller",
          "28_touchscreen_touch_screen",
          "40_backlit_keyboard_backlight",
          "32_united_reviewed_states",
          "36_weight_size_lightweight",
          "38_loading_player_video"
         ],
         "xaxis": "x",
         "y": [
          "0_tablet_the_and",
          "2_chromebook_chrome_to",
          "11_surface_the_is",
          "33_its_touch_small",
          "1_gaming_games_the",
          "22_slow_laptop_not",
          "42_hp_stallion_drive",
          "43_laptop_within_arrived",
          "3_laptop_is_and",
          "5_netbook_the_is",
          "8_computer_pc_great",
          "9_laptop_great_price",
          "4_loves_she_for",
          "29_product_good_great",
          "30_price_value_good",
          "6_asus_the_to",
          "14_laptop_fan_it",
          "18_windows_10_my",
          "24_new_refurbished_was",
          "45_compaq_a1500_printer",
          "7_de_la_que",
          "10_wifi_to_the",
          "37_hd_1005pr_broadcom",
          "12_charger_it_laptop",
          "25_mouse_touchpad_pad",
          "31_keys_keyboard_uy",
          "41_premier_hp_warranty",
          "13_screen_good_it",
          "15_space_drive_to",
          "26_pc_mini_hdmi",
          "39_ssd_drive_computer",
          "16_working_item_it",
          "20_works_far_issues",
          "44_return_screen_product",
          "17_nice_excellent_great",
          "34_good_goog_bd",
          "46_perfect_increible_perfecto",
          "19_slow_super_waste",
          "21_battery_hours_life",
          "23_love_far_so",
          "35_works_working_great",
          "27_delivery_product_seller",
          "28_touchscreen_touch_screen",
          "40_backlit_keyboard_backlight",
          "32_united_reviewed_states",
          "36_weight_size_lightweight",
          "38_loading_player_video"
         ],
         "yaxis": "y",
         "z": [
          [
           1.000000238418579,
           0.6974927186965942,
           0.7457506656646729,
           0.7151961326599121,
           0.5857609510421753,
           0.5621073246002197,
           0.4792422652244568,
           0.5493665933609009,
           0.7200628519058228,
           0.713878870010376,
           0.5893473625183105,
           0.6452454924583435,
           0.504305899143219,
           0.31475555896759033,
           0.3367714285850525,
           0.5773866176605225,
           0.4944327473640442,
           0.5316694378852844,
           0.5310277342796326,
           0.4993670582771301,
           0.2557887136936188,
           0.5254517793655396,
           0.5119630098342896,
           0.4461093544960022,
           0.5765697956085205,
           0.5170360803604126,
           0.44736695289611816,
           0.7948536276817322,
           0.5345938205718994,
           0.5090257525444031,
           0.5250282883644104,
           0.4379306733608246,
           0.4806153178215027,
           0.5359358191490173,
           0.20243680477142334,
           0.09984719753265381,
           0.15221181511878967,
           0.46572718024253845,
           0.5193600654602051,
           0.2688397765159607,
           0.23507237434387207,
           0.30240848660469055,
           0.5481616258621216,
           0.4178487956523895,
           0.21016459167003632,
           0.2634841203689575,
           0.20205427706241608
          ],
          [
           0.6974927186965942,
           0.9999998807907104,
           0.6756746768951416,
           0.7201966047286987,
           0.5829294919967651,
           0.5766498446464539,
           0.5136845111846924,
           0.5395370721817017,
           0.740044116973877,
           0.7287124991416931,
           0.6409515738487244,
           0.6874288320541382,
           0.45804405212402344,
           0.24500244855880737,
           0.2999776005744934,
           0.5567612648010254,
           0.5412837266921997,
           0.5344805717468262,
           0.5584779977798462,
           0.5171087384223938,
           0.23956330120563507,
           0.49409252405166626,
           0.40732789039611816,
           0.4541245102882385,
           0.5618215203285217,
           0.5812773108482361,
           0.47083592414855957,
           0.6485282182693481,
           0.5318228006362915,
           0.47944507002830505,
           0.5187684297561646,
           0.36104458570480347,
           0.39643776416778564,
           0.3868945240974426,
           0.1888524293899536,
           0.08021541684865952,
           0.15675145387649536,
           0.3799537420272827,
           0.49539321660995483,
           0.22230874001979828,
           0.19723013043403625,
           0.22514933347702026,
           0.48306483030319214,
           0.44006627798080444,
           0.1847512423992157,
           0.28853991627693176,
           0.16004861891269684
          ],
          [
           0.7457506656646729,
           0.6756746768951416,
           1.0000003576278687,
           0.7808261513710022,
           0.6549091339111328,
           0.580236554145813,
           0.5380710363388062,
           0.5580071210861206,
           0.7922208905220032,
           0.7631683349609375,
           0.6064605116844177,
           0.6671342849731445,
           0.3784180283546448,
           0.2420266568660736,
           0.2777879238128662,
           0.6120431423187256,
           0.5963023900985718,
           0.6379292011260986,
           0.5916277766227722,
           0.6030374765396118,
           0.1723838597536087,
           0.519246518611908,
           0.4352332055568695,
           0.4565672278404236,
           0.6414560079574585,
           0.5955628156661987,
           0.503412127494812,
           0.638410210609436,
           0.5577623844146729,
           0.5649102926254272,
           0.5668861865997314,
           0.2834094762802124,
           0.3521057069301605,
           0.40649786591529846,
           0.11093514412641525,
           0.012161750346422195,
           0.06842736154794693,
           0.36125946044921875,
           0.49530893564224243,
           0.18274050951004028,
           0.12151441723108292,
           0.23930010199546814,
           0.6257073879241943,
           0.46650201082229614,
           0.1783755123615265,
           0.25138863921165466,
           0.08599002659320831
          ],
          [
           0.7151961326599121,
           0.7201966047286987,
           0.7808261513710022,
           0.9999998807907104,
           0.6749335527420044,
           0.6279987096786499,
           0.5771222114562988,
           0.5511746406555176,
           0.8498600721359253,
           0.7974463701248169,
           0.767056405544281,
           0.7071346044540405,
           0.4973607659339905,
           0.2433394193649292,
           0.2929037809371948,
           0.553083062171936,
           0.563255786895752,
           0.5784875154495239,
           0.5850260853767395,
           0.607547402381897,
           0.20721451938152313,
           0.48200494050979614,
           0.40577155351638794,
           0.36911308765411377,
           0.6683093905448914,
           0.6111559271812439,
           0.4389722943305969,
           0.7341641187667847,
           0.5771586894989014,
           0.5687000155448914,
           0.6117938160896301,
           0.29101526737213135,
           0.38908350467681885,
           0.40140560269355774,
           0.13726267218589783,
           0.03771554306149483,
           0.11715881526470184,
           0.4520525336265564,
           0.49830371141433716,
           0.22680962085723877,
           0.14423434436321259,
           0.24204042553901672,
           0.6363032460212708,
           0.4565296769142151,
           0.16244851052761078,
           0.37787169218063354,
           0.1164638102054596
          ],
          [
           0.5857609510421753,
           0.5829294919967651,
           0.6549091339111328,
           0.6749335527420044,
           0.9999996423721313,
           0.7224597930908203,
           0.6426898241043091,
           0.5923234224319458,
           0.8124176263809204,
           0.7489489912986755,
           0.8008191585540771,
           0.7694958448410034,
           0.3928780257701874,
           0.21865268051624298,
           0.375174343585968,
           0.6591867208480835,
           0.760811984539032,
           0.6141769289970398,
           0.6109304428100586,
           0.5314958095550537,
           0.16606642305850983,
           0.5036029815673828,
           0.5273765325546265,
           0.38784921169281006,
           0.47988951206207275,
           0.48957735300064087,
           0.4470466375350952,
           0.6350946426391602,
           0.515857458114624,
           0.631134033203125,
           0.699893593788147,
           0.2509806156158447,
           0.34692835807800293,
           0.3707120418548584,
           0.15418457984924316,
           0.11454351246356964,
           0.09591934829950333,
           0.4957450330257416,
           0.5979747176170349,
           0.2081356793642044,
           0.16411203145980835,
           0.21276801824569702,
           0.37402281165122986,
           0.3742198944091797,
           0.18857796490192413,
           0.28227698802948,
           0.27745527029037476
          ],
          [
           0.5621073246002197,
           0.5766498446464539,
           0.580236554145813,
           0.6279987096786499,
           0.7224597930908203,
           0.9999997615814209,
           0.6732751131057739,
           0.6918835043907166,
           0.7103022336959839,
           0.6987738609313965,
           0.723644495010376,
           0.7476351857185364,
           0.32382363080978394,
           0.19003014266490936,
           0.2706407308578491,
           0.6135833859443665,
           0.6747856140136719,
           0.6035072803497314,
           0.6263030767440796,
           0.5299069285392761,
           0.1869894415140152,
           0.5639551877975464,
           0.5369657874107361,
           0.4879717528820038,
           0.5508703589439392,
           0.5420548915863037,
           0.4300090968608856,
           0.5732592344284058,
           0.5624532699584961,
           0.5575870275497437,
           0.6631392240524292,
           0.3598203659057617,
           0.32036542892456055,
           0.3910202383995056,
           0.13969841599464417,
           0.07736028730869293,
           0.09216199815273285,
           0.8118534684181213,
           0.5932958126068115,
           0.160169780254364,
           0.16702531278133392,
           0.35305824875831604,
           0.38732799887657166,
           0.37345442175865173,
           0.10588323324918747,
           0.2292155623435974,
           0.28784480690956116
          ],
          [
           0.4792422652244568,
           0.5136845111846924,
           0.5380710363388062,
           0.5771222114562988,
           0.6426898241043091,
           0.6732751131057739,
           1,
           0.6228229403495789,
           0.6640473008155823,
           0.5916150808334351,
           0.7492396831512451,
           0.717680811882019,
           0.4306202530860901,
           0.32147592306137085,
           0.3666597604751587,
           0.5890190601348877,
           0.5675127506256104,
           0.644119381904602,
           0.6559637188911438,
           0.6418627500534058,
           0.16385245323181152,
           0.5096163153648376,
           0.4632130265235901,
           0.42921391129493713,
           0.5005801916122437,
           0.519467830657959,
           0.5122271180152893,
           0.5640907287597656,
           0.6117724180221558,
           0.5844739675521851,
           0.7136366367340088,
           0.4033113718032837,
           0.40698403120040894,
           0.4474990963935852,
           0.2506386339664459,
           0.1364792287349701,
           0.14392991364002228,
           0.47703036665916443,
           0.4309968948364258,
           0.30977344512939453,
           0.246830552816391,
           0.3263668715953827,
           0.36122462153434753,
           0.3791627287864685,
           0.14368857443332672,
           0.27746784687042236,
           0.17469432950019836
          ],
          [
           0.5493665933609009,
           0.5395370721817017,
           0.5580071210861206,
           0.5511746406555176,
           0.5923234224319458,
           0.6918835043907166,
           0.6228229403495789,
           1.000000238418579,
           0.7037454843521118,
           0.6481806039810181,
           0.6740490198135376,
           0.7718037366867065,
           0.4319930076599121,
           0.3426235020160675,
           0.4195522367954254,
           0.6215586066246033,
           0.5876643657684326,
           0.6303765773773193,
           0.7509388327598572,
           0.5225529670715332,
           0.23747575283050537,
           0.5788118839263916,
           0.5126159191131592,
           0.5194666385650635,
           0.5199019908905029,
           0.5286325216293335,
           0.5813592672348022,
           0.6074528694152832,
           0.4754030108451843,
           0.5338937044143677,
           0.6267766952514648,
           0.37331607937812805,
           0.4054049849510193,
           0.5081976652145386,
           0.3045506477355957,
           0.17159995436668396,
           0.19222700595855713,
           0.4735942482948303,
           0.5323910117149353,
           0.26426637172698975,
           0.2403145134449005,
           0.7067362666130066,
           0.4202386140823364,
           0.4397255480289459,
           0.24291811883449554,
           0.32662302255630493,
           0.1288948953151703
          ],
          [
           0.7200628519058228,
           0.740044116973877,
           0.7922208905220032,
           0.8498600721359253,
           0.8124176263809204,
           0.7103022336959839,
           0.6640473008155823,
           0.7037454843521118,
           1,
           0.8503354787826538,
           0.8027562499046326,
           0.911369264125824,
           0.5279635190963745,
           0.2533256709575653,
           0.38656458258628845,
           0.6614986658096313,
           0.7327037453651428,
           0.6784932017326355,
           0.7010612487792969,
           0.6127128601074219,
           0.25420671701431274,
           0.571925938129425,
           0.44961658120155334,
           0.4703519344329834,
           0.5923900604248047,
           0.6181174516677856,
           0.5310831069946289,
           0.7547067403793335,
           0.5811992287635803,
           0.605853259563446,
           0.7075825929641724,
           0.29215919971466064,
           0.4031279683113098,
           0.44008931517601013,
           0.18183600902557373,
           0.08223085105419159,
           0.1053752452135086,
           0.4100818932056427,
           0.6557428240776062,
           0.2631223797798157,
           0.15892425179481506,
           0.2765541076660156,
           0.5537775158882141,
           0.4934835433959961,
           0.21562808752059937,
           0.40301188826560974,
           0.1413031816482544
          ],
          [
           0.713878870010376,
           0.7287124991416931,
           0.7631683349609375,
           0.7974463701248169,
           0.7489489912986755,
           0.6987738609313965,
           0.5916150808334351,
           0.6481806039810181,
           0.8503354787826538,
           0.9999998807907104,
           0.7658004760742188,
           0.7896649837493896,
           0.44429177045822144,
           0.24672168493270874,
           0.3288596272468567,
           0.7132160663604736,
           0.6793967485427856,
           0.6548330783843994,
           0.6729439496994019,
           0.5939920544624329,
           0.1748661994934082,
           0.6354816555976868,
           0.5789963006973267,
           0.482264906167984,
           0.5751250386238098,
           0.5852069854736328,
           0.46945929527282715,
           0.656607985496521,
           0.6206748485565186,
           0.6299060583114624,
           0.6732247471809387,
           0.32513847947120667,
           0.40214264392852783,
           0.38389384746551514,
           0.15359097719192505,
           0.0531141459941864,
           0.10102810710668564,
           0.45394808053970337,
           0.586078405380249,
           0.20634405314922333,
           0.1557314246892929,
           0.285489559173584,
           0.4580599069595337,
           0.4336198568344116,
           0.20840021967887878,
           0.3166973888874054,
           0.1406049132347107
          ],
          [
           0.5893473625183105,
           0.6409515738487244,
           0.6064605116844177,
           0.767056405544281,
           0.8008191585540771,
           0.723644495010376,
           0.7492396831512451,
           0.6740490198135376,
           0.8027562499046326,
           0.7658004760742188,
           1.0000001192092896,
           0.8398356437683105,
           0.5391582250595093,
           0.3596317172050476,
           0.4755858778953552,
           0.6478562951087952,
           0.6681157350540161,
           0.6561905145645142,
           0.7275294065475464,
           0.5955408811569214,
           0.23204419016838074,
           0.5467731356620789,
           0.5294361710548401,
           0.4258182942867279,
           0.5242038369178772,
           0.5361478924751282,
           0.4909568428993225,
           0.727820634841919,
           0.6001057624816895,
           0.6640827655792236,
           0.7790204882621765,
           0.4328930079936981,
           0.4486989974975586,
           0.4629805088043213,
           0.27315807342529297,
           0.17075808346271515,
           0.1727105677127838,
           0.5298065543174744,
           0.5313870310783386,
           0.31143999099731445,
           0.27784672379493713,
           0.3320295810699463,
           0.43141305446624756,
           0.4388750195503235,
           0.18629726767539978,
           0.3776397407054901,
           0.2532076835632324
          ],
          [
           0.6452454924583435,
           0.6874288320541382,
           0.6671342849731445,
           0.7071346044540405,
           0.7694958448410034,
           0.7476351857185364,
           0.717680811882019,
           0.7718037366867065,
           0.911369264125824,
           0.7896649837493896,
           0.8398356437683105,
           0.9999998211860657,
           0.5595775842666626,
           0.3799869120121002,
           0.5210930705070496,
           0.6575738191604614,
           0.7357437610626221,
           0.6829144954681396,
           0.7306026220321655,
           0.6027361750602722,
           0.2832335829734802,
           0.5945010185241699,
           0.47449466586112976,
           0.5409741401672363,
           0.5878705382347107,
           0.6054481863975525,
           0.5287976264953613,
           0.741293728351593,
           0.5503087639808655,
           0.5476205348968506,
           0.6944087743759155,
           0.4454892575740814,
           0.4830385446548462,
           0.4827720522880554,
           0.30540257692337036,
           0.1656883955001831,
           0.17908403277397156,
           0.4586840867996216,
           0.6760473251342773,
           0.32194069027900696,
           0.2955665588378906,
           0.36050575971603394,
           0.4629947245121002,
           0.4808341860771179,
           0.20225661993026733,
           0.4019262194633484,
           0.19928070902824402
          ],
          [
           0.504305899143219,
           0.45804405212402344,
           0.3784180283546448,
           0.4973607659339905,
           0.3928780257701874,
           0.32382363080978394,
           0.4306202530860901,
           0.4319930076599121,
           0.5279635190963745,
           0.44429177045822144,
           0.5391582250595093,
           0.5595775842666626,
           1.0000001192092896,
           0.5405515432357788,
           0.5848454236984253,
           0.27949947118759155,
           0.31321123242378235,
           0.27980273962020874,
           0.36209332942962646,
           0.31814849376678467,
           0.22462010383605957,
           0.2422977089881897,
           0.17071519792079926,
           0.24057021737098694,
           0.34991246461868286,
           0.2900621294975281,
           0.2012074738740921,
           0.6700132489204407,
           0.24836359918117523,
           0.26372238993644714,
           0.3584945797920227,
           0.5341919660568237,
           0.5946748852729797,
           0.4311901330947876,
           0.44998687505722046,
           0.2862931489944458,
           0.3352338373661041,
           0.37410300970077515,
           0.3082043528556824,
           0.5645371675491333,
           0.4380578398704529,
           0.45332303643226624,
           0.28393444418907166,
           0.240935817360878,
           0.2607051134109497,
           0.604955792427063,
           0.10816024988889694
          ],
          [
           0.31475555896759033,
           0.24500244855880737,
           0.2420266568660736,
           0.2433394193649292,
           0.21865268051624298,
           0.19003014266490936,
           0.32147592306137085,
           0.3426235020160675,
           0.2533256709575653,
           0.24672168493270874,
           0.3596317172050476,
           0.3799869120121002,
           0.5405515432357788,
           1.000000238418579,
           0.6784943342208862,
           0.2209850549697876,
           0.18553197383880615,
           0.19971929490566254,
           0.2372138500213623,
           0.18483076989650726,
           0.21209245920181274,
           0.17096342146396637,
           0.1669813096523285,
           0.17838186025619507,
           0.2121635377407074,
           0.19208049774169922,
           0.17649993300437927,
           0.4579349756240845,
           0.17104393243789673,
           0.22005677223205566,
           0.2481473684310913,
           0.45528653264045715,
           0.6065977811813354,
           0.3396919369697571,
           0.5544148087501526,
           0.375762939453125,
           0.37164783477783203,
           0.27127546072006226,
           0.1393042951822281,
           0.4603453278541565,
           0.5953801870346069,
           0.50144362449646,
           0.1351565420627594,
           0.10647623240947723,
           0.2350081503391266,
           0.40237730741500854,
           0.1277836710214615
          ],
          [
           0.3367714285850525,
           0.2999776005744934,
           0.2777879238128662,
           0.2929037809371948,
           0.375174343585968,
           0.2706407308578491,
           0.3666597604751587,
           0.4195522367954254,
           0.38656458258628845,
           0.3288596272468567,
           0.4755858778953552,
           0.5210930705070496,
           0.5848454236984253,
           0.6784943342208862,
           1,
           0.26937466859817505,
           0.2808425724506378,
           0.2285110056400299,
           0.3064568042755127,
           0.2237078845500946,
           0.1994083821773529,
           0.19123569130897522,
           0.20090004801750183,
           0.20187923312187195,
           0.20638419687747955,
           0.24974682927131653,
           0.24569150805473328,
           0.5575072765350342,
           0.14959979057312012,
           0.29464513063430786,
           0.39855480194091797,
           0.38565677404403687,
           0.5211948752403259,
           0.3415224552154541,
           0.5185551643371582,
           0.3894083499908447,
           0.3339245617389679,
           0.2795805335044861,
           0.23170587420463562,
           0.40799474716186523,
           0.4506409764289856,
           0.47604355216026306,
           0.15188607573509216,
           0.19139578938484192,
           0.19944432377815247,
           0.5543880462646484,
           0.08423791080713272
          ],
          [
           0.5773866176605225,
           0.5567612648010254,
           0.6120431423187256,
           0.553083062171936,
           0.6591867208480835,
           0.6135833859443665,
           0.5890190601348877,
           0.6215586066246033,
           0.6614986658096313,
           0.7132160663604736,
           0.6478562951087952,
           0.6575738191604614,
           0.27949947118759155,
           0.2209850549697876,
           0.26937466859817505,
           0.9999999403953552,
           0.7465528249740601,
           0.6577778458595276,
           0.6662182807922363,
           0.5736811757087708,
           0.1759912520647049,
           0.6303638219833374,
           0.6724292039871216,
           0.6520935297012329,
           0.6289883255958557,
           0.6600209474563599,
           0.6943032741546631,
           0.5314702987670898,
           0.5714000463485718,
           0.6330078840255737,
           0.5946370959281921,
           0.4207565486431122,
           0.4168398976325989,
           0.553900957107544,
           0.09508146345615387,
           0.08346527814865112,
           0.08647869527339935,
           0.3899827003479004,
           0.4572124481201172,
           0.1322803646326065,
           0.14920227229595184,
           0.2792888581752777,
           0.42910438776016235,
           0.47458958625793457,
           0.16754445433616638,
           0.126365065574646,
           0.24654145538806915
          ],
          [
           0.4944327473640442,
           0.5412837266921997,
           0.5963023900985718,
           0.563255786895752,
           0.760811984539032,
           0.6747856140136719,
           0.5675127506256104,
           0.5876643657684326,
           0.7327037453651428,
           0.6793967485427856,
           0.6681157350540161,
           0.7357437610626221,
           0.31321123242378235,
           0.18553197383880615,
           0.2808425724506378,
           0.7465528249740601,
           0.9999998807907104,
           0.5953988432884216,
           0.6228384375572205,
           0.53922438621521,
           0.14302626252174377,
           0.5705612897872925,
           0.49318307638168335,
           0.6260437965393066,
           0.5852117538452148,
           0.598007082939148,
           0.5782460570335388,
           0.5104851126670837,
           0.49422332644462585,
           0.5614501237869263,
           0.5624736547470093,
           0.34803229570388794,
           0.40817004442214966,
           0.41476520895957947,
           0.1068807989358902,
           0.10336039215326309,
           0.13795414566993713,
           0.40766602754592896,
           0.5789266228675842,
           0.15509845316410065,
           0.16996151208877563,
           0.19461926817893982,
           0.3852003514766693,
           0.38702768087387085,
           0.141053706407547,
           0.1830551028251648,
           0.21662652492523193
          ],
          [
           0.5316694378852844,
           0.5344805717468262,
           0.6379292011260986,
           0.5784875154495239,
           0.6141769289970398,
           0.6035072803497314,
           0.644119381904602,
           0.6303765773773193,
           0.6784932017326355,
           0.6548330783843994,
           0.6561905145645142,
           0.6829144954681396,
           0.27980273962020874,
           0.19971929490566254,
           0.2285110056400299,
           0.6577778458595276,
           0.5953988432884216,
           1.0000001192092896,
           0.7396196126937866,
           0.649475634098053,
           0.15076352655887604,
           0.6346375942230225,
           0.5504817962646484,
           0.5143901705741882,
           0.5661938786506653,
           0.5417120456695557,
           0.5491417646408081,
           0.48724186420440674,
           0.7097591161727905,
           0.6020516753196716,
           0.7030321359634399,
           0.2990139126777649,
           0.3096730709075928,
           0.37862592935562134,
           0.1324506402015686,
           0.06924857199192047,
           0.069557324051857,
           0.3298887014389038,
           0.4364780783653259,
           0.1279202401638031,
           0.14802201092243195,
           0.24461247026920319,
           0.4208497405052185,
           0.4192163050174713,
           0.1561889350414276,
           0.10906574130058289,
           0.17275553941726685
          ],
          [
           0.5310277342796326,
           0.5584779977798462,
           0.5916277766227722,
           0.5850260853767395,
           0.6109304428100586,
           0.6263030767440796,
           0.6559637188911438,
           0.7509388327598572,
           0.7010612487792969,
           0.6729439496994019,
           0.7275294065475464,
           0.7306026220321655,
           0.36209332942962646,
           0.2372138500213623,
           0.3064568042755127,
           0.6662182807922363,
           0.6228384375572205,
           0.7396196126937866,
           0.9999998211860657,
           0.6023843288421631,
           0.2208903580904007,
           0.6006854772567749,
           0.5092176198959351,
           0.5632997751235962,
           0.5535678863525391,
           0.631320595741272,
           0.6663527488708496,
           0.5317726135253906,
           0.5731492638587952,
           0.5834214687347412,
           0.6669673919677734,
           0.33944591879844666,
           0.31506234407424927,
           0.44615495204925537,
           0.16969989240169525,
           0.11005701124668121,
           0.12523652613162994,
           0.32555532455444336,
           0.4744378328323364,
           0.14282454550266266,
           0.1570475846529007,
           0.3476066589355469,
           0.47018298506736755,
           0.49571114778518677,
           0.1430792212486267,
           0.18098947405815125,
           0.15031757950782776
          ],
          [
           0.4993670582771301,
           0.5171087384223938,
           0.6030374765396118,
           0.607547402381897,
           0.5314958095550537,
           0.5299069285392761,
           0.6418627500534058,
           0.5225529670715332,
           0.6127128601074219,
           0.5939920544624329,
           0.5955408811569214,
           0.6027361750602722,
           0.31814849376678467,
           0.18483076989650726,
           0.2237078845500946,
           0.5736811757087708,
           0.53922438621521,
           0.649475634098053,
           0.6023843288421631,
           0.9999995827674866,
           0.1891845464706421,
           0.5308307409286499,
           0.43396446108818054,
           0.5007337331771851,
           0.562541127204895,
           0.5375205278396606,
           0.573522686958313,
           0.5016316771507263,
           0.5481171607971191,
           0.43103235960006714,
           0.484430730342865,
           0.3832407593727112,
           0.38619452714920044,
           0.3907325565814972,
           0.1014636978507042,
           0.042583905160427094,
           0.08580956608057022,
           0.34267544746398926,
           0.3831263780593872,
           0.14620009064674377,
           0.16591373085975647,
           0.2566912770271301,
           0.36637216806411743,
           0.3415544331073761,
           0.12345119565725327,
           0.13897588849067688,
           0.08088675141334534
          ],
          [
           0.2557887136936188,
           0.23956330120563507,
           0.1723838597536087,
           0.20721451938152313,
           0.16606642305850983,
           0.1869894415140152,
           0.16385245323181152,
           0.23747575283050537,
           0.25420671701431274,
           0.1748661994934082,
           0.23204419016838074,
           0.2832335829734802,
           0.22462010383605957,
           0.21209245920181274,
           0.1994083821773529,
           0.1759912520647049,
           0.14302626252174377,
           0.15076352655887604,
           0.2208903580904007,
           0.1891845464706421,
           1,
           0.14016014337539673,
           0.14489717781543732,
           0.15033622086048126,
           0.15703684091567993,
           0.1869034469127655,
           0.19679686427116394,
           0.2692185044288635,
           0.11986438184976578,
           0.13745369017124176,
           0.17935267090797424,
           0.2445686310529709,
           0.18058502674102783,
           0.21745435893535614,
           0.1596277952194214,
           0.10963839292526245,
           0.2653999328613281,
           0.16603629291057587,
           0.14698535203933716,
           0.11117587983608246,
           0.17871619760990143,
           0.19566881656646729,
           0.21149751543998718,
           0.16001392900943756,
           0.06797966361045837,
           0.1813632994890213,
           0.15509282052516937
          ],
          [
           0.5254517793655396,
           0.49409252405166626,
           0.519246518611908,
           0.48200494050979614,
           0.5036029815673828,
           0.5639551877975464,
           0.5096163153648376,
           0.5788118839263916,
           0.571925938129425,
           0.6354816555976868,
           0.5467731356620789,
           0.5945010185241699,
           0.2422977089881897,
           0.17096342146396637,
           0.19123569130897522,
           0.6303638219833374,
           0.5705612897872925,
           0.6346375942230225,
           0.6006854772567749,
           0.5308307409286499,
           0.14016014337539673,
           1,
           0.6788550019264221,
           0.5344704389572144,
           0.5072892308235168,
           0.5227766633033752,
           0.5473494529724121,
           0.4538462460041046,
           0.5387527942657471,
           0.6381126642227173,
           0.4847642183303833,
           0.39462485909461975,
           0.3332153558731079,
           0.41360238194465637,
           0.1139068603515625,
           0.02188163436949253,
           0.0981077253818512,
           0.3502819240093231,
           0.40662682056427,
           0.10812981426715851,
           0.1624588519334793,
           0.2617133557796478,
           0.3315943479537964,
           0.38048219680786133,
           0.0893329307436943,
           0.10635873675346375,
           0.22568124532699585
          ],
          [
           0.5119630098342896,
           0.40732789039611816,
           0.4352332055568695,
           0.40577155351638794,
           0.5273765325546265,
           0.5369657874107361,
           0.4632130265235901,
           0.5126159191131592,
           0.44961658120155334,
           0.5789963006973267,
           0.5294361710548401,
           0.47449466586112976,
           0.17071519792079926,
           0.1669813096523285,
           0.20090004801750183,
           0.6724292039871216,
           0.49318307638168335,
           0.5504817962646484,
           0.5092176198959351,
           0.43396446108818054,
           0.14489717781543732,
           0.6788550019264221,
           1.0000003576278687,
           0.4001632630825043,
           0.4140567481517792,
           0.4353386461734772,
           0.44399142265319824,
           0.418968141078949,
           0.47396254539489746,
           0.6354314684867859,
           0.5246804356575012,
           0.33803874254226685,
           0.29964718222618103,
           0.4072474539279938,
           0.07207491993904114,
           0.014783144928514957,
           0.04323776066303253,
           0.43246588110923767,
           0.2564060389995575,
           0.10931812226772308,
           0.13237261772155762,
           0.2825833559036255,
           0.27580755949020386,
           0.35539692640304565,
           0.15769246220588684,
           0.04230638965964317,
           0.3456098735332489
          ],
          [
           0.4461093544960022,
           0.4541245102882385,
           0.4565672278404236,
           0.36911308765411377,
           0.38784921169281006,
           0.4879717528820038,
           0.42921391129493713,
           0.5194666385650635,
           0.4703519344329834,
           0.482264906167984,
           0.4258182942867279,
           0.5409741401672363,
           0.24057021737098694,
           0.17838186025619507,
           0.20187923312187195,
           0.6520935297012329,
           0.6260437965393066,
           0.5143901705741882,
           0.5632997751235962,
           0.5007337331771851,
           0.15033622086048126,
           0.5344704389572144,
           0.4001632630825043,
           1.000000238418579,
           0.6117416620254517,
           0.6183067560195923,
           0.6634645462036133,
           0.37305545806884766,
           0.42090630531311035,
           0.3616448640823364,
           0.3341997265815735,
           0.550220787525177,
           0.37377285957336426,
           0.4939712584018707,
           0.12774977087974548,
           0.10949885845184326,
           0.14559714496135712,
           0.30610352754592896,
           0.5918683409690857,
           0.0830046609044075,
           0.21303103864192963,
           0.23557138442993164,
           0.37524980306625366,
           0.4095320701599121,
           0.07670815289020538,
           0.05536054074764252,
           0.213903546333313
          ],
          [
           0.5765697956085205,
           0.5618215203285217,
           0.6414560079574585,
           0.6683093905448914,
           0.47988951206207275,
           0.5508703589439392,
           0.5005801916122437,
           0.5199019908905029,
           0.5923900604248047,
           0.5751250386238098,
           0.5242038369178772,
           0.5878705382347107,
           0.34991246461868286,
           0.2121635377407074,
           0.20638419687747955,
           0.6289883255958557,
           0.5852117538452148,
           0.5661938786506653,
           0.5535678863525391,
           0.562541127204895,
           0.15703684091567993,
           0.5072892308235168,
           0.4140567481517792,
           0.6117416620254517,
           0.9999999403953552,
           0.6893895864486694,
           0.5643632411956787,
           0.5485365986824036,
           0.4571819305419922,
           0.3937716484069824,
           0.3680049180984497,
           0.509989857673645,
           0.47843533754348755,
           0.5025169253349304,
           0.11404995620250702,
           0.06496813148260117,
           0.14018651843070984,
           0.4126014709472656,
           0.4625735282897949,
           0.17992594838142395,
           0.24075846374034882,
           0.23949530720710754,
           0.6521767377853394,
           0.4958007037639618,
           0.15557673573493958,
           0.1344940960407257,
           0.21080897748470306
          ],
          [
           0.5170360803604126,
           0.5812773108482361,
           0.5955628156661987,
           0.6111559271812439,
           0.48957735300064087,
           0.5420548915863037,
           0.519467830657959,
           0.5286325216293335,
           0.6181174516677856,
           0.5852069854736328,
           0.5361478924751282,
           0.6054481863975525,
           0.2900621294975281,
           0.19208049774169922,
           0.24974682927131653,
           0.6600209474563599,
           0.598007082939148,
           0.5417120456695557,
           0.631320595741272,
           0.5375205278396606,
           0.1869034469127655,
           0.5227766633033752,
           0.4353386461734772,
           0.6183067560195923,
           0.6893895864486694,
           1.000000238418579,
           0.6462981700897217,
           0.4684016704559326,
           0.46374303102493286,
           0.43344753980636597,
           0.4355626106262207,
           0.4368293285369873,
           0.41524940729141235,
           0.49306732416152954,
           0.12565092742443085,
           0.11145726591348648,
           0.15969134867191315,
           0.3503555357456207,
           0.4463497996330261,
           0.151952862739563,
           0.19675862789154053,
           0.22608768939971924,
           0.4487428069114685,
           0.6591315269470215,
           0.0992220938205719,
           0.12249762564897537,
           0.16070733964443207
          ],
          [
           0.44736695289611816,
           0.47083592414855957,
           0.503412127494812,
           0.4389722943305969,
           0.4470466375350952,
           0.4300090968608856,
           0.5122271180152893,
           0.5813592672348022,
           0.5310831069946289,
           0.46945929527282715,
           0.4909568428993225,
           0.5287976264953613,
           0.2012074738740921,
           0.17649993300437927,
           0.24569150805473328,
           0.6943032741546631,
           0.5782460570335388,
           0.5491417646408081,
           0.6663527488708496,
           0.573522686958313,
           0.19679686427116394,
           0.5473494529724121,
           0.44399142265319824,
           0.6634645462036133,
           0.5643632411956787,
           0.6462981700897217,
           0.9999997615814209,
           0.46074992418289185,
           0.4249785244464874,
           0.4363253712654114,
           0.41094422340393066,
           0.4002205431461334,
           0.3403128385543823,
           0.6190603971481323,
           0.11710833758115768,
           0.07862218469381332,
           0.1595848798751831,
           0.2071520984172821,
           0.3563629984855652,
           0.10582348704338074,
           0.14452439546585083,
           0.27902930974960327,
           0.49834972620010376,
           0.44657936692237854,
           0.06576533615589142,
           0.04726233705878258,
           0.22724270820617676
          ],
          [
           0.7948536276817322,
           0.6485282182693481,
           0.638410210609436,
           0.7341641187667847,
           0.6350946426391602,
           0.5732592344284058,
           0.5640907287597656,
           0.6074528694152832,
           0.7547067403793335,
           0.656607985496521,
           0.727820634841919,
           0.741293728351593,
           0.6700132489204407,
           0.4579349756240845,
           0.5575072765350342,
           0.5314702987670898,
           0.5104851126670837,
           0.48724186420440674,
           0.5317726135253906,
           0.5016316771507263,
           0.2692185044288635,
           0.4538462460041046,
           0.418968141078949,
           0.37305545806884766,
           0.5485365986824036,
           0.4684016704559326,
           0.46074992418289185,
           1,
           0.4420830011367798,
           0.49018359184265137,
           0.5484555959701538,
           0.5554882884025574,
           0.6462711691856384,
           0.6630216240882874,
           0.3347744941711426,
           0.20462340116500854,
           0.21329987049102783,
           0.5036357045173645,
           0.5018031597137451,
           0.41553395986557007,
           0.3536266088485718,
           0.4126704931259155,
           0.5524356365203857,
           0.414821058511734,
           0.26559990644454956,
           0.4495394825935364,
           0.1938915252685547
          ],
          [
           0.5345938205718994,
           0.5318228006362915,
           0.5577623844146729,
           0.5771586894989014,
           0.515857458114624,
           0.5624532699584961,
           0.6117724180221558,
           0.4754030108451843,
           0.5811992287635803,
           0.6206748485565186,
           0.6001057624816895,
           0.5503087639808655,
           0.24836359918117523,
           0.17104393243789673,
           0.14959979057312012,
           0.5714000463485718,
           0.49422332644462585,
           0.7097591161727905,
           0.5731492638587952,
           0.5481171607971191,
           0.11986438184976578,
           0.5387527942657471,
           0.47396254539489746,
           0.42090630531311035,
           0.4571819305419922,
           0.46374303102493286,
           0.4249785244464874,
           0.4420830011367798,
           0.9999997615814209,
           0.5911843776702881,
           0.7025588750839233,
           0.29900234937667847,
           0.26315686106681824,
           0.3085472583770752,
           0.07736603915691376,
           0.04593842849135399,
           0.08887581527233124,
           0.35640260577201843,
           0.36091458797454834,
           0.0922650396823883,
           0.10760033130645752,
           0.16286799311637878,
           0.311079204082489,
           0.28604692220687866,
           0.03962438553571701,
           0.14083197712898254,
           0.19153964519500732
          ],
          [
           0.5090257525444031,
           0.47944507002830505,
           0.5649102926254272,
           0.5687000155448914,
           0.631134033203125,
           0.5575870275497437,
           0.5844739675521851,
           0.5338937044143677,
           0.605853259563446,
           0.6299060583114624,
           0.6640827655792236,
           0.5476205348968506,
           0.26372238993644714,
           0.22005677223205566,
           0.29464513063430786,
           0.6330078840255737,
           0.5614501237869263,
           0.6020516753196716,
           0.5834214687347412,
           0.43103235960006714,
           0.13745369017124176,
           0.6381126642227173,
           0.6354314684867859,
           0.3616448640823364,
           0.3937716484069824,
           0.43344753980636597,
           0.4363253712654114,
           0.49018359184265137,
           0.5911843776702881,
           1.0000001192092896,
           0.7243067622184753,
           0.2913481295108795,
           0.32593563199043274,
           0.4001954197883606,
           0.12066972255706787,
           0.04188867658376694,
           0.06730765849351883,
           0.35756126046180725,
           0.290138304233551,
           0.09179587662220001,
           0.13168074190616608,
           0.28381776809692383,
           0.3558734059333801,
           0.34291505813598633,
           0.13843879103660583,
           0.18985261023044586,
           0.18992702662944794
          ],
          [
           0.5250282883644104,
           0.5187684297561646,
           0.5668861865997314,
           0.6117938160896301,
           0.699893593788147,
           0.6631392240524292,
           0.7136366367340088,
           0.6267766952514648,
           0.7075825929641724,
           0.6732247471809387,
           0.7790204882621765,
           0.6944087743759155,
           0.3584945797920227,
           0.2481473684310913,
           0.39855480194091797,
           0.5946370959281921,
           0.5624736547470093,
           0.7030321359634399,
           0.6669673919677734,
           0.484430730342865,
           0.17935267090797424,
           0.4847642183303833,
           0.5246804356575012,
           0.3341997265815735,
           0.3680049180984497,
           0.4355626106262207,
           0.41094422340393066,
           0.5484555959701538,
           0.7025588750839233,
           0.7243067622184753,
           0.9999997615814209,
           0.21240009367465973,
           0.28873687982559204,
           0.3130320906639099,
           0.16322682797908783,
           0.10388541221618652,
           0.06823857128620148,
           0.44174206256866455,
           0.3842095732688904,
           0.16280962526798248,
           0.12262123078107834,
           0.289201945066452,
           0.3433746099472046,
           0.31438201665878296,
           0.1607038676738739,
           0.285936564207077,
           0.1393273025751114
          ],
          [
           0.4379306733608246,
           0.36104458570480347,
           0.2834094762802124,
           0.29101526737213135,
           0.2509806156158447,
           0.3598203659057617,
           0.4033113718032837,
           0.37331607937812805,
           0.29215919971466064,
           0.32513847947120667,
           0.4328930079936981,
           0.4454892575740814,
           0.5341919660568237,
           0.45528653264045715,
           0.38565677404403687,
           0.4207565486431122,
           0.34803229570388794,
           0.2990139126777649,
           0.33944591879844666,
           0.3832407593727112,
           0.2445686310529709,
           0.39462485909461975,
           0.33803874254226685,
           0.550220787525177,
           0.509989857673645,
           0.4368293285369873,
           0.4002205431461334,
           0.5554882884025574,
           0.29900234937667847,
           0.2913481295108795,
           0.21240009367465973,
           0.9999999403953552,
           0.7209538221359253,
           0.7175401449203491,
           0.30153411626815796,
           0.24356350302696228,
           0.2671394348144531,
           0.44841474294662476,
           0.3039403557777405,
           0.3307476043701172,
           0.5181690454483032,
           0.36266565322875977,
           0.24516701698303223,
           0.2906767725944519,
           0.16929718852043152,
           0.19212952256202698,
           0.3124251067638397
          ],
          [
           0.4806153178215027,
           0.39643776416778564,
           0.3521057069301605,
           0.38908350467681885,
           0.34692835807800293,
           0.32036542892456055,
           0.40698403120040894,
           0.4054049849510193,
           0.4031279683113098,
           0.40214264392852783,
           0.4486989974975586,
           0.4830385446548462,
           0.5946748852729797,
           0.6065977811813354,
           0.5211948752403259,
           0.4168398976325989,
           0.40817004442214966,
           0.3096730709075928,
           0.31506234407424927,
           0.38619452714920044,
           0.18058502674102783,
           0.3332153558731079,
           0.29964718222618103,
           0.37377285957336426,
           0.47843533754348755,
           0.41524940729141235,
           0.3403128385543823,
           0.6462711691856384,
           0.26315686106681824,
           0.32593563199043274,
           0.28873687982559204,
           0.7209538221359253,
           1.0000001192092896,
           0.5623859167098999,
           0.3544691205024719,
           0.2592519521713257,
           0.25276097655296326,
           0.3769671618938446,
           0.2734653353691101,
           0.40588197112083435,
           0.6446367502212524,
           0.4678778648376465,
           0.20776236057281494,
           0.22885209321975708,
           0.2796996533870697,
           0.3554218113422394,
           0.15555456280708313
          ],
          [
           0.5359358191490173,
           0.3868945240974426,
           0.40649786591529846,
           0.40140560269355774,
           0.3707120418548584,
           0.3910202383995056,
           0.4474990963935852,
           0.5081976652145386,
           0.44008931517601013,
           0.38389384746551514,
           0.4629805088043213,
           0.4827720522880554,
           0.4311901330947876,
           0.3396919369697571,
           0.3415224552154541,
           0.553900957107544,
           0.41476520895957947,
           0.37862592935562134,
           0.44615495204925537,
           0.3907325565814972,
           0.21745435893535614,
           0.41360238194465637,
           0.4072474539279938,
           0.4939712584018707,
           0.5025169253349304,
           0.49306732416152954,
           0.6190603971481323,
           0.6630216240882874,
           0.3085472583770752,
           0.4001954197883606,
           0.3130320906639099,
           0.7175401449203491,
           0.5623859167098999,
           0.9999996423721313,
           0.26889732480049133,
           0.2148025929927826,
           0.25364911556243896,
           0.39335814118385315,
           0.3076867461204529,
           0.317218542098999,
           0.36389046907424927,
           0.3877204954624176,
           0.4579877555370331,
           0.41210561990737915,
           0.20505380630493164,
           0.1875045895576477,
           0.3073275685310364
          ],
          [
           0.20243680477142334,
           0.1888524293899536,
           0.11093514412641525,
           0.13726267218589783,
           0.15418457984924316,
           0.13969841599464417,
           0.2506386339664459,
           0.3045506477355957,
           0.18183600902557373,
           0.15359097719192505,
           0.27315807342529297,
           0.30540257692337036,
           0.44998687505722046,
           0.5544148087501526,
           0.5185551643371582,
           0.09508146345615387,
           0.1068807989358902,
           0.1324506402015686,
           0.16969989240169525,
           0.1014636978507042,
           0.1596277952194214,
           0.1139068603515625,
           0.07207491993904114,
           0.12774977087974548,
           0.11404995620250702,
           0.12565092742443085,
           0.11710833758115768,
           0.3347744941711426,
           0.07736603915691376,
           0.12066972255706787,
           0.16322682797908783,
           0.30153411626815796,
           0.3544691205024719,
           0.26889732480049133,
           0.9999998807907104,
           0.7371289730072021,
           0.6663200855255127,
           0.26714393496513367,
           0.12452700734138489,
           0.5923207998275757,
           0.620198667049408,
           0.3685283660888672,
           0.0795760229229927,
           0.12019027769565582,
           0.2571837306022644,
           0.377638041973114,
           0.10240412503480911
          ],
          [
           0.09984719753265381,
           0.08021541684865952,
           0.012161750346422195,
           0.03771554306149483,
           0.11454351246356964,
           0.07736028730869293,
           0.1364792287349701,
           0.17159995436668396,
           0.08223085105419159,
           0.0531141459941864,
           0.17075808346271515,
           0.1656883955001831,
           0.2862931489944458,
           0.375762939453125,
           0.3894083499908447,
           0.08346527814865112,
           0.10336039215326309,
           0.06924857199192047,
           0.11005701124668121,
           0.042583905160427094,
           0.10963839292526245,
           0.02188163436949253,
           0.014783144928514957,
           0.10949885845184326,
           0.06496813148260117,
           0.11145726591348648,
           0.07862218469381332,
           0.20462340116500854,
           0.04593842849135399,
           0.04188867658376694,
           0.10388541221618652,
           0.24356350302696228,
           0.2592519521713257,
           0.2148025929927826,
           0.7371289730072021,
           1.0000003576278687,
           0.5333813428878784,
           0.2316296398639679,
           0.05597619712352753,
           0.41302070021629333,
           0.4572753310203552,
           0.24435997009277344,
           -0.00387527234852314,
           0.08766041696071625,
           0.18985360860824585,
           0.23519004881381989,
           0.027099518105387688
          ],
          [
           0.15221181511878967,
           0.15675145387649536,
           0.06842736154794693,
           0.11715881526470184,
           0.09591934829950333,
           0.09216199815273285,
           0.14392991364002228,
           0.19222700595855713,
           0.1053752452135086,
           0.10102810710668564,
           0.1727105677127838,
           0.17908403277397156,
           0.3352338373661041,
           0.37164783477783203,
           0.3339245617389679,
           0.08647869527339935,
           0.13795414566993713,
           0.069557324051857,
           0.12523652613162994,
           0.08580956608057022,
           0.2653999328613281,
           0.0981077253818512,
           0.04323776066303253,
           0.14559714496135712,
           0.14018651843070984,
           0.15969134867191315,
           0.1595848798751831,
           0.21329987049102783,
           0.08887581527233124,
           0.06730765849351883,
           0.06823857128620148,
           0.2671394348144531,
           0.25276097655296326,
           0.25364911556243896,
           0.6663200855255127,
           0.5333813428878784,
           1.0000001192092896,
           0.20978814363479614,
           0.057809166610240936,
           0.4054862856864929,
           0.47292715311050415,
           0.29392537474632263,
           0.11863210797309875,
           0.10146237164735794,
           0.16138118505477905,
           0.3439035415649414,
           0.0959157943725586
          ],
          [
           0.46572718024253845,
           0.3799537420272827,
           0.36125946044921875,
           0.4520525336265564,
           0.4957450330257416,
           0.8118534684181213,
           0.47703036665916443,
           0.4735942482948303,
           0.4100818932056427,
           0.45394808053970337,
           0.5298065543174744,
           0.4586840867996216,
           0.37410300970077515,
           0.27127546072006226,
           0.2795805335044861,
           0.3899827003479004,
           0.40766602754592896,
           0.3298887014389038,
           0.32555532455444336,
           0.34267544746398926,
           0.16603629291057587,
           0.3502819240093231,
           0.43246588110923767,
           0.30610352754592896,
           0.4126014709472656,
           0.3503555357456207,
           0.2071520984172821,
           0.5036357045173645,
           0.35640260577201843,
           0.35756126046180725,
           0.44174206256866455,
           0.44841474294662476,
           0.3769671618938446,
           0.39335814118385315,
           0.26714393496513367,
           0.2316296398639679,
           0.20978814363479614,
           1.000000238418579,
           0.3510093688964844,
           0.29176902770996094,
           0.328485906124115,
           0.4361151456832886,
           0.2438235878944397,
           0.2146780788898468,
           0.11999979615211487,
           0.292808473110199,
           0.34059616923332214
          ],
          [
           0.5193600654602051,
           0.49539321660995483,
           0.49530893564224243,
           0.49830371141433716,
           0.5979747176170349,
           0.5932958126068115,
           0.4309968948364258,
           0.5323910117149353,
           0.6557428240776062,
           0.586078405380249,
           0.5313870310783386,
           0.6760473251342773,
           0.3082043528556824,
           0.1393042951822281,
           0.23170587420463562,
           0.4572124481201172,
           0.5789266228675842,
           0.4364780783653259,
           0.4744378328323364,
           0.3831263780593872,
           0.14698535203933716,
           0.40662682056427,
           0.2564060389995575,
           0.5918683409690857,
           0.4625735282897949,
           0.4463497996330261,
           0.3563629984855652,
           0.5018031597137451,
           0.36091458797454834,
           0.290138304233551,
           0.3842095732688904,
           0.3039403557777405,
           0.2734653353691101,
           0.3076867461204529,
           0.12452700734138489,
           0.05597619712352753,
           0.057809166610240936,
           0.3510093688964844,
           1,
           0.12653854489326477,
           0.12073080986738205,
           0.1397741734981537,
           0.35182517766952515,
           0.3419642746448517,
           0.11010360717773438,
           0.1757669299840927,
           0.15780557692050934
          ],
          [
           0.2688397765159607,
           0.22230874001979828,
           0.18274050951004028,
           0.22680962085723877,
           0.2081356793642044,
           0.160169780254364,
           0.30977344512939453,
           0.26426637172698975,
           0.2631223797798157,
           0.20634405314922333,
           0.31143999099731445,
           0.32194069027900696,
           0.5645371675491333,
           0.4603453278541565,
           0.40799474716186523,
           0.1322803646326065,
           0.15509845316410065,
           0.1279202401638031,
           0.14282454550266266,
           0.14620009064674377,
           0.11117587983608246,
           0.10812981426715851,
           0.10931812226772308,
           0.0830046609044075,
           0.17992594838142395,
           0.151952862739563,
           0.10582348704338074,
           0.41553395986557007,
           0.0922650396823883,
           0.09179587662220001,
           0.16280962526798248,
           0.3307476043701172,
           0.40588197112083435,
           0.317218542098999,
           0.5923207998275757,
           0.41302070021629333,
           0.4054862856864929,
           0.29176902770996094,
           0.12653854489326477,
           0.9999998807907104,
           0.4369511008262634,
           0.31488487124443054,
           0.16175386309623718,
           0.15514834225177765,
           0.25518596172332764,
           0.3938937187194824,
           0.10126634687185287
          ],
          [
           0.23507237434387207,
           0.19723013043403625,
           0.12151441723108292,
           0.14423434436321259,
           0.16411203145980835,
           0.16702531278133392,
           0.246830552816391,
           0.2403145134449005,
           0.15892425179481506,
           0.1557314246892929,
           0.27784672379493713,
           0.2955665588378906,
           0.4380578398704529,
           0.5953801870346069,
           0.4506409764289856,
           0.14920227229595184,
           0.16996151208877563,
           0.14802201092243195,
           0.1570475846529007,
           0.16591373085975647,
           0.17871619760990143,
           0.1624588519334793,
           0.13237261772155762,
           0.21303103864192963,
           0.24075846374034882,
           0.19675862789154053,
           0.14452439546585083,
           0.3536266088485718,
           0.10760033130645752,
           0.13168074190616608,
           0.12262123078107834,
           0.5181690454483032,
           0.6446367502212524,
           0.36389046907424927,
           0.620198667049408,
           0.4572753310203552,
           0.47292715311050415,
           0.328485906124115,
           0.12073080986738205,
           0.4369511008262634,
           1.000000238418579,
           0.3574831485748291,
           0.07355694472789764,
           0.11376534402370453,
           0.21555961668491364,
           0.31874704360961914,
           0.19242621958255768
          ],
          [
           0.30240848660469055,
           0.22514933347702026,
           0.23930010199546814,
           0.24204042553901672,
           0.21276801824569702,
           0.35305824875831604,
           0.3263668715953827,
           0.7067362666130066,
           0.2765541076660156,
           0.285489559173584,
           0.3320295810699463,
           0.36050575971603394,
           0.45332303643226624,
           0.50144362449646,
           0.47604355216026306,
           0.2792888581752777,
           0.19461926817893982,
           0.24461247026920319,
           0.3476066589355469,
           0.2566912770271301,
           0.19566881656646729,
           0.2617133557796478,
           0.2825833559036255,
           0.23557138442993164,
           0.23949530720710754,
           0.22608768939971924,
           0.27902930974960327,
           0.4126704931259155,
           0.16286799311637878,
           0.28381776809692383,
           0.289201945066452,
           0.36266565322875977,
           0.4678778648376465,
           0.3877204954624176,
           0.3685283660888672,
           0.24435997009277344,
           0.29392537474632263,
           0.4361151456832886,
           0.1397741734981537,
           0.31488487124443054,
           0.3574831485748291,
           0.9999998807907104,
           0.16014976799488068,
           0.15451160073280334,
           0.2713907063007355,
           0.47420230507850647,
           0.038274120539426804
          ],
          [
           0.5481616258621216,
           0.48306483030319214,
           0.6257073879241943,
           0.6363032460212708,
           0.37402281165122986,
           0.38732799887657166,
           0.36122462153434753,
           0.4202386140823364,
           0.5537775158882141,
           0.4580599069595337,
           0.43141305446624756,
           0.4629947245121002,
           0.28393444418907166,
           0.1351565420627594,
           0.15188607573509216,
           0.42910438776016235,
           0.3852003514766693,
           0.4208497405052185,
           0.47018298506736755,
           0.36637216806411743,
           0.21149751543998718,
           0.3315943479537964,
           0.27580755949020386,
           0.37524980306625366,
           0.6521767377853394,
           0.4487428069114685,
           0.49834972620010376,
           0.5524356365203857,
           0.311079204082489,
           0.3558734059333801,
           0.3433746099472046,
           0.24516701698303223,
           0.20776236057281494,
           0.4579877555370331,
           0.0795760229229927,
           -0.00387527234852314,
           0.11863210797309875,
           0.2438235878944397,
           0.35182517766952515,
           0.16175386309623718,
           0.07355694472789764,
           0.16014976799488068,
           1.000000238418579,
           0.4393942654132843,
           0.0849108099937439,
           0.16384820640087128,
           0.1428312063217163
          ],
          [
           0.4178487956523895,
           0.44006627798080444,
           0.46650201082229614,
           0.4565296769142151,
           0.3742198944091797,
           0.37345442175865173,
           0.3791627287864685,
           0.4397255480289459,
           0.4934835433959961,
           0.4336198568344116,
           0.4388750195503235,
           0.4808341860771179,
           0.240935817360878,
           0.10647623240947723,
           0.19139578938484192,
           0.47458958625793457,
           0.38702768087387085,
           0.4192163050174713,
           0.49571114778518677,
           0.3415544331073761,
           0.16001392900943756,
           0.38048219680786133,
           0.35539692640304565,
           0.4095320701599121,
           0.4958007037639618,
           0.6591315269470215,
           0.44657936692237854,
           0.414821058511734,
           0.28604692220687866,
           0.34291505813598633,
           0.31438201665878296,
           0.2906767725944519,
           0.22885209321975708,
           0.41210561990737915,
           0.12019027769565582,
           0.08766041696071625,
           0.10146237164735794,
           0.2146780788898468,
           0.3419642746448517,
           0.15514834225177765,
           0.11376534402370453,
           0.15451160073280334,
           0.4393942654132843,
           0.9999998807907104,
           0.08739565312862396,
           0.12883546948432922,
           0.10032645612955093
          ],
          [
           0.21016459167003632,
           0.1847512423992157,
           0.1783755123615265,
           0.16244851052761078,
           0.18857796490192413,
           0.10588323324918747,
           0.14368857443332672,
           0.24291811883449554,
           0.21562808752059937,
           0.20840021967887878,
           0.18629726767539978,
           0.20225661993026733,
           0.2607051134109497,
           0.2350081503391266,
           0.19944432377815247,
           0.16754445433616638,
           0.141053706407547,
           0.1561889350414276,
           0.1430792212486267,
           0.12345119565725327,
           0.06797966361045837,
           0.0893329307436943,
           0.15769246220588684,
           0.07670815289020538,
           0.15557673573493958,
           0.0992220938205719,
           0.06576533615589142,
           0.26559990644454956,
           0.03962438553571701,
           0.13843879103660583,
           0.1607038676738739,
           0.16929718852043152,
           0.2796996533870697,
           0.20505380630493164,
           0.2571837306022644,
           0.18985360860824585,
           0.16138118505477905,
           0.11999979615211487,
           0.11010360717773438,
           0.25518596172332764,
           0.21555961668491364,
           0.2713907063007355,
           0.0849108099937439,
           0.08739565312862396,
           1,
           0.2008991539478302,
           -0.02228163182735443
          ],
          [
           0.2634841203689575,
           0.28853991627693176,
           0.25138863921165466,
           0.37787169218063354,
           0.28227698802948,
           0.2292155623435974,
           0.27746784687042236,
           0.32662302255630493,
           0.40301188826560974,
           0.3166973888874054,
           0.3776397407054901,
           0.4019262194633484,
           0.604955792427063,
           0.40237730741500854,
           0.5543880462646484,
           0.126365065574646,
           0.1830551028251648,
           0.10906574130058289,
           0.18098947405815125,
           0.13897588849067688,
           0.1813632994890213,
           0.10635873675346375,
           0.04230638965964317,
           0.05536054074764252,
           0.1344940960407257,
           0.12249762564897537,
           0.04726233705878258,
           0.4495394825935364,
           0.14083197712898254,
           0.18985261023044586,
           0.285936564207077,
           0.19212952256202698,
           0.3554218113422394,
           0.1875045895576477,
           0.377638041973114,
           0.23519004881381989,
           0.3439035415649414,
           0.292808473110199,
           0.1757669299840927,
           0.3938937187194824,
           0.31874704360961914,
           0.47420230507850647,
           0.16384820640087128,
           0.12883546948432922,
           0.2008991539478302,
           0.9999999403953552,
           0.06447432935237885
          ],
          [
           0.20205427706241608,
           0.16004861891269684,
           0.08599002659320831,
           0.1164638102054596,
           0.27745527029037476,
           0.28784480690956116,
           0.17469432950019836,
           0.1288948953151703,
           0.1413031816482544,
           0.1406049132347107,
           0.2532076835632324,
           0.19928070902824402,
           0.10816024988889694,
           0.1277836710214615,
           0.08423791080713272,
           0.24654145538806915,
           0.21662652492523193,
           0.17275553941726685,
           0.15031757950782776,
           0.08088675141334534,
           0.15509282052516937,
           0.22568124532699585,
           0.3456098735332489,
           0.213903546333313,
           0.21080897748470306,
           0.16070733964443207,
           0.22724270820617676,
           0.1938915252685547,
           0.19153964519500732,
           0.18992702662944794,
           0.1393273025751114,
           0.3124251067638397,
           0.15555456280708313,
           0.3073275685310364,
           0.10240412503480911,
           0.027099518105387688,
           0.0959157943725586,
           0.34059616923332214,
           0.15780557692050934,
           0.10126634687185287,
           0.19242621958255768,
           0.038274120539426804,
           0.1428312063217163,
           0.10032645612955093,
           -0.02228163182735443,
           0.06447432935237885,
           1.000000238418579
          ]
         ]
        }
       ],
       "layout": {
        "coloraxis": {
         "colorbar": {
          "title": {
           "text": "Similarity Score"
          }
         },
         "colorscale": [
          [
           0,
           "rgb(247,252,240)"
          ],
          [
           0.125,
           "rgb(224,243,219)"
          ],
          [
           0.25,
           "rgb(204,235,197)"
          ],
          [
           0.375,
           "rgb(168,221,181)"
          ],
          [
           0.5,
           "rgb(123,204,196)"
          ],
          [
           0.625,
           "rgb(78,179,211)"
          ],
          [
           0.75,
           "rgb(43,140,190)"
          ],
          [
           0.875,
           "rgb(8,104,172)"
          ],
          [
           1,
           "rgb(8,64,129)"
          ]
         ]
        },
        "height": 1000,
        "hoverlabel": {
         "bgcolor": "white",
         "font": {
          "family": "Rockwell",
          "size": 16
         }
        },
        "legend": {
         "title": {
          "text": "Trend"
         }
        },
        "margin": {
         "t": 60
        },
        "showlegend": true,
        "template": {
         "data": {
          "bar": [
           {
            "error_x": {
             "color": "#2a3f5f"
            },
            "error_y": {
             "color": "#2a3f5f"
            },
            "marker": {
             "line": {
              "color": "#E5ECF6",
              "width": 0.5
             },
             "pattern": {
              "fillmode": "overlay",
              "size": 10,
              "solidity": 0.2
             }
            },
            "type": "bar"
           }
          ],
          "barpolar": [
           {
            "marker": {
             "line": {
              "color": "#E5ECF6",
              "width": 0.5
             },
             "pattern": {
              "fillmode": "overlay",
              "size": 10,
              "solidity": 0.2
             }
            },
            "type": "barpolar"
           }
          ],
          "carpet": [
           {
            "aaxis": {
             "endlinecolor": "#2a3f5f",
             "gridcolor": "white",
             "linecolor": "white",
             "minorgridcolor": "white",
             "startlinecolor": "#2a3f5f"
            },
            "baxis": {
             "endlinecolor": "#2a3f5f",
             "gridcolor": "white",
             "linecolor": "white",
             "minorgridcolor": "white",
             "startlinecolor": "#2a3f5f"
            },
            "type": "carpet"
           }
          ],
          "choropleth": [
           {
            "colorbar": {
             "outlinewidth": 0,
             "ticks": ""
            },
            "type": "choropleth"
           }
          ],
          "contour": [
           {
            "colorbar": {
             "outlinewidth": 0,
             "ticks": ""
            },
            "colorscale": [
             [
              0,
              "#0d0887"
             ],
             [
              0.1111111111111111,
              "#46039f"
             ],
             [
              0.2222222222222222,
              "#7201a8"
             ],
             [
              0.3333333333333333,
              "#9c179e"
             ],
             [
              0.4444444444444444,
              "#bd3786"
             ],
             [
              0.5555555555555556,
              "#d8576b"
             ],
             [
              0.6666666666666666,
              "#ed7953"
             ],
             [
              0.7777777777777778,
              "#fb9f3a"
             ],
             [
              0.8888888888888888,
              "#fdca26"
             ],
             [
              1,
              "#f0f921"
             ]
            ],
            "type": "contour"
           }
          ],
          "contourcarpet": [
           {
            "colorbar": {
             "outlinewidth": 0,
             "ticks": ""
            },
            "type": "contourcarpet"
           }
          ],
          "heatmap": [
           {
            "colorbar": {
             "outlinewidth": 0,
             "ticks": ""
            },
            "colorscale": [
             [
              0,
              "#0d0887"
             ],
             [
              0.1111111111111111,
              "#46039f"
             ],
             [
              0.2222222222222222,
              "#7201a8"
             ],
             [
              0.3333333333333333,
              "#9c179e"
             ],
             [
              0.4444444444444444,
              "#bd3786"
             ],
             [
              0.5555555555555556,
              "#d8576b"
             ],
             [
              0.6666666666666666,
              "#ed7953"
             ],
             [
              0.7777777777777778,
              "#fb9f3a"
             ],
             [
              0.8888888888888888,
              "#fdca26"
             ],
             [
              1,
              "#f0f921"
             ]
            ],
            "type": "heatmap"
           }
          ],
          "heatmapgl": [
           {
            "colorbar": {
             "outlinewidth": 0,
             "ticks": ""
            },
            "colorscale": [
             [
              0,
              "#0d0887"
             ],
             [
              0.1111111111111111,
              "#46039f"
             ],
             [
              0.2222222222222222,
              "#7201a8"
             ],
             [
              0.3333333333333333,
              "#9c179e"
             ],
             [
              0.4444444444444444,
              "#bd3786"
             ],
             [
              0.5555555555555556,
              "#d8576b"
             ],
             [
              0.6666666666666666,
              "#ed7953"
             ],
             [
              0.7777777777777778,
              "#fb9f3a"
             ],
             [
              0.8888888888888888,
              "#fdca26"
             ],
             [
              1,
              "#f0f921"
             ]
            ],
            "type": "heatmapgl"
           }
          ],
          "histogram": [
           {
            "marker": {
             "pattern": {
              "fillmode": "overlay",
              "size": 10,
              "solidity": 0.2
             }
            },
            "type": "histogram"
           }
          ],
          "histogram2d": [
           {
            "colorbar": {
             "outlinewidth": 0,
             "ticks": ""
            },
            "colorscale": [
             [
              0,
              "#0d0887"
             ],
             [
              0.1111111111111111,
              "#46039f"
             ],
             [
              0.2222222222222222,
              "#7201a8"
             ],
             [
              0.3333333333333333,
              "#9c179e"
             ],
             [
              0.4444444444444444,
              "#bd3786"
             ],
             [
              0.5555555555555556,
              "#d8576b"
             ],
             [
              0.6666666666666666,
              "#ed7953"
             ],
             [
              0.7777777777777778,
              "#fb9f3a"
             ],
             [
              0.8888888888888888,
              "#fdca26"
             ],
             [
              1,
              "#f0f921"
             ]
            ],
            "type": "histogram2d"
           }
          ],
          "histogram2dcontour": [
           {
            "colorbar": {
             "outlinewidth": 0,
             "ticks": ""
            },
            "colorscale": [
             [
              0,
              "#0d0887"
             ],
             [
              0.1111111111111111,
              "#46039f"
             ],
             [
              0.2222222222222222,
              "#7201a8"
             ],
             [
              0.3333333333333333,
              "#9c179e"
             ],
             [
              0.4444444444444444,
              "#bd3786"
             ],
             [
              0.5555555555555556,
              "#d8576b"
             ],
             [
              0.6666666666666666,
              "#ed7953"
             ],
             [
              0.7777777777777778,
              "#fb9f3a"
             ],
             [
              0.8888888888888888,
              "#fdca26"
             ],
             [
              1,
              "#f0f921"
             ]
            ],
            "type": "histogram2dcontour"
           }
          ],
          "mesh3d": [
           {
            "colorbar": {
             "outlinewidth": 0,
             "ticks": ""
            },
            "type": "mesh3d"
           }
          ],
          "parcoords": [
           {
            "line": {
             "colorbar": {
              "outlinewidth": 0,
              "ticks": ""
             }
            },
            "type": "parcoords"
           }
          ],
          "pie": [
           {
            "automargin": true,
            "type": "pie"
           }
          ],
          "scatter": [
           {
            "fillpattern": {
             "fillmode": "overlay",
             "size": 10,
             "solidity": 0.2
            },
            "type": "scatter"
           }
          ],
          "scatter3d": [
           {
            "line": {
             "colorbar": {
              "outlinewidth": 0,
              "ticks": ""
             }
            },
            "marker": {
             "colorbar": {
              "outlinewidth": 0,
              "ticks": ""
             }
            },
            "type": "scatter3d"
           }
          ],
          "scattercarpet": [
           {
            "marker": {
             "colorbar": {
              "outlinewidth": 0,
              "ticks": ""
             }
            },
            "type": "scattercarpet"
           }
          ],
          "scattergeo": [
           {
            "marker": {
             "colorbar": {
              "outlinewidth": 0,
              "ticks": ""
             }
            },
            "type": "scattergeo"
           }
          ],
          "scattergl": [
           {
            "marker": {
             "colorbar": {
              "outlinewidth": 0,
              "ticks": ""
             }
            },
            "type": "scattergl"
           }
          ],
          "scattermapbox": [
           {
            "marker": {
             "colorbar": {
              "outlinewidth": 0,
              "ticks": ""
             }
            },
            "type": "scattermapbox"
           }
          ],
          "scatterpolar": [
           {
            "marker": {
             "colorbar": {
              "outlinewidth": 0,
              "ticks": ""
             }
            },
            "type": "scatterpolar"
           }
          ],
          "scatterpolargl": [
           {
            "marker": {
             "colorbar": {
              "outlinewidth": 0,
              "ticks": ""
             }
            },
            "type": "scatterpolargl"
           }
          ],
          "scatterternary": [
           {
            "marker": {
             "colorbar": {
              "outlinewidth": 0,
              "ticks": ""
             }
            },
            "type": "scatterternary"
           }
          ],
          "surface": [
           {
            "colorbar": {
             "outlinewidth": 0,
             "ticks": ""
            },
            "colorscale": [
             [
              0,
              "#0d0887"
             ],
             [
              0.1111111111111111,
              "#46039f"
             ],
             [
              0.2222222222222222,
              "#7201a8"
             ],
             [
              0.3333333333333333,
              "#9c179e"
             ],
             [
              0.4444444444444444,
              "#bd3786"
             ],
             [
              0.5555555555555556,
              "#d8576b"
             ],
             [
              0.6666666666666666,
              "#ed7953"
             ],
             [
              0.7777777777777778,
              "#fb9f3a"
             ],
             [
              0.8888888888888888,
              "#fdca26"
             ],
             [
              1,
              "#f0f921"
             ]
            ],
            "type": "surface"
           }
          ],
          "table": [
           {
            "cells": {
             "fill": {
              "color": "#EBF0F8"
             },
             "line": {
              "color": "white"
             }
            },
            "header": {
             "fill": {
              "color": "#C8D4E3"
             },
             "line": {
              "color": "white"
             }
            },
            "type": "table"
           }
          ]
         },
         "layout": {
          "annotationdefaults": {
           "arrowcolor": "#2a3f5f",
           "arrowhead": 0,
           "arrowwidth": 1
          },
          "autotypenumbers": "strict",
          "coloraxis": {
           "colorbar": {
            "outlinewidth": 0,
            "ticks": ""
           }
          },
          "colorscale": {
           "diverging": [
            [
             0,
             "#8e0152"
            ],
            [
             0.1,
             "#c51b7d"
            ],
            [
             0.2,
             "#de77ae"
            ],
            [
             0.3,
             "#f1b6da"
            ],
            [
             0.4,
             "#fde0ef"
            ],
            [
             0.5,
             "#f7f7f7"
            ],
            [
             0.6,
             "#e6f5d0"
            ],
            [
             0.7,
             "#b8e186"
            ],
            [
             0.8,
             "#7fbc41"
            ],
            [
             0.9,
             "#4d9221"
            ],
            [
             1,
             "#276419"
            ]
           ],
           "sequential": [
            [
             0,
             "#0d0887"
            ],
            [
             0.1111111111111111,
             "#46039f"
            ],
            [
             0.2222222222222222,
             "#7201a8"
            ],
            [
             0.3333333333333333,
             "#9c179e"
            ],
            [
             0.4444444444444444,
             "#bd3786"
            ],
            [
             0.5555555555555556,
             "#d8576b"
            ],
            [
             0.6666666666666666,
             "#ed7953"
            ],
            [
             0.7777777777777778,
             "#fb9f3a"
            ],
            [
             0.8888888888888888,
             "#fdca26"
            ],
            [
             1,
             "#f0f921"
            ]
           ],
           "sequentialminus": [
            [
             0,
             "#0d0887"
            ],
            [
             0.1111111111111111,
             "#46039f"
            ],
            [
             0.2222222222222222,
             "#7201a8"
            ],
            [
             0.3333333333333333,
             "#9c179e"
            ],
            [
             0.4444444444444444,
             "#bd3786"
            ],
            [
             0.5555555555555556,
             "#d8576b"
            ],
            [
             0.6666666666666666,
             "#ed7953"
            ],
            [
             0.7777777777777778,
             "#fb9f3a"
            ],
            [
             0.8888888888888888,
             "#fdca26"
            ],
            [
             1,
             "#f0f921"
            ]
           ]
          },
          "colorway": [
           "#636efa",
           "#EF553B",
           "#00cc96",
           "#ab63fa",
           "#FFA15A",
           "#19d3f3",
           "#FF6692",
           "#B6E880",
           "#FF97FF",
           "#FECB52"
          ],
          "font": {
           "color": "#2a3f5f"
          },
          "geo": {
           "bgcolor": "white",
           "lakecolor": "white",
           "landcolor": "#E5ECF6",
           "showlakes": true,
           "showland": true,
           "subunitcolor": "white"
          },
          "hoverlabel": {
           "align": "left"
          },
          "hovermode": "closest",
          "mapbox": {
           "style": "light"
          },
          "paper_bgcolor": "white",
          "plot_bgcolor": "#E5ECF6",
          "polar": {
           "angularaxis": {
            "gridcolor": "white",
            "linecolor": "white",
            "ticks": ""
           },
           "bgcolor": "#E5ECF6",
           "radialaxis": {
            "gridcolor": "white",
            "linecolor": "white",
            "ticks": ""
           }
          },
          "scene": {
           "xaxis": {
            "backgroundcolor": "#E5ECF6",
            "gridcolor": "white",
            "gridwidth": 2,
            "linecolor": "white",
            "showbackground": true,
            "ticks": "",
            "zerolinecolor": "white"
           },
           "yaxis": {
            "backgroundcolor": "#E5ECF6",
            "gridcolor": "white",
            "gridwidth": 2,
            "linecolor": "white",
            "showbackground": true,
            "ticks": "",
            "zerolinecolor": "white"
           },
           "zaxis": {
            "backgroundcolor": "#E5ECF6",
            "gridcolor": "white",
            "gridwidth": 2,
            "linecolor": "white",
            "showbackground": true,
            "ticks": "",
            "zerolinecolor": "white"
           }
          },
          "shapedefaults": {
           "line": {
            "color": "#2a3f5f"
           }
          },
          "ternary": {
           "aaxis": {
            "gridcolor": "white",
            "linecolor": "white",
            "ticks": ""
           },
           "baxis": {
            "gridcolor": "white",
            "linecolor": "white",
            "ticks": ""
           },
           "bgcolor": "#E5ECF6",
           "caxis": {
            "gridcolor": "white",
            "linecolor": "white",
            "ticks": ""
           }
          },
          "title": {
           "x": 0.05
          },
          "xaxis": {
           "automargin": true,
           "gridcolor": "white",
           "linecolor": "white",
           "ticks": "",
           "title": {
            "standoff": 15
           },
           "zerolinecolor": "white",
           "zerolinewidth": 2
          },
          "yaxis": {
           "automargin": true,
           "gridcolor": "white",
           "linecolor": "white",
           "ticks": "",
           "title": {
            "standoff": 15
           },
           "zerolinecolor": "white",
           "zerolinewidth": 2
          }
         }
        },
        "title": {
         "font": {
          "color": "Black",
          "size": 22
         },
         "text": "<b>Similarity Matrix</b>",
         "x": 0.55,
         "xanchor": "center",
         "y": 0.95,
         "yanchor": "top"
        },
        "width": 1000,
        "xaxis": {
         "anchor": "y",
         "constrain": "domain",
         "domain": [
          0,
          1
         ],
         "scaleanchor": "y"
        },
        "yaxis": {
         "anchor": "x",
         "autorange": "reversed",
         "constrain": "domain",
         "domain": [
          0,
          1
         ]
        }
       }
      }
     },
     "metadata": {},
     "output_type": "display_data"
    }
   ],
   "source": [
    "topic_model.visualize_heatmap(n_clusters=20, width=1000, height=1000)"
   ]
  },
  {
   "cell_type": "code",
   "execution_count": 40,
   "metadata": {},
   "outputs": [
    {
     "data": {
      "application/vnd.plotly.v1+json": {
       "config": {
        "plotlyServerURL": "https://plot.ly"
       },
       "data": [
        {
         "hovertext": "<b>Topic -1</b>:the_and_it_to_is_this_for_of_lapto",
         "line": {
          "color": "black",
          "width": 1.5
         },
         "mode": "lines+lines",
         "name": "",
         "opacity": 0.1,
         "type": "scatter",
         "x": [
          1,
          2,
          3,
          4,
          5,
          6,
          7,
          8,
          9,
          10
         ],
         "y": [
          0.017497984566246298,
          0.016406696926143396,
          0.016148537266235254,
          0.015058236330075666,
          0.014341915545511721,
          0.013560503868251446,
          0.013141954904069449,
          0.012955971409630906,
          0.012567421644163435,
          0.01163763567346671
         ]
        },
        {
         "hovertext": "<b>Topic 0</b>:tablet_the_and_it_to_is_samsung_my_",
         "line": {
          "color": "black",
          "width": 1.5
         },
         "mode": "lines+lines",
         "name": "",
         "opacity": 0.1,
         "type": "scatter",
         "x": [
          1,
          2,
          3,
          4,
          5,
          6,
          7,
          8,
          9,
          10
         ],
         "y": [
          0.027604436680971553,
          0.0176940279538386,
          0.016123172314583708,
          0.016014135437260022,
          0.01577307620584752,
          0.014747737573500824,
          0.014379948103592263,
          0.014171970031702723,
          0.013727439212891095,
          0.013417999747265553
         ]
        },
        {
         "hovertext": "<b>Topic 1</b>:gaming_games_the_and_laptop_it_for_",
         "line": {
          "color": "black",
          "width": 1.5
         },
         "mode": "lines+lines",
         "name": "",
         "opacity": 0.1,
         "type": "scatter",
         "x": [
          1,
          2,
          3,
          4,
          5,
          6,
          7,
          8,
          9,
          10
         ],
         "y": [
          0.019079741415831037,
          0.017812495532369795,
          0.01643295466737133,
          0.015667135672849098,
          0.015436070886397535,
          0.014479206811150228,
          0.014218431960835843,
          0.0141282510205796,
          0.014085998628122716,
          0.014003313048717644
         ]
        },
        {
         "hovertext": "<b>Topic 2</b>:chromebook_chrome_to_the_for_is_and",
         "line": {
          "color": "black",
          "width": 1.5
         },
         "mode": "lines+lines",
         "name": "",
         "opacity": 0.1,
         "type": "scatter",
         "x": [
          1,
          2,
          3,
          4,
          5,
          6,
          7,
          8,
          9,
          10
         ],
         "y": [
          0.04603923721736231,
          0.01928528823599409,
          0.01644188542305409,
          0.016435200603144587,
          0.01561348149201668,
          0.015450089822366718,
          0.015033619715753555,
          0.013939428965441177,
          0.013647495258686514,
          0.012169426887254751
         ]
        },
        {
         "hovertext": "<b>Topic 3</b>:laptop_is_and_for_it_the_this_its_t",
         "line": {
          "color": "black",
          "width": 1.5
         },
         "mode": "lines+lines",
         "name": "",
         "opacity": 0.1,
         "type": "scatter",
         "x": [
          1,
          2,
          3,
          4,
          5,
          6,
          7,
          8,
          9,
          10
         ],
         "y": [
          0.027560113548929316,
          0.019454830677996922,
          0.01801569013403557,
          0.016690972158865287,
          0.016360214598332645,
          0.015652509605954955,
          0.015271119231818182,
          0.013634327341917937,
          0.013573232962047198,
          0.013356644231396632
         ]
        },
        {
         "hovertext": "<b>Topic 4</b>:loves_she_for_gift_my_it_school_gra",
         "line": {
          "color": "black",
          "width": 1.5
         },
         "mode": "lines+lines",
         "name": "",
         "opacity": 0.1,
         "type": "scatter",
         "x": [
          1,
          2,
          3,
          4,
          5,
          6,
          7,
          8,
          9,
          10
         ],
         "y": [
          0.07174699308008775,
          0.0639460804468188,
          0.06032183261287303,
          0.057359817178452455,
          0.04190582233501476,
          0.04167042823396912,
          0.0378112954609786,
          0.03300810214414563,
          0.031077857215071374,
          0.030318063883173756
         ]
        },
        {
         "hovertext": "<b>Topic 5</b>:netbook_the_is_and_to_for_of_asus_s",
         "line": {
          "color": "black",
          "width": 1.5
         },
         "mode": "lines+lines",
         "name": "",
         "opacity": 0.1,
         "type": "scatter",
         "x": [
          1,
          2,
          3,
          4,
          5,
          6,
          7,
          8,
          9,
          10
         ],
         "y": [
          0.04236804174690103,
          0.017680803962594173,
          0.016657968492735375,
          0.01612646016322051,
          0.01580236775712642,
          0.014820760214694534,
          0.014022196110844758,
          0.01392397922945615,
          0.013455848024757818,
          0.013223164239747943
         ]
        },
        {
         "hovertext": "<b>Topic 6</b>:asus_the_to_they_and_it_have_of_was",
         "line": {
          "color": "black",
          "width": 1.5
         },
         "mode": "lines+lines",
         "name": "",
         "opacity": 0.1,
         "type": "scatter",
         "x": [
          1,
          2,
          3,
          4,
          5,
          6,
          7,
          8,
          9,
          10
         ],
         "y": [
          0.03453861777170119,
          0.018765618469404586,
          0.01860928225618954,
          0.01631313018114198,
          0.015852349974209198,
          0.014301915286197784,
          0.013614946912438086,
          0.013079406816020041,
          0.012674394071653865,
          0.012424346880175734
         ]
        },
        {
         "hovertext": "<b>Topic 7</b>:de_la_que_es_el_en_para_lo_un_se",
         "line": {
          "color": "black",
          "width": 1.5
         },
         "mode": "lines+lines",
         "name": "",
         "opacity": 0.1,
         "type": "scatter",
         "x": [
          1,
          2,
          3,
          4,
          5,
          6,
          7,
          8,
          9,
          10
         ],
         "y": [
          0.1481231080382317,
          0.13398493492420216,
          0.12759524925501434,
          0.10656262427206013,
          0.1041360490567657,
          0.09798134627772148,
          0.06772555858640357,
          0.06772555858640357,
          0.06632218443208605,
          0.06172512242455185
         ]
        },
        {
         "hovertext": "<b>Topic 8</b>:computer_pc_great_is_good_this_for_",
         "line": {
          "color": "black",
          "width": 1.5
         },
         "mode": "lines+lines",
         "name": "",
         "opacity": 0.1,
         "type": "scatter",
         "x": [
          1,
          2,
          3,
          4,
          5,
          6,
          7,
          8,
          9,
          10
         ],
         "y": [
          0.05821680124267742,
          0.02579873769104927,
          0.02561142940508611,
          0.02416500805076812,
          0.02161698061505714,
          0.019701698894258858,
          0.01781655927440666,
          0.017529741671196662,
          0.016988750717190276,
          0.01669843233416611
         ]
        },
        {
         "hovertext": "<b>Topic 9</b>:laptop_great_price_good_this_love_f",
         "line": {
          "color": "black",
          "width": 1.5
         },
         "mode": "lines+lines",
         "name": "",
         "opacity": 0.1,
         "type": "scatter",
         "x": [
          1,
          2,
          3,
          4,
          5,
          6,
          7,
          8,
          9,
          10
         ],
         "y": [
          0.06788539663924326,
          0.03330032416108275,
          0.031712505125076174,
          0.02793958546376773,
          0.027611017179653165,
          0.025340389964494305,
          0.01931654428734202,
          0.01837902180549069,
          0.017828474446649513,
          0.01748789279759037
         ]
        },
        {
         "hovertext": "<b>Topic 10</b>:wifi_to_the_and_was_it_computer_of",
         "line": {
          "color": "black",
          "width": 1.5
         },
         "mode": "lines+lines",
         "name": "",
         "opacity": 0.1,
         "type": "scatter",
         "x": [
          1,
          2,
          3,
          4,
          5,
          6,
          7,
          8,
          9,
          10
         ],
         "y": [
          0.03303648645960419,
          0.020699982727079815,
          0.01965057004045954,
          0.015404338232985615,
          0.01514370037124463,
          0.014465842902008747,
          0.013784418200546756,
          0.013746517840591499,
          0.013325180563481713,
          0.013286546249483795
         ]
        },
        {
         "hovertext": "<b>Topic 11</b>:surface_the_is_book_and_keyboard_t",
         "line": {
          "color": "black",
          "width": 1.5
         },
         "mode": "lines+lines",
         "name": "",
         "opacity": 0.1,
         "type": "scatter",
         "x": [
          1,
          2,
          3,
          4,
          5,
          6,
          7,
          8,
          9,
          10
         ],
         "y": [
          0.04271101690817515,
          0.022120323474672646,
          0.017530808409587234,
          0.017144318797728136,
          0.015664786225648063,
          0.01558113138691788,
          0.015303891630131624,
          0.01410253704719708,
          0.014023361440335277,
          0.013972850622790014
         ]
        },
        {
         "hovertext": "<b>Topic 12</b>:charger_it_laptop_not_charge_dell_",
         "line": {
          "color": "black",
          "width": 1.5
         },
         "mode": "lines+lines",
         "name": "",
         "opacity": 0.1,
         "type": "scatter",
         "x": [
          1,
          2,
          3,
          4,
          5,
          6,
          7,
          8,
          9,
          10
         ],
         "y": [
          0.030775810385794796,
          0.022002121401133855,
          0.01946700074756979,
          0.019267619011570484,
          0.01754210893834238,
          0.017293428580969612,
          0.017052400164500763,
          0.01639352498519978,
          0.015544179498411135,
          0.015454475958953834
         ]
        },
        {
         "hovertext": "<b>Topic 13</b>:screen_good_it_quality_great_for_i",
         "line": {
          "color": "black",
          "width": 1.5
         },
         "mode": "lines+lines",
         "name": "",
         "opacity": 0.1,
         "type": "scatter",
         "x": [
          1,
          2,
          3,
          4,
          5,
          6,
          7,
          8,
          9,
          10
         ],
         "y": [
          0.032902135613306516,
          0.0234397856447937,
          0.0224933649902316,
          0.020418251858322994,
          0.020078243910995913,
          0.019300415025457505,
          0.019087830157925235,
          0.01783497036376166,
          0.016781071829654368,
          0.016580392605649037
         ]
        },
        {
         "hovertext": "<b>Topic 14</b>:laptop_fan_it_the_this_and_to_in_i",
         "line": {
          "color": "black",
          "width": 1.5
         },
         "mode": "lines+lines",
         "name": "",
         "opacity": 0.1,
         "type": "scatter",
         "x": [
          1,
          2,
          3,
          4,
          5,
          6,
          7,
          8,
          9,
          10
         ],
         "y": [
          0.020874485106289895,
          0.01968643213102825,
          0.01820374615031274,
          0.01766920897510593,
          0.016639596722892093,
          0.0152734903290672,
          0.014282113040651127,
          0.013154952829511117,
          0.012568496238165326,
          0.011903413598951904
         ]
        },
        {
         "hovertext": "<b>Topic 15</b>:space_drive_to_windows_storage_the",
         "line": {
          "color": "black",
          "width": 1.5
         },
         "mode": "lines+lines",
         "name": "",
         "opacity": 0.1,
         "type": "scatter",
         "x": [
          1,
          2,
          3,
          4,
          5,
          6,
          7,
          8,
          9,
          10
         ],
         "y": [
          0.027331339029775085,
          0.022944090195490777,
          0.019899784864102307,
          0.019566775768505896,
          0.01661297921548865,
          0.016085348828990684,
          0.01585321159679451,
          0.015171395366696956,
          0.01479630595336261,
          0.01461168534057044
         ]
        },
        {
         "hovertext": "<b>Topic 16</b>:working_item_it_not_work_after_pro",
         "line": {
          "color": "black",
          "width": 1.5
         },
         "mode": "lines+lines",
         "name": "",
         "opacity": 0.1,
         "type": "scatter",
         "x": [
          1,
          2,
          3,
          4,
          5,
          6,
          7,
          8,
          9,
          10
         ],
         "y": [
          0.043262344487353624,
          0.04253922440325022,
          0.038556098455320285,
          0.0341481493866603,
          0.029201292483069744,
          0.028307008867466184,
          0.02767920692864259,
          0.023830292931850985,
          0.022441765200813046,
          0.020712489250123534
         ]
        },
        {
         "hovertext": "<b>Topic 17</b>:nice_excellent_great_mmmm_awesome_",
         "line": {
          "color": "black",
          "width": 1.5
         },
         "mode": "lines+lines",
         "name": "",
         "opacity": 0.1,
         "type": "scatter",
         "x": [
          1,
          2,
          3,
          4,
          5,
          6,
          7,
          8,
          9,
          10
         ],
         "y": [
          0.5270779363354166,
          0.430301208801151,
          0.21411352246549845,
          0.21394720511682483,
          0.20748286414366213,
          0.19704495746273895,
          0.18014648919063292,
          0.18014648919063292,
          0.1603865944873659,
          0.1409523059143901
         ]
        },
        {
         "hovertext": "<b>Topic 18</b>:windows_10_my_laptop_to_the_with_w",
         "line": {
          "color": "black",
          "width": 1.5
         },
         "mode": "lines+lines",
         "name": "",
         "opacity": 0.1,
         "type": "scatter",
         "x": [
          1,
          2,
          3,
          4,
          5,
          6,
          7,
          8,
          9,
          10
         ],
         "y": [
          0.04384754393567679,
          0.03008551117226266,
          0.01957529574889555,
          0.01890996018608179,
          0.018078001296163815,
          0.017574112849838376,
          0.017088753663179367,
          0.0167120372416168,
          0.015941748476138325,
          0.012894633781260462
         ]
        },
        {
         "hovertext": "<b>Topic 19</b>:slow_super_waste_money_glitches_sp",
         "line": {
          "color": "black",
          "width": 1.5
         },
         "mode": "lines+lines",
         "name": "",
         "opacity": 0.1,
         "type": "scatter",
         "x": [
          1,
          2,
          3,
          4,
          5,
          6,
          7,
          8,
          9,
          10
         ],
         "y": [
          0.23692536816301404,
          0.0746687437307472,
          0.06500522913871046,
          0.05662963907001608,
          0.037642672064231456,
          0.03666554721497839,
          0.033801617522650027,
          0.03219625296510015,
          0.03103706325397541,
          0.02904581261519807
         ]
        },
        {
         "hovertext": "<b>Topic 20</b>:works_far_issues_great_so_well_no_",
         "line": {
          "color": "black",
          "width": 1.5
         },
         "mode": "lines+lines",
         "name": "",
         "opacity": 0.1,
         "type": "scatter",
         "x": [
          1,
          2,
          3,
          4,
          5,
          6,
          7,
          8,
          9,
          10
         ],
         "y": [
          0.13283534144968345,
          0.12160777031463198,
          0.0871537320321519,
          0.08294791578978365,
          0.06932652771620991,
          0.0638606449568774,
          0.0534487381867416,
          0.041818064532503856,
          0.041098484978411946,
          0.03968841241250985
         ]
        },
        {
         "hovertext": "<b>Topic 21</b>:battery_hours_life_good_laptop_it_",
         "line": {
          "color": "black",
          "width": 1.5
         },
         "mode": "lines+lines",
         "name": "",
         "opacity": 0.1,
         "type": "scatter",
         "x": [
          1,
          2,
          3,
          4,
          5,
          6,
          7,
          8,
          9,
          10
         ],
         "y": [
          0.07893836537756921,
          0.06690401906022478,
          0.05089620979046026,
          0.025690864693255,
          0.02526589892243374,
          0.02500666373138792,
          0.02469142546081547,
          0.02123394118271357,
          0.02097011995683112,
          0.01981246710121664
         ]
        },
        {
         "hovertext": "<b>Topic 22</b>:slow_laptop_not_fast_it_its_as_jus",
         "line": {
          "color": "black",
          "width": 1.5
         },
         "mode": "lines+lines",
         "name": "",
         "opacity": 0.1,
         "type": "scatter",
         "x": [
          1,
          2,
          3,
          4,
          5,
          6,
          7,
          8,
          9,
          10
         ],
         "y": [
          0.04145027296097222,
          0.0344382121637037,
          0.025894987572203876,
          0.024837198276983722,
          0.022208606377786832,
          0.02063109187666718,
          0.020278987788361,
          0.01895254108418086,
          0.018437847113349375,
          0.017190355456765564
         ]
        },
        {
         "hovertext": "<b>Topic 23</b>:love_far_so_it_itno_good_loving_le",
         "line": {
          "color": "black",
          "width": 1.5
         },
         "mode": "lines+lines",
         "name": "",
         "opacity": 0.1,
         "type": "scatter",
         "x": [
          1,
          2,
          3,
          4,
          5,
          6,
          7,
          8,
          9,
          10
         ],
         "y": [
          0.6077718628346948,
          0.20647308596200886,
          0.15105706651889853,
          0.1382990488071271,
          0.1289975795557326,
          0.0856676995469937,
          0.08231384012055241,
          0.07412503327573676,
          0.07344544586162097,
          0.06844285217929073
         ]
        },
        {
         "hovertext": "<b>Topic 24</b>:new_refurbished_was_computer_came_",
         "line": {
          "color": "black",
          "width": 1.5
         },
         "mode": "lines+lines",
         "name": "",
         "opacity": 0.1,
         "type": "scatter",
         "x": [
          1,
          2,
          3,
          4,
          5,
          6,
          7,
          8,
          9,
          10
         ],
         "y": [
          0.04534649515367148,
          0.03180318703640204,
          0.027065627821294267,
          0.023781235363239374,
          0.023530684676606572,
          0.022614008566427767,
          0.021333491892846827,
          0.018299171861473347,
          0.01794201187661792,
          0.017713662523658004
         ]
        },
        {
         "hovertext": "<b>Topic 25</b>:mouse_touchpad_pad_the_laptop_work",
         "line": {
          "color": "black",
          "width": 1.5
         },
         "mode": "lines+lines",
         "name": "",
         "opacity": 0.1,
         "type": "scatter",
         "x": [
          1,
          2,
          3,
          4,
          5,
          6,
          7,
          8,
          9,
          10
         ],
         "y": [
          0.0305097989071561,
          0.026708994868452626,
          0.022529423749438737,
          0.021975930933686365,
          0.021031359880062734,
          0.01968809281455111,
          0.01908803953135208,
          0.017797306245560463,
          0.017739982973173096,
          0.017350135449969988
         ]
        },
        {
         "hovertext": "<b>Topic 26</b>:pc_mini_hdmi_the_ports_port_to_nuc",
         "line": {
          "color": "black",
          "width": 1.5
         },
         "mode": "lines+lines",
         "name": "",
         "opacity": 0.1,
         "type": "scatter",
         "x": [
          1,
          2,
          3,
          4,
          5,
          6,
          7,
          8,
          9,
          10
         ],
         "y": [
          0.027933914392374495,
          0.027296790037925393,
          0.021314525274396333,
          0.019569419526680933,
          0.016981310720538656,
          0.016828735979323772,
          0.01591385567970002,
          0.0156801994270993,
          0.015482994969128104,
          0.01485499451228028
         ]
        },
        {
         "hovertext": "<b>Topic 27</b>:delivery_product_seller_quick_deli",
         "line": {
          "color": "black",
          "width": 1.5
         },
         "mode": "lines+lines",
         "name": "",
         "opacity": 0.1,
         "type": "scatter",
         "x": [
          1,
          2,
          3,
          4,
          5,
          6,
          7,
          8,
          9,
          10
         ],
         "y": [
          0.12286458403214477,
          0.08187462889816968,
          0.07848284608059661,
          0.0670562029479905,
          0.06634995579775503,
          0.0624811081838587,
          0.06004757936376652,
          0.052694406806963835,
          0.0481965340765475,
          0.04180814772421968
         ]
        },
        {
         "hovertext": "<b>Topic 28</b>:touchscreen_touch_screen_is_not_nv",
         "line": {
          "color": "black",
          "width": 1.5
         },
         "mode": "lines+lines",
         "name": "",
         "opacity": 0.1,
         "type": "scatter",
         "x": [
          1,
          2,
          3,
          4,
          5,
          6,
          7,
          8,
          9,
          10
         ],
         "y": [
          0.07268676840045203,
          0.06182844197949036,
          0.044155387355348505,
          0.026139067921153926,
          0.024401438457378046,
          0.02329655051392793,
          0.022572721139491072,
          0.020608086149120016,
          0.01954042589723111,
          0.019497911294549333
         ]
        },
        {
         "hovertext": "<b>Topic 29</b>:product_good_great_prize_fort_nite",
         "line": {
          "color": "black",
          "width": 1.5
         },
         "mode": "lines+lines",
         "name": "",
         "opacity": 0.1,
         "type": "scatter",
         "x": [
          1,
          2,
          3,
          4,
          5,
          6,
          7,
          8,
          9,
          10
         ],
         "y": [
          0.6248706272421929,
          0.19144518772004224,
          0.14837162401834542,
          0.12354697760267348,
          0.12354697760267348,
          0.12354697760267348,
          0.103971786468765,
          0.09939351865266025,
          0.0911358407470201,
          0.0885722920249319
         ]
        },
        {
         "hovertext": "<b>Topic 30</b>:price_value_good_great_quality_pro",
         "line": {
          "color": "black",
          "width": 1.5
         },
         "mode": "lines+lines",
         "name": "",
         "opacity": 0.1,
         "type": "scatter",
         "x": [
          1,
          2,
          3,
          4,
          5,
          6,
          7,
          8,
          9,
          10
         ],
         "y": [
          0.4304615629089287,
          0.2537288238890207,
          0.18716156045608262,
          0.1692270731775506,
          0.10560239351040655,
          0.0943284504624997,
          0.09150257003033169,
          0.08893972095520862,
          0.06743784491804296,
          0.06398667705575892
         ]
        },
        {
         "hovertext": "<b>Topic 31</b>:keys_keyboard_uy_key_the_to_this_g",
         "line": {
          "color": "black",
          "width": 1.5
         },
         "mode": "lines+lines",
         "name": "",
         "opacity": 0.1,
         "type": "scatter",
         "x": [
          1,
          2,
          3,
          4,
          5,
          6,
          7,
          8,
          9,
          10
         ],
         "y": [
          0.035700858761304285,
          0.03307131940825849,
          0.025512974289519687,
          0.02450002808510759,
          0.021035987123559176,
          0.020214786980947915,
          0.017156251251728007,
          0.01680135025237763,
          0.01634263501180781,
          0.015303106847329506
         ]
        },
        {
         "hovertext": "<b>Topic 32</b>:united_reviewed_states_2010_march_",
         "line": {
          "color": "black",
          "width": 1.5
         },
         "mode": "lines+lines",
         "name": "",
         "opacity": 0.1,
         "type": "scatter",
         "x": [
          1,
          2,
          3,
          4,
          5,
          6,
          7,
          8,
          9,
          10
         ],
         "y": [
          0.6495430476646576,
          0.6274593453823516,
          0.5933578524116405,
          0.44248914476965484,
          0.21649377699810346,
          0.20699640662267133,
          0.1317942501273204,
          0.12639903920775475,
          0.080633049206791,
          0.07641682913701855
         ]
        },
        {
         "hovertext": "<b>Topic 33</b>:its_touch_small_to_the_keyboard_an",
         "line": {
          "color": "black",
          "width": 1.5
         },
         "mode": "lines+lines",
         "name": "",
         "opacity": 0.1,
         "type": "scatter",
         "x": [
          1,
          2,
          3,
          4,
          5,
          6,
          7,
          8,
          9,
          10
         ],
         "y": [
          0.024737963565166544,
          0.023635206348391856,
          0.020261890655094286,
          0.016686629247617893,
          0.01655221339659244,
          0.016459851522104583,
          0.015895469082658358,
          0.015533875969167284,
          0.015205747175301702,
          0.01513662295694898
         ]
        },
        {
         "hovertext": "<b>Topic 34</b>:good_goog_bd_none_like_no_one_not_",
         "line": {
          "color": "black",
          "width": 1.5
         },
         "mode": "lines+lines",
         "name": "",
         "opacity": 0.1,
         "type": "scatter",
         "x": [
          1,
          2,
          3,
          4,
          5,
          6,
          7,
          8,
          9,
          10
         ],
         "y": [
          1.1096006798467755,
          0.4177064480852294,
          0.3324214682882232,
          0.24353085474598105,
          0.09468681971224058,
          0.09235360203695486,
          0.0890491913693228,
          0.05962375289734338,
          0.026342675963262303,
          0.016571206183048654
         ]
        },
        {
         "hovertext": "<b>Topic 35</b>:works_working_great_shap_good_well",
         "line": {
          "color": "black",
          "width": 1.5
         },
         "mode": "lines+lines",
         "name": "",
         "opacity": 0.1,
         "type": "scatter",
         "x": [
          1,
          2,
          3,
          4,
          5,
          6,
          7,
          8,
          9,
          10
         ],
         "y": [
          0.44748244997638725,
          0.21879806407397237,
          0.1513561107083696,
          0.1512385415481003,
          0.13391732342978324,
          0.1198566784658635,
          0.11156283953514529,
          0.10842470230638215,
          0.10347533739596855,
          0.08497921172640441
         ]
        },
        {
         "hovertext": "<b>Topic 36</b>:weight_size_lightweight_designed_f",
         "line": {
          "color": "black",
          "width": 1.5
         },
         "mode": "lines+lines",
         "name": "",
         "opacity": 0.1,
         "type": "scatter",
         "x": [
          1,
          2,
          3,
          4,
          5,
          6,
          7,
          8,
          9,
          10
         ],
         "y": [
          0.1299553620165723,
          0.08162316718791846,
          0.07734631290893258,
          0.07069880790919109,
          0.06628628890805396,
          0.061869657531916124,
          0.06044303828820481,
          0.06003470617125623,
          0.05860113595415596,
          0.05700926061815634
         ]
        },
        {
         "hovertext": "<b>Topic 37</b>:hd_1005pr_broadcom_netbook_asus_th",
         "line": {
          "color": "black",
          "width": 1.5
         },
         "mode": "lines+lines",
         "name": "",
         "opacity": 0.1,
         "type": "scatter",
         "x": [
          1,
          2,
          3,
          4,
          5,
          6,
          7,
          8,
          9,
          10
         ],
         "y": [
          0.03526587506508333,
          0.029223232997300758,
          0.029010089222689436,
          0.02312693550580785,
          0.018660383948832928,
          0.01835293505472044,
          0.01789955869066213,
          0.01747956093273982,
          0.017094820987288244,
          0.016901044234247414
         ]
        },
        {
         "hovertext": "<b>Topic 38</b>:loading_player_video_is_adding_jun",
         "line": {
          "color": "black",
          "width": 1.5
         },
         "mode": "lines+lines",
         "name": "",
         "opacity": 0.1,
         "type": "scatter",
         "x": [
          1,
          2,
          3,
          4,
          5,
          6,
          7,
          8,
          9,
          10
         ],
         "y": [
          1.0717216834575818,
          0.9636963702123958,
          0.6890476507041378,
          0.14760966768384964,
          0.09173086575380943,
          0.07790309206305777,
          0.07664234240671494,
          0.06447083960013819,
          0.05113349086914298,
          0.04284549547451132
         ]
        },
        {
         "hovertext": "<b>Topic 39</b>:ssd_drive_computer_ssds_good_upgra",
         "line": {
          "color": "black",
          "width": 1.5
         },
         "mode": "lines+lines",
         "name": "",
         "opacity": 0.1,
         "type": "scatter",
         "x": [
          1,
          2,
          3,
          4,
          5,
          6,
          7,
          8,
          9,
          10
         ],
         "y": [
          0.06084273017250507,
          0.03199441863931077,
          0.027776446271957266,
          0.02689493414334596,
          0.024302893488508847,
          0.024146002241344427,
          0.02381229191261111,
          0.022547189098812117,
          0.02015901079321657,
          0.01964461676210987
         ]
        },
        {
         "hovertext": "<b>Topic 40</b>:backlit_keyboard_backlight_missing",
         "line": {
          "color": "black",
          "width": 1.5
         },
         "mode": "lines+lines",
         "name": "",
         "opacity": 0.1,
         "type": "scatter",
         "x": [
          1,
          2,
          3,
          4,
          5,
          6,
          7,
          8,
          9,
          10
         ],
         "y": [
          0.10602459576116352,
          0.09332597389205514,
          0.0569609613662652,
          0.049013656741845636,
          0.03762452175710514,
          0.031005391502595053,
          0.030637588705765342,
          0.025846076370637384,
          0.02537597225818846,
          0.024382035285639442
         ]
        },
        {
         "hovertext": "<b>Topic 41</b>:premier_hp_warranty_lenovo_service",
         "line": {
          "color": "black",
          "width": 1.5
         },
         "mode": "lines+lines",
         "name": "",
         "opacity": 0.1,
         "type": "scatter",
         "x": [
          1,
          2,
          3,
          4,
          5,
          6,
          7,
          8,
          9,
          10
         ],
         "y": [
          0.03863562407543813,
          0.034554376495190296,
          0.033539706243210364,
          0.03242406971253789,
          0.03087950333275938,
          0.0259468157547193,
          0.02516509058455368,
          0.023632755694204068,
          0.019431159126982688,
          0.018839821839719908
         ]
        },
        {
         "hovertext": "<b>Topic 42</b>:hp_stallion_drive_memory_setup_env",
         "line": {
          "color": "black",
          "width": 1.5
         },
         "mode": "lines+lines",
         "name": "",
         "opacity": 0.1,
         "type": "scatter",
         "x": [
          1,
          2,
          3,
          4,
          5,
          6,
          7,
          8,
          9,
          10
         ],
         "y": [
          0.1278625596034196,
          0.04252022766301208,
          0.03737359721170951,
          0.03390957815532639,
          0.03366360600720136,
          0.033555206968306724,
          0.027952074713831522,
          0.027431929551206522,
          0.027252762868881855,
          0.026899045558357235
         ]
        },
        {
         "hovertext": "<b>Topic 43</b>:laptop_within_arrived_was_speedy_d",
         "line": {
          "color": "black",
          "width": 1.5
         },
         "mode": "lines+lines",
         "name": "",
         "opacity": 0.1,
         "type": "scatter",
         "x": [
          1,
          2,
          3,
          4,
          5,
          6,
          7,
          8,
          9,
          10
         ],
         "y": [
          0.04448877950426597,
          0.04265244365479726,
          0.04243296888347535,
          0.03870346496086068,
          0.03848305769987167,
          0.037226047807321305,
          0.03570212059237492,
          0.03518507481741261,
          0.034466962517268336,
          0.033311441148602954
         ]
        },
        {
         "hovertext": "<b>Topic 44</b>:return_screen_product_was_sent_wen",
         "line": {
          "color": "black",
          "width": 1.5
         },
         "mode": "lines+lines",
         "name": "",
         "opacity": 0.1,
         "type": "scatter",
         "x": [
          1,
          2,
          3,
          4,
          5,
          6,
          7,
          8,
          9,
          10
         ],
         "y": [
          0.04396429852993713,
          0.03426829542123703,
          0.03237907935644117,
          0.03233291944621116,
          0.03023570393157846,
          0.029211689230499372,
          0.02757654396832749,
          0.027196136222298745,
          0.026081210196877567,
          0.02504557485862703
         ]
        },
        {
         "hovertext": "<b>Topic 45</b>:compaq_a1500_printer_print_was_ink",
         "line": {
          "color": "black",
          "width": 1.5
         },
         "mode": "lines+lines",
         "name": "",
         "opacity": 0.1,
         "type": "scatter",
         "x": [
          1,
          2,
          3,
          4,
          5,
          6,
          7,
          8,
          9,
          10
         ],
         "y": [
          0.04522620642531508,
          0.04042963803505417,
          0.03024176537470745,
          0.02919209804681525,
          0.027670237819508506,
          0.02538938368332819,
          0.022595292783723634,
          0.02222065584143916,
          0.02222065584143916,
          0.020290980133864208
         ]
        }
       ],
       "layout": {
        "height": 500,
        "hoverlabel": {
         "bgcolor": "white",
         "font": {
          "family": "Rockwell",
          "size": 16
         }
        },
        "showlegend": false,
        "template": {
         "data": {
          "bar": [
           {
            "error_x": {
             "color": "#2a3f5f"
            },
            "error_y": {
             "color": "#2a3f5f"
            },
            "marker": {
             "line": {
              "color": "white",
              "width": 0.5
             },
             "pattern": {
              "fillmode": "overlay",
              "size": 10,
              "solidity": 0.2
             }
            },
            "type": "bar"
           }
          ],
          "barpolar": [
           {
            "marker": {
             "line": {
              "color": "white",
              "width": 0.5
             },
             "pattern": {
              "fillmode": "overlay",
              "size": 10,
              "solidity": 0.2
             }
            },
            "type": "barpolar"
           }
          ],
          "carpet": [
           {
            "aaxis": {
             "endlinecolor": "#2a3f5f",
             "gridcolor": "#C8D4E3",
             "linecolor": "#C8D4E3",
             "minorgridcolor": "#C8D4E3",
             "startlinecolor": "#2a3f5f"
            },
            "baxis": {
             "endlinecolor": "#2a3f5f",
             "gridcolor": "#C8D4E3",
             "linecolor": "#C8D4E3",
             "minorgridcolor": "#C8D4E3",
             "startlinecolor": "#2a3f5f"
            },
            "type": "carpet"
           }
          ],
          "choropleth": [
           {
            "colorbar": {
             "outlinewidth": 0,
             "ticks": ""
            },
            "type": "choropleth"
           }
          ],
          "contour": [
           {
            "colorbar": {
             "outlinewidth": 0,
             "ticks": ""
            },
            "colorscale": [
             [
              0,
              "#0d0887"
             ],
             [
              0.1111111111111111,
              "#46039f"
             ],
             [
              0.2222222222222222,
              "#7201a8"
             ],
             [
              0.3333333333333333,
              "#9c179e"
             ],
             [
              0.4444444444444444,
              "#bd3786"
             ],
             [
              0.5555555555555556,
              "#d8576b"
             ],
             [
              0.6666666666666666,
              "#ed7953"
             ],
             [
              0.7777777777777778,
              "#fb9f3a"
             ],
             [
              0.8888888888888888,
              "#fdca26"
             ],
             [
              1,
              "#f0f921"
             ]
            ],
            "type": "contour"
           }
          ],
          "contourcarpet": [
           {
            "colorbar": {
             "outlinewidth": 0,
             "ticks": ""
            },
            "type": "contourcarpet"
           }
          ],
          "heatmap": [
           {
            "colorbar": {
             "outlinewidth": 0,
             "ticks": ""
            },
            "colorscale": [
             [
              0,
              "#0d0887"
             ],
             [
              0.1111111111111111,
              "#46039f"
             ],
             [
              0.2222222222222222,
              "#7201a8"
             ],
             [
              0.3333333333333333,
              "#9c179e"
             ],
             [
              0.4444444444444444,
              "#bd3786"
             ],
             [
              0.5555555555555556,
              "#d8576b"
             ],
             [
              0.6666666666666666,
              "#ed7953"
             ],
             [
              0.7777777777777778,
              "#fb9f3a"
             ],
             [
              0.8888888888888888,
              "#fdca26"
             ],
             [
              1,
              "#f0f921"
             ]
            ],
            "type": "heatmap"
           }
          ],
          "heatmapgl": [
           {
            "colorbar": {
             "outlinewidth": 0,
             "ticks": ""
            },
            "colorscale": [
             [
              0,
              "#0d0887"
             ],
             [
              0.1111111111111111,
              "#46039f"
             ],
             [
              0.2222222222222222,
              "#7201a8"
             ],
             [
              0.3333333333333333,
              "#9c179e"
             ],
             [
              0.4444444444444444,
              "#bd3786"
             ],
             [
              0.5555555555555556,
              "#d8576b"
             ],
             [
              0.6666666666666666,
              "#ed7953"
             ],
             [
              0.7777777777777778,
              "#fb9f3a"
             ],
             [
              0.8888888888888888,
              "#fdca26"
             ],
             [
              1,
              "#f0f921"
             ]
            ],
            "type": "heatmapgl"
           }
          ],
          "histogram": [
           {
            "marker": {
             "pattern": {
              "fillmode": "overlay",
              "size": 10,
              "solidity": 0.2
             }
            },
            "type": "histogram"
           }
          ],
          "histogram2d": [
           {
            "colorbar": {
             "outlinewidth": 0,
             "ticks": ""
            },
            "colorscale": [
             [
              0,
              "#0d0887"
             ],
             [
              0.1111111111111111,
              "#46039f"
             ],
             [
              0.2222222222222222,
              "#7201a8"
             ],
             [
              0.3333333333333333,
              "#9c179e"
             ],
             [
              0.4444444444444444,
              "#bd3786"
             ],
             [
              0.5555555555555556,
              "#d8576b"
             ],
             [
              0.6666666666666666,
              "#ed7953"
             ],
             [
              0.7777777777777778,
              "#fb9f3a"
             ],
             [
              0.8888888888888888,
              "#fdca26"
             ],
             [
              1,
              "#f0f921"
             ]
            ],
            "type": "histogram2d"
           }
          ],
          "histogram2dcontour": [
           {
            "colorbar": {
             "outlinewidth": 0,
             "ticks": ""
            },
            "colorscale": [
             [
              0,
              "#0d0887"
             ],
             [
              0.1111111111111111,
              "#46039f"
             ],
             [
              0.2222222222222222,
              "#7201a8"
             ],
             [
              0.3333333333333333,
              "#9c179e"
             ],
             [
              0.4444444444444444,
              "#bd3786"
             ],
             [
              0.5555555555555556,
              "#d8576b"
             ],
             [
              0.6666666666666666,
              "#ed7953"
             ],
             [
              0.7777777777777778,
              "#fb9f3a"
             ],
             [
              0.8888888888888888,
              "#fdca26"
             ],
             [
              1,
              "#f0f921"
             ]
            ],
            "type": "histogram2dcontour"
           }
          ],
          "mesh3d": [
           {
            "colorbar": {
             "outlinewidth": 0,
             "ticks": ""
            },
            "type": "mesh3d"
           }
          ],
          "parcoords": [
           {
            "line": {
             "colorbar": {
              "outlinewidth": 0,
              "ticks": ""
             }
            },
            "type": "parcoords"
           }
          ],
          "pie": [
           {
            "automargin": true,
            "type": "pie"
           }
          ],
          "scatter": [
           {
            "fillpattern": {
             "fillmode": "overlay",
             "size": 10,
             "solidity": 0.2
            },
            "type": "scatter"
           }
          ],
          "scatter3d": [
           {
            "line": {
             "colorbar": {
              "outlinewidth": 0,
              "ticks": ""
             }
            },
            "marker": {
             "colorbar": {
              "outlinewidth": 0,
              "ticks": ""
             }
            },
            "type": "scatter3d"
           }
          ],
          "scattercarpet": [
           {
            "marker": {
             "colorbar": {
              "outlinewidth": 0,
              "ticks": ""
             }
            },
            "type": "scattercarpet"
           }
          ],
          "scattergeo": [
           {
            "marker": {
             "colorbar": {
              "outlinewidth": 0,
              "ticks": ""
             }
            },
            "type": "scattergeo"
           }
          ],
          "scattergl": [
           {
            "marker": {
             "colorbar": {
              "outlinewidth": 0,
              "ticks": ""
             }
            },
            "type": "scattergl"
           }
          ],
          "scattermapbox": [
           {
            "marker": {
             "colorbar": {
              "outlinewidth": 0,
              "ticks": ""
             }
            },
            "type": "scattermapbox"
           }
          ],
          "scatterpolar": [
           {
            "marker": {
             "colorbar": {
              "outlinewidth": 0,
              "ticks": ""
             }
            },
            "type": "scatterpolar"
           }
          ],
          "scatterpolargl": [
           {
            "marker": {
             "colorbar": {
              "outlinewidth": 0,
              "ticks": ""
             }
            },
            "type": "scatterpolargl"
           }
          ],
          "scatterternary": [
           {
            "marker": {
             "colorbar": {
              "outlinewidth": 0,
              "ticks": ""
             }
            },
            "type": "scatterternary"
           }
          ],
          "surface": [
           {
            "colorbar": {
             "outlinewidth": 0,
             "ticks": ""
            },
            "colorscale": [
             [
              0,
              "#0d0887"
             ],
             [
              0.1111111111111111,
              "#46039f"
             ],
             [
              0.2222222222222222,
              "#7201a8"
             ],
             [
              0.3333333333333333,
              "#9c179e"
             ],
             [
              0.4444444444444444,
              "#bd3786"
             ],
             [
              0.5555555555555556,
              "#d8576b"
             ],
             [
              0.6666666666666666,
              "#ed7953"
             ],
             [
              0.7777777777777778,
              "#fb9f3a"
             ],
             [
              0.8888888888888888,
              "#fdca26"
             ],
             [
              1,
              "#f0f921"
             ]
            ],
            "type": "surface"
           }
          ],
          "table": [
           {
            "cells": {
             "fill": {
              "color": "#EBF0F8"
             },
             "line": {
              "color": "white"
             }
            },
            "header": {
             "fill": {
              "color": "#C8D4E3"
             },
             "line": {
              "color": "white"
             }
            },
            "type": "table"
           }
          ]
         },
         "layout": {
          "annotationdefaults": {
           "arrowcolor": "#2a3f5f",
           "arrowhead": 0,
           "arrowwidth": 1
          },
          "autotypenumbers": "strict",
          "coloraxis": {
           "colorbar": {
            "outlinewidth": 0,
            "ticks": ""
           }
          },
          "colorscale": {
           "diverging": [
            [
             0,
             "#8e0152"
            ],
            [
             0.1,
             "#c51b7d"
            ],
            [
             0.2,
             "#de77ae"
            ],
            [
             0.3,
             "#f1b6da"
            ],
            [
             0.4,
             "#fde0ef"
            ],
            [
             0.5,
             "#f7f7f7"
            ],
            [
             0.6,
             "#e6f5d0"
            ],
            [
             0.7,
             "#b8e186"
            ],
            [
             0.8,
             "#7fbc41"
            ],
            [
             0.9,
             "#4d9221"
            ],
            [
             1,
             "#276419"
            ]
           ],
           "sequential": [
            [
             0,
             "#0d0887"
            ],
            [
             0.1111111111111111,
             "#46039f"
            ],
            [
             0.2222222222222222,
             "#7201a8"
            ],
            [
             0.3333333333333333,
             "#9c179e"
            ],
            [
             0.4444444444444444,
             "#bd3786"
            ],
            [
             0.5555555555555556,
             "#d8576b"
            ],
            [
             0.6666666666666666,
             "#ed7953"
            ],
            [
             0.7777777777777778,
             "#fb9f3a"
            ],
            [
             0.8888888888888888,
             "#fdca26"
            ],
            [
             1,
             "#f0f921"
            ]
           ],
           "sequentialminus": [
            [
             0,
             "#0d0887"
            ],
            [
             0.1111111111111111,
             "#46039f"
            ],
            [
             0.2222222222222222,
             "#7201a8"
            ],
            [
             0.3333333333333333,
             "#9c179e"
            ],
            [
             0.4444444444444444,
             "#bd3786"
            ],
            [
             0.5555555555555556,
             "#d8576b"
            ],
            [
             0.6666666666666666,
             "#ed7953"
            ],
            [
             0.7777777777777778,
             "#fb9f3a"
            ],
            [
             0.8888888888888888,
             "#fdca26"
            ],
            [
             1,
             "#f0f921"
            ]
           ]
          },
          "colorway": [
           "#636efa",
           "#EF553B",
           "#00cc96",
           "#ab63fa",
           "#FFA15A",
           "#19d3f3",
           "#FF6692",
           "#B6E880",
           "#FF97FF",
           "#FECB52"
          ],
          "font": {
           "color": "#2a3f5f"
          },
          "geo": {
           "bgcolor": "white",
           "lakecolor": "white",
           "landcolor": "white",
           "showlakes": true,
           "showland": true,
           "subunitcolor": "#C8D4E3"
          },
          "hoverlabel": {
           "align": "left"
          },
          "hovermode": "closest",
          "mapbox": {
           "style": "light"
          },
          "paper_bgcolor": "white",
          "plot_bgcolor": "white",
          "polar": {
           "angularaxis": {
            "gridcolor": "#EBF0F8",
            "linecolor": "#EBF0F8",
            "ticks": ""
           },
           "bgcolor": "white",
           "radialaxis": {
            "gridcolor": "#EBF0F8",
            "linecolor": "#EBF0F8",
            "ticks": ""
           }
          },
          "scene": {
           "xaxis": {
            "backgroundcolor": "white",
            "gridcolor": "#DFE8F3",
            "gridwidth": 2,
            "linecolor": "#EBF0F8",
            "showbackground": true,
            "ticks": "",
            "zerolinecolor": "#EBF0F8"
           },
           "yaxis": {
            "backgroundcolor": "white",
            "gridcolor": "#DFE8F3",
            "gridwidth": 2,
            "linecolor": "#EBF0F8",
            "showbackground": true,
            "ticks": "",
            "zerolinecolor": "#EBF0F8"
           },
           "zaxis": {
            "backgroundcolor": "white",
            "gridcolor": "#DFE8F3",
            "gridwidth": 2,
            "linecolor": "#EBF0F8",
            "showbackground": true,
            "ticks": "",
            "zerolinecolor": "#EBF0F8"
           }
          },
          "shapedefaults": {
           "line": {
            "color": "#2a3f5f"
           }
          },
          "ternary": {
           "aaxis": {
            "gridcolor": "#DFE8F3",
            "linecolor": "#A2B1C6",
            "ticks": ""
           },
           "baxis": {
            "gridcolor": "#DFE8F3",
            "linecolor": "#A2B1C6",
            "ticks": ""
           },
           "bgcolor": "white",
           "caxis": {
            "gridcolor": "#DFE8F3",
            "linecolor": "#A2B1C6",
            "ticks": ""
           }
          },
          "title": {
           "x": 0.05
          },
          "xaxis": {
           "automargin": true,
           "gridcolor": "#EBF0F8",
           "linecolor": "#EBF0F8",
           "ticks": "",
           "title": {
            "standoff": 15
           },
           "zerolinecolor": "#EBF0F8",
           "zerolinewidth": 2
          },
          "yaxis": {
           "automargin": true,
           "gridcolor": "#EBF0F8",
           "linecolor": "#EBF0F8",
           "ticks": "",
           "title": {
            "standoff": 15
           },
           "zerolinecolor": "#EBF0F8",
           "zerolinewidth": 2
          }
         }
        },
        "title": {
         "font": {
          "color": "Black",
          "size": 22
         },
         "text": "<b>Term score decline per Topic</b>",
         "x": 0.5,
         "xanchor": "center",
         "y": 0.9,
         "yanchor": "top"
        },
        "width": 800,
        "xaxis": {
         "dtick": 2,
         "range": [
          0,
          10
         ],
         "tick0": 1,
         "title": {
          "text": "Term Rank"
         }
        },
        "yaxis": {
         "title": {
          "text": "c-TF-IDF score"
         }
        }
       }
      }
     },
     "metadata": {},
     "output_type": "display_data"
    }
   ],
   "source": [
    "topic_model.visualize_term_rank()"
   ]
  },
  {
   "cell_type": "code",
   "execution_count": 41,
   "metadata": {},
   "outputs": [
    {
     "data": {
      "text/plain": [
       "[('tablet', 0.01857156113713223),\n",
       " ('the', 0.015396642461403527),\n",
       " ('and', 0.013325886661660782),\n",
       " ('it', 0.013131735306217465),\n",
       " ('to', 0.012874880617946177),\n",
       " ('is', 0.011628168023600316),\n",
       " ('this', 0.010328169152886212),\n",
       " ('my', 0.01031793039359348),\n",
       " ('for', 0.010164531469232258),\n",
       " ('of', 0.009165233006543191)]"
      ]
     },
     "execution_count": 41,
     "metadata": {},
     "output_type": "execute_result"
    }
   ],
   "source": [
    "topic_model.update_topics(desc, n_gram_range=(1, 2))\n",
    "topic_model.get_topic(0)"
   ]
  },
  {
   "cell_type": "code",
   "execution_count": 42,
   "metadata": {},
   "outputs": [
    {
     "name": "stderr",
     "output_type": "stream",
     "text": [
      "2024-03-12 19:18:47,437 - BERTopic - Topic reduction - Reducing number of topics\n",
      "2024-03-12 19:18:47,440 - BERTopic - Topic reduction - Reduced number of topics from 48 to 48\n"
     ]
    },
    {
     "data": {
      "text/plain": [
       "[45,\n",
       " 45,\n",
       " 45,\n",
       " 45,\n",
       " 45,\n",
       " -1,\n",
       " 3,\n",
       " 3,\n",
       " 5,\n",
       " 6,\n",
       " 3,\n",
       " -1,\n",
       " -1,\n",
       " 6,\n",
       " 6,\n",
       " -1,\n",
       " 3,\n",
       " -1,\n",
       " -1,\n",
       " -1,\n",
       " -1,\n",
       " 3,\n",
       " -1,\n",
       " 8,\n",
       " -1,\n",
       " 1,\n",
       " 8,\n",
       " -1,\n",
       " 24,\n",
       " -1,\n",
       " -1,\n",
       " 6,\n",
       " 21,\n",
       " -1,\n",
       " 6,\n",
       " -1,\n",
       " 3,\n",
       " 6,\n",
       " -1,\n",
       " -1,\n",
       " 1,\n",
       " -1,\n",
       " 21,\n",
       " -1,\n",
       " 6,\n",
       " -1,\n",
       " 33,\n",
       " 5,\n",
       " 5,\n",
       " 5,\n",
       " 5,\n",
       " 5,\n",
       " 6,\n",
       " -1,\n",
       " 5,\n",
       " 5,\n",
       " 23,\n",
       " 4,\n",
       " 0,\n",
       " 5,\n",
       " 17,\n",
       " 5,\n",
       " -1,\n",
       " 4,\n",
       " -1,\n",
       " 5,\n",
       " -1,\n",
       " 5,\n",
       " -1,\n",
       " 16,\n",
       " -1,\n",
       " 27,\n",
       " 5,\n",
       " -1,\n",
       " -1,\n",
       " 5,\n",
       " 5,\n",
       " -1,\n",
       " -1,\n",
       " -1,\n",
       " 33,\n",
       " 5,\n",
       " 5,\n",
       " -1,\n",
       " 5,\n",
       " -1,\n",
       " 5,\n",
       " -1,\n",
       " -1,\n",
       " -1,\n",
       " 5,\n",
       " 5,\n",
       " 5,\n",
       " 6,\n",
       " 5,\n",
       " 33,\n",
       " 5,\n",
       " -1,\n",
       " 24,\n",
       " -1,\n",
       " 33,\n",
       " -1,\n",
       " -1,\n",
       " -1,\n",
       " -1,\n",
       " 13,\n",
       " 5,\n",
       " 6,\n",
       " -1,\n",
       " 5,\n",
       " -1,\n",
       " -1,\n",
       " -1,\n",
       " -1,\n",
       " 5,\n",
       " 5,\n",
       " 22,\n",
       " -1,\n",
       " 5,\n",
       " 5,\n",
       " 5,\n",
       " -1,\n",
       " 14,\n",
       " 5,\n",
       " 33,\n",
       " 5,\n",
       " 5,\n",
       " 8,\n",
       " 5,\n",
       " -1,\n",
       " 5,\n",
       " 5,\n",
       " 5,\n",
       " -1,\n",
       " -1,\n",
       " 6,\n",
       " 5,\n",
       " 5,\n",
       " 5,\n",
       " 32,\n",
       " 32,\n",
       " 32,\n",
       " 32,\n",
       " 32,\n",
       " 32,\n",
       " 32,\n",
       " 32,\n",
       " 32,\n",
       " 32,\n",
       " 32,\n",
       " 32,\n",
       " 32,\n",
       " 32,\n",
       " 32,\n",
       " 32,\n",
       " 32,\n",
       " 21,\n",
       " -1,\n",
       " -1,\n",
       " -1,\n",
       " 9,\n",
       " 6,\n",
       " 5,\n",
       " -1,\n",
       " -1,\n",
       " -1,\n",
       " 33,\n",
       " -1,\n",
       " 3,\n",
       " 3,\n",
       " -1,\n",
       " -1,\n",
       " 5,\n",
       " 3,\n",
       " 16,\n",
       " 3,\n",
       " -1,\n",
       " 25,\n",
       " -1,\n",
       " 6,\n",
       " -1,\n",
       " -1,\n",
       " 1,\n",
       " -1,\n",
       " 14,\n",
       " -1,\n",
       " 6,\n",
       " 1,\n",
       " 3,\n",
       " 1,\n",
       " -1,\n",
       " -1,\n",
       " 6,\n",
       " 14,\n",
       " -1,\n",
       " 1,\n",
       " -1,\n",
       " 6,\n",
       " 1,\n",
       " -1,\n",
       " -1,\n",
       " -1,\n",
       " -1,\n",
       " 6,\n",
       " 16,\n",
       " 9,\n",
       " 1,\n",
       " 7,\n",
       " -1,\n",
       " 9,\n",
       " 6,\n",
       " 1,\n",
       " -1,\n",
       " 24,\n",
       " 13,\n",
       " -1,\n",
       " 13,\n",
       " -1,\n",
       " -1,\n",
       " 1,\n",
       " 1,\n",
       " -1,\n",
       " 12,\n",
       " 40,\n",
       " -1,\n",
       " 1,\n",
       " 6,\n",
       " -1,\n",
       " 1,\n",
       " -1,\n",
       " 6,\n",
       " 3,\n",
       " 5,\n",
       " -1,\n",
       " 7,\n",
       " 1,\n",
       " -1,\n",
       " 1,\n",
       " 1,\n",
       " 6,\n",
       " 1,\n",
       " 14,\n",
       " 7,\n",
       " 3,\n",
       " 1,\n",
       " -1,\n",
       " 1,\n",
       " 5,\n",
       " 1,\n",
       " -1,\n",
       " 3,\n",
       " 14,\n",
       " 14,\n",
       " 1,\n",
       " -1,\n",
       " -1,\n",
       " 14,\n",
       " 5,\n",
       " -1,\n",
       " 1,\n",
       " -1,\n",
       " -1,\n",
       " -1,\n",
       " 1,\n",
       " -1,\n",
       " 1,\n",
       " 1,\n",
       " -1,\n",
       " 14,\n",
       " 6,\n",
       " -1,\n",
       " 6,\n",
       " -1,\n",
       " 1,\n",
       " 1,\n",
       " 6,\n",
       " 14,\n",
       " -1,\n",
       " -1,\n",
       " 6,\n",
       " -1,\n",
       " 7,\n",
       " -1,\n",
       " 8,\n",
       " -1,\n",
       " 6,\n",
       " -1,\n",
       " -1,\n",
       " 15,\n",
       " -1,\n",
       " 6,\n",
       " 14,\n",
       " 7,\n",
       " -1,\n",
       " 6,\n",
       " 6,\n",
       " -1,\n",
       " 6,\n",
       " 6,\n",
       " -1,\n",
       " -1,\n",
       " 6,\n",
       " -1,\n",
       " -1,\n",
       " -1,\n",
       " -1,\n",
       " -1,\n",
       " -1,\n",
       " -1,\n",
       " -1,\n",
       " -1,\n",
       " -1,\n",
       " -1,\n",
       " -1,\n",
       " -1,\n",
       " 1,\n",
       " 12,\n",
       " -1,\n",
       " 1,\n",
       " 18,\n",
       " 8,\n",
       " 6,\n",
       " 5,\n",
       " 6,\n",
       " 5,\n",
       " 5,\n",
       " 5,\n",
       " 5,\n",
       " -1,\n",
       " -1,\n",
       " 5,\n",
       " -1,\n",
       " 5,\n",
       " -1,\n",
       " 5,\n",
       " -1,\n",
       " 5,\n",
       " 5,\n",
       " 5,\n",
       " 43,\n",
       " -1,\n",
       " 5,\n",
       " -1,\n",
       " -1,\n",
       " 5,\n",
       " 5,\n",
       " 5,\n",
       " 5,\n",
       " 5,\n",
       " 33,\n",
       " -1,\n",
       " 33,\n",
       " 0,\n",
       " 5,\n",
       " -1,\n",
       " -1,\n",
       " 5,\n",
       " -1,\n",
       " 5,\n",
       " 5,\n",
       " 5,\n",
       " 10,\n",
       " 6,\n",
       " 5,\n",
       " 5,\n",
       " 5,\n",
       " 5,\n",
       " -1,\n",
       " 8,\n",
       " 8,\n",
       " -1,\n",
       " 3,\n",
       " 6,\n",
       " -1,\n",
       " 6,\n",
       " 5,\n",
       " 37,\n",
       " 0,\n",
       " 37,\n",
       " 37,\n",
       " 37,\n",
       " 37,\n",
       " 5,\n",
       " 37,\n",
       " 37,\n",
       " 5,\n",
       " -1,\n",
       " -1,\n",
       " 37,\n",
       " 37,\n",
       " 37,\n",
       " 37,\n",
       " 5,\n",
       " -1,\n",
       " 5,\n",
       " -1,\n",
       " 37,\n",
       " 37,\n",
       " -1,\n",
       " 37,\n",
       " -1,\n",
       " 5,\n",
       " 0,\n",
       " 5,\n",
       " 37,\n",
       " 37,\n",
       " -1,\n",
       " 1,\n",
       " -1,\n",
       " -1,\n",
       " 9,\n",
       " 8,\n",
       " -1,\n",
       " 6,\n",
       " -1,\n",
       " -1,\n",
       " 3,\n",
       " 6,\n",
       " 6,\n",
       " 1,\n",
       " 1,\n",
       " -1,\n",
       " 6,\n",
       " 21,\n",
       " -1,\n",
       " -1,\n",
       " 5,\n",
       " 6,\n",
       " -1,\n",
       " 3,\n",
       " 5,\n",
       " 6,\n",
       " 32,\n",
       " 25,\n",
       " -1,\n",
       " 6,\n",
       " 14,\n",
       " 3,\n",
       " 5,\n",
       " -1,\n",
       " 5,\n",
       " -1,\n",
       " 5,\n",
       " -1,\n",
       " 5,\n",
       " 13,\n",
       " 5,\n",
       " -1,\n",
       " 3,\n",
       " 5,\n",
       " -1,\n",
       " 5,\n",
       " -1,\n",
       " 6,\n",
       " 5,\n",
       " 5,\n",
       " 5,\n",
       " -1,\n",
       " 3,\n",
       " -1,\n",
       " -1,\n",
       " -1,\n",
       " -1,\n",
       " -1,\n",
       " 1,\n",
       " 3,\n",
       " -1,\n",
       " -1,\n",
       " -1,\n",
       " 15,\n",
       " 1,\n",
       " 14,\n",
       " 1,\n",
       " -1,\n",
       " 1,\n",
       " -1,\n",
       " -1,\n",
       " 6,\n",
       " -1,\n",
       " 8,\n",
       " -1,\n",
       " -1,\n",
       " -1,\n",
       " 9,\n",
       " 1,\n",
       " -1,\n",
       " 4,\n",
       " -1,\n",
       " 6,\n",
       " 6,\n",
       " -1,\n",
       " 3,\n",
       " -1,\n",
       " -1,\n",
       " 6,\n",
       " 3,\n",
       " 3,\n",
       " -1,\n",
       " 5,\n",
       " 0,\n",
       " 5,\n",
       " 5,\n",
       " 5,\n",
       " 6,\n",
       " 5,\n",
       " 1,\n",
       " 15,\n",
       " 3,\n",
       " 13,\n",
       " -1,\n",
       " -1,\n",
       " 1,\n",
       " 1,\n",
       " 6,\n",
       " -1,\n",
       " 1,\n",
       " -1,\n",
       " 3,\n",
       " 3,\n",
       " -1,\n",
       " -1,\n",
       " -1,\n",
       " -1,\n",
       " -1,\n",
       " 1,\n",
       " 36,\n",
       " 36,\n",
       " 18,\n",
       " -1,\n",
       " 20,\n",
       " -1,\n",
       " 9,\n",
       " 12,\n",
       " 13,\n",
       " 0,\n",
       " 7,\n",
       " 17,\n",
       " 17,\n",
       " 7,\n",
       " 2,\n",
       " 2,\n",
       " 4,\n",
       " 42,\n",
       " 4,\n",
       " 4,\n",
       " 2,\n",
       " 12,\n",
       " 40,\n",
       " 3,\n",
       " 34,\n",
       " 2,\n",
       " -1,\n",
       " 2,\n",
       " 2,\n",
       " 2,\n",
       " 2,\n",
       " 2,\n",
       " -1,\n",
       " 1,\n",
       " -1,\n",
       " 6,\n",
       " -1,\n",
       " 9,\n",
       " 2,\n",
       " -1,\n",
       " -1,\n",
       " 30,\n",
       " 40,\n",
       " -1,\n",
       " 7,\n",
       " 38,\n",
       " 3,\n",
       " 16,\n",
       " 10,\n",
       " 9,\n",
       " -1,\n",
       " 0,\n",
       " 16,\n",
       " -1,\n",
       " 0,\n",
       " 21,\n",
       " 0,\n",
       " -1,\n",
       " 0,\n",
       " 33,\n",
       " 0,\n",
       " -1,\n",
       " -1,\n",
       " 0,\n",
       " 0,\n",
       " 0,\n",
       " 0,\n",
       " 0,\n",
       " 0,\n",
       " 0,\n",
       " 0,\n",
       " 0,\n",
       " 0,\n",
       " 0,\n",
       " 0,\n",
       " 0,\n",
       " 0,\n",
       " 0,\n",
       " 0,\n",
       " 0,\n",
       " 0,\n",
       " 0,\n",
       " 0,\n",
       " 0,\n",
       " 0,\n",
       " 0,\n",
       " 0,\n",
       " 0,\n",
       " 0,\n",
       " 0,\n",
       " -1,\n",
       " -1,\n",
       " 0,\n",
       " 0,\n",
       " -1,\n",
       " 0,\n",
       " 0,\n",
       " -1,\n",
       " 0,\n",
       " 0,\n",
       " 0,\n",
       " 0,\n",
       " 0,\n",
       " 0,\n",
       " -1,\n",
       " -1,\n",
       " 0,\n",
       " 0,\n",
       " 0,\n",
       " 0,\n",
       " 0,\n",
       " 0,\n",
       " 0,\n",
       " 0,\n",
       " 0,\n",
       " -1,\n",
       " 0,\n",
       " 0,\n",
       " 0,\n",
       " 0,\n",
       " 0,\n",
       " 0,\n",
       " 0,\n",
       " 0,\n",
       " 0,\n",
       " 0,\n",
       " 0,\n",
       " 0,\n",
       " 0,\n",
       " 0,\n",
       " 0,\n",
       " 0,\n",
       " 0,\n",
       " 0,\n",
       " 0,\n",
       " 0,\n",
       " 0,\n",
       " 0,\n",
       " 0,\n",
       " 0,\n",
       " 0,\n",
       " 0,\n",
       " 0,\n",
       " 0,\n",
       " 0,\n",
       " 0,\n",
       " 0,\n",
       " 0,\n",
       " 38,\n",
       " 0,\n",
       " 0,\n",
       " 13,\n",
       " -1,\n",
       " 7,\n",
       " 1,\n",
       " 7,\n",
       " -1,\n",
       " 1,\n",
       " -1,\n",
       " 19,\n",
       " 3,\n",
       " 4,\n",
       " 21,\n",
       " -1,\n",
       " 24,\n",
       " 12,\n",
       " -1,\n",
       " 0,\n",
       " -1,\n",
       " -1,\n",
       " 18,\n",
       " 15,\n",
       " 1,\n",
       " 24,\n",
       " -1,\n",
       " -1,\n",
       " 2,\n",
       " 12,\n",
       " 29,\n",
       " 7,\n",
       " -1,\n",
       " 7,\n",
       " -1,\n",
       " -1,\n",
       " 17,\n",
       " 27,\n",
       " 20,\n",
       " -1,\n",
       " 22,\n",
       " 8,\n",
       " -1,\n",
       " 7,\n",
       " 4,\n",
       " 1,\n",
       " -1,\n",
       " 18,\n",
       " -1,\n",
       " -1,\n",
       " -1,\n",
       " -1,\n",
       " -1,\n",
       " 9,\n",
       " 27,\n",
       " -1,\n",
       " 12,\n",
       " 36,\n",
       " 36,\n",
       " 25,\n",
       " 18,\n",
       " 8,\n",
       " 8,\n",
       " 17,\n",
       " -1,\n",
       " -1,\n",
       " -1,\n",
       " 10,\n",
       " -1,\n",
       " 8,\n",
       " -1,\n",
       " -1,\n",
       " 3,\n",
       " 18,\n",
       " -1,\n",
       " -1,\n",
       " 12,\n",
       " 6,\n",
       " 0,\n",
       " 7,\n",
       " 24,\n",
       " 4,\n",
       " -1,\n",
       " -1,\n",
       " 39,\n",
       " -1,\n",
       " 9,\n",
       " 0,\n",
       " -1,\n",
       " -1,\n",
       " 7,\n",
       " 28,\n",
       " 2,\n",
       " -1,\n",
       " 22,\n",
       " 21,\n",
       " -1,\n",
       " -1,\n",
       " -1,\n",
       " 36,\n",
       " 13,\n",
       " 6,\n",
       " 13,\n",
       " 8,\n",
       " -1,\n",
       " -1,\n",
       " -1,\n",
       " 22,\n",
       " -1,\n",
       " 3,\n",
       " 6,\n",
       " -1,\n",
       " 1,\n",
       " 8,\n",
       " 6,\n",
       " 19,\n",
       " -1,\n",
       " 1,\n",
       " 31,\n",
       " 3,\n",
       " 1,\n",
       " -1,\n",
       " -1,\n",
       " -1,\n",
       " 11,\n",
       " -1,\n",
       " -1,\n",
       " 13,\n",
       " 12,\n",
       " 9,\n",
       " -1,\n",
       " 12,\n",
       " -1,\n",
       " -1,\n",
       " 3,\n",
       " -1,\n",
       " 21,\n",
       " 9,\n",
       " 3,\n",
       " 11,\n",
       " 11,\n",
       " -1,\n",
       " -1,\n",
       " -1,\n",
       " 16,\n",
       " 13,\n",
       " -1,\n",
       " -1,\n",
       " -1,\n",
       " 1,\n",
       " -1,\n",
       " 21,\n",
       " 11,\n",
       " 11,\n",
       " 24,\n",
       " 11,\n",
       " 9,\n",
       " 45,\n",
       " -1,\n",
       " 12,\n",
       " 3,\n",
       " 3,\n",
       " -1,\n",
       " 36,\n",
       " -1,\n",
       " 3,\n",
       " 21,\n",
       " -1,\n",
       " -1,\n",
       " 11,\n",
       " 45,\n",
       " -1,\n",
       " 11,\n",
       " -1,\n",
       " 3,\n",
       " 8,\n",
       " -1,\n",
       " 11,\n",
       " 11,\n",
       " 11,\n",
       " -1,\n",
       " 1,\n",
       " 1,\n",
       " 1,\n",
       " 3,\n",
       " 11,\n",
       " 11,\n",
       " 11,\n",
       " -1,\n",
       " 12,\n",
       " 11,\n",
       " 11,\n",
       " -1,\n",
       " -1,\n",
       " -1,\n",
       " -1,\n",
       " 0,\n",
       " -1,\n",
       " 3,\n",
       " 6,\n",
       " 11,\n",
       " 11,\n",
       " -1,\n",
       " 11,\n",
       " -1,\n",
       " 11,\n",
       " 1,\n",
       " -1,\n",
       " 11,\n",
       " 14,\n",
       " -1,\n",
       " 11,\n",
       " 11,\n",
       " -1,\n",
       " 3,\n",
       " 11,\n",
       " 11,\n",
       " -1,\n",
       " 11,\n",
       " -1,\n",
       " -1,\n",
       " -1,\n",
       " 24,\n",
       " 42,\n",
       " -1,\n",
       " -1,\n",
       " -1,\n",
       " 46,\n",
       " -1,\n",
       " 14,\n",
       " -1,\n",
       " 15,\n",
       " 39,\n",
       " -1,\n",
       " 7,\n",
       " 9,\n",
       " 1,\n",
       " -1,\n",
       " -1,\n",
       " 43,\n",
       " 14,\n",
       " -1,\n",
       " -1,\n",
       " 12,\n",
       " -1,\n",
       " 3,\n",
       " 8,\n",
       " -1,\n",
       " -1,\n",
       " 30,\n",
       " 1,\n",
       " -1,\n",
       " 28,\n",
       " -1,\n",
       " -1,\n",
       " -1,\n",
       " -1,\n",
       " 10,\n",
       " 6,\n",
       " -1,\n",
       " -1,\n",
       " 7,\n",
       " 6,\n",
       " 6,\n",
       " 1,\n",
       " 19,\n",
       " -1,\n",
       " 6,\n",
       " 1,\n",
       " -1,\n",
       " 39,\n",
       " -1,\n",
       " 28,\n",
       " 1,\n",
       " -1,\n",
       " 1,\n",
       " 1,\n",
       " 14,\n",
       " -1,\n",
       " 27,\n",
       " 10,\n",
       " 6,\n",
       " 10,\n",
       " -1,\n",
       " 6,\n",
       " -1,\n",
       " 1,\n",
       " 24,\n",
       " 10,\n",
       " 3,\n",
       " -1,\n",
       " 1,\n",
       " -1,\n",
       " -1,\n",
       " -1,\n",
       " 20,\n",
       " 12,\n",
       " 1,\n",
       " 16,\n",
       " 2,\n",
       " 20,\n",
       " -1,\n",
       " -1,\n",
       " -1,\n",
       " 1,\n",
       " -1,\n",
       " -1,\n",
       " 22,\n",
       " 3,\n",
       " -1,\n",
       " -1,\n",
       " -1,\n",
       " 17,\n",
       " 9,\n",
       " 9,\n",
       " -1,\n",
       " 29,\n",
       " -1,\n",
       " 13,\n",
       " 20,\n",
       " 9,\n",
       " 10,\n",
       " -1,\n",
       " 30,\n",
       " 0,\n",
       " 16,\n",
       " -1,\n",
       " ...]"
      ]
     },
     "execution_count": 42,
     "metadata": {},
     "output_type": "execute_result"
    }
   ],
   "source": [
    "topic_model.reduce_topics(desc, nr_topics=60)\n",
    "topic_model.topics_"
   ]
  },
  {
   "cell_type": "code",
   "execution_count": 43,
   "metadata": {},
   "outputs": [
    {
     "data": {
      "text/plain": [
       "[1, 44, 16, 8, 15]"
      ]
     },
     "execution_count": 43,
     "metadata": {},
     "output_type": "execute_result"
    }
   ],
   "source": [
    "similar_topics, similarity = topic_model.find_topics(\"game\", top_n=5); similar_topics"
   ]
  },
  {
   "cell_type": "code",
   "execution_count": 44,
   "metadata": {},
   "outputs": [
    {
     "data": {
      "text/plain": [
       "{-1: [('the', 0.015226029353438697),\n",
       "  ('and', 0.013560199944621593),\n",
       "  ('it', 0.013241925217808214),\n",
       "  ('to', 0.012291368406827584),\n",
       "  ('is', 0.011308171234435923),\n",
       "  ('this', 0.010437841735465494),\n",
       "  ('for', 0.010082804062250659),\n",
       "  ('of', 0.009745608302944091),\n",
       "  ('laptop', 0.00886602223323747),\n",
       "  ('that', 0.008484209982271581)],\n",
       " 0: [('tablet', 0.01857156113713223),\n",
       "  ('the', 0.015396642461403527),\n",
       "  ('and', 0.013325886661660782),\n",
       "  ('it', 0.013131735306217465),\n",
       "  ('to', 0.012874880617946177),\n",
       "  ('is', 0.011628168023600316),\n",
       "  ('this', 0.010328169152886212),\n",
       "  ('my', 0.01031793039359348),\n",
       "  ('for', 0.010164531469232258),\n",
       "  ('of', 0.009165233006543191)],\n",
       " 1: [('the', 0.014299597829363587),\n",
       "  ('and', 0.012949233866633688),\n",
       "  ('it', 0.011873321967709018),\n",
       "  ('gaming', 0.011455921474324669),\n",
       "  ('is', 0.011041435648532204),\n",
       "  ('for', 0.010908940969480413),\n",
       "  ('games', 0.010891071140525526),\n",
       "  ('laptop', 0.010890026252097864),\n",
       "  ('this', 0.010875088895333323),\n",
       "  ('to', 0.010775061000485728)],\n",
       " 2: [('chromebook', 0.027462932725332245),\n",
       "  ('the', 0.014301677090942426),\n",
       "  ('to', 0.013421191395251574),\n",
       "  ('and', 0.012425727442424204),\n",
       "  ('is', 0.01218230726827721),\n",
       "  ('for', 0.011979382528136339),\n",
       "  ('it', 0.01143079007774025),\n",
       "  ('chrome', 0.011315616148303849),\n",
       "  ('this', 0.010505123392315697),\n",
       "  ('my', 0.008751863331881373)],\n",
       " 3: [('laptop', 0.01944383709362405),\n",
       "  ('is', 0.015340199656247947),\n",
       "  ('and', 0.014890668055422532),\n",
       "  ('the', 0.01362074786965858),\n",
       "  ('it', 0.013416068845870916),\n",
       "  ('for', 0.012806230933105173),\n",
       "  ('this', 0.011755039422307706),\n",
       "  ('to', 0.01107969413510691),\n",
       "  ('this laptop', 0.010309795416173197),\n",
       "  ('with', 0.009704750418524586)],\n",
       " 4: [('for', 0.04629781699371275),\n",
       "  ('loves it', 0.04478991933872531),\n",
       "  ('loves', 0.04168849701959479),\n",
       "  ('for my', 0.041218250212198514),\n",
       "  ('she', 0.03799442367887115),\n",
       "  ('it', 0.034183028419635914),\n",
       "  ('gift', 0.03318014209482794),\n",
       "  ('my', 0.030521135387027932),\n",
       "  ('she loves', 0.026257340067489737),\n",
       "  ('school', 0.022319806494887892)],\n",
       " 5: [('netbook', 0.0254001131169889),\n",
       "  ('the', 0.015385632696071216),\n",
       "  ('and', 0.013329034849530132),\n",
       "  ('is', 0.013134754791603009),\n",
       "  ('to', 0.012899206918331125),\n",
       "  ('for', 0.011371206693058283),\n",
       "  ('this netbook', 0.01060256808415296),\n",
       "  ('of', 0.010547990396254564),\n",
       "  ('it', 0.010208156678834361),\n",
       "  ('this', 0.009592330414530689)],\n",
       " 6: [('asus', 0.0216059461171686),\n",
       "  ('the', 0.016329682312278097),\n",
       "  ('to', 0.015190496538209915),\n",
       "  ('and', 0.013102519335499165),\n",
       "  ('it', 0.011728118949927478),\n",
       "  ('they', 0.010495667246297774),\n",
       "  ('of', 0.009838825073129588),\n",
       "  ('have', 0.009673849400731151),\n",
       "  ('this', 0.009460028670991182),\n",
       "  ('was', 0.008998229138889499)],\n",
       " 7: [('de', 0.0864016718250909),\n",
       "  ('la', 0.07783506699363098),\n",
       "  ('que', 0.07394874412921827),\n",
       "  ('es', 0.06134871339081339),\n",
       "  ('el', 0.059903380761813826),\n",
       "  ('en', 0.056245459012769575),\n",
       "  ('para', 0.03843846195448541),\n",
       "  ('lo', 0.03843846195448541),\n",
       "  ('un', 0.03761997376905455),\n",
       "  ('se', 0.03497039367864997)],\n",
       " 8: [('computer', 0.0387346712108685),\n",
       "  ('is', 0.01905694221365687),\n",
       "  ('great', 0.017205091761089954),\n",
       "  ('this computer', 0.015759329203388014),\n",
       "  ('pc', 0.01549564765316875),\n",
       "  ('this', 0.015167695991685987),\n",
       "  ('the', 0.014533003967295465),\n",
       "  ('good', 0.014254772572592165),\n",
       "  ('it', 0.013933507065004918),\n",
       "  ('and', 0.013784444533159287)],\n",
       " 9: [('laptop', 0.04790697220946599),\n",
       "  ('great laptop', 0.025096244464255936),\n",
       "  ('this laptop', 0.02330474354008779),\n",
       "  ('great', 0.022373313762391833),\n",
       "  ('this', 0.021259694563800204),\n",
       "  ('price', 0.019922053889259626),\n",
       "  ('good', 0.018426544248631372),\n",
       "  ('laptop for', 0.01695425325052413),\n",
       "  ('love', 0.015886157410037415),\n",
       "  ('for', 0.014824857351970764)],\n",
       " 10: [('wifi', 0.019963058273333358),\n",
       "  ('the', 0.01710011026292313),\n",
       "  ('to', 0.016897452489674534),\n",
       "  ('and', 0.012732483069714392),\n",
       "  ('it', 0.011862789091366146),\n",
       "  ('was', 0.010751541964827863),\n",
       "  ('of', 0.01034086325479728),\n",
       "  ('for', 0.010223970357656006),\n",
       "  ('the wifi', 0.009868410434667798),\n",
       "  ('with', 0.009520589195002548)],\n",
       " 11: [('surface', 0.02574442569235731),\n",
       "  ('the', 0.019248711234637523),\n",
       "  ('the surface', 0.014945715728047267),\n",
       "  ('is', 0.013822885452181287),\n",
       "  ('and', 0.012947352149579266),\n",
       "  ('to', 0.012492218130552643),\n",
       "  ('it', 0.01123308695034022),\n",
       "  ('surface book', 0.01072317272039398),\n",
       "  ('book', 0.010096407318746363),\n",
       "  ('that', 0.010071872152769489)],\n",
       " 12: [('charger', 0.018059151756737817),\n",
       "  ('it', 0.018043949382429536),\n",
       "  ('not', 0.013781200227403081),\n",
       "  ('laptop', 0.013735066867211121),\n",
       "  ('the', 0.012905348814789226),\n",
       "  ('to', 0.01268945682295482),\n",
       "  ('and', 0.011880125548949867),\n",
       "  ('in', 0.011828494288436176),\n",
       "  ('for', 0.011650082897725553),\n",
       "  ('this', 0.011163786156435061)],\n",
       " 13: [('screen', 0.022175013370703503),\n",
       "  ('it', 0.01845049591397791),\n",
       "  ('good', 0.015458719265003553),\n",
       "  ('is', 0.015054885257313686),\n",
       "  ('for', 0.014812340108939002),\n",
       "  ('the', 0.014240810695284432),\n",
       "  ('great', 0.013489738043778671),\n",
       "  ('and', 0.013469915532819971),\n",
       "  ('screen quality', 0.012854391717390454),\n",
       "  ('quality', 0.012539535215292523)],\n",
       " 14: [('the', 0.015376084832988725),\n",
       "  ('it', 0.014928244420236714),\n",
       "  ('laptop', 0.014727479518318355),\n",
       "  ('this', 0.012808778123783763),\n",
       "  ('and', 0.012624472989884433),\n",
       "  ('to', 0.011658659505833613),\n",
       "  ('fan', 0.011620047707691712),\n",
       "  ('this laptop', 0.010147434533639336),\n",
       "  ('is', 0.009910568338283516),\n",
       "  ('in', 0.009491335732347334)],\n",
       " 15: [('space', 0.0163040895927039),\n",
       "  ('to', 0.016244437739192454),\n",
       "  ('drive', 0.01415264983158285),\n",
       "  ('the', 0.013997784162575152),\n",
       "  ('windows', 0.012440149218516263),\n",
       "  ('and', 0.012230055169295494),\n",
       "  ('of', 0.011925769279943493),\n",
       "  ('it', 0.011265072142706412),\n",
       "  ('this', 0.011247742555166976),\n",
       "  ('you', 0.01064398492470829)],\n",
       " 16: [('it', 0.03164010009357551),\n",
       "  ('working', 0.02623218783574828),\n",
       "  ('item', 0.02491560128166142),\n",
       "  ('not', 0.024440151277491443),\n",
       "  ('this item', 0.02163335273829162),\n",
       "  ('work', 0.018536410378893146),\n",
       "  ('this', 0.018356551150592506),\n",
       "  ('after', 0.01806703566649161),\n",
       "  ('product', 0.0173294142840644),\n",
       "  ('not work', 0.016974264992502642)],\n",
       " 17: [('nice', 0.33187266591235937),\n",
       "  ('excellent', 0.25967636278131634),\n",
       "  ('nice nice', 0.21658661450383185),\n",
       "  ('nice excellent', 0.21658661450383185),\n",
       "  ('great excellent', 0.21658661450383185),\n",
       "  ('great', 0.14558369555477188),\n",
       "  ('awesome', 0.12195890411139232),\n",
       "  ('awsome thanks', 0.11684972271074472),\n",
       "  ('excellent terrific', 0.11684972271074472),\n",
       "  ('excellent nice', 0.11684972271074472)],\n",
       " 18: [('windows', 0.02788085907362678),\n",
       "  ('10', 0.018392772219982177),\n",
       "  ('windows 10', 0.01720243720987511),\n",
       "  ('the', 0.015295256966720228),\n",
       "  ('to', 0.014759147517401676),\n",
       "  ('my', 0.014254590704096367),\n",
       "  ('laptop', 0.013343137998536559),\n",
       "  ('and', 0.013178489157025531),\n",
       "  ('with', 0.01258773030217189),\n",
       "  ('was', 0.011866639535338784)],\n",
       " 19: [('slow', 0.14221415608135074),\n",
       "  ('super slow', 0.06026718923017882),\n",
       "  ('super', 0.044175795380635804),\n",
       "  ('waste', 0.03712944531527527),\n",
       "  ('money', 0.033971947176715464),\n",
       "  ('waste of', 0.030701514731045074),\n",
       "  ('of money', 0.029557324794426316),\n",
       "  ('slow super', 0.029093724336335624),\n",
       "  ('slow really', 0.029093724336335624),\n",
       "  ('its slow', 0.025450930853146904)],\n",
       " 20: [('works', 0.08334484684653842),\n",
       "  ('so far', 0.08153996343063953),\n",
       "  ('far', 0.07529641169317308),\n",
       "  ('works great', 0.06540722660505495),\n",
       "  ('great', 0.0558214406624214),\n",
       "  ('issues', 0.05293654542289566),\n",
       "  ('so', 0.04823737247816818),\n",
       "  ('no issues', 0.042149202535623854),\n",
       "  ('well', 0.04086473415870455),\n",
       "  ('no', 0.03531607373078437)],\n",
       " 21: [('battery', 0.0513106641567722),\n",
       "  ('hours', 0.04084738704015571),\n",
       "  ('battery life', 0.0330614752080706),\n",
       "  ('life', 0.03164539079420924),\n",
       "  ('it', 0.020516858593257272),\n",
       "  ('laptop', 0.017834237854698308),\n",
       "  ('good', 0.01694728348836166),\n",
       "  ('hours of', 0.015675582490081108),\n",
       "  ('use it', 0.014816824090931505),\n",
       "  ('for', 0.014284008801504886)],\n",
       " 22: [('slow', 0.02485439994118033),\n",
       "  ('laptop', 0.024310011737565022),\n",
       "  ('not', 0.018530517079028558),\n",
       "  ('it', 0.018222215946083007),\n",
       "  ('fast', 0.0156073213286265),\n",
       "  ('this laptop', 0.015082188150424381),\n",
       "  ('the', 0.014744232290325905),\n",
       "  ('and', 0.014216468790393134),\n",
       "  ('its', 0.014204304669429454),\n",
       "  ('as', 0.014006723640842236)],\n",
       " 23: [('love it', 0.43796900248692716),\n",
       "  ('love', 0.3837154228344445),\n",
       "  ('it love', 0.3439257592882324),\n",
       "  ('so far', 0.1391944830280614),\n",
       "  ('far so', 0.13268439800665385),\n",
       "  ('far', 0.12853629874895203),\n",
       "  ('good love', 0.11968541845341105),\n",
       "  ('it', 0.11424572695623891),\n",
       "  ('so', 0.10567557711420918),\n",
       "  ('so good', 0.0871706448142094)],\n",
       " 24: [('new', 0.028501519580202417),\n",
       "  ('was', 0.01922402210350552),\n",
       "  ('refurbished', 0.018617212045375562),\n",
       "  ('computer', 0.01582768570489363),\n",
       "  ('laptop', 0.015057646816924893),\n",
       "  ('brand new', 0.014894751485720174),\n",
       "  ('it', 0.014365094171521152),\n",
       "  ('came', 0.014113334506316539),\n",
       "  ('and', 0.013697748879793824),\n",
       "  ('the', 0.013484844314513186)],\n",
       " 25: [('the', 0.019129559276342106),\n",
       "  ('mouse', 0.018044461512140054),\n",
       "  ('the laptop', 0.016263153102845086),\n",
       "  ('touchpad', 0.01564648076433308),\n",
       "  ('to', 0.015586424572269792),\n",
       "  ('laptop', 0.014842567552887155),\n",
       "  ('pad', 0.013295549747783224),\n",
       "  ('in', 0.012803251099376),\n",
       "  ('work', 0.012492789770873312),\n",
       "  ('it', 0.012137063261138897)],\n",
       " 26: [('the', 0.017030498655676907),\n",
       "  ('pc', 0.01677694200551476),\n",
       "  ('mini', 0.015750887498138213),\n",
       "  ('to', 0.012991291550810323),\n",
       "  ('and', 0.012798253181981528),\n",
       "  ('hdmi', 0.012497102223117637),\n",
       "  ('mini pc', 0.012471768033455405),\n",
       "  ('with', 0.010941467872660248),\n",
       "  ('port', 0.009994179039048548),\n",
       "  ('ports', 0.009993633686622042)],\n",
       " 27: [('delivery', 0.06969090857394),\n",
       "  ('product', 0.05132191398412784),\n",
       "  ('fast delivery', 0.04761551520003092),\n",
       "  ('seller', 0.04603653960397263),\n",
       "  ('quick', 0.038985631644054115),\n",
       "  ('the product', 0.038249930487964615),\n",
       "  ('fast', 0.037784129090766214),\n",
       "  ('delivered', 0.037314563230299275),\n",
       "  ('packaging', 0.035372252808181695),\n",
       "  ('quick delivery', 0.03287375364118528)],\n",
       " 28: [('touchscreen', 0.0426147857439684),\n",
       "  ('touch', 0.037484196092195256),\n",
       "  ('touch screen', 0.03336442410087508),\n",
       "  ('screen', 0.02976802983200655),\n",
       "  ('not touch', 0.021269876208771205),\n",
       "  ('is', 0.020622322584123866),\n",
       "  ('not', 0.01746174258785901),\n",
       "  ('the', 0.016976532419839294),\n",
       "  ('but', 0.016192894966337745),\n",
       "  ('it', 0.0160329792104411)],\n",
       " 29: [('product', 0.39369549796512254),\n",
       "  ('good product', 0.23126890612452927),\n",
       "  ('great product', 0.19848453479708322),\n",
       "  ('good', 0.12711464228770558),\n",
       "  ('product good', 0.12442209769369064),\n",
       "  ('product at', 0.10884334258473462),\n",
       "  ('great', 0.10035982416967253),\n",
       "  ('the product', 0.06903976815026237),\n",
       "  ('prize', 0.06712643645085335),\n",
       "  ('money excellent', 0.06712643645085335)],\n",
       " 30: [('price', 0.271969397879596),\n",
       "  ('price good', 0.1761993459675046),\n",
       "  ('the price', 0.16980511045389465),\n",
       "  ('value', 0.14841006099809373),\n",
       "  ('good', 0.12414313116929168),\n",
       "  ('great', 0.11434937541756628),\n",
       "  ('good price', 0.11288486200915834),\n",
       "  ('great value', 0.11028865535675984),\n",
       "  ('good for', 0.09656030989206732),\n",
       "  ('for the', 0.09507572406610691)],\n",
       " 31: [('keys', 0.02109561200574207),\n",
       "  ('keyboard', 0.021009983987330772),\n",
       "  ('the', 0.018312463884561366),\n",
       "  ('the keys', 0.018299403919108507),\n",
       "  ('to', 0.01650747117334388),\n",
       "  ('the keyboard', 0.014648080570527749),\n",
       "  ('key', 0.014324606431431042),\n",
       "  ('uy', 0.01395899048916673),\n",
       "  ('this', 0.013211207985066645),\n",
       "  ('and', 0.012331856992981768)],\n",
       " 32: [('states on', 0.36729158565216063),\n",
       "  ('reviewed in', 0.36729158565216063),\n",
       "  ('the united', 0.36729158565216063),\n",
       "  ('united states', 0.36413074954323843),\n",
       "  ('united', 0.36413074954323843),\n",
       "  ('reviewed', 0.3530358393069503),\n",
       "  ('states', 0.33589541615169527),\n",
       "  ('2010 reviewed', 0.2922166307587263),\n",
       "  ('2010', 0.2533952744131173),\n",
       "  ('in the', 0.16915254272951594)],\n",
       " 33: [('its', 0.01702636420991773),\n",
       "  ('the', 0.014407109581538074),\n",
       "  ('touch', 0.014324490456341384),\n",
       "  ('to', 0.013624384540128523),\n",
       "  ('and', 0.013141363712393914),\n",
       "  ('it', 0.012741481358479936),\n",
       "  ('small', 0.012254949043547623),\n",
       "  ('for', 0.011504788573674105),\n",
       "  ('is', 0.010669347806420747),\n",
       "  ('so', 0.01051433699330665)],\n",
       " 34: [('good good', 1.1229447295937254),\n",
       "  ('good', 0.7494006088877974),\n",
       "  ('goog not', 0.230849452184642),\n",
       "  ('it none', 0.230849452184642),\n",
       "  ('not bd', 0.230849452184642),\n",
       "  ('goog', 0.230849452184642),\n",
       "  ('good goog', 0.230849452184642),\n",
       "  ('none good', 0.230849452184642),\n",
       "  ('bd good', 0.230849452184642),\n",
       "  ('good no', 0.21394531432695588)],\n",
       " 35: [('works', 0.2826477414795651),\n",
       "  ('good works', 0.14550209220315918),\n",
       "  ('well works', 0.14550209220315918),\n",
       "  ('great works', 0.14050027383661298),\n",
       "  ('working', 0.13372079518976612),\n",
       "  ('great', 0.10254155947770889),\n",
       "  ('good', 0.08905920279536143),\n",
       "  ('works well', 0.08894036315381736),\n",
       "  ('works great', 0.08238873015841705),\n",
       "  ('no work', 0.08230284817017672)],\n",
       " 36: [('weight', 0.07632768292645625),\n",
       "  ('light weight', 0.053731848406275845),\n",
       "  ('well designed', 0.052630395736841994),\n",
       "  ('size', 0.04969041481459452),\n",
       "  ('lightweight', 0.045479190411632155),\n",
       "  ('was gift', 0.04447412124142971),\n",
       "  ('and weight', 0.04447412124142971),\n",
       "  ('fast', 0.04176356505363736),\n",
       "  ('designed', 0.03996556475049789),\n",
       "  ('perfect size', 0.039303997239581306)],\n",
       " 37: [('hd', 0.020660838121876406),\n",
       "  ('broadcom', 0.01627210801838179),\n",
       "  ('1005pr', 0.016262529615081237),\n",
       "  ('the', 0.015972604714207278),\n",
       "  ('and', 0.014131266200134414),\n",
       "  ('netbook', 0.013866671060193845),\n",
       "  ('to', 0.013797844560097128),\n",
       "  ('asus', 0.011674660861473772),\n",
       "  ('it', 0.010960426917250198),\n",
       "  ('with', 0.010952899632376034)],\n",
       " 38: [('is loading', 0.7176840451434316),\n",
       "  ('player is', 0.7099848714981838),\n",
       "  ('video player', 0.6961137157111145),\n",
       "  ('loading video', 0.6219582406728664),\n",
       "  ('loading', 0.61193792659575),\n",
       "  ('player', 0.5572938563750055),\n",
       "  ('video', 0.42235425812994826),\n",
       "  ('is', 0.11731626871656384),\n",
       "  ('back junk', 0.07571862031656258),\n",
       "  ('loading no', 0.07571862031656258)],\n",
       " 39: [('ssd', 0.03598487974953607),\n",
       "  ('drive', 0.01974606299294835),\n",
       "  ('computer', 0.018489139912098662),\n",
       "  ('good', 0.016032887165727244),\n",
       "  ('windows', 0.015147706941637744),\n",
       "  ('ssds', 0.014757106520960715),\n",
       "  ('and', 0.014625960064255431),\n",
       "  ('the', 0.01441047900460563),\n",
       "  ('upgrade', 0.014217270215487667),\n",
       "  ('10', 0.01379008750489534)],\n",
       " 40: [('backlit', 0.06097378925446272),\n",
       "  ('keyboard', 0.0593317967724887),\n",
       "  ('backlit keyboard', 0.051799485501293624),\n",
       "  ('have backlit', 0.036076692099463084),\n",
       "  ('backlight', 0.0316914265275736),\n",
       "  ('missing', 0.027706836171185904),\n",
       "  ('does not', 0.025597648148598884),\n",
       "  ('does', 0.023380738204984885),\n",
       "  ('it', 0.02083227276165632),\n",
       "  ('turns it', 0.020141809155924662)],\n",
       " 41: [('premier service', 0.02229361962602285),\n",
       "  ('premier', 0.021477771946402588),\n",
       "  ('hp', 0.020655855650557022),\n",
       "  ('warranty', 0.020139917325267164),\n",
       "  ('lenovo', 0.018781205621300087),\n",
       "  ('was', 0.01842597716831783),\n",
       "  ('service', 0.018204031721731545),\n",
       "  ('laptop', 0.017758814318980628),\n",
       "  ('the', 0.01639865630105412),\n",
       "  ('screen', 0.0159276364322781)],\n",
       " 42: [('hp', 0.0765103506977401),\n",
       "  ('this hp', 0.027275921448138937),\n",
       "  ('stallion', 0.02311398652807692),\n",
       "  ('drive', 0.02308187864129594),\n",
       "  ('new model', 0.021287920278274693),\n",
       "  ('hp envy', 0.020700130974066106),\n",
       "  ('memory', 0.020523478742659043),\n",
       "  ('setup', 0.019565492282048395),\n",
       "  ('was', 0.019500218920225687),\n",
       "  ('the solid', 0.01946226237278756)],\n",
       " 43: [('laptop', 0.03143750435641034),\n",
       "  ('speedy delivery', 0.02899754673522377),\n",
       "  ('was', 0.02752189988513671),\n",
       "  ('within', 0.024764694097282523),\n",
       "  ('arrived', 0.02465402214436277),\n",
       "  ('the laptop', 0.02225767069281939),\n",
       "  ('speedy', 0.021559613727972646),\n",
       "  ('on time', 0.021229271169814858),\n",
       "  ('received', 0.020986862369727247),\n",
       "  ('delivered', 0.020929049789776673)],\n",
       " 44: [('return', 0.02622380179977601),\n",
       "  ('another one', 0.023137890970821275),\n",
       "  ('screen', 0.023117107106452643),\n",
       "  ('was', 0.022982400870265988),\n",
       "  ('it', 0.021413247325009342),\n",
       "  ('product', 0.020281719113292757),\n",
       "  ('not return', 0.01906448609248147),\n",
       "  ('and', 0.01826915987046104),\n",
       "  ('sent', 0.017687276097369725),\n",
       "  ('went', 0.017169856976057076)],\n",
       " 45: [('compaq', 0.02496450989536946),\n",
       "  ('a1500', 0.022231160750044783),\n",
       "  ('was', 0.019653226432274778),\n",
       "  ('to', 0.01845233981955146),\n",
       "  ('printer', 0.017128282213488874),\n",
       "  ('it', 0.0166467060324795),\n",
       "  ('print', 0.016601636891451235),\n",
       "  ('the a1500', 0.015603603564664887),\n",
       "  ('with', 0.014403712494847606),\n",
       "  ('the', 0.014328994555737178)],\n",
       " 46: [('perfect', 1.282649794046673),\n",
       "  ('perfect perfect', 1.1951957573830934),\n",
       "  ('perfect perfecto', 0.4507060733128725),\n",
       "  ('perfect 100', 0.4507060733128725),\n",
       "  ('increible perfect', 0.4507060733128725),\n",
       "  ('everything perfect', 0.4507060733128725),\n",
       "  ('perfecto perfect', 0.4507060733128725),\n",
       "  ('100 perfect', 0.4507060733128725),\n",
       "  ('perfect everything', 0.4177027565431043),\n",
       "  ('increible', 0.4177027565431043)]}"
      ]
     },
     "execution_count": 44,
     "metadata": {},
     "output_type": "execute_result"
    }
   ],
   "source": [
    "main = topic_model.get_topics(46)\n",
    "main['Main']"
   ]
  }
 ],
 "metadata": {
  "kernelspec": {
   "display_name": "Python 3",
   "language": "python",
   "name": "python3"
  },
  "language_info": {
   "codemirror_mode": {
    "name": "ipython",
    "version": 3
   },
   "file_extension": ".py",
   "mimetype": "text/x-python",
   "name": "python",
   "nbconvert_exporter": "python",
   "pygments_lexer": "ipython3",
   "version": "3.11.7"
  }
 },
 "nbformat": 4,
 "nbformat_minor": 2
}
