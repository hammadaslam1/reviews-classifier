{
 "cells": [
  {
   "cell_type": "code",
   "execution_count": 7,
   "metadata": {},
   "outputs": [],
   "source": [
    "import nltk\n",
    "from nltk.tokenize import word_tokenize\n",
    "from nltk import pos_tag\n",
    "from nltk.corpus import stopwords\n",
    "from nltk.collocations import BigramCollocationFinder\n",
    "from nltk.metrics import BigramAssocMeasures\n",
    "# Download NLTK resources (run once if not downloaded)\n",
    "import json\n",
    "# nltk.download('punkt')\n",
    "# nltk.download('averaged_perceptron_tagger')\n",
    "# nltk.download('stopwords')"
   ]
  },
  {
   "cell_type": "code",
   "execution_count": 8,
   "metadata": {},
   "outputs": [
    {
     "name": "stdout",
     "output_type": "stream",
     "text": [
      "I bought this Compaq A1500 this week and am more than satisfied with it. Simple installation without any problems, excellent photo quality resolution even on plain paper, very good managing software and the best part is, I didn't need any customer support to make it run :).\n",
      "Very good product with excellent features, quality and resolution. Believe me it's better than the best available in this price range.\n",
      "I bought the A1500 based on the Compaq name and the excellent results I`ve had with their other products, however I started having problems immediatly, it just would not work. When I called Tech support, I was informed that it was not campatible with my operating system. When I pointed out I was using Win 98se on a Compaq comupter they tried to help. I was able to finally get it installed after being on the phone with Tech Support for almost 2 hours. It worked for one day then quit printing. When I again called Tech Support and spent another hour on the phone the printer finally started working but the Scanner quit. As I was buying a second computer with Win XP I asked if it would be compatible and was assured that it was.\n",
      "When I was ready to install the A1500 on the new computer, I called Tech Support and they taslked me through the whole process. Not only would it not install it crashed my system and I had to do a full restore.\n",
      "As I waited to long to return it, it is now seating on a shelf collecting dust until I can find someone who will take it off my hands. In the mean time I`m still looking for a good multifunction that will work as advertised.\n",
      "I would not recommend the A1500 to anyone who does not have money and time to waste.\n",
      "I picked this old Compaq A1500 up at a yard sale. It was so filthy and plugged with old ink I figured it was shot. But after disassembling it and cleaning the innards good, it went to working after I installed two new cartridges. I use Windows XP and havent had any problems with this printer, unlike my old Lexmark X83. I wont even go there. Overall a decent printer.\n",
      "The A1500 was the first multifunctional I've used.  I purchase one in 2001 for about $100. Overall, it was a decent machine before it began to die.\n",
      "\n",
      "It takes two ink cartridges, Lexmark black-12A1970 ($25-$32) and Lexmark color-12A1985 ($29-$39).  The ink seemed to last for a good while.  However, if you don't use the cartridges in a while, the ink will dry up (this is what happened to my color cartridge a few times).\n",
      "\n",
      "When I first purchased it, I thought the design was great, but as I needed copies and scans of different items, I changed my mind.  The copier/scanner is operated via a feeder instead of being a flatbed.  I couldn't scan a page from a book or magazine (unless I wanted to rip out the page and feed it to the machine).  It was also somewhat difficult to make copies of smaller items such as cards, IDs or pictures, even with the protective sleeve that is included with this model.\n",
      "\n",
      "Before Compaq was bought out by HP, there was Compaq Customer Communities where consumers could post questions and give answers to one another (I had an alignment problem with this unit that was easily solved by a visit to Customer Communities).  Unfortunately, HP removed the community.  I guess it's a good thing I got the 3 year warranty from Circuit City.  After about a year and a half, the scanner and copier started to act up.  I would no longer get clean scans/copies, and it would use two 8.5\" x 11\"\" pages to copy a single document with the same dimensions.  Customer Service couldn't help with the problem\n",
      "I bought this machine without realizing that it is not compatable with the original Windows 98. It worked fine for a couple weeks, but will no longer print properly. I have tried to correct this problem to no avail, I've even sent it back to Compaq!! On my third call to tech support, I was told that on one of the pages inside the manual it states that this is a \"Known issue\"\" and that I must have \"\"Windows 98 Second Edition\"\" for their product to work. This vital information should be prominatly noted in the advertising. I am very dissappointed!\"\n"
     ]
    },
    {
     "data": {
      "text/plain": [
       "['I picked this old Compaq A1500 up at a yard sale. It was so filthy and plugged with old ink I figured it was shot. But after disassembling it and cleaning the innards good, it went to working after I installed two new cartridges. I use Windows XP and havent had any problems with this printer, unlike my old Lexmark X83. I wont even go there. Overall a decent printer.']"
      ]
     },
     "execution_count": 8,
     "metadata": {},
     "output_type": "execute_result"
    }
   ],
   "source": [
    "\n",
    "\n",
    "with open('C:/Hammad Aslam/BS IT (post ADP)/3rd Semester/Capstone Project/Project/backend/datasets/categories/computers/computers.json', 'r') as f:\n",
    "    data = json.load(f)\n",
    "\n",
    "\n",
    "# Sample text\n",
    "# text = \"I bought the A1500 based on the Compaq name and the excellent results I`ve had with their other products, however I started having problems immediatly, it just would not work. When I called Tech support, I was informed that it was not campatible with my operating system. When I pointed out I was using Win 98se on a Compaq comupter they tried to help. I was able to finally get it installed after being on the phone with Tech Support for almost 2 hours. It worked for one day then quit printing. When I again called Tech Support and spent another hour on the phone the printer finally started working but the Scanner quit. As I was buying a second computer with Win XP I asked if it would be compatible and was assured that it was.\\nWhen I was ready to install the A1500 on the new computer, I called Tech Support and they taslked me through the whole process. Not only would it not install it crashed my system and I had to do a full restore.\\nAs I waited to long to return it, it is now seating on a shelf collecting dust until I can find someone who will take it off my hands. In the mean time I`m still looking for a good multifunction that will work as advertised.\\nI would not recommend the A1500 to anyone who does not have money and time to waste.\"\n",
    "\n",
    "\n",
    "# text array\n",
    "text = []\n",
    "for item in data[0][\"reviews\"]:\n",
    "    text.append(item[\"review_body\"])\n",
    "    print(item[\"review_body\"])\n",
    "\n",
    "# Tokenize the text\n",
    "words = []\n",
    "text = [data[0]['reviews'][2]['review_body']]\n",
    "for i in text:\n",
    "    words.append(word_tokenize(i))\n",
    "\n",
    "# Part-of-speech tagging\n",
    "tagged_words = []\n",
    "for j in words:\n",
    "    tagged_words.append(pos_tag(j))\n",
    "\n",
    "\n",
    "# Get English stop words\n",
    "stop_words = set(stopwords.words('english'))\n",
    "\n",
    "# len(words)\n",
    "text"
   ]
  },
  {
   "cell_type": "code",
   "execution_count": 9,
   "metadata": {},
   "outputs": [
    {
     "name": "stdout",
     "output_type": "stream",
     "text": [
      "old Compaq\n",
      "yard sale\n",
      "old ink\n",
      "good ,\n",
      "new cartridges\n",
      "Windows XP\n",
      "old Lexmark\n",
      "decent printer\n"
     ]
    },
    {
     "data": {
      "text/plain": [
       "[('old', 'Compaq'),\n",
       " ('yard', 'sale'),\n",
       " ('old', 'ink'),\n",
       " ('good', ','),\n",
       " ('new', 'cartridges'),\n",
       " ('Windows', 'XP'),\n",
       " ('old', 'Lexmark'),\n",
       " ('decent', 'printer')]"
      ]
     },
     "execution_count": 9,
     "metadata": {},
     "output_type": "execute_result"
    }
   ],
   "source": [
    "# Function to filter adjectives and non-stopword following words\n",
    "def extract_bigrams(t_words):\n",
    "    bigrams = []\n",
    "    for i in range(len(t_words) - 1):\n",
    "        word, tag = t_words[i]\n",
    "        next_word, next_tag = t_words[i+1]\n",
    "        if tag.startswith('JJ') and next_word.lower() not in stop_words:\n",
    "            bigrams.append(( word, next_word))\n",
    "    return bigrams\n",
    "\n",
    "# Extract bigrams\n",
    "# for k in tagged_words:\n",
    "    \n",
    "adjective_bigrams = extract_bigrams(tagged_words[0])\n",
    "\n",
    "for bigram in adjective_bigrams:\n",
    "    print(' '.join(bigram))\n",
    "    \n",
    "adjective_bigrams"
   ]
  }
 ],
 "metadata": {
  "kernelspec": {
   "display_name": "base",
   "language": "python",
   "name": "python3"
  },
  "language_info": {
   "codemirror_mode": {
    "name": "ipython",
    "version": 3
   },
   "file_extension": ".py",
   "mimetype": "text/x-python",
   "name": "python",
   "nbconvert_exporter": "python",
   "pygments_lexer": "ipython3",
   "version": "3.11.5"
  }
 },
 "nbformat": 4,
 "nbformat_minor": 2
}
