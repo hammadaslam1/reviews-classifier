{
 "cells": [
  {
   "cell_type": "code",
   "execution_count": 2,
   "metadata": {},
   "outputs": [],
   "source": [
    "import nltk\n",
    "from nltk.tokenize import word_tokenize\n",
    "from nltk import pos_tag\n",
    "from nltk.corpus import stopwords\n",
    "from nltk.collocations import BigramCollocationFinder\n",
    "from nltk.metrics import BigramAssocMeasures\n",
    "# Download NLTK resources (run once if not downloaded)\n",
    "import json\n",
    "import csv\n",
    "# nltk.download('punkt')\n",
    "# nltk.download('averaged_perceptron_tagger')\n",
    "# nltk.download('stopwords')"
   ]
  },
  {
   "cell_type": "code",
   "execution_count": 3,
   "metadata": {},
   "outputs": [],
   "source": [
    "# Function to filter adjectives and non-stopword following words\n",
    "def extract_bigrams(t_words):\n",
    "    bigrams = []\n",
    "    for i in range(len(t_words) - 1):\n",
    "        word, tag = t_words[i]\n",
    "        next_word, next_tag = t_words[i+1]\n",
    "        if tag.startswith('JJ') and next_word.lower() not in stop_words:\n",
    "            bigrams.append(( word, next_word))\n",
    "    return bigrams\n",
    "\n",
    "# Extract bigrams\n",
    "# for k in tagged_words:\n",
    "    \n",
    "# adjective_bigrams = extract_bigrams(tagged_words[0])\n",
    "\n",
    "# for bigram in adjective_bigrams:\n",
    "#     print(' '.join(bigram))\n",
    "    \n",
    "# adjective_bigrams"
   ]
  },
  {
   "cell_type": "code",
   "execution_count": 19,
   "metadata": {},
   "outputs": [
    {
     "data": {
      "text/plain": [
       "500"
      ]
     },
     "execution_count": 19,
     "metadata": {},
     "output_type": "execute_result"
    }
   ],
   "source": [
    "newData = []\n",
    "\n",
    "with open('C:/Hammad Aslam/BS IT (post ADP)/3rd Semester/Capstone Project/Project/backend/train.csv', 'r') as f:\n",
    "    # data = json.load(f)\n",
    "    data = csv.DictReader(f)\n",
    "    \n",
    "    for review in data:\n",
    "        # print(review)\n",
    "        words = []\n",
    "        topics = []\n",
    "        tagged_words = []\n",
    "        text = review['input']\n",
    "        words.append(word_tokenize(text))\n",
    "        for j in words:\n",
    "            tagged_words.append(pos_tag(j))\n",
    "        stop_words = set(stopwords.words('english'))\n",
    "        adjective_bigrams = extract_bigrams(tagged_words[0])\n",
    "        for bigram in adjective_bigrams:\n",
    "            # print(' '.join(bigram))\n",
    "            topics.append(' '.join(bigram))\n",
    "        review['output'] = topics\n",
    "        newData.append(review)\n",
    "# print(data)\n",
    "len(newData)\n",
    "\n",
    "# Sample text\n",
    "# text = \"I bought the A1500 based on the Compaq name and the excellent results I`ve had with their other products, however I started having problems immediatly, it just would not work. When I called Tech support, I was informed that it was not campatible with my operating system. When I pointed out I was using Win 98se on a Compaq comupter they tried to help. I was able to finally get it installed after being on the phone with Tech Support for almost 2 hours. It worked for one day then quit printing. When I again called Tech Support and spent another hour on the phone the printer finally started working but the Scanner quit. As I was buying a second computer with Win XP I asked if it would be compatible and was assured that it was.\\nWhen I was ready to install the A1500 on the new computer, I called Tech Support and they taslked me through the whole process. Not only would it not install it crashed my system and I had to do a full restore.\\nAs I waited to long to return it, it is now seating on a shelf collecting dust until I can find someone who will take it off my hands. In the mean time I`m still looking for a good multifunction that will work as advertised.\\nI would not recommend the A1500 to anyone who does not have money and time to waste.\"\n",
    "\n",
    "\n",
    "# text array\n",
    "# text = []\n",
    "# for item in data[0][\"reviews\"]:\n",
    "#     text.append(item[\"review_body\"])\n",
    "#     print(item[\"review_body\"])\n",
    "\n",
    "\n",
    "# Tokenize the text\n",
    "# text = [data[0]['reviews'][2]['review_body']]\n",
    "# for i in text:\n",
    "#     words.append(word_tokenize(i))\n",
    "\n",
    "# Part-of-speech tagging\n",
    "# tagged_words = []\n",
    "# for j in words:\n",
    "#     tagged_words.append(pos_tag(j))\n",
    "\n",
    "\n",
    "# Get English stop words\n",
    "# stop_words = set(stopwords.words('english'))\n",
    "\n",
    "# len(words)\n",
    "# text\n",
    "# data"
   ]
  },
  {
   "cell_type": "code",
   "execution_count": 24,
   "metadata": {},
   "outputs": [],
   "source": [
    "with open('C:/Hammad Aslam/BS IT (post ADP)/3rd Semester/Capstone Project/Project/backend/trainedData.json', 'w', encoding='utf-8') as f:\n",
    "    json.dump(newData, f, indent=4)"
   ]
  }
 ],
 "metadata": {
  "kernelspec": {
   "display_name": "base",
   "language": "python",
   "name": "python3"
  },
  "language_info": {
   "codemirror_mode": {
    "name": "ipython",
    "version": 3
   },
   "file_extension": ".py",
   "mimetype": "text/x-python",
   "name": "python",
   "nbconvert_exporter": "python",
   "pygments_lexer": "ipython3",
   "version": "3.11.5"
  }
 },
 "nbformat": 4,
 "nbformat_minor": 2
}
