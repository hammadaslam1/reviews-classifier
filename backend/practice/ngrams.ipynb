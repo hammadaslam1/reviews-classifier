{
 "cells": [
  {
   "cell_type": "code",
   "execution_count": 32,
   "metadata": {},
   "outputs": [
    {
     "name": "stderr",
     "output_type": "stream",
     "text": [
      "[nltk_data] Downloading package punkt to\n",
      "[nltk_data]     C:\\Users\\GS\\AppData\\Roaming\\nltk_data...\n",
      "[nltk_data]   Package punkt is already up-to-date!\n",
      "[nltk_data] Downloading package averaged_perceptron_tagger to\n",
      "[nltk_data]     C:\\Users\\GS\\AppData\\Roaming\\nltk_data...\n",
      "[nltk_data]   Package averaged_perceptron_tagger is already up-to-\n",
      "[nltk_data]       date!\n",
      "[nltk_data] Downloading package stopwords to\n",
      "[nltk_data]     C:\\Users\\GS\\AppData\\Roaming\\nltk_data...\n",
      "[nltk_data]   Package stopwords is already up-to-date!\n"
     ]
    },
    {
     "data": {
      "text/plain": [
       "True"
      ]
     },
     "execution_count": 32,
     "metadata": {},
     "output_type": "execute_result"
    }
   ],
   "source": [
    "import nltk\n",
    "from nltk.tokenize import word_tokenize\n",
    "from nltk import pos_tag\n",
    "from nltk.corpus import stopwords\n",
    "from nltk.collocations import BigramCollocationFinder\n",
    "from nltk.metrics import BigramAssocMeasures\n",
    "# Download NLTK resources (run once if not downloaded)\n",
    "import json\n",
    "nltk.download('punkt')\n",
    "nltk.download('averaged_perceptron_tagger')\n",
    "nltk.download('stopwords')"
   ]
  },
  {
   "cell_type": "code",
   "execution_count": 46,
   "metadata": {},
   "outputs": [
    {
     "data": {
      "text/plain": [
       "[['We',\n",
       "  \"'ve\",\n",
       "  'only',\n",
       "  'had',\n",
       "  'the',\n",
       "  'computer',\n",
       "  'for',\n",
       "  'a',\n",
       "  'week',\n",
       "  'or',\n",
       "  'so',\n",
       "  ',',\n",
       "  'but',\n",
       "  'I',\n",
       "  \"'ve\",\n",
       "  'been',\n",
       "  'very',\n",
       "  'impressed',\n",
       "  '.',\n",
       "  'The',\n",
       "  'case',\n",
       "  'really',\n",
       "  'does',\n",
       "  'feel',\n",
       "  'wonderful',\n",
       "  ',',\n",
       "  'and',\n",
       "  'the',\n",
       "  'screen',\n",
       "  'is',\n",
       "  'quite',\n",
       "  'bright',\n",
       "  '(',\n",
       "  'and',\n",
       "  'the',\n",
       "  'weight',\n",
       "  'is',\n",
       "  'terrific',\n",
       "  'for',\n",
       "  'traveling',\n",
       "  '!',\n",
       "  ')',\n",
       "  '.',\n",
       "  'I',\n",
       "  'was',\n",
       "  'worried',\n",
       "  'that',\n",
       "  'the',\n",
       "  '10.1',\n",
       "  \"''\",\n",
       "  'screen',\n",
       "  'would',\n",
       "  'be',\n",
       "  'a',\n",
       "  'bit',\n",
       "  'small',\n",
       "  'for',\n",
       "  'my',\n",
       "  'wife',\n",
       "  '(',\n",
       "  'main',\n",
       "  'user',\n",
       "  'of',\n",
       "  'the',\n",
       "  'machine']]"
      ]
     },
     "execution_count": 46,
     "metadata": {},
     "output_type": "execute_result"
    }
   ],
   "source": [
    "\n",
    "\n",
    "with open('C:/Hammad Aslam/BS IT (post ADP)/3rd Semester/Capstone Project/Project/backend/datasets/categories/computers/computers.json', 'r') as f:\n",
    "    data = json.load(f)\n",
    "\n",
    "\n",
    "# Sample text\n",
    "# text = \"I bought the A1500 based on the Compaq name and the excellent results I`ve had with their other products, however I started having problems immediatly, it just would not work. When I called Tech support, I was informed that it was not campatible with my operating system. When I pointed out I was using Win 98se on a Compaq comupter they tried to help. I was able to finally get it installed after being on the phone with Tech Support for almost 2 hours. It worked for one day then quit printing. When I again called Tech Support and spent another hour on the phone the printer finally started working but the Scanner quit. As I was buying a second computer with Win XP I asked if it would be compatible and was assured that it was.\\nWhen I was ready to install the A1500 on the new computer, I called Tech Support and they taslked me through the whole process. Not only would it not install it crashed my system and I had to do a full restore.\\nAs I waited to long to return it, it is now seating on a shelf collecting dust until I can find someone who will take it off my hands. In the mean time I`m still looking for a good multifunction that will work as advertised.\\nI would not recommend the A1500 to anyone who does not have money and time to waste.\"\n",
    "\n",
    "\n",
    "# text array\n",
    "text = []\n",
    "for item in data[1][\"reviews\"]:\n",
    "    text.append(item[\"review_body\"])\n",
    "\n",
    "# Tokenize the text\n",
    "words = []\n",
    "for i in text:\n",
    "    words.append(word_tokenize(i))\n",
    "\n",
    "# Part-of-speech tagging\n",
    "tagged_words = []\n",
    "for j in words:\n",
    "    tagged_words.append(pos_tag(j))\n",
    "\n",
    "\n",
    "# Get English stop words\n",
    "stop_words = set(stopwords.words('english'))\n",
    "\n",
    "# len(words)\n",
    "words"
   ]
  },
  {
   "cell_type": "code",
   "execution_count": 49,
   "metadata": {},
   "outputs": [
    {
     "name": "stdout",
     "output_type": "stream",
     "text": [
      "impressed .\n",
      "wonderful ,\n",
      "bright (\n",
      "main user\n"
     ]
    },
    {
     "data": {
      "text/plain": [
       "[('impressed', '.'), ('wonderful', ','), ('bright', '('), ('main', 'user')]"
      ]
     },
     "execution_count": 49,
     "metadata": {},
     "output_type": "execute_result"
    }
   ],
   "source": [
    "# Function to filter adjectives and non-stopword following words\n",
    "def extract_bigrams(t_words):\n",
    "    bigrams = []\n",
    "    for i in range(len(t_words) - 1):\n",
    "        word, tag = t_words[i]\n",
    "        next_word, next_tag = t_words[i+1]\n",
    "        if tag.startswith('JJ') and next_word.lower() not in stop_words:\n",
    "            bigrams.append(( word, next_word))\n",
    "    return bigrams\n",
    "\n",
    "# Extract bigrams\n",
    "# for k in tagged_words:\n",
    "    \n",
    "adjective_bigrams = extract_bigrams(tagged_words[0])\n",
    "\n",
    "for bigram in adjective_bigrams:\n",
    "    print(' '.join(bigram))\n",
    "    \n",
    "adjective_bigrams"
   ]
  }
 ],
 "metadata": {
  "kernelspec": {
   "display_name": "base",
   "language": "python",
   "name": "python3"
  },
  "language_info": {
   "codemirror_mode": {
    "name": "ipython",
    "version": 3
   },
   "file_extension": ".py",
   "mimetype": "text/x-python",
   "name": "python",
   "nbconvert_exporter": "python",
   "pygments_lexer": "ipython3",
   "version": "3.11.5"
  }
 },
 "nbformat": 4,
 "nbformat_minor": 2
}
