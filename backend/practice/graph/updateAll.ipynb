{
 "cells": [
  {
   "cell_type": "markdown",
   "metadata": {},
   "source": [
    "# updating all dataset files"
   ]
  },
  {
   "cell_type": "code",
   "execution_count": 21,
   "metadata": {},
   "outputs": [],
   "source": [
    "import os\n",
    "# import pymongo\n",
    "import json\n",
    "from nltk.sentiment import SentimentIntensityAnalyzer"
   ]
  },
  {
   "cell_type": "markdown",
   "metadata": {},
   "source": [
    "### directory path"
   ]
  },
  {
   "cell_type": "code",
   "execution_count": 22,
   "metadata": {},
   "outputs": [],
   "source": [
    "homePath = \"C:/Hammad Aslam/BS IT (post ADP)/3rd Semester/Capstone Project/Project/backend/datasets/categories/allFiles\""
   ]
  },
  {
   "cell_type": "markdown",
   "metadata": {},
   "source": [
    "### calculating intensity and topics relevance scores"
   ]
  },
  {
   "cell_type": "code",
   "execution_count": 23,
   "metadata": {},
   "outputs": [],
   "source": [
    "def calculate_text_analysis_score(review_text, topics):\n",
    "    sia = SentimentIntensityAnalyzer()\n",
    "    sentiment_scores = sia.polarity_scores(review_text)\n",
    "    # Adjust sentiment score based on relevance of topics\n",
    "    topic_relevance = sum([review_text.lower().count(topic.lower()) for topic in topics])\n",
    "    adjusted_score = sentiment_scores['compound'] + (0.1 * topic_relevance)  # Adjust sentiment score based on topic relevance\n",
    "    return adjusted_score"
   ]
  },
  {
   "cell_type": "markdown",
   "metadata": {},
   "source": [
    "### updates the data with sentiment scores and helpfulness scores"
   ]
  },
  {
   "cell_type": "code",
   "execution_count": 24,
   "metadata": {},
   "outputs": [],
   "source": [
    "def setUpdatedValues(data):\n",
    "    \n",
    "    for product in data:\n",
    "        for review in product['reviews']:\n",
    "            text_analysis_score = calculate_text_analysis_score(review['review_body'], review['review_topics'])\n",
    "            # print(text_analysis_score)\n",
    "            helpfulness_score = (0.2 * float(review['review_rating'])) + (0.4 * text_analysis_score) + (0.4 * int(review['review_votes']))\n",
    "            # Normalize the helpfulness score to range from 0 to 1\n",
    "            min_score = min(float(review['review_rating']), -1) * 0.2 + min(text_analysis_score, -1) * 0.4 + min(int(review['review_votes']), 0) * 0.4\n",
    "\n",
    "            max_score = max(float(review['review_rating']), 1) * 0.2 + max(text_analysis_score, 1) * 0.4 + max(int(review['review_votes']), 1) * 0.4\n",
    "\n",
    "            normalized_score = (helpfulness_score - min_score) / (max_score - min_score)\n",
    "            \n",
    "            review['review_helpfulness'] = normalized_score\n",
    "            \n",
    "            sia = SentimentIntensityAnalyzer()\n",
    "            sentiment_scores = sia.polarity_scores(review['review_body'])\n",
    "            review['sentiment'] = \"Positive\" if sentiment_scores['compound'] >= 0.5 else \"Negative\"\n",
    "    \n",
    "    return data"
   ]
  },
  {
   "cell_type": "markdown",
   "metadata": {},
   "source": [
    "### reads the files and punches the updated data in the file"
   ]
  },
  {
   "cell_type": "code",
   "execution_count": 25,
   "metadata": {},
   "outputs": [],
   "source": [
    "def readFiles(file):\n",
    "    with open(file, \"r\") as f:\n",
    "        data = json.load(f)\n",
    "    \n",
    "    newData = setUpdatedValues(data)\n",
    "    with open(file, 'w') as json_file:\n",
    "        json.dump(newData, json_file, indent=4)\n",
    "    "
   ]
  },
  {
   "cell_type": "markdown",
   "metadata": {},
   "source": [
    "### accessing each file exactly once in the directory"
   ]
  },
  {
   "cell_type": "code",
   "execution_count": 26,
   "metadata": {},
   "outputs": [
    {
     "name": "stdout",
     "output_type": "stream",
     "text": [
      "1 done\n",
      "2 done\n",
      "3 done\n",
      "4 done\n",
      "5 done\n",
      "6 done\n",
      "7 done\n",
      "8 done\n",
      "9 done\n",
      "10 done\n",
      "11 done\n",
      "12 done\n"
     ]
    }
   ],
   "source": [
    "count = 0\n",
    "for filename in os.listdir(homePath):\n",
    "    if filename.endswith(\".json\"):\n",
    "        file = homePath + \"/\" + filename\n",
    "        readFiles(file)\n",
    "        count += 1\n",
    "        print(f\"{count} done\")"
   ]
  }
 ],
 "metadata": {
  "kernelspec": {
   "display_name": "base",
   "language": "python",
   "name": "python3"
  },
  "language_info": {
   "codemirror_mode": {
    "name": "ipython",
    "version": 3
   },
   "file_extension": ".py",
   "mimetype": "text/x-python",
   "name": "python",
   "nbconvert_exporter": "python",
   "pygments_lexer": "ipython3",
   "version": "3.11.5"
  }
 },
 "nbformat": 4,
 "nbformat_minor": 2
}
