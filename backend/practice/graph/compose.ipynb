{
 "cells": [
  {
   "cell_type": "code",
   "execution_count": 1,
   "metadata": {},
   "outputs": [],
   "source": [
    "import csv\n",
    "import json"
   ]
  },
  {
   "cell_type": "code",
   "execution_count": 26,
   "metadata": {},
   "outputs": [],
   "source": [
    "with open('C:/Hammad Aslam/BS IT (post ADP)/3rd Semester/Capstone Project/Project/backend/datasets/categories/allFiles/computers_laptops.json', 'r') as f:\n",
    "    data = json.load(f)\n",
    "len(data[28]['reviews'])"
   ]
  },
  {
   "cell_type": "code",
   "execution_count": 2,
   "metadata": {},
   "outputs": [],
   "source": [
    "def jsonToCsv(data, attributes, output_file):\n",
    "    \n",
    "    with open(output_file, 'w', newline='') as csvfile:\n",
    "        # len(data[28]['reviews'])\n",
    "        for i, product in enumerate(data):\n",
    "            # for j, review in enumerate(data[28]['reviews']):\n",
    "            csv_writer = csv.writer(csvfile)\n",
    "            # Write the header row with selected attributes\n",
    "            csv_writer.writerow(attributes)\n",
    "            # Loop through each JSON object (if it's an array)\n",
    "            if isinstance(product['reviews'], list):\n",
    "                for item in product['reviews']:\n",
    "                    # Extract values for selected attributes\n",
    "                    row = [item.get(attr) for attr in attributes]\n",
    "                    csv_writer.writerow(row)\n",
    "            else:\n",
    "                # Handle single JSON object\n",
    "                row = [product['reviews'].get(attr) for attr in attributes]\n",
    "                csv_writer.writerow(row)"
   ]
  },
  {
   "cell_type": "code",
   "execution_count": 3,
   "metadata": {},
   "outputs": [
    {
     "name": "stdout",
     "output_type": "stream",
     "text": [
      "CSV file generated: C:/Hammad Aslam/BS IT (post ADP)/3rd Semester/Capstone Project/Project/backend/practice/graph/csv.csv\n"
     ]
    }
   ],
   "source": [
    "attributes_to_include = [\"review_body\", \"review_topics\", \"review_votes\", \"sentiment\", \"review_helpfulness\"]\n",
    "output_filename = \"C:/Hammad Aslam/BS IT (post ADP)/3rd Semester/Capstone Project/Project/backend/practice/graph/csv.csv\"\n",
    "with open(\"C:/Hammad Aslam/BS IT (post ADP)/3rd Semester/Capstone Project/Project/backend/datasets/categories/allFiles/computers_laptops.json\", 'r') as f:\n",
    "    data = json.load(f)\n",
    "jsonToCsv(data, attributes_to_include, output_filename)\n",
    "\n",
    "print(f\"CSV file generated: {output_filename}\")"
   ]
  }
 ],
 "metadata": {
  "kernelspec": {
   "display_name": "base",
   "language": "python",
   "name": "python3"
  },
  "language_info": {
   "codemirror_mode": {
    "name": "ipython",
    "version": 3
   },
   "file_extension": ".py",
   "mimetype": "text/x-python",
   "name": "python",
   "nbconvert_exporter": "python",
   "pygments_lexer": "ipython3",
   "version": "3.11.5"
  }
 },
 "nbformat": 4,
 "nbformat_minor": 2
}
