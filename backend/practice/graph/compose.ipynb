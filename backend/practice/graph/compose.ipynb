{
 "cells": [
  {
   "cell_type": "code",
<<<<<<< HEAD
   "execution_count": 3,
=======
   "execution_count": 1,
>>>>>>> 29ddac68333b19a12fbc7328981fad6c3b0cb4e5
   "metadata": {},
   "outputs": [],
   "source": [
    "import csv\n",
    "import json"
   ]
  },
  {
   "cell_type": "code",
<<<<<<< HEAD
   "execution_count": 4,
   "metadata": {},
   "outputs": [
    {
     "data": {
      "text/plain": [
       "25"
      ]
     },
     "execution_count": 4,
     "metadata": {},
     "output_type": "execute_result"
    }
   ],
=======
   "execution_count": 26,
   "metadata": {},
   "outputs": [],
>>>>>>> 29ddac68333b19a12fbc7328981fad6c3b0cb4e5
   "source": [
    "with open('C:/Hammad Aslam/BS IT (post ADP)/3rd Semester/Capstone Project/Project/backend/datasets/categories/allFiles/computers_laptops.json', 'r') as f:\n",
    "    data = json.load(f)\n",
    "len(data[28]['reviews'])"
   ]
  },
  {
   "cell_type": "code",
<<<<<<< HEAD
   "execution_count": 5,
=======
   "execution_count": 2,
>>>>>>> 29ddac68333b19a12fbc7328981fad6c3b0cb4e5
   "metadata": {},
   "outputs": [],
   "source": [
    "def jsonToCsv(data, attributes, output_file):\n",
<<<<<<< HEAD
    "    with open(output_file, 'w', newline='', encoding='utf-8') as csvfile:\n",
    "        csv_writer = csv.writer(csvfile)\n",
    "        # Write the header row with selected attributes\n",
    "        csv_writer.writerow(attributes)\n",
    "        for product in data:\n",
    "            # If the 'reviews' key is present and it's a list\n",
    "            if 'reviews' in product and isinstance(product['reviews'], list):\n",
    "                for review in product['reviews']:\n",
    "                    # Extract values for selected attributes\n",
    "                    # row = [review['review_rating'], review['purchased_product'], product['product_rating_points'], product['product_ratings'], product['category'], review['similarity_text_description'],\n",
    "                    #        review['similarity_text_features'], review['similarity_text_categories'], review['review_length'], review['reviews_count'], review['avg_review_length'], review['avg_rating'],]\n",
    "                    row = [review['review_body']]\n",
    "                    csv_writer.writerow(row)"
=======
    "    \n",
    "    with open(output_file, 'w', newline='') as csvfile:\n",
    "        # len(data[28]['reviews'])\n",
    "        for i, product in enumerate(data):\n",
    "            # for j, review in enumerate(data[28]['reviews']):\n",
    "            csv_writer = csv.writer(csvfile)\n",
    "            # Write the header row with selected attributes\n",
    "            csv_writer.writerow(attributes)\n",
    "            # Loop through each JSON object (if it's an array)\n",
    "            if isinstance(product['reviews'], list):\n",
    "                for item in product['reviews']:\n",
    "                    # Extract values for selected attributes\n",
    "                    row = [item.get(attr) for attr in attributes]\n",
    "                    csv_writer.writerow(row)\n",
    "            else:\n",
    "                # Handle single JSON object\n",
    "                row = [product['reviews'].get(attr) for attr in attributes]\n",
    "                csv_writer.writerow(row)"
>>>>>>> 29ddac68333b19a12fbc7328981fad6c3b0cb4e5
   ]
  },
  {
   "cell_type": "code",
<<<<<<< HEAD
   "execution_count": 6,
=======
   "execution_count": 3,
>>>>>>> 29ddac68333b19a12fbc7328981fad6c3b0cb4e5
   "metadata": {},
   "outputs": [
    {
     "name": "stdout",
     "output_type": "stream",
     "text": [
<<<<<<< HEAD
      "CSV file generated: C:/Hammad Aslam/BS IT (post ADP)/3rd Semester/Capstone Project/Project/backend/practice/graph/fake_test.csv\n"
=======
      "CSV file generated: C:/Hammad Aslam/BS IT (post ADP)/3rd Semester/Capstone Project/Project/backend/practice/graph/csv.csv\n"
>>>>>>> 29ddac68333b19a12fbc7328981fad6c3b0cb4e5
     ]
    }
   ],
   "source": [
<<<<<<< HEAD
    "# attributes_to_include = [\"rating\", \"verified_purchase\", \"average_rating\", \"rating_number\", \"categories\", \"similarity_text_description\", \"similarity_text_features\", \"similarity_text_categories\", \"review_length\", \"reviews_count\", \"avg_review_length\", \"avg_rating\"]\n",
    "attributes_to_include = ['review_body']\n",
    "output_filename = \"C:/Hammad Aslam/BS IT (post ADP)/3rd Semester/Capstone Project/Project/backend/practice/graph/fake_test.csv\"\n",
    "with open(\"C:/Hammad Aslam/BS IT (post ADP)/3rd Semester/Capstone Project/Project/backend/datasets/categories/allFiles/appliances.json\", 'r') as f:\n",
=======
    "attributes_to_include = [\"review_body\", \"review_topics\", \"review_votes\", \"sentiment\", \"review_helpfulness\"]\n",
    "output_filename = \"C:/Hammad Aslam/BS IT (post ADP)/3rd Semester/Capstone Project/Project/backend/practice/graph/csv.csv\"\n",
    "with open(\"C:/Hammad Aslam/BS IT (post ADP)/3rd Semester/Capstone Project/Project/backend/datasets/categories/allFiles/computers_laptops.json\", 'r') as f:\n",
>>>>>>> 29ddac68333b19a12fbc7328981fad6c3b0cb4e5
    "    data = json.load(f)\n",
    "jsonToCsv(data, attributes_to_include, output_filename)\n",
    "\n",
    "print(f\"CSV file generated: {output_filename}\")"
   ]
<<<<<<< HEAD
  },
  {
   "cell_type": "code",
   "execution_count": null,
   "metadata": {},
   "outputs": [],
   "source": []
=======
>>>>>>> 29ddac68333b19a12fbc7328981fad6c3b0cb4e5
  }
 ],
 "metadata": {
  "kernelspec": {
   "display_name": "base",
   "language": "python",
   "name": "python3"
  },
  "language_info": {
   "codemirror_mode": {
    "name": "ipython",
    "version": 3
   },
   "file_extension": ".py",
   "mimetype": "text/x-python",
   "name": "python",
   "nbconvert_exporter": "python",
   "pygments_lexer": "ipython3",
   "version": "3.11.5"
  }
 },
 "nbformat": 4,
 "nbformat_minor": 2
}
