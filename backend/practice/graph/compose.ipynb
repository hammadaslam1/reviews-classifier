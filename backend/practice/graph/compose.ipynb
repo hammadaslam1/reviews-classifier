{
 "cells": [
  {
   "cell_type": "code",
   "execution_count": 3,
   "metadata": {},
   "outputs": [],
   "source": [
    "import csv\n",
    "import json"
   ]
  },
  {
   "cell_type": "code",
   "execution_count": 4,
   "metadata": {},
   "outputs": [
    {
     "data": {
      "text/plain": [
       "25"
      ]
     },
     "execution_count": 4,
     "metadata": {},
     "output_type": "execute_result"
    }
   ],
   "source": [
    "with open('C:/Hammad Aslam/BS IT (post ADP)/3rd Semester/Capstone Project/Project/backend/datasets/categories/allFiles/computers_laptops.json', 'r') as f:\n",
    "    data = json.load(f)\n",
    "len(data[28]['reviews'])"
   ]
  },
  {
   "cell_type": "code",
   "execution_count": 5,
   "metadata": {},
   "outputs": [],
   "source": [
    "def jsonToCsv(data, attributes, output_file):\n",
    "    with open(output_file, 'w', newline='', encoding='utf-8') as csvfile:\n",
    "        csv_writer = csv.writer(csvfile)\n",
    "        # Write the header row with selected attributes\n",
    "        csv_writer.writerow(attributes)\n",
    "        for product in data:\n",
    "            # If the 'reviews' key is present and it's a list\n",
    "            if 'reviews' in product and isinstance(product['reviews'], list):\n",
    "                for review in product['reviews']:\n",
    "                    # Extract values for selected attributes\n",
    "                    # row = [review['review_rating'], review['purchased_product'], product['product_rating_points'], product['product_ratings'], product['category'], review['similarity_text_description'],\n",
    "                    #        review['similarity_text_features'], review['similarity_text_categories'], review['review_length'], review['reviews_count'], review['avg_review_length'], review['avg_rating'],]\n",
    "                    row = [review['review_body']]\n",
    "                    csv_writer.writerow(row)"
   ]
  },
  {
   "cell_type": "code",
   "execution_count": 6,
   "metadata": {},
   "outputs": [
    {
     "name": "stdout",
     "output_type": "stream",
     "text": [
      "CSV file generated: C:/Hammad Aslam/BS IT (post ADP)/3rd Semester/Capstone Project/Project/backend/practice/graph/fake_test.csv\n"
     ]
    }
   ],
   "source": [
    "# attributes_to_include = [\"rating\", \"verified_purchase\", \"average_rating\", \"rating_number\", \"categories\", \"similarity_text_description\", \"similarity_text_features\", \"similarity_text_categories\", \"review_length\", \"reviews_count\", \"avg_review_length\", \"avg_rating\"]\n",
    "attributes_to_include = ['review_body']\n",
    "output_filename = \"C:/Hammad Aslam/BS IT (post ADP)/3rd Semester/Capstone Project/Project/backend/practice/graph/fake_test.csv\"\n",
    "with open(\"C:/Hammad Aslam/BS IT (post ADP)/3rd Semester/Capstone Project/Project/backend/datasets/categories/allFiles/appliances.json\", 'r') as f:\n",
    "    data = json.load(f)\n",
    "jsonToCsv(data, attributes_to_include, output_filename)\n",
    "\n",
    "print(f\"CSV file generated: {output_filename}\")"
   ]
  },
  {
   "cell_type": "code",
   "execution_count": null,
   "metadata": {},
   "outputs": [],
   "source": []
  }
 ],
 "metadata": {
  "kernelspec": {
   "display_name": "base",
   "language": "python",
   "name": "python3"
  },
  "language_info": {
   "codemirror_mode": {
    "name": "ipython",
    "version": 3
   },
   "file_extension": ".py",
   "mimetype": "text/x-python",
   "name": "python",
   "nbconvert_exporter": "python",
   "pygments_lexer": "ipython3",
   "version": "3.11.5"
  }
 },
 "nbformat": 4,
 "nbformat_minor": 2
}
