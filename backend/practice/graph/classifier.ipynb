{
 "cells": [
  {
   "cell_type": "code",
   "execution_count": 1,
   "metadata": {},
   "outputs": [],
   "source": [
    "import json\n",
    "from sklearn.feature_extraction.text import TfidfVectorizer\n",
    "from sklearn.model_selection import train_test_split\n",
    "from sklearn.linear_model import LogisticRegression, LinearRegression\n",
    "from sklearn.ensemble import BaggingClassifier  # Example base classifier (replace as needed)\n",
    "from sklearn.metrics import accuracy_score, mean_squared_error, r2_score"
   ]
  },
  {
   "cell_type": "code",
   "execution_count": 2,
   "metadata": {},
   "outputs": [],
   "source": [
    "vectorizer = TfidfVectorizer()\n",
    "with open('C:/Hammad Aslam/BS IT (post ADP)/3rd Semester/Capstone Project/Project/backend/datasets/categories/allFiles/computers_laptops.json', 'r') as f:\n",
    "    data = json.load(f)"
   ]
  },
  {
   "cell_type": "code",
   "execution_count": 3,
   "metadata": {},
   "outputs": [
    {
     "data": {
      "text/plain": [
       "([\"I bought this Compaq A1500 this week and am more than satisfied with it. Simple installation without any problems, excellent photo quality resolution even on plain paper, very good managing software and the best part is, I didn't need any customer support to make it run :). Very good product with excellent features, quality and resolution. Believe me it's better than the best available in this price range.\",\n",
       "  'I bought the A1500 based on the Compaq name and the excellent results I`ve had with their other products, however I started having problems immediatly, it just would not work. When I called Tech support, I was informed that it was not campatible with my operating system. When I pointed out I was using Win 98se on a Compaq comupter they tried to help. I was able to finally get it installed after being on the phone with Tech Support for almost 2 hours. It worked for one day then quit printing. When I again called Tech Support and spent another hour on the phone the printer finally started working but the Scanner quit. As I was buying a second computer with Win XP I asked if it would be compatible and was assured that it was. When I was ready to install the A1500 on the new computer, I called Tech Support and they taslked me through the whole process. Not only would it not install it crashed my system and I had to do a full restore. As I waited to long to return it, it is now seating on a shelf collecting dust until I can find someone who will take it off my hands. In the mean time I`m still looking for a good multifunction that will work as advertised. I would not recommend the A1500 to anyone who does not have money and time to waste.',\n",
       "  'I picked this old Compaq A1500 up at a yard sale. It was so filthy and plugged with old ink I figured it was shot. But after disassembling it and cleaning the innards good, it went to working after I installed two new cartridges. I use Windows XP and havent had any problems with this printer, unlike my old Lexmark X83. I wont even go there. Overall a decent printer.',\n",
       "  \"The A1500 was the first multifunctional I've used.  I purchase one in 2001 for about $100. Overall, it was a decent machine before it began to die. It takes two ink cartridges, Lexmark black-12A1970 ($25-$32) and Lexmark color-12A1985 ($29-$39).  The ink seemed to last for a good while.  However, if you don't use the cartridges in a while, the ink will dry up (this is what happened to my color cartridge a few times). When I first purchased it, I thought the design was great, but as I needed copies and scans of different items, I changed my mind.  The copier/scanner is operated via a feeder instead of being a flatbed.  I couldn't scan a page from a book or magazine (unless I wanted to rip out the page and feed it to the machine).  It was also somewhat difficult to make copies of smaller items such as cards, IDs or pictures, even with the protective sleeve that is included with this model. Before Compaq was bought out by HP, there was Compaq Customer Communities where consumers could post questions and give answers to one another (I had an alignment problem with this unit that was easily solved by a visit to Customer Communities).  Unfortunately, HP removed the community.  I guess it's a good thing I got the 3 year warranty from Circuit City.  After about a year and a half, the scanner and copier started to act up.  I would no longer get clean scans/copies, and it would use two 8.5' x 11' pages to copy a single document with the same dimensions.  Customer Service couldn't help with the problem\",\n",
       "  \"I bought this machine without realizing that it is not compatable with the original Windows 98. It worked fine for a couple weeks, but will no longer print properly. I have tried to correct this problem to no avail, I've even sent it back to Compaq!! On my third call to tech support, I was told that on one of the pages inside the manual it states that this is a 'Known issue' and that I must have 'Windows 98 Second Edition' for their product to work. This vital information should be prominatly noted in the advertising. I am very dissappointed!'\"],\n",
       " ['Positive', 'Positive', 'Positive', 'Negative', 'Negative'])"
      ]
     },
     "execution_count": 3,
     "metadata": {},
     "output_type": "execute_result"
    }
   ],
   "source": [
    "X = []\n",
    "Y = []\n",
    "\n",
    "# for product in data:\n",
    "for review in data[0]['reviews']:\n",
    "    # vectorReview = vectorizer.fit_transform([review['review_body']])\n",
    "    # print(vectorReview)\n",
    "    X.append(review['review_body'])\n",
    "    Y.append(review['sentiment'])\n",
    "# X = vectorizer.fit_transform(X)\n",
    "X, Y"
   ]
  },
  {
   "cell_type": "code",
   "execution_count": 4,
   "metadata": {},
   "outputs": [
    {
     "data": {
      "text/plain": [
       "(<4x256 sparse matrix of type '<class 'numpy.float64'>'\n",
       " \twith 329 stored elements in Compressed Sparse Row format>,\n",
       " ['I bought the A1500 based on the Compaq name and the excellent results I`ve had with their other products, however I started having problems immediatly, it just would not work. When I called Tech support, I was informed that it was not campatible with my operating system. When I pointed out I was using Win 98se on a Compaq comupter they tried to help. I was able to finally get it installed after being on the phone with Tech Support for almost 2 hours. It worked for one day then quit printing. When I again called Tech Support and spent another hour on the phone the printer finally started working but the Scanner quit. As I was buying a second computer with Win XP I asked if it would be compatible and was assured that it was. When I was ready to install the A1500 on the new computer, I called Tech Support and they taslked me through the whole process. Not only would it not install it crashed my system and I had to do a full restore. As I waited to long to return it, it is now seating on a shelf collecting dust until I can find someone who will take it off my hands. In the mean time I`m still looking for a good multifunction that will work as advertised. I would not recommend the A1500 to anyone who does not have money and time to waste.'],\n",
       " <4x2 sparse matrix of type '<class 'numpy.float64'>'\n",
       " \twith 4 stored elements in Compressed Sparse Row format>,\n",
       " ['Positive'])"
      ]
     },
     "execution_count": 4,
     "metadata": {},
     "output_type": "execute_result"
    }
   ],
   "source": [
    "X_train, X_test, Y_train, Y_test = train_test_split(X, Y, test_size=0.2, random_state=42)\n",
    "X_train = vectorizer.fit_transform(X_train)\n",
    "Y_train = vectorizer.fit_transform(Y_train)\n",
    "# X_test = vectorizer.fit_transform(X_test)\n",
    "# Y_test = vectorizer.fit_transform(Y_test)\n",
    "X_train, X_test, Y_train, Y_test"
   ]
  },
  {
   "cell_type": "code",
   "execution_count": 11,
   "metadata": {},
   "outputs": [
    {
     "name": "stdout",
     "output_type": "stream",
     "text": [
      "Coefficient:  256\n",
      "Intercept:  [0.45186647 0.54813353]\n"
     ]
    }
   ],
   "source": [
    "# Replace LogisticRegression with your chosen model\n",
    "model = LinearRegression()\n",
    "model.fit(X_train, Y_train.toarray())\n",
    "print(\"Coefficient: \", len(model.coef_[0]))\n",
    "print(\"Intercept: \", model.intercept_)"
   ]
  },
  {
   "cell_type": "code",
   "execution_count": 23,
   "metadata": {},
   "outputs": [
    {
     "ename": "ValueError",
     "evalue": "X has 300 features, but LinearRegression is expecting 256 features as input.",
     "output_type": "error",
     "traceback": [
      "\u001b[1;31m---------------------------------------------------------------------------\u001b[0m",
      "\u001b[1;31mValueError\u001b[0m                                Traceback (most recent call last)",
      "Cell \u001b[1;32mIn[23], line 3\u001b[0m\n\u001b[0;32m      1\u001b[0m features \u001b[38;5;241m=\u001b[39m [\u001b[38;5;124m\"\u001b[39m\u001b[38;5;124mThe A1500 was the first multifunctional I\u001b[39m\u001b[38;5;124m'\u001b[39m\u001b[38;5;124mve used.  I purchase one in 2001 for about $100. Overall, it was a decent machine before it began to die. It takes two ink cartridges, Lexmark black-12A1970 ($25-$32) and Lexmark color-12A1985 ($29-$39).  The ink seemed to last for a good while.  However, if you don\u001b[39m\u001b[38;5;124m'\u001b[39m\u001b[38;5;124mt use the cartridges in a while, the ink will dry up (this is what happened to my color cartridge a few times). When I first purchased it, I thought the design was great, but as I needed copies and scans of different items, I changed my mind.  The copier/scanner is operated via a feeder instead of being a flatbed.  I couldn\u001b[39m\u001b[38;5;124m'\u001b[39m\u001b[38;5;124mt scan a page from a book or magazine (unless I wanted to rip out the page and feed it to the machine).  It was also somewhat difficult to make copies of smaller items such as cards, IDs or pictures, even with the protective sleeve that is included with this model. Before Compaq was bought out by HP, there was Compaq Customer Communities where consumers could post questions and give answers to one another (I had an alignment problem with this unit that was easily solved by a visit to Customer Communities).  Unfortunately, HP removed the community.  I guess it\u001b[39m\u001b[38;5;124m'\u001b[39m\u001b[38;5;124ms a good thing I got the 3 year warranty from Circuit City.  After about a year and a half, the scanner and copier started to act up.  I would no longer get clean scans/copies, and it would use two 8.5\u001b[39m\u001b[38;5;124m'\u001b[39m\u001b[38;5;124m x 11\u001b[39m\u001b[38;5;124m'\u001b[39m\u001b[38;5;124m pages to copy a single document with the same dimensions.  Customer Service couldn\u001b[39m\u001b[38;5;124m'\u001b[39m\u001b[38;5;124mt help with the problem\u001b[39m\u001b[38;5;124m\"\u001b[39m]  \u001b[38;5;66;03m# Replace with actual feature values\u001b[39;00m\n\u001b[0;32m      2\u001b[0m features \u001b[38;5;241m=\u001b[39m vectorizer\u001b[38;5;241m.\u001b[39mtransform(features)\n\u001b[1;32m----> 3\u001b[0m Y_pred \u001b[38;5;241m=\u001b[39m model\u001b[38;5;241m.\u001b[39mpredict(features)\n\u001b[0;32m      4\u001b[0m Y_pred\n\u001b[0;32m      5\u001b[0m mean_squared_error(Y_train\u001b[38;5;241m.\u001b[39mtoarray(), Y_pred)\n",
      "File \u001b[1;32mc:\\ProgramData\\anaconda3\\Lib\\site-packages\\sklearn\\linear_model\\_base.py:386\u001b[0m, in \u001b[0;36mLinearModel.predict\u001b[1;34m(self, X)\u001b[0m\n\u001b[0;32m    372\u001b[0m \u001b[38;5;28;01mdef\u001b[39;00m \u001b[38;5;21mpredict\u001b[39m(\u001b[38;5;28mself\u001b[39m, X):\n\u001b[0;32m    373\u001b[0m \u001b[38;5;250m    \u001b[39m\u001b[38;5;124;03m\"\"\"\u001b[39;00m\n\u001b[0;32m    374\u001b[0m \u001b[38;5;124;03m    Predict using the linear model.\u001b[39;00m\n\u001b[0;32m    375\u001b[0m \n\u001b[1;32m   (...)\u001b[0m\n\u001b[0;32m    384\u001b[0m \u001b[38;5;124;03m        Returns predicted values.\u001b[39;00m\n\u001b[0;32m    385\u001b[0m \u001b[38;5;124;03m    \"\"\"\u001b[39;00m\n\u001b[1;32m--> 386\u001b[0m     \u001b[38;5;28;01mreturn\u001b[39;00m \u001b[38;5;28mself\u001b[39m\u001b[38;5;241m.\u001b[39m_decision_function(X)\n",
      "File \u001b[1;32mc:\\ProgramData\\anaconda3\\Lib\\site-packages\\sklearn\\linear_model\\_base.py:369\u001b[0m, in \u001b[0;36mLinearModel._decision_function\u001b[1;34m(self, X)\u001b[0m\n\u001b[0;32m    366\u001b[0m \u001b[38;5;28;01mdef\u001b[39;00m \u001b[38;5;21m_decision_function\u001b[39m(\u001b[38;5;28mself\u001b[39m, X):\n\u001b[0;32m    367\u001b[0m     check_is_fitted(\u001b[38;5;28mself\u001b[39m)\n\u001b[1;32m--> 369\u001b[0m     X \u001b[38;5;241m=\u001b[39m \u001b[38;5;28mself\u001b[39m\u001b[38;5;241m.\u001b[39m_validate_data(X, accept_sparse\u001b[38;5;241m=\u001b[39m[\u001b[38;5;124m\"\u001b[39m\u001b[38;5;124mcsr\u001b[39m\u001b[38;5;124m\"\u001b[39m, \u001b[38;5;124m\"\u001b[39m\u001b[38;5;124mcsc\u001b[39m\u001b[38;5;124m\"\u001b[39m, \u001b[38;5;124m\"\u001b[39m\u001b[38;5;124mcoo\u001b[39m\u001b[38;5;124m\"\u001b[39m], reset\u001b[38;5;241m=\u001b[39m\u001b[38;5;28;01mFalse\u001b[39;00m)\n\u001b[0;32m    370\u001b[0m     \u001b[38;5;28;01mreturn\u001b[39;00m safe_sparse_dot(X, \u001b[38;5;28mself\u001b[39m\u001b[38;5;241m.\u001b[39mcoef_\u001b[38;5;241m.\u001b[39mT, dense_output\u001b[38;5;241m=\u001b[39m\u001b[38;5;28;01mTrue\u001b[39;00m) \u001b[38;5;241m+\u001b[39m \u001b[38;5;28mself\u001b[39m\u001b[38;5;241m.\u001b[39mintercept_\n",
      "File \u001b[1;32mc:\\ProgramData\\anaconda3\\Lib\\site-packages\\sklearn\\base.py:625\u001b[0m, in \u001b[0;36mBaseEstimator._validate_data\u001b[1;34m(self, X, y, reset, validate_separately, cast_to_ndarray, **check_params)\u001b[0m\n\u001b[0;32m    622\u001b[0m     out \u001b[38;5;241m=\u001b[39m X, y\n\u001b[0;32m    624\u001b[0m \u001b[38;5;28;01mif\u001b[39;00m \u001b[38;5;129;01mnot\u001b[39;00m no_val_X \u001b[38;5;129;01mand\u001b[39;00m check_params\u001b[38;5;241m.\u001b[39mget(\u001b[38;5;124m\"\u001b[39m\u001b[38;5;124mensure_2d\u001b[39m\u001b[38;5;124m\"\u001b[39m, \u001b[38;5;28;01mTrue\u001b[39;00m):\n\u001b[1;32m--> 625\u001b[0m     \u001b[38;5;28mself\u001b[39m\u001b[38;5;241m.\u001b[39m_check_n_features(X, reset\u001b[38;5;241m=\u001b[39mreset)\n\u001b[0;32m    627\u001b[0m \u001b[38;5;28;01mreturn\u001b[39;00m out\n",
      "File \u001b[1;32mc:\\ProgramData\\anaconda3\\Lib\\site-packages\\sklearn\\base.py:414\u001b[0m, in \u001b[0;36mBaseEstimator._check_n_features\u001b[1;34m(self, X, reset)\u001b[0m\n\u001b[0;32m    411\u001b[0m     \u001b[38;5;28;01mreturn\u001b[39;00m\n\u001b[0;32m    413\u001b[0m \u001b[38;5;28;01mif\u001b[39;00m n_features \u001b[38;5;241m!=\u001b[39m \u001b[38;5;28mself\u001b[39m\u001b[38;5;241m.\u001b[39mn_features_in_:\n\u001b[1;32m--> 414\u001b[0m     \u001b[38;5;28;01mraise\u001b[39;00m \u001b[38;5;167;01mValueError\u001b[39;00m(\n\u001b[0;32m    415\u001b[0m         \u001b[38;5;124mf\u001b[39m\u001b[38;5;124m\"\u001b[39m\u001b[38;5;124mX has \u001b[39m\u001b[38;5;132;01m{\u001b[39;00mn_features\u001b[38;5;132;01m}\u001b[39;00m\u001b[38;5;124m features, but \u001b[39m\u001b[38;5;132;01m{\u001b[39;00m\u001b[38;5;28mself\u001b[39m\u001b[38;5;241m.\u001b[39m\u001b[38;5;18m__class__\u001b[39m\u001b[38;5;241m.\u001b[39m\u001b[38;5;18m__name__\u001b[39m\u001b[38;5;132;01m}\u001b[39;00m\u001b[38;5;124m \u001b[39m\u001b[38;5;124m\"\u001b[39m\n\u001b[0;32m    416\u001b[0m         \u001b[38;5;124mf\u001b[39m\u001b[38;5;124m\"\u001b[39m\u001b[38;5;124mis expecting \u001b[39m\u001b[38;5;132;01m{\u001b[39;00m\u001b[38;5;28mself\u001b[39m\u001b[38;5;241m.\u001b[39mn_features_in_\u001b[38;5;132;01m}\u001b[39;00m\u001b[38;5;124m features as input.\u001b[39m\u001b[38;5;124m\"\u001b[39m\n\u001b[0;32m    417\u001b[0m     )\n",
      "\u001b[1;31mValueError\u001b[0m: X has 300 features, but LinearRegression is expecting 256 features as input."
     ]
    }
   ],
   "source": [
    "features = [\"The A1500 was the first multifunctional I've used.  I purchase one in 2001 for about $100. Overall, it was a decent machine before it began to die. It takes two ink cartridges, Lexmark black-12A1970 ($25-$32) and Lexmark color-12A1985 ($29-$39).  The ink seemed to last for a good while.  However, if you don't use the cartridges in a while, the ink will dry up (this is what happened to my color cartridge a few times). When I first purchased it, I thought the design was great, but as I needed copies and scans of different items, I changed my mind.  The copier/scanner is operated via a feeder instead of being a flatbed.  I couldn't scan a page from a book or magazine (unless I wanted to rip out the page and feed it to the machine).  It was also somewhat difficult to make copies of smaller items such as cards, IDs or pictures, even with the protective sleeve that is included with this model. Before Compaq was bought out by HP, there was Compaq Customer Communities where consumers could post questions and give answers to one another (I had an alignment problem with this unit that was easily solved by a visit to Customer Communities).  Unfortunately, HP removed the community.  I guess it's a good thing I got the 3 year warranty from Circuit City.  After about a year and a half, the scanner and copier started to act up.  I would no longer get clean scans/copies, and it would use two 8.5' x 11' pages to copy a single document with the same dimensions.  Customer Service couldn't help with the problem\"]  # Replace with actual feature values\n",
    "\n",
    "features = vectorizer.transform(features)\n",
    "features = vectorizer.transform(features)\n",
    "Y_pred = model.predict(features)\n",
    "Y_pred\n",
    "mean_squared_error(Y_train.toarray(), Y_pred)"
   ]
  },
  {
   "cell_type": "code",
   "execution_count": 22,
   "metadata": {},
   "outputs": [
    {
     "name": "stdout",
     "output_type": "stream",
     "text": [
      "['Positive']\n"
     ]
    }
   ],
   "source": [
    "r2_score(Y_train.toarray(), Y_pred)\n",
    "print(Y_test)"
   ]
  }
 ],
 "metadata": {
  "kernelspec": {
   "display_name": "base",
   "language": "python",
   "name": "python3"
  },
  "language_info": {
   "codemirror_mode": {
    "name": "ipython",
    "version": 3
   },
   "file_extension": ".py",
   "mimetype": "text/x-python",
   "name": "python",
   "nbconvert_exporter": "python",
   "pygments_lexer": "ipython3",
   "version": "3.11.5"
  }
 },
 "nbformat": 4,
 "nbformat_minor": 2
}
