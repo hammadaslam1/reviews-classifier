{
 "cells": [
  {
   "cell_type": "code",
<<<<<<< HEAD
   "execution_count": 1,
=======
   "execution_count": 38,
>>>>>>> 29ddac68333b19a12fbc7328981fad6c3b0cb4e5
   "metadata": {},
   "outputs": [],
   "source": [
    "import nltk\n",
    "from nltk.sentiment.vader import SentimentIntensityAnalyzer\n",
    "import json\n",
    "from pyphen import Pyphen\n",
    "from textstat import syllable_count, flesch_reading_ease, automated_readability_index\n",
    "import matplotlib.pyplot as plt\n"
   ]
  },
  {
   "cell_type": "code",
   "execution_count": 39,
   "metadata": {},
   "outputs": [],
   "source": [
    "def calculate_helpfulness(text, rating):\n",
    "\t# Preprocessing\n",
    "\ttokens = nltk.word_tokenize(text)\n",
    "\ttokens = [t for t in tokens if t.isalpha() and t.lower() not in nltk.corpus.stopwords.words('english')]\n",
    "\ttext = ' '.join(tokens)\n",
    "\n",
    "\t# # Text Metrics Extraction\n",
    "\t# word_count = len(tokens)\n",
    "\t# sentence_count = len(nltk.sent_tokenize(text))\n",
    "\t# # syllable_count = Pyphen().inserted(text).count('-') + 1\n",
    "\t# character_count = len(text.replace(' ', ''))\n",
    "\t# fres_score = flesch_reading_ease(text)\n",
    "\t# ari_score = automated_readability_index(text)\n",
    "\n",
    "\t# Sentiment Analysis\n",
    "\tsia = SentimentIntensityAnalyzer()\n",
    "\tsentiment_scores = sia.polarity_scores(text)\n",
    "\n",
    "\t# Calculate Helpfulness Score\n",
    "\t# helpfulness_score = 0\n",
    "\t# unhelpfulness_score = 0\n",
    "\t# if sentiment_scores['compound'] >= 0.05:\n",
    "    \n",
    "\t# method 1:\n",
    "\n",
    "\t\t# helpfulness_score += 1\n",
    "\t\t# helpfulness_score += word_count // 5\n",
    "\t\t# helpfulness_score += sentence_count // 2\n",
    "\t\t# helpfulness_score += syllable_count // 10\n",
    "\t\t# helpfulness_score += character_count // 50\n",
    "\t\n",
    " \n",
    " \t# method 2:\n",
    "\n",
    "\t# \thelpfulness_score = (rating * 0.2) + (character_count * 0.1) + (\n",
    "    #     word_count * 0.1) + (sentence_count * 0.1) + (100 - fres_score) * 0.2 + (ari_score * 0.2)\n",
    "\n",
    "\t# elif sentiment_scores['compound'] <= -0.05:\n",
    "\t# \tunhelpfulness_score += 1\n",
    "\n",
    "\t# # Normalize Scores\n",
    "\t# helpfulness_score = (helpfulness_score / len(text)) * 100\n",
    "\t# unhelpfulness_score = (unhelpfulness_score / len(text)) * 100\n",
    "\n",
    "\treturn sentiment_scores['compound']\n",
    "\n"
   ]
  },
  {
   "cell_type": "code",
   "execution_count": 40,
   "metadata": {},
   "outputs": [
    {
     "name": "stdout",
     "output_type": "stream",
     "text": [
      "7\n",
      "total reviews 5\n",
      "total_neutral = 0\n",
      "total_helpful = 2\n",
      "total_unhelpful = 5\n",
      "0 5\n",
      "1 1\n",
      "2 3\n",
      "3 1\n",
      "4 1\n",
      "5 3\n",
      "6 4\n",
      "7 4\n",
      "8 3\n",
      "9 5\n",
      "10 3\n",
      "11 1\n",
      "12 1\n",
      "13 3\n",
      "14 1\n",
      "15 2\n",
      "16 3\n",
      "17 94\n",
      "18 10\n",
      "19 2\n",
      "20 4\n",
      "21 4\n",
      "22 1\n",
      "23 7\n",
      "24 3\n",
      "25 93\n",
      "26 7\n",
      "27 7\n",
      "28 25\n",
      "29 5\n",
      "30 46\n",
      "31 7\n",
      "32 1\n",
      "33 31\n",
      "34 7\n",
      "35 24\n",
      "36 20\n",
      "37 10\n",
      "38 1\n",
      "39 6\n",
      "40 2\n",
      "41 20\n",
      "42 6\n",
      "43 2\n",
      "44 1\n",
      "45 1\n",
      "46 2\n",
      "47 1\n",
      "48 5\n"
     ]
    }
   ],
   "source": [
    "with open('C:/Hammad Aslam/BS IT (post ADP)/3rd Semester/Capstone Project/Project/backend/datasets/categories/allFiles/computers_laptops.json', 'r') as f:\n",
    "    data = json.load(f)\n",
<<<<<<< HEAD
    "title = data[5]['product_title'][0]\n",
=======
    "title = data[26]['product_title'][0]\n",
>>>>>>> 29ddac68333b19a12fbc7328981fad6c3b0cb4e5
    "# for item in data:\n",
    "x = []\n",
    "y = []\n",
    "z = []\n",
    "helpful = []\n",
    "unhelpful = []\n",
    "neutral = []\n",
    "helpfulIndexes = []\n",
    "total_votes = 0\n",
    "for index, review in enumerate(data[26]['reviews']):\n",
    "    \n",
    "    sentiment_scores = calculate_helpfulness(\n",
    "        review['review_body'], float(review['review_rating']))\n",
    "    # if sentiment_scores >= 0.5:\n",
    "    #     review[\"sentiment\"] = 'Positive'\n",
    "    # else:\n",
    "    #     review[\"sentiment\"] = 'Negative'\n",
    "\n",
    "    x.append(review['review_helpfulness'])\n",
    "    z.append(int(review['review_votes']))\n",
    "    if review['review_helpfulness'] >= 0.5:\n",
    "        helpful.append(1)\n",
    "        helpfulIndexes.append(index)\n",
    "        # unhelpful.append(0)\n",
    "        # neutral.append(1)\n",
    "    elif review['review_helpfulness'] < 0.5:\n",
    "        helpful.append(-1)\n",
    "        # helpful.append(0)\n",
    "        \n",
    "    else:\n",
    "        helpful.append(0)\n",
    "        # unhelpful.append(0)\n",
    "total_votes = sum(z)\n",
    "print(len(helpful))\n",
    "total_reviews = len(data[9]['reviews'])\n",
    "total_helpful = sum([vote for vote in helpful if vote == 1])\n",
    "total_unhelpful = sum([((-1)*vote) for vote in helpful if vote == -1])\n",
    "total_neutral = sum([(1+vote) for vote in helpful if vote == 0])\n",
    "\n",
    "# with open('C:/Hammad Aslam/BS IT (post ADP)/3rd Semester/Capstone Project/Project/backend/datasets/categories/allFiles/computers_laptops.json', \"w\") as f:\n",
    "#     json.dump(data, f, indent=4)\n",
    "print(f\"total reviews {total_reviews}\")\n",
    "print(f\"total_neutral = {total_neutral}\")\n",
    "print(f\"total_helpful = {total_helpful}\")\n",
    "print(f\"total_unhelpful = {total_unhelpful}\")\n",
    "for i in range(len(data)):\n",
    "    print(i, len(data[i]['reviews']))"
   ]
  },
  {
   "cell_type": "code",
   "execution_count": 43,
   "metadata": {},
   "outputs": [
    {
     "name": "stdout",
     "output_type": "stream",
     "text": [
      "['neutral', 'helpful', 'unhelpful']\n"
     ]
    },
    {
     "data": {
      "image/png": "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",
      "text/plain": [
       "<Figure size 640x480 with 1 Axes>"
      ]
     },
     "metadata": {},
     "output_type": "display_data"
    }
   ],
   "source": [
    "# indices = np.arange(len(x))\n",
    "\n",
    "pie_array = [total_neutral, total_helpful, total_unhelpful]\n",
    "pie_labels = ['neutral', 'helpful', 'unhelpful']\n",
    "# Calculate total value\n",
    "total = sum(pie_array)\n",
    "\n",
    "# Concatenate total value with labels\n",
    "labels_with_total = [f'{label}' for label, size in zip(pie_labels, pie_array)]\n",
    "# labels_with_total.append(f'Total: {total}')\n",
    "print(labels_with_total)\n",
    "plt.pie(pie_array, labels=labels_with_total, autopct='%1.1f%%')\n",
    "\n",
    "# plt.plot(indices - bar_width/2, helpful, bar_width, label=f'total reviews ({total_reviews})', marker='o', linestyle='-')\n",
    "# plt.bar(indices + bar_width/2, unhelpful, bar_width, label=f\"helpful votes ({total_helpful})\")\n",
    "# Define the width of the bars\n",
    "# bar_width = 0.2  # Adjust as needed\n",
    "\n",
    "# Create an array of indices for the bars\n",
    "# indices = np.arange(len(x))\n",
    "\n",
    "# Plot all arrays as bars\n",
    "# plt.bar(indices - bar_width, helpful, bar_width, label='Helpfulness')\n",
    "# plt.bar(indices, unhelpful, bar_width, label='Unhelpfulness')\n",
    "# plt.bar(indices + bar_width, , bar_width, label='No. of Votes')\n",
    "\n",
    "# plt.xlabel('No. of Reviews')\n",
    "plt.xlabel('helpfulness of reviews per product')\n",
    "plt.title(title)\n",
    "plt.legend(loc='upper left', fontsize='medium')\n",
    "# plt.legend()\n",
    "\n",
    "plt.grid()\n",
    "plt.show()"
   ]
  },
  {
   "cell_type": "code",
   "execution_count": 42,
   "metadata": {},
   "outputs": [
    {
     "ename": "NameError",
     "evalue": "name 'np' is not defined",
     "output_type": "error",
     "traceback": [
      "\u001b[1;31m---------------------------------------------------------------------------\u001b[0m",
      "\u001b[1;31mNameError\u001b[0m                                 Traceback (most recent call last)",
      "Cell \u001b[1;32mIn[42], line 3\u001b[0m\n\u001b[0;32m      1\u001b[0m \u001b[38;5;66;03m# Define the width of the bars\u001b[39;00m\n\u001b[0;32m      2\u001b[0m bar_width \u001b[38;5;241m=\u001b[39m \u001b[38;5;241m0.45\u001b[39m\n\u001b[1;32m----> 3\u001b[0m indices \u001b[38;5;241m=\u001b[39m np\u001b[38;5;241m.\u001b[39marange(\u001b[38;5;28mlen\u001b[39m(x))\n\u001b[0;32m      4\u001b[0m plt\u001b[38;5;241m.\u001b[39mbar(indices \u001b[38;5;241m-\u001b[39m bar_width\u001b[38;5;241m/\u001b[39m\u001b[38;5;241m2\u001b[39m, x, bar_width, label\u001b[38;5;241m=\u001b[39m\u001b[38;5;124m'\u001b[39m\u001b[38;5;124mHelpfulness\u001b[39m\u001b[38;5;124m'\u001b[39m)\n\u001b[0;32m      5\u001b[0m plt\u001b[38;5;241m.\u001b[39mbar(indices \u001b[38;5;241m+\u001b[39m bar_width\u001b[38;5;241m/\u001b[39m\u001b[38;5;241m2\u001b[39m, y, bar_width, label\u001b[38;5;241m=\u001b[39m\u001b[38;5;124m'\u001b[39m\u001b[38;5;124mUnhelpfulness\u001b[39m\u001b[38;5;124m'\u001b[39m)\n",
      "\u001b[1;31mNameError\u001b[0m: name 'np' is not defined"
     ]
    }
   ],
   "source": [
    "\n",
    "# Define the width of the bars\n",
    "bar_width = 0.45\n",
    "indices = np.arange(len(x))\n",
    "plt.bar(indices - bar_width/2, x, bar_width, label='Helpfulness')\n",
    "plt.bar(indices + bar_width/2, y, bar_width, label='Unhelpfulness')\n",
    "plt.xlabel('No. of Reviews')\n",
    "plt.ylabel('Helpfulness')\n",
    "plt.title(title)\n",
    "plt.legend()\n",
    "plt.grid()\n",
    "plt.show()\n"
   ]
  }
 ],
 "metadata": {
  "kernelspec": {
   "display_name": "base",
   "language": "python",
   "name": "python3"
  },
  "language_info": {
   "codemirror_mode": {
    "name": "ipython",
    "version": 3
   },
   "file_extension": ".py",
   "mimetype": "text/x-python",
   "name": "python",
   "nbconvert_exporter": "python",
   "pygments_lexer": "ipython3",
   "version": "3.11.5"
  }
 },
 "nbformat": 4,
 "nbformat_minor": 2
}
