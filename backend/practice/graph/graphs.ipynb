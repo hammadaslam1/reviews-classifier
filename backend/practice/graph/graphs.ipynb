{
 "cells": [
  {
   "cell_type": "code",
   "execution_count": 130,
   "metadata": {},
   "outputs": [
    {
     "name": "stderr",
     "output_type": "stream",
     "text": [
      "[nltk_data] Downloading package vader_lexicon to\n",
      "[nltk_data]     C:\\Users\\GS\\AppData\\Roaming\\nltk_data...\n",
      "[nltk_data]   Package vader_lexicon is already up-to-date!\n"
     ]
    },
    {
     "data": {
      "text/plain": [
       "True"
      ]
     },
     "execution_count": 130,
     "metadata": {},
     "output_type": "execute_result"
    }
   ],
   "source": [
    "import json\n",
    "from nltk.tokenize import word_tokenize\n",
    "from nltk.corpus import wordnet\n",
    "from collections import Counter\n",
    "import re\n",
    "import matplotlib.pyplot as plt\n",
    "import numpy as np\n",
    "import difflib\n",
    "import spacy\n",
    "import spacy.cli\n",
    "import nltk\n",
    "# spacy.cli.download(\"en_core_web_sm\")\n",
    "from nltk.corpus import stopwords\n",
    "nltk.download('vader_lexicon')"
   ]
  },
  {
   "cell_type": "code",
   "execution_count": 180,
   "metadata": {},
   "outputs": [
    {
     "data": {
      "text/plain": [
       "{'product_title': ['Compaq A1500 All In One'],\n",
       " 'all_products_href': ['https://www.amazon.com/Compaq-163475-001-A1500-All-In-One/dp/B000055XZC/ref=sr_1_2161?qid=1700804379&s=computers-intl-ship&sr=1-2161'],\n",
       " 'product_rating_points': ['3.2'],\n",
       " 'product_ratings': ['5 ratings'],\n",
       " 'product_price': ['$299.99 '],\n",
       " 'product_images_src': ['https://m.media-amazon.com/images/I/51XfGoXrcKL.__AC_SY300_SX300_QL70_FMwebp_.jpg'],\n",
       " 'product_description': ['Rated Best Buy by Consumer Guide Prints 2 400 x 1 200 dpi black text at 12 ppm color at 5 ppm 300 x 300 dpi fax resolution 42 page memory 70 number memory speed dialing 1 200 x 1 200 dpi copier resolution 36 bit scanner color depth compaq Control Form Image Color Matching and job finishing features'],\n",
       " 'reviews': [{'reviews': '5.0 out of 5 stars Go For It without thinking twice !!',\n",
       "   'reviewer_name': 'Someone',\n",
       "   'review_title': 'Go For It without thinking twice !!',\n",
       "   'review_rating': '5.0',\n",
       "   'reviewer_country_date': 'Reviewed in the United States on March 27, 2001',\n",
       "   'purchased_product': '',\n",
       "   'review_status': '',\n",
       "   'review_body': \"I bought this Compaq A1500 this week and am more than satisfied with it. Simple installation without any problems, excellent photo quality resolution even on plain paper, very good managing software and the best part is, I didn't need any customer support to make it run :).\\nVery good product with excellent features, quality and resolution. Believe me it's better than the best available in this price range.\",\n",
       "   'review_helpfulness': 19.113868613138685,\n",
       "   'review_topics': ['For the price'],\n",
       "   'sentiment': 'Positive',\n",
       "   'review_votes': '10',\n",
       "   'review_unhelpfulness': 0.0},\n",
       "  {'reviews': '1.0 out of 5 stars\\n\\n\\n\\n\\n\\n\\n\\n  \\n  \\n    Worst printer I`ve ever owned',\n",
       "   'reviewer_name': 'Amazon Customer',\n",
       "   'review_title': 'Worst printer I`ve ever owned',\n",
       "   'review_rating': '1.0',\n",
       "   'reviewer_country_date': 'Reviewed in the United States on November 7, 2001',\n",
       "   'purchased_product': '',\n",
       "   'review_status': '',\n",
       "   'review_body': 'I bought the A1500 based on the Compaq name and the excellent results I`ve had with their other products, however I started having problems immediatly, it just would not work. When I called Tech support, I was informed that it was not campatible with my operating system. When I pointed out I was using Win 98se on a Compaq comupter they tried to help. I was able to finally get it installed after being on the phone with Tech Support for almost 2 hours. It worked for one day then quit printing. When I again called Tech Support and spent another hour on the phone the printer finally started working but the Scanner quit. As I was buying a second computer with Win XP I asked if it would be compatible and was assured that it was.\\nWhen I was ready to install the A1500 on the new computer, I called Tech Support and they taslked me through the whole process. Not only would it not install it crashed my system and I had to do a full restore.\\nAs I waited to long to return it, it is now seating on a shelf collecting dust until I can find someone who will take it off my hands. In the mean time I`m still looking for a good multifunction that will work as advertised.\\nI would not recommend the A1500 to anyone who does not have money and time to waste.',\n",
       "   'review_helpfulness': 15.627423822714684,\n",
       "   'review_topics': ['Compaq A1500',\n",
       "    'excellent print',\n",
       "    'lesser mean time',\n",
       "    'multifunctioning'],\n",
       "   'sentiment': 'Positive',\n",
       "   'review_votes': '8',\n",
       "   'review_unhelpfulness': 0.0},\n",
       "  {'reviews': '4.0 out of 5 stars\\n\\n\\n\\n\\n\\n\\n\\n  \\n  \\n    OK printer',\n",
       "   'reviewer_name': 'JB',\n",
       "   'review_title': 'OK printer',\n",
       "   'review_rating': '4.0',\n",
       "   'reviewer_country_date': 'Reviewed in the United States on August 20, 2007',\n",
       "   'purchased_product': '',\n",
       "   'review_status': '',\n",
       "   'review_body': 'I picked this old Compaq A1500 up at a yard sale. It was so filthy and plugged with old ink I figured it was shot. But after disassembling it and cleaning the innards good, it went to working after I installed two new cartridges. I use Windows XP and havent had any problems with this printer, unlike my old Lexmark X83. I wont even go there. Overall a decent printer.',\n",
       "   'review_helpfulness': 17.18297872340426,\n",
       "   'review_topics': ['Compaq A1500', 'Windows XP'],\n",
       "   'sentiment': 'Positive',\n",
       "   'review_votes': '0',\n",
       "   'review_unhelpfulness': 0.0},\n",
       "  {'reviews': '3.0 out of 5 stars\\n\\n\\n\\n\\n\\n\\n\\n  \\n  \\n    Not bad, but could have been better...',\n",
       "   'reviewer_name': 'Marle',\n",
       "   'review_title': 'Not bad, but could have been better...',\n",
       "   'review_rating': '3.0',\n",
       "   'reviewer_country_date': 'Reviewed in the United States on July 2, 2005',\n",
       "   'purchased_product': '',\n",
       "   'review_status': '',\n",
       "   'review_body': 'The A1500 was the first multifunctional I\\'ve used.  I purchase one in 2001 for about $100. Overall, it was a decent machine before it began to die.\\n\\nIt takes two ink cartridges, Lexmark black-12A1970 ($25-$32) and Lexmark color-12A1985 ($29-$39).  The ink seemed to last for a good while.  However, if you don\\'t use the cartridges in a while, the ink will dry up (this is what happened to my color cartridge a few times).\\n\\nWhen I first purchased it, I thought the design was great, but as I needed copies and scans of different items, I changed my mind.  The copier/scanner is operated via a feeder instead of being a flatbed.  I couldn\\'t scan a page from a book or magazine (unless I wanted to rip out the page and feed it to the machine).  It was also somewhat difficult to make copies of smaller items such as cards, IDs or pictures, even with the protective sleeve that is included with this model.\\n\\nBefore Compaq was bought out by HP, there was Compaq Customer Communities where consumers could post questions and give answers to one another (I had an alignment problem with this unit that was easily solved by a visit to Customer Communities).  Unfortunately, HP removed the community.  I guess it\\'s a good thing I got the 3 year warranty from Circuit City.  After about a year and a half, the scanner and copier started to act up.  I would no longer get clean scans/copies, and it would use two 8.5\" x 11\"\" pages to copy a single document with the same dimensions.  Customer Service couldn\\'t help with the problem',\n",
       "   'review_helpfulness': 15.49021372328459,\n",
       "   'review_topics': ['inexpensive',\n",
       "    'colorful',\n",
       "    'flatbed machine',\n",
       "    'community support',\n",
       "    'HP,'],\n",
       "   'sentiment': 'Positive',\n",
       "   'review_votes': '0',\n",
       "   'review_unhelpfulness': 0.0},\n",
       "  {'reviews': '1.0 out of 5 stars\\n\\n\\n\\n\\n\\n\\n\\n  \\n  \\n    Windows 98 Incompatable!!!!!!!!!!!',\n",
       "   'reviewer_name': 'P. Green',\n",
       "   'review_title': 'Windows 98 Incompatable!!!!!!!!!!!',\n",
       "   'review_rating': '1.0',\n",
       "   'reviewer_country_date': 'Reviewed in the United States on May 29, 2001',\n",
       "   'purchased_product': '',\n",
       "   'review_status': 'Verified Purchase',\n",
       "   'review_body': 'I bought this machine without realizing that it is not compatable with the original Windows 98. It worked fine for a couple weeks, but will no longer print properly. I have tried to correct this problem to no avail, I\\'ve even sent it back to Compaq!! On my third call to tech support, I was told that on one of the pages inside the manual it states that this is a \"Known issue\"\" and that I must have \"\"Windows 98 Second Edition\"\" for their product to work. This vital information should be prominatly noted in the advertising. I am very dissappointed!\"',\n",
       "   'review_helpfulness': 17.554682779456193,\n",
       "   'review_topics': ['Windows 98', 'Windows 98 Second Edition'],\n",
       "   'sentiment': 'Negative',\n",
       "   'review_votes': '6',\n",
       "   'review_unhelpfulness': 0.0}],\n",
       " 'category': ['electronics'],\n",
       " 'subcategory': ['computers_laptops']}"
      ]
     },
     "execution_count": 180,
     "metadata": {},
     "output_type": "execute_result"
    }
   ],
   "source": [
    "with open('C:/Hammad Aslam/BS IT (post ADP)/3rd Semester/Capstone Project/Project/backend/datasets/categories/allFiles/computers_laptops.json', 'r') as f:\n",
    "    data = json.load(f)\n",
    "data[0]\n",
    "# print(len(data[0]['reviews']))"
   ]
  },
  {
   "cell_type": "code",
   "execution_count": 175,
   "metadata": {},
   "outputs": [
    {
     "data": {
      "text/plain": [
       "(14, 'ASUS N51Vn A1 15 6 Inch Versatile Entertainment Laptop Silver Blue')"
      ]
     },
     "execution_count": 175,
     "metadata": {},
     "output_type": "execute_result"
    }
   ],
   "source": [
    "# for index in range(len(data)):\n",
    "def get_topics(index):\n",
    "    topic = []\n",
    "    for i in range(len(data[index]['reviews'])):\n",
    "        for j in range(len(data[index][\"reviews\"][i]['review_topics'])):\n",
    "            topic.append(data[index][\"reviews\"][i]['review_topics'][j])\n",
    "    return topic, data[index]['product_title'][0]\n",
    "topics, title = get_topics(5)\n",
    "topics = [topic for topic in topics if topic != 'none']\n",
    "len(topics), title"
   ]
  },
  {
   "cell_type": "code",
   "execution_count": 165,
   "metadata": {},
   "outputs": [],
   "source": [
    "def get_synonyms(word):\n",
    "    synonyms = set()\n",
    "    for syn in wordnet.synsets(word):\n",
    "        for lemma in syn.lemmas():\n",
    "            synonyms.add(lemma.name().lower())  # Convert to lowercase for consistency\n",
    "    return synonyms\n",
    "\n",
    "# syn = list(get_synonyms(topics[9]))\n",
    "# syn"
   ]
  },
  {
   "cell_type": "code",
   "execution_count": 172,
   "metadata": {},
   "outputs": [],
   "source": [
    "def are_phrases_similar(phrase1, phrase2):\n",
    "    # Tokenize and normalize phrases\n",
    "    # tokens1 = set(word_tokenize(phrase1.lower()))\n",
    "    # tokens2 = set(word_tokenize(phrase2.lower()))\n",
    "    nlp = spacy.load(\"en_core_web_sm\", disable=[\"parser\", \"ner\"])\n",
    "    new_record1 = re.sub(\" +\", \" \",phrase1)\n",
    "    new_record2 = re.sub(\" +\", \" \",phrase2)\n",
    "    doc1 = nlp(new_record1)\n",
    "    doc2 = nlp(new_record2)\n",
    "    for token in doc1:\n",
    "        filtered_list = [token for token in doc1 if not token.is_stop]\n",
    "        tokens1 = set([f\"{token.lemma_}\" for token in filtered_list])\n",
    "        \n",
    "    for token in doc2:\n",
    "        filtered_list = [token for token in doc2 if not token.is_stop]\n",
    "        tokens2 = set([f\"{token.lemma_}\" for token in filtered_list])\n",
    "        \n",
    "    # print(tokens1, tokens2)\n",
    "    # Check if both phrases have similar tokens\n",
    "    if tokens1 == tokens2:\n",
    "        return True\n",
    "    \n",
    "    # Check for synonyms\n",
    "    for token in tokens1:\n",
    "        synonyms = get_synonyms(token)\n",
    "        if tokens2.intersection(synonyms):\n",
    "            return True\n",
    "    \n",
    "    return False"
   ]
  },
  {
   "cell_type": "code",
   "execution_count": 167,
   "metadata": {},
   "outputs": [],
   "source": [
    "def are_similar(a, b, threshold=0.6):\n",
    "    \"\"\"\n",
    "    Check if two strings are similar based on token similarity.\n",
    "    \"\"\"\n",
    "    seq = difflib.SequenceMatcher(None, a, b)\n",
    "    ratio = seq.ratio()\n",
    "    # print(seq.ratio(), a, b)\n",
    "    return ratio > threshold"
   ]
  },
  {
   "cell_type": "code",
   "execution_count": 178,
   "metadata": {},
   "outputs": [],
   "source": [
    "def count_phrase_frequency_in_array(unique_array, original_array):\n",
    "    frequency_counter = Counter()\n",
    "    for i, phrase1 in enumerate(unique_array):\n",
    "        count = 1\n",
    "        for j, phrase2 in enumerate(original_array):\n",
    "            if i != j:  # Avoid comparing a phrase with itself\n",
    "                if are_phrases_similar(phrase1.lower(), phrase2.lower()):\n",
    "                    count += 1\n",
    "        frequency_counter[phrase1] = count\n",
    "        # for phrase in original_array:\n",
    "        #     if are_phrases_similar(phrase.lower(), phrase1.lower()):\n",
    "        #         frequency_counter[phrase1] = count\n",
    "    return frequency_counter\n",
    "\n",
    "\n",
    "def get_unique(phrase_array):\n",
    "    unique_pair = []\n",
    "    count = 0\n",
    "    for i in range(len(phrase_array)):\n",
    "        for j in range(i+1, len(phrase_array)):\n",
    "            if not are_phrases_similar(phrase_array[i], phrase_array[j]):\n",
    "                # print(phrase_array[i], phrase_array[j])\n",
    "                unique_pair.append(phrase_array[j])\n",
    "            count += 1\n",
    "            print(count)\n",
    "    return unique_pair"
   ]
  },
  {
   "cell_type": "code",
   "execution_count": 183,
   "metadata": {},
   "outputs": [
    {
     "name": "stdout",
     "output_type": "stream",
     "text": [
      "1\n",
      "2\n"
     ]
    },
    {
     "ename": "KeyboardInterrupt",
     "evalue": "",
     "output_type": "error",
     "traceback": [
      "\u001b[1;31m---------------------------------------------------------------------------\u001b[0m",
      "\u001b[1;31mKeyboardInterrupt\u001b[0m                         Traceback (most recent call last)",
      "Cell \u001b[1;32mIn[183], line 1\u001b[0m\n\u001b[1;32m----> 1\u001b[0m unique \u001b[38;5;241m=\u001b[39m get_unique(topics)\n\u001b[0;32m      2\u001b[0m frequency \u001b[38;5;241m=\u001b[39m count_phrase_frequency_in_array(\u001b[38;5;28mlist\u001b[39m(\u001b[38;5;28mset\u001b[39m(unique)), topics)\n",
      "Cell \u001b[1;32mIn[178], line 21\u001b[0m, in \u001b[0;36mget_unique\u001b[1;34m(phrase_array)\u001b[0m\n\u001b[0;32m     19\u001b[0m \u001b[38;5;28;01mfor\u001b[39;00m i \u001b[38;5;129;01min\u001b[39;00m \u001b[38;5;28mrange\u001b[39m(\u001b[38;5;28mlen\u001b[39m(phrase_array)):\n\u001b[0;32m     20\u001b[0m     \u001b[38;5;28;01mfor\u001b[39;00m j \u001b[38;5;129;01min\u001b[39;00m \u001b[38;5;28mrange\u001b[39m(i\u001b[38;5;241m+\u001b[39m\u001b[38;5;241m1\u001b[39m, \u001b[38;5;28mlen\u001b[39m(phrase_array)):\n\u001b[1;32m---> 21\u001b[0m         \u001b[38;5;28;01mif\u001b[39;00m \u001b[38;5;129;01mnot\u001b[39;00m are_phrases_similar(phrase_array[i], phrase_array[j]):\n\u001b[0;32m     22\u001b[0m             \u001b[38;5;66;03m# print(phrase_array[i], phrase_array[j])\u001b[39;00m\n\u001b[0;32m     23\u001b[0m             unique_pair\u001b[38;5;241m.\u001b[39mappend(phrase_array[j])\n\u001b[0;32m     24\u001b[0m         count \u001b[38;5;241m+\u001b[39m\u001b[38;5;241m=\u001b[39m \u001b[38;5;241m1\u001b[39m\n",
      "Cell \u001b[1;32mIn[172], line 5\u001b[0m, in \u001b[0;36mare_phrases_similar\u001b[1;34m(phrase1, phrase2)\u001b[0m\n\u001b[0;32m      1\u001b[0m \u001b[38;5;28;01mdef\u001b[39;00m \u001b[38;5;21mare_phrases_similar\u001b[39m(phrase1, phrase2):\n\u001b[0;32m      2\u001b[0m     \u001b[38;5;66;03m# Tokenize and normalize phrases\u001b[39;00m\n\u001b[0;32m      3\u001b[0m     \u001b[38;5;66;03m# tokens1 = set(word_tokenize(phrase1.lower()))\u001b[39;00m\n\u001b[0;32m      4\u001b[0m     \u001b[38;5;66;03m# tokens2 = set(word_tokenize(phrase2.lower()))\u001b[39;00m\n\u001b[1;32m----> 5\u001b[0m     nlp \u001b[38;5;241m=\u001b[39m spacy\u001b[38;5;241m.\u001b[39mload(\u001b[38;5;124m\"\u001b[39m\u001b[38;5;124men_core_web_sm\u001b[39m\u001b[38;5;124m\"\u001b[39m, disable\u001b[38;5;241m=\u001b[39m[\u001b[38;5;124m\"\u001b[39m\u001b[38;5;124mparser\u001b[39m\u001b[38;5;124m\"\u001b[39m, \u001b[38;5;124m\"\u001b[39m\u001b[38;5;124mner\u001b[39m\u001b[38;5;124m\"\u001b[39m])\n\u001b[0;32m      6\u001b[0m     new_record1 \u001b[38;5;241m=\u001b[39m re\u001b[38;5;241m.\u001b[39msub(\u001b[38;5;124m\"\u001b[39m\u001b[38;5;124m +\u001b[39m\u001b[38;5;124m\"\u001b[39m, \u001b[38;5;124m\"\u001b[39m\u001b[38;5;124m \u001b[39m\u001b[38;5;124m\"\u001b[39m,phrase1)\n\u001b[0;32m      7\u001b[0m     new_record2 \u001b[38;5;241m=\u001b[39m re\u001b[38;5;241m.\u001b[39msub(\u001b[38;5;124m\"\u001b[39m\u001b[38;5;124m +\u001b[39m\u001b[38;5;124m\"\u001b[39m, \u001b[38;5;124m\"\u001b[39m\u001b[38;5;124m \u001b[39m\u001b[38;5;124m\"\u001b[39m,phrase2)\n",
      "File \u001b[1;32m~\\AppData\\Roaming\\Python\\Python311\\site-packages\\spacy\\__init__.py:51\u001b[0m, in \u001b[0;36mload\u001b[1;34m(name, vocab, disable, enable, exclude, config)\u001b[0m\n\u001b[0;32m     27\u001b[0m \u001b[38;5;28;01mdef\u001b[39;00m \u001b[38;5;21mload\u001b[39m(\n\u001b[0;32m     28\u001b[0m     name: Union[\u001b[38;5;28mstr\u001b[39m, Path],\n\u001b[0;32m     29\u001b[0m     \u001b[38;5;241m*\u001b[39m,\n\u001b[1;32m   (...)\u001b[0m\n\u001b[0;32m     34\u001b[0m     config: Union[Dict[\u001b[38;5;28mstr\u001b[39m, Any], Config] \u001b[38;5;241m=\u001b[39m util\u001b[38;5;241m.\u001b[39mSimpleFrozenDict(),\n\u001b[0;32m     35\u001b[0m ) \u001b[38;5;241m-\u001b[39m\u001b[38;5;241m>\u001b[39m Language:\n\u001b[0;32m     36\u001b[0m \u001b[38;5;250m    \u001b[39m\u001b[38;5;124;03m\"\"\"Load a spaCy model from an installed package or a local path.\u001b[39;00m\n\u001b[0;32m     37\u001b[0m \n\u001b[0;32m     38\u001b[0m \u001b[38;5;124;03m    name (str): Package name or model path.\u001b[39;00m\n\u001b[1;32m   (...)\u001b[0m\n\u001b[0;32m     49\u001b[0m \u001b[38;5;124;03m    RETURNS (Language): The loaded nlp object.\u001b[39;00m\n\u001b[0;32m     50\u001b[0m \u001b[38;5;124;03m    \"\"\"\u001b[39;00m\n\u001b[1;32m---> 51\u001b[0m     \u001b[38;5;28;01mreturn\u001b[39;00m util\u001b[38;5;241m.\u001b[39mload_model(\n\u001b[0;32m     52\u001b[0m         name,\n\u001b[0;32m     53\u001b[0m         vocab\u001b[38;5;241m=\u001b[39mvocab,\n\u001b[0;32m     54\u001b[0m         disable\u001b[38;5;241m=\u001b[39mdisable,\n\u001b[0;32m     55\u001b[0m         enable\u001b[38;5;241m=\u001b[39menable,\n\u001b[0;32m     56\u001b[0m         exclude\u001b[38;5;241m=\u001b[39mexclude,\n\u001b[0;32m     57\u001b[0m         config\u001b[38;5;241m=\u001b[39mconfig,\n\u001b[0;32m     58\u001b[0m     )\n",
      "File \u001b[1;32m~\\AppData\\Roaming\\Python\\Python311\\site-packages\\spacy\\util.py:465\u001b[0m, in \u001b[0;36mload_model\u001b[1;34m(name, vocab, disable, enable, exclude, config)\u001b[0m\n\u001b[0;32m    463\u001b[0m     \u001b[38;5;28;01mreturn\u001b[39;00m get_lang_class(name\u001b[38;5;241m.\u001b[39mreplace(\u001b[38;5;124m\"\u001b[39m\u001b[38;5;124mblank:\u001b[39m\u001b[38;5;124m\"\u001b[39m, \u001b[38;5;124m\"\u001b[39m\u001b[38;5;124m\"\u001b[39m))()\n\u001b[0;32m    464\u001b[0m \u001b[38;5;28;01mif\u001b[39;00m is_package(name):  \u001b[38;5;66;03m# installed as package\u001b[39;00m\n\u001b[1;32m--> 465\u001b[0m     \u001b[38;5;28;01mreturn\u001b[39;00m load_model_from_package(name, \u001b[38;5;241m*\u001b[39m\u001b[38;5;241m*\u001b[39mkwargs)  \u001b[38;5;66;03m# type: ignore[arg-type]\u001b[39;00m\n\u001b[0;32m    466\u001b[0m \u001b[38;5;28;01mif\u001b[39;00m Path(name)\u001b[38;5;241m.\u001b[39mexists():  \u001b[38;5;66;03m# path to model data directory\u001b[39;00m\n\u001b[0;32m    467\u001b[0m     \u001b[38;5;28;01mreturn\u001b[39;00m load_model_from_path(Path(name), \u001b[38;5;241m*\u001b[39m\u001b[38;5;241m*\u001b[39mkwargs)  \u001b[38;5;66;03m# type: ignore[arg-type]\u001b[39;00m\n",
      "File \u001b[1;32m~\\AppData\\Roaming\\Python\\Python311\\site-packages\\spacy\\util.py:501\u001b[0m, in \u001b[0;36mload_model_from_package\u001b[1;34m(name, vocab, disable, enable, exclude, config)\u001b[0m\n\u001b[0;32m    484\u001b[0m \u001b[38;5;250m\u001b[39m\u001b[38;5;124;03m\"\"\"Load a model from an installed package.\u001b[39;00m\n\u001b[0;32m    485\u001b[0m \n\u001b[0;32m    486\u001b[0m \u001b[38;5;124;03mname (str): The package name.\u001b[39;00m\n\u001b[1;32m   (...)\u001b[0m\n\u001b[0;32m    498\u001b[0m \u001b[38;5;124;03mRETURNS (Language): The loaded nlp object.\u001b[39;00m\n\u001b[0;32m    499\u001b[0m \u001b[38;5;124;03m\"\"\"\u001b[39;00m\n\u001b[0;32m    500\u001b[0m \u001b[38;5;28mcls\u001b[39m \u001b[38;5;241m=\u001b[39m importlib\u001b[38;5;241m.\u001b[39mimport_module(name)\n\u001b[1;32m--> 501\u001b[0m \u001b[38;5;28;01mreturn\u001b[39;00m \u001b[38;5;28mcls\u001b[39m\u001b[38;5;241m.\u001b[39mload(vocab\u001b[38;5;241m=\u001b[39mvocab, disable\u001b[38;5;241m=\u001b[39mdisable, enable\u001b[38;5;241m=\u001b[39menable, exclude\u001b[38;5;241m=\u001b[39mexclude, config\u001b[38;5;241m=\u001b[39mconfig)\n",
      "File \u001b[1;32m~\\AppData\\Roaming\\Python\\Python311\\site-packages\\en_core_web_sm\\__init__.py:10\u001b[0m, in \u001b[0;36mload\u001b[1;34m(**overrides)\u001b[0m\n\u001b[0;32m      9\u001b[0m \u001b[38;5;28;01mdef\u001b[39;00m \u001b[38;5;21mload\u001b[39m(\u001b[38;5;241m*\u001b[39m\u001b[38;5;241m*\u001b[39moverrides):\n\u001b[1;32m---> 10\u001b[0m     \u001b[38;5;28;01mreturn\u001b[39;00m load_model_from_init_py(\u001b[38;5;18m__file__\u001b[39m, \u001b[38;5;241m*\u001b[39m\u001b[38;5;241m*\u001b[39moverrides)\n",
      "File \u001b[1;32m~\\AppData\\Roaming\\Python\\Python311\\site-packages\\spacy\\util.py:682\u001b[0m, in \u001b[0;36mload_model_from_init_py\u001b[1;34m(init_file, vocab, disable, enable, exclude, config)\u001b[0m\n\u001b[0;32m    680\u001b[0m \u001b[38;5;28;01mif\u001b[39;00m \u001b[38;5;129;01mnot\u001b[39;00m model_path\u001b[38;5;241m.\u001b[39mexists():\n\u001b[0;32m    681\u001b[0m     \u001b[38;5;28;01mraise\u001b[39;00m \u001b[38;5;167;01mIOError\u001b[39;00m(Errors\u001b[38;5;241m.\u001b[39mE052\u001b[38;5;241m.\u001b[39mformat(path\u001b[38;5;241m=\u001b[39mdata_path))\n\u001b[1;32m--> 682\u001b[0m \u001b[38;5;28;01mreturn\u001b[39;00m load_model_from_path(\n\u001b[0;32m    683\u001b[0m     data_path,\n\u001b[0;32m    684\u001b[0m     vocab\u001b[38;5;241m=\u001b[39mvocab,\n\u001b[0;32m    685\u001b[0m     meta\u001b[38;5;241m=\u001b[39mmeta,\n\u001b[0;32m    686\u001b[0m     disable\u001b[38;5;241m=\u001b[39mdisable,\n\u001b[0;32m    687\u001b[0m     enable\u001b[38;5;241m=\u001b[39menable,\n\u001b[0;32m    688\u001b[0m     exclude\u001b[38;5;241m=\u001b[39mexclude,\n\u001b[0;32m    689\u001b[0m     config\u001b[38;5;241m=\u001b[39mconfig,\n\u001b[0;32m    690\u001b[0m )\n",
      "File \u001b[1;32m~\\AppData\\Roaming\\Python\\Python311\\site-packages\\spacy\\util.py:547\u001b[0m, in \u001b[0;36mload_model_from_path\u001b[1;34m(model_path, meta, vocab, disable, enable, exclude, config)\u001b[0m\n\u001b[0;32m    538\u001b[0m config \u001b[38;5;241m=\u001b[39m load_config(config_path, overrides\u001b[38;5;241m=\u001b[39moverrides)\n\u001b[0;32m    539\u001b[0m nlp \u001b[38;5;241m=\u001b[39m load_model_from_config(\n\u001b[0;32m    540\u001b[0m     config,\n\u001b[0;32m    541\u001b[0m     vocab\u001b[38;5;241m=\u001b[39mvocab,\n\u001b[1;32m   (...)\u001b[0m\n\u001b[0;32m    545\u001b[0m     meta\u001b[38;5;241m=\u001b[39mmeta,\n\u001b[0;32m    546\u001b[0m )\n\u001b[1;32m--> 547\u001b[0m \u001b[38;5;28;01mreturn\u001b[39;00m nlp\u001b[38;5;241m.\u001b[39mfrom_disk(model_path, exclude\u001b[38;5;241m=\u001b[39mexclude, overrides\u001b[38;5;241m=\u001b[39moverrides)\n",
      "File \u001b[1;32m~\\AppData\\Roaming\\Python\\Python311\\site-packages\\spacy\\language.py:2209\u001b[0m, in \u001b[0;36mLanguage.from_disk\u001b[1;34m(self, path, exclude, overrides)\u001b[0m\n\u001b[0;32m   2206\u001b[0m \u001b[38;5;28;01mif\u001b[39;00m \u001b[38;5;129;01mnot\u001b[39;00m (path \u001b[38;5;241m/\u001b[39m \u001b[38;5;124m\"\u001b[39m\u001b[38;5;124mvocab\u001b[39m\u001b[38;5;124m\"\u001b[39m)\u001b[38;5;241m.\u001b[39mexists() \u001b[38;5;129;01mand\u001b[39;00m \u001b[38;5;124m\"\u001b[39m\u001b[38;5;124mvocab\u001b[39m\u001b[38;5;124m\"\u001b[39m \u001b[38;5;129;01mnot\u001b[39;00m \u001b[38;5;129;01min\u001b[39;00m exclude:  \u001b[38;5;66;03m# type: ignore[operator]\u001b[39;00m\n\u001b[0;32m   2207\u001b[0m     \u001b[38;5;66;03m# Convert to list here in case exclude is (default) tuple\u001b[39;00m\n\u001b[0;32m   2208\u001b[0m     exclude \u001b[38;5;241m=\u001b[39m \u001b[38;5;28mlist\u001b[39m(exclude) \u001b[38;5;241m+\u001b[39m [\u001b[38;5;124m\"\u001b[39m\u001b[38;5;124mvocab\u001b[39m\u001b[38;5;124m\"\u001b[39m]\n\u001b[1;32m-> 2209\u001b[0m util\u001b[38;5;241m.\u001b[39mfrom_disk(path, deserializers, exclude)  \u001b[38;5;66;03m# type: ignore[arg-type]\u001b[39;00m\n\u001b[0;32m   2210\u001b[0m \u001b[38;5;28mself\u001b[39m\u001b[38;5;241m.\u001b[39m_path \u001b[38;5;241m=\u001b[39m path  \u001b[38;5;66;03m# type: ignore[assignment]\u001b[39;00m\n\u001b[0;32m   2211\u001b[0m \u001b[38;5;28mself\u001b[39m\u001b[38;5;241m.\u001b[39m_link_components()\n",
      "File \u001b[1;32m~\\AppData\\Roaming\\Python\\Python311\\site-packages\\spacy\\util.py:1390\u001b[0m, in \u001b[0;36mfrom_disk\u001b[1;34m(path, readers, exclude)\u001b[0m\n\u001b[0;32m   1387\u001b[0m \u001b[38;5;28;01mfor\u001b[39;00m key, reader \u001b[38;5;129;01min\u001b[39;00m readers\u001b[38;5;241m.\u001b[39mitems():\n\u001b[0;32m   1388\u001b[0m     \u001b[38;5;66;03m# Split to support file names like meta.json\u001b[39;00m\n\u001b[0;32m   1389\u001b[0m     \u001b[38;5;28;01mif\u001b[39;00m key\u001b[38;5;241m.\u001b[39msplit(\u001b[38;5;124m\"\u001b[39m\u001b[38;5;124m.\u001b[39m\u001b[38;5;124m\"\u001b[39m)[\u001b[38;5;241m0\u001b[39m] \u001b[38;5;129;01mnot\u001b[39;00m \u001b[38;5;129;01min\u001b[39;00m exclude:\n\u001b[1;32m-> 1390\u001b[0m         reader(path \u001b[38;5;241m/\u001b[39m key)\n\u001b[0;32m   1391\u001b[0m \u001b[38;5;28;01mreturn\u001b[39;00m path\n",
      "File \u001b[1;32m~\\AppData\\Roaming\\Python\\Python311\\site-packages\\spacy\\language.py:2195\u001b[0m, in \u001b[0;36mLanguage.from_disk.<locals>.<lambda>\u001b[1;34m(p)\u001b[0m\n\u001b[0;32m   2193\u001b[0m deserializers[\u001b[38;5;124m\"\u001b[39m\u001b[38;5;124mmeta.json\u001b[39m\u001b[38;5;124m\"\u001b[39m] \u001b[38;5;241m=\u001b[39m deserialize_meta  \u001b[38;5;66;03m# type: ignore[assignment]\u001b[39;00m\n\u001b[0;32m   2194\u001b[0m deserializers[\u001b[38;5;124m\"\u001b[39m\u001b[38;5;124mvocab\u001b[39m\u001b[38;5;124m\"\u001b[39m] \u001b[38;5;241m=\u001b[39m deserialize_vocab  \u001b[38;5;66;03m# type: ignore[assignment]\u001b[39;00m\n\u001b[1;32m-> 2195\u001b[0m deserializers[\u001b[38;5;124m\"\u001b[39m\u001b[38;5;124mtokenizer\u001b[39m\u001b[38;5;124m\"\u001b[39m] \u001b[38;5;241m=\u001b[39m \u001b[38;5;28;01mlambda\u001b[39;00m p: \u001b[38;5;28mself\u001b[39m\u001b[38;5;241m.\u001b[39mtokenizer\u001b[38;5;241m.\u001b[39mfrom_disk(  \u001b[38;5;66;03m# type: ignore[union-attr]\u001b[39;00m\n\u001b[0;32m   2196\u001b[0m     p, exclude\u001b[38;5;241m=\u001b[39m[\u001b[38;5;124m\"\u001b[39m\u001b[38;5;124mvocab\u001b[39m\u001b[38;5;124m\"\u001b[39m]\n\u001b[0;32m   2197\u001b[0m )\n\u001b[0;32m   2198\u001b[0m \u001b[38;5;28;01mfor\u001b[39;00m name, proc \u001b[38;5;129;01min\u001b[39;00m \u001b[38;5;28mself\u001b[39m\u001b[38;5;241m.\u001b[39m_components:\n\u001b[0;32m   2199\u001b[0m     \u001b[38;5;28;01mif\u001b[39;00m name \u001b[38;5;129;01min\u001b[39;00m exclude:\n",
      "File \u001b[1;32m~\\AppData\\Roaming\\Python\\Python311\\site-packages\\spacy\\tokenizer.pyx:778\u001b[0m, in \u001b[0;36mspacy.tokenizer.Tokenizer.from_disk\u001b[1;34m()\u001b[0m\n",
      "File \u001b[1;32m~\\AppData\\Roaming\\Python\\Python311\\site-packages\\spacy\\tokenizer.pyx:846\u001b[0m, in \u001b[0;36mspacy.tokenizer.Tokenizer.from_bytes\u001b[1;34m()\u001b[0m\n",
      "File \u001b[1;32m~\\AppData\\Roaming\\Python\\Python311\\site-packages\\spacy\\tokenizer.pyx:123\u001b[0m, in \u001b[0;36mspacy.tokenizer.Tokenizer.rules.__set__\u001b[1;34m()\u001b[0m\n",
      "File \u001b[1;32m~\\AppData\\Roaming\\Python\\Python311\\site-packages\\spacy\\tokenizer.pyx:571\u001b[0m, in \u001b[0;36mspacy.tokenizer.Tokenizer._load_special_cases\u001b[1;34m()\u001b[0m\n",
      "File \u001b[1;32m~\\AppData\\Roaming\\Python\\Python311\\site-packages\\spacy\\tokenizer.pyx:615\u001b[0m, in \u001b[0;36mspacy.tokenizer.Tokenizer.add_special_case\u001b[1;34m()\u001b[0m\n",
      "File \u001b[1;32m~\\AppData\\Roaming\\Python\\Python311\\site-packages\\spacy\\tokenizer.pyx:199\u001b[0m, in \u001b[0;36mspacy.tokenizer.Tokenizer._tokenize_affixes\u001b[1;34m()\u001b[0m\n",
      "File \u001b[1;32m~\\AppData\\Roaming\\Python\\Python311\\site-packages\\spacy\\tokenizer.pyx:391\u001b[0m, in \u001b[0;36mspacy.tokenizer.Tokenizer._tokenize\u001b[1;34m()\u001b[0m\n",
      "File \u001b[1;32m~\\AppData\\Roaming\\Python\\Python311\\site-packages\\spacy\\tokenizer.pyx:470\u001b[0m, in \u001b[0;36mspacy.tokenizer.Tokenizer._attach_tokens\u001b[1;34m()\u001b[0m\n",
      "File \u001b[1;32m~\\AppData\\Roaming\\Python\\Python311\\site-packages\\spacy\\vocab.pyx:165\u001b[0m, in \u001b[0;36mspacy.vocab.Vocab.get\u001b[1;34m()\u001b[0m\n",
      "File \u001b[1;32m~\\AppData\\Roaming\\Python\\Python311\\site-packages\\spacy\\vocab.pyx:202\u001b[0m, in \u001b[0;36mspacy.vocab.Vocab._new_lexeme\u001b[1;34m()\u001b[0m\n",
      "File \u001b[1;32m~\\AppData\\Roaming\\Python\\Python311\\site-packages\\spacy\\lang\\lex_attrs.py:145\u001b[0m, in \u001b[0;36mlower\u001b[1;34m(string)\u001b[0m\n\u001b[0;32m    144\u001b[0m \u001b[38;5;28;01mdef\u001b[39;00m \u001b[38;5;21mlower\u001b[39m(string: \u001b[38;5;28mstr\u001b[39m) \u001b[38;5;241m-\u001b[39m\u001b[38;5;241m>\u001b[39m \u001b[38;5;28mstr\u001b[39m:\n\u001b[1;32m--> 145\u001b[0m     \u001b[38;5;28;01mreturn\u001b[39;00m string\u001b[38;5;241m.\u001b[39mlower()\n",
      "\u001b[1;31mKeyboardInterrupt\u001b[0m: "
     ]
    }
   ],
   "source": [
    "unique = get_unique(topics)\n",
    "frequency = count_phrase_frequency_in_array(list(set(unique)), topics)"
   ]
  },
  {
   "cell_type": "code",
   "execution_count": 184,
   "metadata": {},
   "outputs": [
    {
     "name": "stdout",
     "output_type": "stream",
     "text": [
      "['bad website', 'battery life', 'web browsing', 'Asus', 'product reviews', 'hunk of HP junk', 'power supply issues', 'jury-rigged', 'HP product', 'thermal paste', \"RMA'd\", 'hard drive failed']\n",
      "{'bad website': 2, 'battery life': 1, 'web browsing': 2, 'Asus': 3, 'product reviews': 3, 'hunk of HP junk': 3, 'power supply issues': 1, 'jury-rigged': 2, 'HP product': 4, 'thermal paste': 2, \"RMA'd\": 2, 'hard drive failed': 2}\n",
      "[{'topic': 'HP product', 'freq': 33}, {'topic': 'Asus', 'freq': 25}, {'topic': 'product reviews', 'freq': 25}, {'topic': 'hunk of HP junk', 'freq': 25}, {'topic': 'bad website', 'freq': 16}, {'topic': 'web browsing', 'freq': 16}, {'topic': 'jury-rigged', 'freq': 16}, {'topic': 'thermal paste', 'freq': 16}, {'topic': \"RMA'd\", 'freq': 16}, {'topic': 'hard drive failed', 'freq': 16}, {'topic': 'battery life', 'freq': 8}, {'topic': 'power supply issues', 'freq': 8}]\n"
     ]
    }
   ],
   "source": [
    "# topics = []\n",
    "for index in range(len(data)):\n",
    "    data[index]['topic_frequency'] = []\n",
    "    if index == 0:\n",
    "        # for i in range(len(data[index]['reviews'])):\n",
    "        print(f\"{(list(set(unique)))}\\n{(dict(frequency))}\")\n",
    "        \n",
    "        \n",
    "        freq = dict(frequency)\n",
    "        new = len(set(unique))\n",
    "        temp = []\n",
    "        for key, value in freq.items():\n",
    "            # temp.append({'topic': key, 'freq': value})\n",
    "            temp.append({'topic': key, 'freq': (int((value/new)*100))})\n",
    "        sorted_freq = sorted(temp, key=lambda x: x['freq'], reverse=True)\n",
    "        print(sorted_freq)\n",
    "        x = []\n",
    "        y = []\n",
    "        for k in sorted_freq[0: 20]:\n",
    "            x.append(k['topic'])\n",
    "            y.append(k['freq'])\n",
    "            # print(k['freq'])\n",
    "# unique"
   ]
  },
  {
   "cell_type": "code",
   "execution_count": 186,
   "metadata": {},
   "outputs": [
    {
     "name": "stdout",
     "output_type": "stream",
     "text": [
      "12\n"
     ]
    },
    {
     "name": "stderr",
     "output_type": "stream",
     "text": [
      "C:\\Users\\GS\\AppData\\Local\\Temp\\ipykernel_9328\\3260308574.py:8: UserWarning: FixedFormatter should only be used together with FixedLocator\n",
      "  ax.set_yticklabels(['0%', '20%', '40%', '60%', '80%', '100%'])\n"
     ]
    },
    {
     "data": {
      "image/png": "[encoded data removed]",
      "text/plain": [
       "<Figure size 640x480 with 1 Axes>"
      ]
     },
     "metadata": {},
     "output_type": "display_data"
    }
   ],
   "source": [
    "print(len(y))\n",
    "fig, ax = plt.subplots()\n",
    "bars = ax.bar(x, y)\n",
    "scaled_y = [val / max(y) * 100 for val in y]\n",
    "# plt.bar(x, scaled_y)\n",
    "ax.set_ylim(0, 100)\n",
    "# ax.set_yticks([0, 25, 50, 75, 100])\n",
    "ax.set_yticklabels(['0%', '20%', '40%', '60%', '80%', '100%'])\n",
    "plt.xticks(rotation='vertical')\n",
    "# plt.yticks(y, ['{}%'.format(i) for i in y])\n",
    "# plt.grid()\n",
    "plt.show()\n"
   ]
  }
 ],
 "metadata": {
  "kernelspec": {
   "display_name": "base",
   "language": "python",
   "name": "python3"
  },
  "language_info": {
   "codemirror_mode": {
    "name": "ipython",
    "version": 3
   },
   "file_extension": ".py",
   "mimetype": "text/x-python",
   "name": "python",
   "nbconvert_exporter": "python",
   "pygments_lexer": "ipython3",
   "version": "3.11.5"
  }
 },
 "nbformat": 4,
 "nbformat_minor": 2
}
