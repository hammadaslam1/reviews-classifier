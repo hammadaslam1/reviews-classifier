{
 "cells": [
  {
   "cell_type": "code",
   "execution_count": 1,
   "metadata": {},
   "outputs": [
    {
     "name": "stderr",
     "output_type": "stream",
     "text": [
      "[nltk_data] Downloading package vader_lexicon to\n",
      "[nltk_data]     C:\\Users\\GS\\AppData\\Roaming\\nltk_data...\n",
      "[nltk_data]   Package vader_lexicon is already up-to-date!\n"
     ]
    },
    {
     "data": {
      "text/plain": [
       "True"
      ]
     },
     "execution_count": 1,
     "metadata": {},
     "output_type": "execute_result"
    }
   ],
   "source": [
    "import json\n",
    "from nltk.tokenize import word_tokenize\n",
    "from nltk.corpus import wordnet\n",
    "from collections import Counter\n",
    "import re\n",
    "import matplotlib.pyplot as plt\n",
    "import numpy as np\n",
    "import difflib\n",
    "import spacy\n",
    "import spacy.cli\n",
    "import nltk\n",
    "# spacy.cli.download(\"en_core_web_sm\")\n",
    "from nltk.corpus import stopwords\n",
    "nltk.download('vader_lexicon')"
   ]
  },
  {
   "cell_type": "code",
   "execution_count": 2,
   "metadata": {},
   "outputs": [
    {
     "data": {
      "text/plain": [
       "{'product_title': ['Generic FP10355 BL Portable Washing Machine Blue'],\n",
       " 'all_products_href': ['https://www.amazon.com/Mayjooy-Portable-Washing-Function-Apartment/dp/B09NPWF7KW/ref=sr_1_9586?qid=1706520020&s=hi&sr=1-9586'],\n",
       " 'product_rating_points': ['1'],\n",
       " 'product_ratings': ['1 rating'],\n",
       " 'product_price': ['$179.99 '],\n",
       " 'product_images_src': ['https://m.media-amazon.com/images/I/61A5fjss0sL._AC_SX679_.jpg'],\n",
       " 'product_description': [' Twin Tub Design Equipped with two tubs our practical washing machine can operate the washer or spinner separately or run both sides at the same time providing you with a lot of convenience for daily use The two in one design saves space and money 3 Control Knobs Our washing machine has 3 knobs on the control panel and you can customize the wash timer wash selection and spin timer to choose the right time and wash mode including gentle normal or drain depending on the material of your clothes 26lbs Large Capacity Timer Function Designed with an 18 pound wash capacity and an 8 pound spin capacity this washer is convenient for washing shirts sweaters underwear socks and more You just need to put in your dirty clothes fill up the water set the timer and start washing the operation is very convenient High Efficiency Laundry Equipped with a powerful motor our washer washes at 280W and spins at 140W making the washing process very efficient In addition the drain pump can directly discharge the dirty water produced by the washing process Transparent Lid for Clear Washing Process The transparent washing machine cover allows you to view the washing process at any time and the plastic material is sturdy and durable number that will not rust The compact design makes it suitable for places where space is limited such as dormitories apartments RVs etc Note If you have any pre sales or after sales questions please contact us in time our professional and responsible team will give you an answer within 24 hours to help you solve the problem '],\n",
       " 'reviews': [{'reviews': '',\n",
       "   'reviewer_name': '',\n",
       "   'review_title': '',\n",
       "   'review_rating': '0.0',\n",
       "   'reviewer_country_date': '',\n",
       "   'purchased_product': '',\n",
       "   'review_status': '',\n",
       "   'review_body': \"Too small and doesn't dry  the clothes\",\n",
       "   'review_helpfulness': 0.0,\n",
       "   'sentiment': 'Negative',\n",
       "   'review_topics': ['dryer'],\n",
       "   'review_votes': '0',\n",
       "   'review_unhelpfulness': 0.0}],\n",
       " 'category': ['electronics'],\n",
       " 'subcategory': ['appliances']}"
      ]
     },
     "execution_count": 2,
     "metadata": {},
     "output_type": "execute_result"
    }
   ],
   "source": [
    "with open('C:/Hammad Aslam/BS IT (post ADP)/3rd Semester/Capstone Project/Project/backend/datasets/categories/allFiles/appliances.json', 'r') as f:\n",
    "    data = json.load(f)\n",
    "data[0]\n",
    "# print(len(data[0]['reviews']))"
   ]
  },
  {
   "cell_type": "code",
   "execution_count": 11,
   "metadata": {},
   "outputs": [
    {
     "data": {
      "text/plain": [
       "(13, 7, 'SPT THERMOELECTRIC WINE COOLER 20 BOTTLES')"
      ]
     },
     "execution_count": 11,
     "metadata": {},
     "output_type": "execute_result"
    }
   ],
   "source": [
    "# for index in range(len(data)):\n",
    "def get_topics(index):\n",
    "    positive_topics = []\n",
    "    negative_topics = []\n",
    "    for i in range(len(data[index]['reviews'])):\n",
    "        if data[index][\"reviews\"][i]['sentiment'] == 'Positive':\n",
    "            for j in range(len(data[index][\"reviews\"][i]['review_topics'])):\n",
    "                positive_topics.append(data[index][\"reviews\"][i]['review_topics'][j])\n",
    "        if data[index][\"reviews\"][i]['sentiment'] == 'Negative':\n",
    "            for j in range(len(data[index][\"reviews\"][i]['review_topics'])):\n",
    "                negative_topics.append(data[index][\"reviews\"][i]['review_topics'][j])\n",
    "    return positive_topics, negative_topics, data[index]['product_title'][0]\n",
    "\n",
    "\n",
    "positive_topics, negative_topics, title = get_topics(5)\n",
    "positive_topics = [topic for topic in positive_topics if topic != 'none']\n",
    "negative_topics = [topic for topic in negative_topics if topic != 'none']\n",
    "len(positive_topics), len(negative_topics), title"
   ]
  },
  {
   "cell_type": "code",
   "execution_count": 12,
   "metadata": {},
   "outputs": [],
   "source": [
    "def get_synonyms(word):\n",
    "    synonyms = set()\n",
    "    for syn in wordnet.synsets(word):\n",
    "        for lemma in syn.lemmas():\n",
    "            synonyms.add(lemma.name().lower())  # Convert to lowercase for consistency\n",
    "    return synonyms\n",
    "\n",
    "# syn = list(get_synonyms(topics[9]))\n",
    "# syn"
   ]
  },
  {
   "cell_type": "code",
   "execution_count": 13,
   "metadata": {},
   "outputs": [],
   "source": [
    "def are_phrases_similar(phrase1, phrase2):\n",
    "    # Tokenize and normalize phrases\n",
    "    # tokens1 = set(word_tokenize(phrase1.lower()))\n",
    "    # tokens2 = set(word_tokenize(phrase2.lower()))\n",
    "    nlp = spacy.load(\"en_core_web_sm\", disable=[\"parser\", \"ner\"])\n",
    "    new_record1 = re.sub(\" +\", \" \",phrase1)\n",
    "    new_record2 = re.sub(\" +\", \" \",phrase2)\n",
    "    doc1 = nlp(new_record1)\n",
    "    doc2 = nlp(new_record2)\n",
    "    for token in doc1:\n",
    "        filtered_list = [token for token in doc1 if not token.is_stop]\n",
    "        tokens1 = set([f\"{token.lemma_}\" for token in filtered_list])\n",
    "        \n",
    "    for token in doc2:\n",
    "        filtered_list = [token for token in doc2 if not token.is_stop]\n",
    "        tokens2 = set([f\"{token.lemma_}\" for token in filtered_list])\n",
    "        \n",
    "    # print(tokens1, tokens2)\n",
    "    # Check if both phrases have similar tokens\n",
    "    if tokens1 == tokens2:\n",
    "        return True\n",
    "    \n",
    "    # Check for synonyms\n",
    "    for token in tokens1:\n",
    "        synonyms = get_synonyms(token)\n",
    "        if tokens2.intersection(synonyms):\n",
    "            return True\n",
    "    \n",
    "    return False"
   ]
  },
  {
   "cell_type": "code",
   "execution_count": 14,
   "metadata": {},
   "outputs": [],
   "source": [
    "def are_similar(a, b, threshold=0.6):\n",
    "    \"\"\"\n",
    "    Check if two strings are similar based on token similarity.\n",
    "    \"\"\"\n",
    "    seq = difflib.SequenceMatcher(None, a, b)\n",
    "    ratio = seq.ratio()\n",
    "    # print(seq.ratio(), a, b)\n",
    "    return ratio > threshold"
   ]
  },
  {
   "cell_type": "code",
   "execution_count": 15,
   "metadata": {},
   "outputs": [],
   "source": [
    "def count_phrase_frequency_in_array(unique_array, original_array):\n",
    "    frequency_counter = Counter()\n",
    "    for i, phrase1 in enumerate(unique_array):\n",
    "        count = 1\n",
    "        for j, phrase2 in enumerate(original_array):\n",
    "            if i != j:  # Avoid comparing a phrase with itself\n",
    "                if are_phrases_similar(phrase1.lower(), phrase2.lower()):\n",
    "                    count += 1\n",
    "        frequency_counter[phrase1] = count\n",
    "        # for phrase in original_array:\n",
    "        #     if are_phrases_similar(phrase.lower(), phrase1.lower()):\n",
    "        #         frequency_counter[phrase1] = count\n",
    "    return frequency_counter\n",
    "\n",
    "\n",
    "def get_unique(phrase_array):\n",
    "    unique_pair = []\n",
    "    count = 0\n",
    "    for i in range(len(phrase_array)):\n",
    "        for j in range(i+1, len(phrase_array)):\n",
    "            if not are_phrases_similar(phrase_array[i], phrase_array[j]):\n",
    "                # print(phrase_array[i], phrase_array[j])\n",
    "                unique_pair.append(phrase_array[j])\n",
    "            count += 1\n",
    "            print(count)\n",
    "    return unique_pair"
   ]
  },
  {
   "cell_type": "code",
   "execution_count": 16,
   "metadata": {},
   "outputs": [
    {
     "name": "stdout",
     "output_type": "stream",
     "text": [
      "1\n",
      "2\n",
      "3\n",
      "4\n",
      "5\n",
      "6\n",
      "7\n",
      "8\n",
      "9\n",
      "10\n",
      "11\n",
      "12\n",
      "13\n",
      "14\n",
      "15\n",
      "16\n",
      "17\n",
      "18\n",
      "19\n",
      "20\n",
      "21\n",
      "22\n",
      "23\n",
      "24\n",
      "25\n",
      "26\n",
      "27\n",
      "28\n",
      "29\n",
      "30\n",
      "31\n",
      "32\n",
      "33\n",
      "34\n",
      "35\n",
      "36\n",
      "37\n",
      "38\n",
      "39\n",
      "40\n",
      "41\n",
      "42\n",
      "43\n",
      "44\n",
      "45\n",
      "46\n",
      "47\n",
      "48\n",
      "49\n",
      "50\n",
      "51\n",
      "52\n",
      "53\n",
      "54\n",
      "55\n",
      "56\n",
      "57\n",
      "58\n",
      "59\n",
      "60\n",
      "61\n",
      "62\n",
      "63\n",
      "64\n",
      "65\n",
      "66\n",
      "67\n",
      "68\n",
      "69\n",
      "70\n",
      "71\n",
      "72\n",
      "73\n",
      "74\n",
      "75\n",
      "76\n",
      "77\n",
      "78\n",
      "1\n",
      "2\n",
      "3\n",
      "4\n",
      "5\n",
      "6\n",
      "7\n",
      "8\n",
      "9\n",
      "10\n",
      "11\n",
      "12\n",
      "13\n",
      "14\n",
      "15\n",
      "16\n",
      "17\n",
      "18\n",
      "19\n",
      "20\n",
      "21\n"
     ]
    }
   ],
   "source": [
    "unique_positive = get_unique(positive_topics)\n",
    "unique_negative = get_unique(negative_topics)\n",
    "frequency_positive = count_phrase_frequency_in_array(list(set(unique_positive)), positive_topics)\n",
    "frequency_negative = count_phrase_frequency_in_array(list(set(unique_negative)), negative_topics)"
   ]
  },
  {
   "cell_type": "code",
   "execution_count": 17,
   "metadata": {},
   "outputs": [
    {
     "name": "stdout",
     "output_type": "stream",
     "text": [
      "[{'topic': 'wine bottle', 'freq': 45}, {'topic': 'poor cooling wine', 'freq': 36}, {'topic': 'wine cellar', 'freq': 36}, {'topic': '8-bottle cooler', 'freq': 36}, {'topic': 'light flashing', 'freq': 27}, {'topic': 'beep', 'freq': 27}, {'topic': 'beeping', 'freq': 27}, {'topic': 'lights flashing', 'freq': 27}, {'topic': 'refrigerator', 'freq': 27}, {'topic': 'fan running', 'freq': 18}, {'topic': 'dimensions', 'freq': 18}]\n",
      "[{'topic': 'storage for red wines', 'freq': 27}, {'topic': 'temperature', 'freq': 27}, {'topic': 'leaking water', 'freq': 18}, {'topic': 'waste of money', 'freq': 18}, {'topic': 'wine chiller', 'freq': 18}, {'topic': 'space', 'freq': 18}]\n"
     ]
    }
   ],
   "source": [
    "# topics = []\n",
    "for index in range(len(data)):\n",
    "    data[index]['topic_frequency'] = []\n",
    "    if index == 0:\n",
    "        # for i in range(len(data[index]['reviews'])):\n",
    "        # print(f\"{(list(set(unique)))}\\n{(dict(frequency))}\")\n",
    "        \n",
    "        \n",
    "        freq_pos = dict(frequency_positive)\n",
    "        freq_neg = dict(frequency_negative)\n",
    "        new_pos = len(set(unique_positive))\n",
    "        new_neg = len(set(unique_negative))\n",
    "        temp_pos = []\n",
    "        temp_neg = []\n",
    "        for key, value in freq_pos.items():\n",
    "            temp_pos.append({'topic': key, 'freq': (int((value/new_pos)*100))})\n",
    "        for key, value in freq_neg.items():\n",
    "            temp_neg.append({'topic': key, 'freq': (int((value/new_pos)*100))})\n",
    "        sorted_freq_pos = sorted(temp_pos, key=lambda x: x['freq'], reverse=True)\n",
    "        sorted_freq_neg = sorted(temp_neg, key=lambda x: x['freq'], reverse=True)\n",
    "        print(sorted_freq_pos)\n",
    "        print(sorted_freq_neg)\n",
    "        x_pos = []\n",
    "        x_neg = []\n",
    "        y_pos = []\n",
    "        y_neg = []\n",
    "        for k in sorted_freq_pos[0: 20]:\n",
    "            x_pos.append(k['topic'])\n",
    "            y_pos.append(k['freq'])\n",
    "        for k in sorted_freq_neg[0: 20]:\n",
    "            x_neg.append(k['topic'])\n",
    "            y_neg.append(k['freq'])\n",
    "            # print(k['freq'])\n",
    "# unique"
   ]
  },
  {
   "cell_type": "code",
   "execution_count": 23,
   "metadata": {},
   "outputs": [
    {
     "name": "stdout",
     "output_type": "stream",
     "text": [
      "11\n"
     ]
    },
    {
     "name": "stderr",
     "output_type": "stream",
     "text": [
      "C:\\Users\\GS\\AppData\\Local\\Temp\\ipykernel_332\\350120183.py:8: UserWarning: FixedFormatter should only be used together with FixedLocator\n",
      "  ax.set_yticklabels(['0%', '20%', '40%', '60%', '80%', '100%'])\n"
     ]
    },
    {
     "data": {
      "image/png": "[encoded data removed]",
      "text/plain": [
       "<Figure size 640x480 with 1 Axes>"
      ]
     },
     "metadata": {},
     "output_type": "display_data"
    }
   ],
   "source": [
    "print(len(y_pos))\n",
    "fig, ax = plt.subplots()\n",
    "bars = ax.bar(x_pos, y_pos)\n",
    "scaled_y = [val / max(y_pos) * 100 for val in y_pos]\n",
    "# plt.bar(x, scaled_y)\n",
    "ax.set_ylim(0, 100)\n",
    "# ax.set_yticks([0, 25, 50, 75, 100])\n",
    "ax.set_yticklabels(['0%', '20%', '40%', '60%', '80%', '100%'])\n",
    "plt.xticks(rotation='vertical')\n",
    "plt.xlabel('Topics in Positive reviews')\n",
    "plt.ylabel('frequency')\n",
    "# plt.yticks(y, ['{}%'.format(i) for i in y])\n",
    "# plt.grid()\n",
    "plt.title(title)\n",
    "plt.show()\n"
   ]
  },
  {
   "cell_type": "code",
   "execution_count": 24,
   "metadata": {},
   "outputs": [
    {
     "name": "stdout",
     "output_type": "stream",
     "text": [
      "6\n"
     ]
    },
    {
     "name": "stderr",
     "output_type": "stream",
     "text": [
      "C:\\Users\\GS\\AppData\\Local\\Temp\\ipykernel_332\\1249796017.py:8: UserWarning: FixedFormatter should only be used together with FixedLocator\n",
      "  ax.set_yticklabels(['0%', '20%', '40%', '60%', '80%', '100%'])\n"
     ]
    },
    {
     "data": {
      "image/png": "[encoded data removed]",
      "text/plain": [
       "<Figure size 640x480 with 1 Axes>"
      ]
     },
     "metadata": {},
     "output_type": "display_data"
    }
   ],
   "source": [
    "print(len(y_neg))\n",
    "fig, ax = plt.subplots()\n",
    "bars = ax.bar(x_neg, y_neg)\n",
    "scaled_y = [val / max(y_neg) * 100 for val in y_neg]\n",
    "# plt.bar(x, scaled_y)\n",
    "ax.set_ylim(0, 100)\n",
    "# ax.set_yticks([0, 25, 50, 75, 100])\n",
    "ax.set_yticklabels(['0%', '20%', '40%', '60%', '80%', '100%'])\n",
    "plt.xticks(rotation='vertical')\n",
    "\n",
    "plt.xlabel('Topics in Negative reviews')\n",
    "plt.ylabel('frequency')\n",
    "# plt.yticks(y, ['{}%'.format(i) for i in y])\n",
    "# plt.grid()\n",
    "plt.title(title)\n",
    "plt.show()\n"
   ]
  }
 ],
 "metadata": {
  "kernelspec": {
   "display_name": "base",
   "language": "python",
   "name": "python3"
  },
  "language_info": {
   "codemirror_mode": {
    "name": "ipython",
    "version": 3
   },
   "file_extension": ".py",
   "mimetype": "text/x-python",
   "name": "python",
   "nbconvert_exporter": "python",
   "pygments_lexer": "ipython3",
   "version": "3.11.5"
  }
 },
 "nbformat": 4,
 "nbformat_minor": 2
}
