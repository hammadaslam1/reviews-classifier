{
 "cells": [
  {
   "cell_type": "code",
   "execution_count": 138,
   "metadata": {},
   "outputs": [],
   "source": [
    "import pandas as pd\n",
    "from sklearn.ensemble import RandomForestRegressor, BaggingClassifier, RandomForestClassifier\n",
    "from sklearn.model_selection import train_test_split\n",
    "from sklearn.metrics import mean_squared_error, accuracy_score , r2_score \n",
    "from sklearn.preprocessing import StandardScaler\n",
    "import json\n",
    "from sklearn.feature_extraction.text import TfidfVectorizer\n",
    "from sklearn.preprocessing import LabelEncoder"
   ]
  },
  {
   "cell_type": "code",
   "execution_count": 139,
   "metadata": {},
   "outputs": [
    {
     "data": {
      "text/plain": [
       "25"
      ]
     },
     "execution_count": 139,
     "metadata": {},
     "output_type": "execute_result"
    }
   ],
   "source": [
    "vectorizer = TfidfVectorizer()\n",
    "with open('C:/Hammad Aslam/BS IT (post ADP)/3rd Semester/Capstone Project/Project/backend/datasets/categories/allFiles/computers_laptops.json', 'r') as f:\n",
    "    data = json.load(f)\n",
    "len(data[28]['reviews'])"
   ]
  },
  {
   "cell_type": "code",
   "execution_count": 150,
   "metadata": {},
   "outputs": [
    {
     "data": {
      "text/plain": [
       "(['When I first received it, I was a little worried because the shipping box was very banged up, but the computer inside was intact and works well!',\n",
       "  'If someone want the Asus with blue ray they should check ASUS N71JQ-A1 instead of ASUS N71JQ-X1.',\n",
       "  \"I've had this laptop for nearly two years. No problems with it at all, it is amazing. Only complaints are minor. Comes loaded with bloatware, but that's an easy fix. Also it runs very hot, so do yourself a favor and get a good laptop cooler. As long as it has enough ventilation it should be fine. Mine has seen some pretty heavy high end usage and it hasn't melted yet.\",\n",
       "  'He comprado Laptop ASUS N71Jq el 27 de octubre de 2010,ahora a principios de octubre de 2011 SE APAGA SOLA,le compre un cooler pensando en recalentamiento y siempre se apaga, ESTAS LAPTOP NO SIRVEN, AMIGOS SI QUIEREN COMPRAR LAPTOP NO COMPREN ASUS, me comunique con la ASUS y me dicen que se comunicaran conmigo a mas tardar en 48 horas, pero mientras tanto la informacion que tengo en ella no la puedo procesar. ya pasaron 48 horas y LA ASUS NO SE COMUNICA CONMIGO.',\n",
       "  \"I really liked this laptop.  The large screen was great for multitasking, the full keyboard was a joy to work with, the number pad is a pleasure, it was fast and responsive.  Then the battery died.  This apparently was normal and unrealistic of me to expect a battery to last much more than a year maybe two.  But at 18 months, the laptop started smoking and died.  Fortunately, I bought an extended warranty.  I've only owned one other laptop which is 6 years old, and still going strong albeit painfully slowly. It's sad that this happened with a laptop that otherwise was so nice.\",\n",
       "  'I will never buy an ASUS product again! I bought a 1500 USD N71JQ laptop, intel i7, Nvidia graphics etc the top end. After 24 months and 2 weeks the DC plug went almost on fire which was scary, smoke out of the VGA pin. Contacted ASUS support and they do not want to take it into the warranty period and they are asking me 1000 USD to repair it. It is obvious ASUS products are designed to broke just after warranty period! I do no trust this brand anymore.. it used to be reliable... better a Toshiba or Sony laptop these days!',\n",
       "  \"God help you if you should have to deal with customer service on a laptop. I purchased one of these and within 3 months was having lots of power supply/charging issues. Asus' response was to update the drivers, which were already up to date. So within 3 months of that, the computer literally fried and went up in smoke. Yes, it is under warranty, and the long warranty they offer is great. Unless you actually have to use it. It has been a full 28 days right now since Asus has been working on my laptop. I have spent hours on the phone with them trying to get a status. The concept of a supervisor doesn't exist there. They are more than happy to set the phone down for a half hour and come back later to see if you are still there. So my nearly new computer is still sitting in their repair facility almost a month later. So consider yourself warned. Take these reviews that mention the reliability and customer support to heart and save yourself the trouble and look elsewhere. The screen is big and looks great. I will give it that much. But it means nothing when the entire machine goes up in smoke and the manufacturer doesn't even seem to know how to fix it. And no, they won't just ship a replacement.\",\n",
       "  \"On reviewing the CPU stats for this laptop, it is advertised as 2.8GHz Intel Core i7-720QM Processor. However the Core I7 720QM cpu model only comes in with a clock speed of 1.6Ghz - verified by cross referencing to Intel's site.\",\n",
       "  'I bought this laptop on feb, 2011. Everything was working fine until I dropped the laptop and broke one of the usb port. I sent it for repair under warranty of course. I got it back after more than a month!!!! the repair work was amateur!!! The cover did not assemble back properly! I had to do it myself! they dented my laptop! The subwoofer has rattling noise now. The battery depleted and died at two years period. Battery would not last two hours The BIOS has problem. The computer would shuts down by itself with a blue screen very often after they fixed the laptop. Just not a very good product. I would not buy ASUS product again! Poor customer service also!!! gl to all.',\n",
       "  \"I had never heard of Asus and was impressed with the reviews, specs, and the price.  Well, I had this computer for two days and the wireless card burned out.  I also received the blue screen of errors several times signaling hardware problems.  I hope yours works better than mine did. I'm returning it for a full refund and writing this brand off for now.\",\n",
       "  \"The Laptop is a very good computer, very good resources, the screen size it' correct but the computer is actually smaller than the specs given, and is not as heavy as it looks. It dosen't have a Blu-Ray combo though. A nice laptop if you're not so interseted in the blu-ray!\",\n",
       "  \"Just received mine tonight. Pros Nice looking laptop Big, but not as heavy as it looks Seems to run cool Specifications are quite nice, except.. Cons This laptop does NOT come with a BluRay combo player as indicated in the specifications.  Just a DVD R/W Limited documentation It's being returned because of the lack of bluray, but otherwise, it looks like a very nice laptop.\",\n",
       "  'First, Amazon and its customer service reps are patient and helpful.  Second, I researched new laptops for weeks leading up to my purchase of the Asus N71jq-X1.  This Asus laptop is great in every way but one.  It does not have a Blu Ray drive as advertised. This is a manufacturer issue.  Again, Amazon has been very helpful.',\n",
       "  \"Only had my laptop for a few weeks now.When I first bought it I must have over powered the battery because after making my back up disc the laptop did not come back on.  I called Tech Support they asked me to take out the battery and hold in the power button for a few seconds and it should be fine/ Which worked almost thought i bought a dude.  Any how so far no issues good product and good tech support plus the extra year warrenty for drops, spills etc is good!  Battery does not last long, but that's expected with a power sucking laptop as this.  Bright screen and smooth key board.So far I am hapy with my purchase.\",\n",
       "  \"I was weary after reading some of the other reviews of this product but I have not regretted my decision to purchase it.  It may not be the right computer for everyone but if you are looking for a laptop that comes with an i7 processor there was no way to beat the price.  When I was able to get a computer that was originally $1200 for $899 I had to jump at the opportunity.  The computer is big and not for easy transportation but if you use it instead of having a desktop I highly recommend it.  I will say that if it would have been full price when I purchased it, I wouldn't have bought it but if you can pick up this computer for under $1000 you can't go wrong.  It is a very good gaming computer, not top of the line mind you but it runs games like Dragon Age and Mass Effect 2 at their highest settings.  The screen is beautiful and has a very large display.  I do agree with one negative review about the zero key on the number pad isn't full which has thrown me off on a couple of occasions but it is barely worth mentioning.   Overall, I would buy this computer again at this price point without hesitation.\",\n",
       "  'Just got my new laptop (n71jq-x1) lastnight, immediately noticed size of laptop is not what advertisement displays. Advertised dimensions are 18.4 x  12.4 x 1.8 .  Actual dimensions are 16.5 x  11.25 x 1.7 The screen size is accurate, but the laptop dimensions are much smaller than advertised specifications. The weight of laptop is also incorrect.  Adveritsed 9.3lbs actual wt. less than 8lbs.',\n",
       "  'It has everything...got it stolen from my home but while i had it, It was amazing. Ran Crysis...ran Dragon Age Origins ran oblivion. Everything was good on this thing but the speakers did get a little fritzy if it was too loud. Gets hot a little. THIS THING HAS A WEIRD THING WHERE THE CPU LOOKS LIKE IT ISNT ENOUGH but it lies...it adds to it with something else...ITS HUGE so dont think its going with you to the park. It has a huge range for wifi. It has a little problem with the usb...its right where you would have the mouse...yeah...but over then that. THIS IS THE BEST COMPUTER I HAVE EVER HAD. try to find a laptop case in stores before you buy one online to make sure that they fit...it is long. screen was awesome graphics were awesome. . . nothing more to say about it really. It was flashy, expensive, and beautiful...curse you who rob others i would have enjoyed this if i got to keep it past three months. EDITED: I bought the same computer with the insurance...and just one quick thing BUY LOJACK FOR LAPTOPS OR SOME KIND OF retrieving software. This computer a year has never caused me a problem. It boots up perfectly. One thing I noticed though and there is no other way but to do it manually, the things downloaded automatically save to the operating system...manually save them to the hard drive or you will be annoyed by the OS saying it is full after only a few gigs. Does get quite hot on one side so dont put anything on the left side of it other then the wires.',\n",
       "  \"I've had it for over 3 years. It's a bit on the heavy side. It dual boots with linux with no issues.  It's always been a little hot on the bottom so I avoid warm surfaces and try to keep it elevated. There are few parts so once it dies it dies. The video camera has stopped working and the touch pad has wear in the center but it still works. I've reloaded the OS a few times, it takes for-ever for all the Microsoft updates to complete, don't do the optional updates, you're just asking for trouble. If you do a dual boot wait for all the Microsoft updates to finish before the re-partition.\",\n",
       "  \"The reviews prior to this one say what a great laptop this is but that it lacked a Blu-Ray player.  The description must have been off when most people first ordered this, and I would be upset if I had thought I was getting blu-ray player, but didn't.  That being said, and I knew what I was getting.  Let me be clear; this is an AMAZING value for what you're getting...even without Blu-Ray.  Think about it; you're getting an Intel Core i7 laptop, with a 1GB ATI discrete graphics card, 17 inch, high def screen, and a 500GB hard-drive...oh and 4GB of Kingston RAM...all for under $1200 (as of this writing)?  Are you kidding me? I love this laptop, and I was a lifelong HP guy, until my screen died after 2 years of use...the build quality on this is incredible, the screen is beautiful, and as for Blu-Ray...meh.  Everything's going disc-less digital anyway.  A few years from now, and everything will be download only anyway. Don't let the other reviews fool you, this is THE value in laptops, from one of the most well-decorated manufacturers of the last few years.  Check out some sites on the net, do your research, and I'm sure you'll come to the same conclusion I did...this is the laptop to own. Good luck and happy hunting. ADDITIONAL INFO (Posted 3/22/2010) after using this laptop for the past few days, I can safely say that this was a great bargain.  It's faster and more responsive than my previous HP that cost 3x as much.  Also, it came with DDR3 1333 RAM instead of the advertised 1066.  Nice little bonus.  Point being, if you buy this laptop, I doubt you'd ever regret it.\",\n",
       "  \"I purchased this machine when i checked out the specs i thought it was a great deal for the machine, i7 2.8 ghz, i was sold, when i received the machine it was actually a 1.6 ghz i7, and after hours on the phone with amazon, they were going to give me the 15% of the money back for falsely advertising the laptop. A day later they sent me an email stating 'oh you did get the right product\",\n",
       "  \"I purchased this laptop after unknowingly buying a stolen Dell Latitude 830 from Craig's List.  Thanks to Dell's Lojack service, the police came to my house with a search warrant and confiscated the Latitude after I would not return the detective's phone calls.  (I wonder why they didn't find the Latitude from the guy who sold it to me??) Anyway, if you own a Dell, the Lojack service does work.  After this experience, do you think I would buy another Dell?  -NOT ON YOUR LIFE.  The police treated me like a common criminal, indicated that they thought I stole the laptop, and trashed my house. The 5 police officers who raided my home were not interested in helping me recover the $$$ I paid for the 830. At any rate, I decided it was time to bite the bullet and buy new, unstolen, and get a warranty.  After researching Tom's Hardware, Newegg, Amazon, Laptop review and others I settled on Asus with the i7 processor.  I intended to buy the N61 and save $100, but finally decided the 17' screen was worth the extra money.  The Egg people still had the N71 when I ordered\",\n",
       "  \"Honestly, I thought It would be the best possible deal I could make. Best config available when I bought with a awesome price. After the first month I've realized it can't be used as a laptop. Seriously, I got my lap literally burned. It is extremely hot. I've treated it as my personal treasure, since I got it after saving for a LONG LONG time and after 1 months after warranty experied it went dead. Can you guys imagine how frustrating this can be? I'm on the last semester of a engineering school and I rely on my computer for pretty much everything. I have to write an article or else I can't graduate. The best part is, since I don't live in the USA, I relative of mine took it here to Brazil and one of the features that led me to buy it was its 1 year international warranty. They do have technical support in Brazil, but it's only in one place which is over 2 thousand miles aways from here. Now, I'm stucked with this piece of garbage, I can't afford another notebook, and they think I'm a stupid third world country costumer. I promise you guys I'm gonna be posting lots of videos on how bad this ASUS is. Advice? I would get something else.\",\n",
       "  \"Received this item 3/29/2011, shipping was great.  Only took three days with Super Saver Shipping.  Opened and immediately began transferring files to it from my external HD; USB 3.0 is Fantastic!  30 gigs moved in under 15 minutes - something that took an hour or longer before. The laptop was great out of the box.  I had to uninstall the Windows Live that was included because it wouldn't let me install Windows Movie Maker due to being a different 'flavor' of Windows Live.  But that was no problem - I realize this laptop was built in 2010 and needed a bit of updating.  I play WoW and was able to peg 60-65 FPS with mostly Ultra setttings\",\n",
       "  \"This is a great laptop (with an unadvertised USB 3.0 slot!) except that the glossy non-polarized screen is *extremely* reflective in all conditions, including indoors. It is so bad that the screen is completely unacceptable to me and this laptop must be returned. An alternative is to replace the screen for about $400 -- note the new kind of 'recessed' hinge ASUS uses makes it _impossible_ to get to the two bottom screws to remove the screen -- thus you cannot replace it yourself (as per instructions on ASUS-recommended site [...] which works for other brands) and must send out the entire laptop\",\n",
       "  \"The HDMI port was loose and could not maintain a connection with my HDTV.  (Yes, I did try other cables, all of which worked with other components.)  I mean the port itself wiggled a bit---not the cable in the port.  Typing anything or just touching the touchpad knocked out the connection to the TV. If you look at how the port is placed, jammed under the ExpressCard slot, you will see that such a problem is not surprising.  I didn't think about it before buying, though I did see a photo showing the layout. Also, prospective buyers should note that, despite the ATI 5730's abilities, this laptop does not output 1080p to a TV---even with the latest ATI driver update. I only had the computer about 36 hours, but I always test as much as I can as soon as I can.  In most other aspects, I'd give this computer high ratings.  The only longterm worry would be heat management, as there doesn't seem to be a lot of venting space for such a hot CPU.  Reading reviews, I always though people were joking about keeping coffee warm by placing a cup next to the exhaust vent.  Really works with this unit! The keyboard is spongy in the center. Now for the good: One reviewer complained about the glare.  Personally, I think it is less of a problem than on many units.  Mine came with a protective sheet of what was either real glass or extremely hard plexiglass over the LCD screen, something that adds strength to the display and upper part of the unit.  I liked it a lot. Sound is very, very good.  This includes the built in microphone!  I actually got the Windows 7 Speech Recognition to work pretty well in just a couple of hours. The webcam is ok with color and clarity.  In very bright light the typical built-in webcam lag is not too bad. Battery life was almost three hours, which is amazing considering the battery only has six cells and powers a quad-core. The keypad is an Elan, and it was smooth, precise, and responsive. Fast Seagate HDD.  Atheros wireless that worked very well in public and with my own wireless router. The recovery disk creation process was as smooth as any I've seen, taking about two hours and requiring five blank DVD's. I thought this was going to be my baby for the next five or six years.  The bad HDMI port, which, true, could happen on any machine, seemed as much a result of engineering as assembly problems, so I'm going to get something else.  The other reason I won't get this one again is it only outputs up to 720p to an HDTV.  Much cheaper laptops with ATI GPU's do put out the full 1080p. The spongy keyboard was disappointing also. I've had an Asus laptop for seven years; it has been very reliable, so I will very likely stick with this brand---but I'll look harder at how the ports are arranged.\"],\n",
       " [0, 0, 0, 0, 0, 0, 0, 0, 0, 0, 0, 0, 0, 0, 0, 0, 0, 0, 0, 0, 0, 0, 0, 0, 0])"
      ]
     },
     "execution_count": 150,
     "metadata": {},
     "output_type": "execute_result"
    }
   ],
   "source": [
    "X = []\n",
    "Y = []\n",
    "\n",
    "# for product in data:\n",
    "for review in data[28]['reviews']:\n",
    "    # vectorReview = vectorizer.fit_transform([review['review_body']])\n",
    "    # print(vectorReview)\n",
    "    X.append(review['review_body'])\n",
    "    Y.append(1 if review['review_helpfulness'] == \"helpful\" else 0)\n",
    "    # Y.append(review['review_helpfulness'])\n",
    "# X = vectorizer.fit_transform(X)\n",
    "X, Y"
   ]
  },
  {
   "cell_type": "code",
   "execution_count": 149,
   "metadata": {},
   "outputs": [
    {
     "ename": "AttributeError",
     "evalue": "'dict' object has no attribute 'lower'",
     "output_type": "error",
     "traceback": [
      "\u001b[1;31m---------------------------------------------------------------------------\u001b[0m",
      "\u001b[1;31mAttributeError\u001b[0m                            Traceback (most recent call last)",
      "Cell \u001b[1;32mIn[149], line 2\u001b[0m\n\u001b[0;32m      1\u001b[0m X_train, X_test, y_train, y_test \u001b[38;5;241m=\u001b[39m train_test_split(X, Y, test_size\u001b[38;5;241m=\u001b[39m\u001b[38;5;241m0.35\u001b[39m, random_state\u001b[38;5;241m=\u001b[39m\u001b[38;5;241m42\u001b[39m)\n\u001b[1;32m----> 2\u001b[0m X_train \u001b[38;5;241m=\u001b[39m vectorizer\u001b[38;5;241m.\u001b[39mfit_transform(X_train)\n\u001b[0;32m      3\u001b[0m X_test \u001b[38;5;241m=\u001b[39m vectorizer\u001b[38;5;241m.\u001b[39mtransform(X_test)\n\u001b[0;32m      4\u001b[0m \u001b[38;5;66;03m# y_train = vectorizer.fit_transform(y_train)\u001b[39;00m\n\u001b[0;32m      5\u001b[0m \u001b[38;5;66;03m# y_test = vectorizer.transform(y_test)\u001b[39;00m\n",
      "File \u001b[1;32mc:\\ProgramData\\anaconda3\\Lib\\site-packages\\sklearn\\feature_extraction\\text.py:2126\u001b[0m, in \u001b[0;36mTfidfVectorizer.fit_transform\u001b[1;34m(self, raw_documents, y)\u001b[0m\n\u001b[0;32m   2119\u001b[0m \u001b[38;5;28mself\u001b[39m\u001b[38;5;241m.\u001b[39m_check_params()\n\u001b[0;32m   2120\u001b[0m \u001b[38;5;28mself\u001b[39m\u001b[38;5;241m.\u001b[39m_tfidf \u001b[38;5;241m=\u001b[39m TfidfTransformer(\n\u001b[0;32m   2121\u001b[0m     norm\u001b[38;5;241m=\u001b[39m\u001b[38;5;28mself\u001b[39m\u001b[38;5;241m.\u001b[39mnorm,\n\u001b[0;32m   2122\u001b[0m     use_idf\u001b[38;5;241m=\u001b[39m\u001b[38;5;28mself\u001b[39m\u001b[38;5;241m.\u001b[39muse_idf,\n\u001b[0;32m   2123\u001b[0m     smooth_idf\u001b[38;5;241m=\u001b[39m\u001b[38;5;28mself\u001b[39m\u001b[38;5;241m.\u001b[39msmooth_idf,\n\u001b[0;32m   2124\u001b[0m     sublinear_tf\u001b[38;5;241m=\u001b[39m\u001b[38;5;28mself\u001b[39m\u001b[38;5;241m.\u001b[39msublinear_tf,\n\u001b[0;32m   2125\u001b[0m )\n\u001b[1;32m-> 2126\u001b[0m X \u001b[38;5;241m=\u001b[39m \u001b[38;5;28msuper\u001b[39m()\u001b[38;5;241m.\u001b[39mfit_transform(raw_documents)\n\u001b[0;32m   2127\u001b[0m \u001b[38;5;28mself\u001b[39m\u001b[38;5;241m.\u001b[39m_tfidf\u001b[38;5;241m.\u001b[39mfit(X)\n\u001b[0;32m   2128\u001b[0m \u001b[38;5;66;03m# X is already a transformed view of raw_documents so\u001b[39;00m\n\u001b[0;32m   2129\u001b[0m \u001b[38;5;66;03m# we set copy to False\u001b[39;00m\n",
      "File \u001b[1;32mc:\\ProgramData\\anaconda3\\Lib\\site-packages\\sklearn\\base.py:1151\u001b[0m, in \u001b[0;36m_fit_context.<locals>.decorator.<locals>.wrapper\u001b[1;34m(estimator, *args, **kwargs)\u001b[0m\n\u001b[0;32m   1144\u001b[0m     estimator\u001b[38;5;241m.\u001b[39m_validate_params()\n\u001b[0;32m   1146\u001b[0m \u001b[38;5;28;01mwith\u001b[39;00m config_context(\n\u001b[0;32m   1147\u001b[0m     skip_parameter_validation\u001b[38;5;241m=\u001b[39m(\n\u001b[0;32m   1148\u001b[0m         prefer_skip_nested_validation \u001b[38;5;129;01mor\u001b[39;00m global_skip_validation\n\u001b[0;32m   1149\u001b[0m     )\n\u001b[0;32m   1150\u001b[0m ):\n\u001b[1;32m-> 1151\u001b[0m     \u001b[38;5;28;01mreturn\u001b[39;00m fit_method(estimator, \u001b[38;5;241m*\u001b[39margs, \u001b[38;5;241m*\u001b[39m\u001b[38;5;241m*\u001b[39mkwargs)\n",
      "File \u001b[1;32mc:\\ProgramData\\anaconda3\\Lib\\site-packages\\sklearn\\feature_extraction\\text.py:1383\u001b[0m, in \u001b[0;36mCountVectorizer.fit_transform\u001b[1;34m(self, raw_documents, y)\u001b[0m\n\u001b[0;32m   1375\u001b[0m             warnings\u001b[38;5;241m.\u001b[39mwarn(\n\u001b[0;32m   1376\u001b[0m                 \u001b[38;5;124m\"\u001b[39m\u001b[38;5;124mUpper case characters found in\u001b[39m\u001b[38;5;124m\"\u001b[39m\n\u001b[0;32m   1377\u001b[0m                 \u001b[38;5;124m\"\u001b[39m\u001b[38;5;124m vocabulary while \u001b[39m\u001b[38;5;124m'\u001b[39m\u001b[38;5;124mlowercase\u001b[39m\u001b[38;5;124m'\u001b[39m\u001b[38;5;124m\"\u001b[39m\n\u001b[0;32m   1378\u001b[0m                 \u001b[38;5;124m\"\u001b[39m\u001b[38;5;124m is True. These entries will not\u001b[39m\u001b[38;5;124m\"\u001b[39m\n\u001b[0;32m   1379\u001b[0m                 \u001b[38;5;124m\"\u001b[39m\u001b[38;5;124m be matched with any documents\u001b[39m\u001b[38;5;124m\"\u001b[39m\n\u001b[0;32m   1380\u001b[0m             )\n\u001b[0;32m   1381\u001b[0m             \u001b[38;5;28;01mbreak\u001b[39;00m\n\u001b[1;32m-> 1383\u001b[0m vocabulary, X \u001b[38;5;241m=\u001b[39m \u001b[38;5;28mself\u001b[39m\u001b[38;5;241m.\u001b[39m_count_vocab(raw_documents, \u001b[38;5;28mself\u001b[39m\u001b[38;5;241m.\u001b[39mfixed_vocabulary_)\n\u001b[0;32m   1385\u001b[0m \u001b[38;5;28;01mif\u001b[39;00m \u001b[38;5;28mself\u001b[39m\u001b[38;5;241m.\u001b[39mbinary:\n\u001b[0;32m   1386\u001b[0m     X\u001b[38;5;241m.\u001b[39mdata\u001b[38;5;241m.\u001b[39mfill(\u001b[38;5;241m1\u001b[39m)\n",
      "File \u001b[1;32mc:\\ProgramData\\anaconda3\\Lib\\site-packages\\sklearn\\feature_extraction\\text.py:1270\u001b[0m, in \u001b[0;36mCountVectorizer._count_vocab\u001b[1;34m(self, raw_documents, fixed_vocab)\u001b[0m\n\u001b[0;32m   1268\u001b[0m \u001b[38;5;28;01mfor\u001b[39;00m doc \u001b[38;5;129;01min\u001b[39;00m raw_documents:\n\u001b[0;32m   1269\u001b[0m     feature_counter \u001b[38;5;241m=\u001b[39m {}\n\u001b[1;32m-> 1270\u001b[0m     \u001b[38;5;28;01mfor\u001b[39;00m feature \u001b[38;5;129;01min\u001b[39;00m analyze(doc):\n\u001b[0;32m   1271\u001b[0m         \u001b[38;5;28;01mtry\u001b[39;00m:\n\u001b[0;32m   1272\u001b[0m             feature_idx \u001b[38;5;241m=\u001b[39m vocabulary[feature]\n",
      "File \u001b[1;32mc:\\ProgramData\\anaconda3\\Lib\\site-packages\\sklearn\\feature_extraction\\text.py:110\u001b[0m, in \u001b[0;36m_analyze\u001b[1;34m(doc, analyzer, tokenizer, ngrams, preprocessor, decoder, stop_words)\u001b[0m\n\u001b[0;32m    108\u001b[0m \u001b[38;5;28;01melse\u001b[39;00m:\n\u001b[0;32m    109\u001b[0m     \u001b[38;5;28;01mif\u001b[39;00m preprocessor \u001b[38;5;129;01mis\u001b[39;00m \u001b[38;5;129;01mnot\u001b[39;00m \u001b[38;5;28;01mNone\u001b[39;00m:\n\u001b[1;32m--> 110\u001b[0m         doc \u001b[38;5;241m=\u001b[39m preprocessor(doc)\n\u001b[0;32m    111\u001b[0m     \u001b[38;5;28;01mif\u001b[39;00m tokenizer \u001b[38;5;129;01mis\u001b[39;00m \u001b[38;5;129;01mnot\u001b[39;00m \u001b[38;5;28;01mNone\u001b[39;00m:\n\u001b[0;32m    112\u001b[0m         doc \u001b[38;5;241m=\u001b[39m tokenizer(doc)\n",
      "File \u001b[1;32mc:\\ProgramData\\anaconda3\\Lib\\site-packages\\sklearn\\feature_extraction\\text.py:68\u001b[0m, in \u001b[0;36m_preprocess\u001b[1;34m(doc, accent_function, lower)\u001b[0m\n\u001b[0;32m     49\u001b[0m \u001b[38;5;250m\u001b[39m\u001b[38;5;124;03m\"\"\"Chain together an optional series of text preprocessing steps to\u001b[39;00m\n\u001b[0;32m     50\u001b[0m \u001b[38;5;124;03mapply to a document.\u001b[39;00m\n\u001b[0;32m     51\u001b[0m \n\u001b[1;32m   (...)\u001b[0m\n\u001b[0;32m     65\u001b[0m \u001b[38;5;124;03m    preprocessed string\u001b[39;00m\n\u001b[0;32m     66\u001b[0m \u001b[38;5;124;03m\"\"\"\u001b[39;00m\n\u001b[0;32m     67\u001b[0m \u001b[38;5;28;01mif\u001b[39;00m lower:\n\u001b[1;32m---> 68\u001b[0m     doc \u001b[38;5;241m=\u001b[39m doc\u001b[38;5;241m.\u001b[39mlower()\n\u001b[0;32m     69\u001b[0m \u001b[38;5;28;01mif\u001b[39;00m accent_function \u001b[38;5;129;01mis\u001b[39;00m \u001b[38;5;129;01mnot\u001b[39;00m \u001b[38;5;28;01mNone\u001b[39;00m:\n\u001b[0;32m     70\u001b[0m     doc \u001b[38;5;241m=\u001b[39m accent_function(doc)\n",
      "\u001b[1;31mAttributeError\u001b[0m: 'dict' object has no attribute 'lower'"
     ]
    }
   ],
   "source": [
    "X_train, X_test, y_train, y_test = train_test_split(X, Y, test_size=0.35, random_state=42)\n",
    "X_train = vectorizer.fit_transform(X_train)\n",
    "X_test = vectorizer.transform(X_test)\n",
    "# y_train = vectorizer.fit_transform(y_train)\n",
    "# y_test = vectorizer.transform(y_test)\n",
    "X_train, X_test, y_train, y_test"
   ]
  },
  {
   "cell_type": "code",
   "execution_count": 142,
   "metadata": {},
   "outputs": [
    {
     "name": "stdout",
     "output_type": "stream",
     "text": [
      "StandardScaler(with_mean=False)\n"
     ]
    }
   ],
   "source": [
    "# Train the scaler using the entire training data (one-time fit)\n",
    "scaler = StandardScaler(with_mean=False)  # Or your chosen scaler\n",
    "scaler.fit(X_train)\n",
    "# print(f\"X_train:{X_train}\")\n",
    "# print(f\"X_test:{X_test}\")\n",
    "# print(f\"y_train:{y_train}\")\n",
    "# print(f\"y_test:{y_test}\")\n",
    "print(scaler)\n",
    "X_train_scaled = scaler.fit_transform(X_train)\n",
    "X_test_scaled = scaler.transform(X_test)"
   ]
  },
  {
   "cell_type": "code",
   "execution_count": 143,
   "metadata": {},
   "outputs": [],
   "source": [
    "# encoder = LabelEncoder()\n",
    "# y_train_encoded = encoder.fit_transform(y_train.toarray())"
   ]
  },
  {
   "cell_type": "code",
   "execution_count": 144,
   "metadata": {},
   "outputs": [
    {
     "data": {
      "text/html": [
       "<style>#sk-container-id-9 {color: black;}#sk-container-id-9 pre{padding: 0;}#sk-container-id-9 div.sk-toggleable {background-color: white;}#sk-container-id-9 label.sk-toggleable__label {cursor: pointer;display: block;width: 100%;margin-bottom: 0;padding: 0.3em;box-sizing: border-box;text-align: center;}#sk-container-id-9 label.sk-toggleable__label-arrow:before {content: \"▸\";float: left;margin-right: 0.25em;color: #696969;}#sk-container-id-9 label.sk-toggleable__label-arrow:hover:before {color: black;}#sk-container-id-9 div.sk-estimator:hover label.sk-toggleable__label-arrow:before {color: black;}#sk-container-id-9 div.sk-toggleable__content {max-height: 0;max-width: 0;overflow: hidden;text-align: left;background-color: #f0f8ff;}#sk-container-id-9 div.sk-toggleable__content pre {margin: 0.2em;color: black;border-radius: 0.25em;background-color: #f0f8ff;}#sk-container-id-9 input.sk-toggleable__control:checked~div.sk-toggleable__content {max-height: 200px;max-width: 100%;overflow: auto;}#sk-container-id-9 input.sk-toggleable__control:checked~label.sk-toggleable__label-arrow:before {content: \"▾\";}#sk-container-id-9 div.sk-estimator input.sk-toggleable__control:checked~label.sk-toggleable__label {background-color: #d4ebff;}#sk-container-id-9 div.sk-label input.sk-toggleable__control:checked~label.sk-toggleable__label {background-color: #d4ebff;}#sk-container-id-9 input.sk-hidden--visually {border: 0;clip: rect(1px 1px 1px 1px);clip: rect(1px, 1px, 1px, 1px);height: 1px;margin: -1px;overflow: hidden;padding: 0;position: absolute;width: 1px;}#sk-container-id-9 div.sk-estimator {font-family: monospace;background-color: #f0f8ff;border: 1px dotted black;border-radius: 0.25em;box-sizing: border-box;margin-bottom: 0.5em;}#sk-container-id-9 div.sk-estimator:hover {background-color: #d4ebff;}#sk-container-id-9 div.sk-parallel-item::after {content: \"\";width: 100%;border-bottom: 1px solid gray;flex-grow: 1;}#sk-container-id-9 div.sk-label:hover label.sk-toggleable__label {background-color: #d4ebff;}#sk-container-id-9 div.sk-serial::before {content: \"\";position: absolute;border-left: 1px solid gray;box-sizing: border-box;top: 0;bottom: 0;left: 50%;z-index: 0;}#sk-container-id-9 div.sk-serial {display: flex;flex-direction: column;align-items: center;background-color: white;padding-right: 0.2em;padding-left: 0.2em;position: relative;}#sk-container-id-9 div.sk-item {position: relative;z-index: 1;}#sk-container-id-9 div.sk-parallel {display: flex;align-items: stretch;justify-content: center;background-color: white;position: relative;}#sk-container-id-9 div.sk-item::before, #sk-container-id-9 div.sk-parallel-item::before {content: \"\";position: absolute;border-left: 1px solid gray;box-sizing: border-box;top: 0;bottom: 0;left: 50%;z-index: -1;}#sk-container-id-9 div.sk-parallel-item {display: flex;flex-direction: column;z-index: 1;position: relative;background-color: white;}#sk-container-id-9 div.sk-parallel-item:first-child::after {align-self: flex-end;width: 50%;}#sk-container-id-9 div.sk-parallel-item:last-child::after {align-self: flex-start;width: 50%;}#sk-container-id-9 div.sk-parallel-item:only-child::after {width: 0;}#sk-container-id-9 div.sk-dashed-wrapped {border: 1px dashed gray;margin: 0 0.4em 0.5em 0.4em;box-sizing: border-box;padding-bottom: 0.4em;background-color: white;}#sk-container-id-9 div.sk-label label {font-family: monospace;font-weight: bold;display: inline-block;line-height: 1.2em;}#sk-container-id-9 div.sk-label-container {text-align: center;}#sk-container-id-9 div.sk-container {/* jupyter's `normalize.less` sets `[hidden] { display: none; }` but bootstrap.min.css set `[hidden] { display: none !important; }` so we also need the `!important` here to be able to override the default hidden behavior on the sphinx rendered scikit-learn.org. See: https://github.com/scikit-learn/scikit-learn/issues/21755 */display: inline-block !important;position: relative;}#sk-container-id-9 div.sk-text-repr-fallback {display: none;}</style><div id=\"sk-container-id-9\" class=\"sk-top-container\"><div class=\"sk-text-repr-fallback\"><pre>RandomForestRegressor(random_state=42)</pre><b>In a Jupyter environment, please rerun this cell to show the HTML representation or trust the notebook. <br />On GitHub, the HTML representation is unable to render, please try loading this page with nbviewer.org.</b></div><div class=\"sk-container\" hidden><div class=\"sk-item\"><div class=\"sk-estimator sk-toggleable\"><input class=\"sk-toggleable__control sk-hidden--visually\" id=\"sk-estimator-id-9\" type=\"checkbox\" checked><label for=\"sk-estimator-id-9\" class=\"sk-toggleable__label sk-toggleable__label-arrow\">RandomForestRegressor</label><div class=\"sk-toggleable__content\"><pre>RandomForestRegressor(random_state=42)</pre></div></div></div></div></div>"
      ],
      "text/plain": [
       "RandomForestRegressor(random_state=42)"
      ]
     },
     "execution_count": 144,
     "metadata": {},
     "output_type": "execute_result"
    }
   ],
   "source": [
    "# Train a Random Forest Regressor model\n",
    "# n_estimators=100 means that there are 100 decision trees\n",
    "model = RandomForestRegressor(n_estimators=100, random_state=42)\n",
    "# model.fit(X_train, y_train)\n",
    "\n",
    "# model = BaggingClassifier(base_estimator=RandomForestClassifier(n_estimators=100, random_state=42), n_estimators=10)\n",
    "model.fit(X_train, y_train)"
   ]
  },
  {
   "cell_type": "code",
   "execution_count": 145,
   "metadata": {},
   "outputs": [
    {
     "name": "stdout",
     "output_type": "stream",
     "text": [
      "Accuracy: 1.0\n"
     ]
    },
    {
     "data": {
      "text/plain": [
       "<9x834 sparse matrix of type '<class 'numpy.float64'>'\n",
       "\twith 424 stored elements in Compressed Sparse Row format>"
      ]
     },
     "execution_count": 145,
     "metadata": {},
     "output_type": "execute_result"
    }
   ],
   "source": [
    "# Make predictions on the test set\n",
    "y_pred = model.predict(X_test)\n",
    "\n",
    "# Evaluate the model using accuracy (more suitable for classification)\n",
    "accuracy = accuracy_score(y_test, y_pred.round())\n",
    "print(f'Accuracy: {accuracy}')\n",
    "X_test"
   ]
  },
  {
   "cell_type": "code",
   "execution_count": 146,
   "metadata": {},
   "outputs": [
    {
     "name": "stdout",
     "output_type": "stream",
     "text": [
      "Helpfulness score by random forest: 0.0\n"
     ]
    },
    {
     "data": {
      "text/plain": [
       "<2x834 sparse matrix of type '<class 'numpy.float64'>'\n",
       "\twith 114 stored elements in Compressed Sparse Row format>"
      ]
     },
     "execution_count": 146,
     "metadata": {},
     "output_type": "execute_result"
    }
   ],
   "source": [
    "# Use the model to predict helpfulness scores for new reviews\n",
    "\n",
    "\n",
    "from nltk.sentiment.vader import SentimentIntensityAnalyzer\n",
    "import nltk\n",
    "\n",
    "\n",
    "def predict_sentiment(features):\n",
    "    features_scaled = scaler.transform(features)\n",
    "    return model.predict(features_scaled)[0]\n",
    "\n",
    "\n",
    "# Example usage:\n",
    "features = [\"I bought this Compaq A1500 this week and am more than satisfied with it. Simple installation without any problems, excellent photo quality resolution even on plain paper, very good managing software and the best part is, I didn't need any customer support to make it run :). Very good product with excellent features, quality and resolution. Believe me it's better than the best available in this price range.\", \"I bought the A1500 based on the Compaq name and the excellent results I`ve had with their other products, however I started having problems immediatly, it just would not work. When I called Tech support, I was informed that it was not campatible with my operating system. When I pointed out I was using Win 98se on a Compaq comupter they tried to help. I was able to finally get it installed after being on the phone with Tech Support for almost 2 hours. It worked for one day then quit printing. When I again called Tech Support and spent another hour on the phone the printer finally started working but the Scanner quit. As I was buying a second computer with Win XP I asked if it would be compatible and was assured that it was. When I was ready to install the A1500 on the new computer, I called Tech Support and they taslked me through the whole process. Not only would it not install it crashed my system and I had to do a full restore. As I waited to long to return it, it is now seating on a shelf collecting dust until I can find someone who will take it off my hands. In the mean time I`m still looking for a good multifunction that will work as advertised. I would not recommend the A1500 to anyone who does not have money and time to waste.\"]  # Replace with actual feature values\n",
    "# text = features[0]\n",
    "features = vectorizer.transform(features)\n",
    "# print(features)\n",
    "sentiment_score = predict_sentiment(features)\n",
    "print(f'Helpfulness score by random forest: {sentiment_score}')\n",
    "\n",
    "# sia = SentimentIntensityAnalyzer()\n",
    "# sentiment_scores = sia.polarity_scores(text)\n",
    "# # Normalize the value to the old range\n",
    "# old_range = (sentiment_scores['compound'] - (-1)) / (1 - (-1))\n",
    "\n",
    "# new_value = old_range * (0.9 - 0.1) + 0.1\n",
    "\n",
    "# print(f\"sentiment score by intensity analyzer: {new_value}\")\n",
    "features"
   ]
  },
  {
   "cell_type": "code",
   "execution_count": 147,
   "metadata": {},
   "outputs": [
    {
     "data": {
      "image/png": "[encoded data removed]",
      "text/plain": [
       "<Figure size 640x480 with 1 Axes>"
      ]
     },
     "metadata": {},
     "output_type": "display_data"
    }
   ],
   "source": [
    "# Define the width of the bars\n",
    "import matplotlib.pyplot as plt\n",
    "import numpy as np\n",
    "\n",
    "bar_width = 0.45\n",
    "indices = np.arange((sentiment_score))\n",
    "plt.bar(indices - bar_width/2, sentiment_score, bar_width, label='random forest')\n",
    "# plt.bar(indices + bar_width/2, new_value, bar_width, label='intensity analyzer')\n",
    "plt.xlabel('Models')\n",
    "plt.ylabel('Sentiment score')\n",
    "plt.title('Predicted Sentiment Score with various models')\n",
    "plt.legend()\n",
    "# plt.grid()\n",
    "plt.show()"
   ]
  }
 ],
 "metadata": {
  "kernelspec": {
   "display_name": "base",
   "language": "python",
   "name": "python3"
  },
  "language_info": {
   "codemirror_mode": {
    "name": "ipython",
    "version": 3
   },
   "file_extension": ".py",
   "mimetype": "text/x-python",
   "name": "python",
   "nbconvert_exporter": "python",
   "pygments_lexer": "ipython3",
   "version": "3.11.5"
  }
 },
 "nbformat": 4,
 "nbformat_minor": 2
}
