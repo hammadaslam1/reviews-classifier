{
 "cells": [
  {
   "cell_type": "code",
   "execution_count": 1,
   "metadata": {},
   "outputs": [],
   "source": [
    "import csv\n",
    "import json\n",
    "\n",
    "csv_file_path = 'D:/Laptop Data/BS IT (post ADP)/3rd Semester/Capstone Project/reviews-classifier/backend/savedFiles/fashion.csv'\n",
    "json_file_path = 'D:/Laptop Data/BS IT (post ADP)/3rd Semester/Capstone Project/reviews-classifier/backend/savedFiles/fashion.json'"
   ]
  },
  {
   "cell_type": "code",
   "execution_count": 2,
   "metadata": {},
   "outputs": [],
   "source": [
    "def csv_to_json(csv_file_path, json_file_path):\n",
    "    dataCSV = []\n",
    "\n",
    "    with open(csv_file_path, 'r', encoding='utf-8') as csv_file:\n",
    "        csv_reader = csv.DictReader(csv_file)\n",
    "\n",
    "        for row in csv_reader:\n",
    "            dataCSV.append(row)\n",
    "\n",
    "    with open(json_file_path, 'w', encoding='utf-8') as json_file:\n",
    "        json_file.write(json.dumps(dataCSV, indent=4))\n",
    "\n",
    "\n",
    "csv_to_json(csv_file_path, json_file_path)"
   ]
  }
 ],
 "metadata": {
  "kernelspec": {
   "display_name": "Python 3",
   "language": "python",
   "name": "python3"
  },
  "language_info": {
   "codemirror_mode": {
    "name": "ipython",
    "version": 3
   },
   "file_extension": ".py",
   "mimetype": "text/x-python",
   "name": "python",
   "nbconvert_exporter": "python",
   "pygments_lexer": "ipython3",
   "version": "3.12.4"
  }
 },
 "nbformat": 4,
 "nbformat_minor": 2
}
